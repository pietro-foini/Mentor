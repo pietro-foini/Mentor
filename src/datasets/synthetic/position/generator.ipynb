{
 "cells": [
  {
   "cell_type": "code",
   "execution_count": 1,
   "id": "unknown-stone",
   "metadata": {},
   "outputs": [],
   "source": [
    "import pickle\n",
    "\n",
    "import networkx as nx\n",
    "import numpy as np\n",
    "import pandas as pd\n",
    "import matplotlib.pyplot as plt\n",
    "import seaborn as sns"
   ]
  },
  {
   "cell_type": "markdown",
   "id": "incredible-constant",
   "metadata": {},
   "source": [
    "# Overview\n",
    "\n",
    "Let's create a **connected caveman graph** composed by `n` cliques representing our teams. The idea is to label each team based on their position in the graph."
   ]
  },
  {
   "cell_type": "code",
   "execution_count": 2,
   "id": "1c6599a1-67f4-423f-8e49-c2be422e895e",
   "metadata": {},
   "outputs": [],
   "source": [
    "# The connected caveman graph is formed by n cliques of size k, then a single edge in each clique is rewired to a node in an adjacent clique.\n",
    "np.random.seed(123) \n",
    "\n",
    "k = 10 # size of each teams: number of members\n",
    "n = 200 # number of teams"
   ]
  },
  {
   "cell_type": "code",
   "execution_count": 3,
   "id": "ec48684b-d01d-4f24-9d32-dd8be09a956e",
   "metadata": {},
   "outputs": [],
   "source": [
    "G = nx.connected_caveman_graph(n, k) "
   ]
  },
  {
   "cell_type": "code",
   "execution_count": 4,
   "id": "decreased-office",
   "metadata": {},
   "outputs": [
    {
     "name": "stdout",
     "output_type": "stream",
     "text": [
      "Number of nodes: 2000\n",
      "Number of edges: 9000\n"
     ]
    }
   ],
   "source": [
    "print(f\"Number of nodes: {G.number_of_nodes()}\")\n",
    "print(f\"Number of edges: {G.number_of_edges()}\")"
   ]
  },
  {
   "cell_type": "code",
   "execution_count": 5,
   "id": "fc4cf88e-a4a0-425c-8040-03d87ac4f2c5",
   "metadata": {},
   "outputs": [
    {
     "data": {
      "text/html": [
       "<div>\n",
       "<style scoped>\n",
       "    .dataframe tbody tr th:only-of-type {\n",
       "        vertical-align: middle;\n",
       "    }\n",
       "\n",
       "    .dataframe tbody tr th {\n",
       "        vertical-align: top;\n",
       "    }\n",
       "\n",
       "    .dataframe thead th {\n",
       "        text-align: right;\n",
       "    }\n",
       "</style>\n",
       "<table border=\"1\" class=\"dataframe\">\n",
       "  <thead>\n",
       "    <tr style=\"text-align: right;\">\n",
       "      <th></th>\n",
       "      <th>node</th>\n",
       "      <th>team</th>\n",
       "    </tr>\n",
       "  </thead>\n",
       "  <tbody>\n",
       "    <tr>\n",
       "      <th>0</th>\n",
       "      <td>0</td>\n",
       "      <td>0</td>\n",
       "    </tr>\n",
       "    <tr>\n",
       "      <th>1</th>\n",
       "      <td>1</td>\n",
       "      <td>0</td>\n",
       "    </tr>\n",
       "    <tr>\n",
       "      <th>2</th>\n",
       "      <td>2</td>\n",
       "      <td>0</td>\n",
       "    </tr>\n",
       "    <tr>\n",
       "      <th>3</th>\n",
       "      <td>3</td>\n",
       "      <td>0</td>\n",
       "    </tr>\n",
       "    <tr>\n",
       "      <th>4</th>\n",
       "      <td>4</td>\n",
       "      <td>0</td>\n",
       "    </tr>\n",
       "  </tbody>\n",
       "</table>\n",
       "</div>"
      ],
      "text/plain": [
       "   node  team\n",
       "0     0     0\n",
       "1     1     0\n",
       "2     2     0\n",
       "3     3     0\n",
       "4     4     0"
      ]
     },
     "execution_count": 5,
     "metadata": {},
     "output_type": "execute_result"
    }
   ],
   "source": [
    "df = pd.DataFrame(G.nodes(), columns = [\"node\"])\n",
    "df[\"team\"] = pd.Series(range(0, n)).repeat(k).tolist()\n",
    "df.head()"
   ]
  },
  {
   "cell_type": "code",
   "execution_count": 6,
   "id": "02c2adf6-5870-4790-b275-1bf1c40056a2",
   "metadata": {},
   "outputs": [
    {
     "data": {
      "text/html": [
       "<div>\n",
       "<style scoped>\n",
       "    .dataframe tbody tr th:only-of-type {\n",
       "        vertical-align: middle;\n",
       "    }\n",
       "\n",
       "    .dataframe tbody tr th {\n",
       "        vertical-align: top;\n",
       "    }\n",
       "\n",
       "    .dataframe thead th {\n",
       "        text-align: right;\n",
       "    }\n",
       "</style>\n",
       "<table border=\"1\" class=\"dataframe\">\n",
       "  <thead>\n",
       "    <tr style=\"text-align: right;\">\n",
       "      <th></th>\n",
       "      <th>team</th>\n",
       "      <th>members</th>\n",
       "    </tr>\n",
       "  </thead>\n",
       "  <tbody>\n",
       "    <tr>\n",
       "      <th>0</th>\n",
       "      <td>0</td>\n",
       "      <td>[0, 1, 2, 3, 4, 5, 6, 7, 8, 9]</td>\n",
       "    </tr>\n",
       "    <tr>\n",
       "      <th>1</th>\n",
       "      <td>1</td>\n",
       "      <td>[10, 11, 12, 13, 14, 15, 16, 17, 18, 19]</td>\n",
       "    </tr>\n",
       "    <tr>\n",
       "      <th>2</th>\n",
       "      <td>2</td>\n",
       "      <td>[20, 21, 22, 23, 24, 25, 26, 27, 28, 29]</td>\n",
       "    </tr>\n",
       "    <tr>\n",
       "      <th>3</th>\n",
       "      <td>3</td>\n",
       "      <td>[30, 31, 32, 33, 34, 35, 36, 37, 38, 39]</td>\n",
       "    </tr>\n",
       "    <tr>\n",
       "      <th>4</th>\n",
       "      <td>4</td>\n",
       "      <td>[40, 41, 42, 43, 44, 45, 46, 47, 48, 49]</td>\n",
       "    </tr>\n",
       "  </tbody>\n",
       "</table>\n",
       "</div>"
      ],
      "text/plain": [
       "   team                                   members\n",
       "0     0            [0, 1, 2, 3, 4, 5, 6, 7, 8, 9]\n",
       "1     1  [10, 11, 12, 13, 14, 15, 16, 17, 18, 19]\n",
       "2     2  [20, 21, 22, 23, 24, 25, 26, 27, 28, 29]\n",
       "3     3  [30, 31, 32, 33, 34, 35, 36, 37, 38, 39]\n",
       "4     4  [40, 41, 42, 43, 44, 45, 46, 47, 48, 49]"
      ]
     },
     "execution_count": 6,
     "metadata": {},
     "output_type": "execute_result"
    }
   ],
   "source": [
    "# Get teams composition.\n",
    "df = df.groupby(\"team\", as_index = False).agg(members = (\"node\", list))\n",
    "df.head()"
   ]
  },
  {
   "cell_type": "code",
   "execution_count": 7,
   "id": "secondary-hamburg",
   "metadata": {},
   "outputs": [
    {
     "data": {
      "text/html": [
       "<div>\n",
       "<style scoped>\n",
       "    .dataframe tbody tr th:only-of-type {\n",
       "        vertical-align: middle;\n",
       "    }\n",
       "\n",
       "    .dataframe tbody tr th {\n",
       "        vertical-align: top;\n",
       "    }\n",
       "\n",
       "    .dataframe thead th {\n",
       "        text-align: right;\n",
       "    }\n",
       "</style>\n",
       "<table border=\"1\" class=\"dataframe\">\n",
       "  <thead>\n",
       "    <tr style=\"text-align: right;\">\n",
       "      <th></th>\n",
       "      <th>team</th>\n",
       "      <th>members</th>\n",
       "      <th>label</th>\n",
       "    </tr>\n",
       "  </thead>\n",
       "  <tbody>\n",
       "    <tr>\n",
       "      <th>0</th>\n",
       "      <td>0</td>\n",
       "      <td>[0, 1, 2, 3, 4, 5, 6, 7, 8, 9]</td>\n",
       "      <td>0</td>\n",
       "    </tr>\n",
       "    <tr>\n",
       "      <th>1</th>\n",
       "      <td>1</td>\n",
       "      <td>[10, 11, 12, 13, 14, 15, 16, 17, 18, 19]</td>\n",
       "      <td>0</td>\n",
       "    </tr>\n",
       "    <tr>\n",
       "      <th>2</th>\n",
       "      <td>2</td>\n",
       "      <td>[20, 21, 22, 23, 24, 25, 26, 27, 28, 29]</td>\n",
       "      <td>0</td>\n",
       "    </tr>\n",
       "    <tr>\n",
       "      <th>3</th>\n",
       "      <td>3</td>\n",
       "      <td>[30, 31, 32, 33, 34, 35, 36, 37, 38, 39]</td>\n",
       "      <td>0</td>\n",
       "    </tr>\n",
       "    <tr>\n",
       "      <th>4</th>\n",
       "      <td>4</td>\n",
       "      <td>[40, 41, 42, 43, 44, 45, 46, 47, 48, 49]</td>\n",
       "      <td>0</td>\n",
       "    </tr>\n",
       "  </tbody>\n",
       "</table>\n",
       "</div>"
      ],
      "text/plain": [
       "   team                                   members label\n",
       "0     0            [0, 1, 2, 3, 4, 5, 6, 7, 8, 9]     0\n",
       "1     1  [10, 11, 12, 13, 14, 15, 16, 17, 18, 19]     0\n",
       "2     2  [20, 21, 22, 23, 24, 25, 26, 27, 28, 29]     0\n",
       "3     3  [30, 31, 32, 33, 34, 35, 36, 37, 38, 39]     0\n",
       "4     4  [40, 41, 42, 43, 44, 45, 46, 47, 48, 49]     0"
      ]
     },
     "execution_count": 7,
     "metadata": {},
     "output_type": "execute_result"
    }
   ],
   "source": [
    "# Define intervals in order to create positional labels for the teams. \n",
    "# N.B. It's a positional label because the teams are created one after the other in position by construction (see graph documentation).\n",
    "intervals = np.array([0, n/3, 2*(n/3), n])\n",
    "df[\"label\"] = pd.cut(df[\"team\"], intervals, right = False, labels = [0, 1, 2], include_lowest = True)\n",
    "df.head()"
   ]
  },
  {
   "cell_type": "code",
   "execution_count": 8,
   "id": "7dfd8a4b-63ce-48c9-b13d-5ec3b4e71776",
   "metadata": {},
   "outputs": [
    {
     "data": {
      "text/plain": [
       "label\n",
       "0    67\n",
       "1    67\n",
       "2    66\n",
       "Name: count, dtype: int64"
      ]
     },
     "execution_count": 8,
     "metadata": {},
     "output_type": "execute_result"
    }
   ],
   "source": [
    "df[\"label\"].value_counts()"
   ]
  },
  {
   "cell_type": "code",
   "execution_count": 9,
   "id": "opponent-internship",
   "metadata": {},
   "outputs": [],
   "source": [
    "# Create team composition dictionary: {node_id: [team_id]}.\n",
    "teams_composition = df.explode(\"members\").groupby(\"members\").apply(lambda x: list(x[\"team\"])).to_dict()\n",
    "# Create team label dictionary: {team_id: label}.\n",
    "teams_label = df.set_index(\"team\")[\"label\"].to_dict()"
   ]
  },
  {
   "cell_type": "code",
   "execution_count": 10,
   "id": "japanese-fairy",
   "metadata": {},
   "outputs": [],
   "source": [
    "# Add team attribute to each node.\n",
    "nx.set_node_attributes(G, teams_composition, \"Team\")  "
   ]
  },
  {
   "cell_type": "code",
   "execution_count": 11,
   "id": "raising-pressure",
   "metadata": {},
   "outputs": [],
   "source": [
    "# Save networkx graph.\n",
    "with open(f\"./data/graph.pkl\", \"wb\") as f:\n",
    "    pickle.dump(nx.readwrite.json_graph.node_link_data(G), f)\n",
    "    \n",
    "# Save teams label.\n",
    "with open(f\"./data/teams_label.pkl\", \"wb\") as out:\n",
    "    pickle.dump(teams_label, out)"
   ]
  },
  {
   "cell_type": "markdown",
   "id": "aa37f428-106e-4024-8816-71be146a9d90",
   "metadata": {},
   "source": [
    "# Visualization\n",
    "\n",
    "Let's reproduce the previous graph in a smaller scale."
   ]
  },
  {
   "cell_type": "code",
   "execution_count": 12,
   "id": "b6c6354f-5d5c-4b31-ac84-8c0e9efbb435",
   "metadata": {},
   "outputs": [
    {
     "name": "stdout",
     "output_type": "stream",
     "text": [
      "Number of nodes: 45\n",
      "Number of edges: 90\n"
     ]
    },
    {
     "data": {
      "text/html": [
       "<div>\n",
       "<style scoped>\n",
       "    .dataframe tbody tr th:only-of-type {\n",
       "        vertical-align: middle;\n",
       "    }\n",
       "\n",
       "    .dataframe tbody tr th {\n",
       "        vertical-align: top;\n",
       "    }\n",
       "\n",
       "    .dataframe thead th {\n",
       "        text-align: right;\n",
       "    }\n",
       "</style>\n",
       "<table border=\"1\" class=\"dataframe\">\n",
       "  <thead>\n",
       "    <tr style=\"text-align: right;\">\n",
       "      <th></th>\n",
       "      <th>team</th>\n",
       "      <th>members</th>\n",
       "      <th>label</th>\n",
       "    </tr>\n",
       "  </thead>\n",
       "  <tbody>\n",
       "    <tr>\n",
       "      <th>0</th>\n",
       "      <td>0</td>\n",
       "      <td>0</td>\n",
       "      <td>0</td>\n",
       "    </tr>\n",
       "    <tr>\n",
       "      <th>1</th>\n",
       "      <td>0</td>\n",
       "      <td>1</td>\n",
       "      <td>0</td>\n",
       "    </tr>\n",
       "    <tr>\n",
       "      <th>2</th>\n",
       "      <td>0</td>\n",
       "      <td>2</td>\n",
       "      <td>0</td>\n",
       "    </tr>\n",
       "    <tr>\n",
       "      <th>3</th>\n",
       "      <td>0</td>\n",
       "      <td>3</td>\n",
       "      <td>0</td>\n",
       "    </tr>\n",
       "    <tr>\n",
       "      <th>4</th>\n",
       "      <td>0</td>\n",
       "      <td>4</td>\n",
       "      <td>0</td>\n",
       "    </tr>\n",
       "  </tbody>\n",
       "</table>\n",
       "</div>"
      ],
      "text/plain": [
       "   team members label\n",
       "0     0       0     0\n",
       "1     0       1     0\n",
       "2     0       2     0\n",
       "3     0       3     0\n",
       "4     0       4     0"
      ]
     },
     "execution_count": 12,
     "metadata": {},
     "output_type": "execute_result"
    }
   ],
   "source": [
    "np.random.seed(123) \n",
    "\n",
    "k = 5 # size of each teams: number of members\n",
    "n = 9 # number of teams\n",
    "\n",
    "G = nx.connected_caveman_graph(n, k) \n",
    "\n",
    "print(f\"Number of nodes: {G.number_of_nodes()}\")\n",
    "print(f\"Number of edges: {G.number_of_edges()}\")\n",
    "\n",
    "df = pd.DataFrame(G.nodes(), columns = [\"node\"])\n",
    "df[\"team\"] = pd.Series(range(0, n)).repeat(k).tolist()\n",
    "# Get teams composition.\n",
    "df = df.groupby(\"team\", as_index = False).agg(members = (\"node\", list))\n",
    "# Get teams label.\n",
    "intervals = np.array([0, n/3, 2*(n/3), n])\n",
    "df[\"label\"] = pd.cut(df[\"team\"], intervals, labels = [0, 1, 2], right = False, include_lowest = True)\n",
    "df = df.explode(\"members\", ignore_index = True)\n",
    "df.head()"
   ]
  },
  {
   "cell_type": "code",
   "execution_count": 13,
   "id": "aeb98c4f-42d5-46d4-9bc0-7e0f2cbf69ba",
   "metadata": {},
   "outputs": [],
   "source": [
    "node_teams = df.set_index(\"members\")[\"team\"].to_dict()\n",
    "node_labels = df.set_index(\"members\")[\"label\"].to_dict()\n",
    "node_colors = [sns.color_palette(\"pastel\")[label] for label in df[\"label\"].tolist()]"
   ]
  },
  {
   "cell_type": "code",
   "execution_count": 14,
   "id": "beca5fdd-d898-4007-8482-f6df21e90b8f",
   "metadata": {},
   "outputs": [],
   "source": [
    "# Add team attribute to each node.\n",
    "nx.set_node_attributes(G, node_teams, \"Team\") \n",
    "nx.set_node_attributes(G, node_labels, \"Label\") "
   ]
  },
  {
   "cell_type": "code",
   "execution_count": 15,
   "id": "9ed1d2cb-14de-4e2f-a2d2-98d1c4e62d14",
   "metadata": {},
   "outputs": [
    {
     "data": {
      "image/png": "[encoded data removed]",
      "text/plain": [
       "<Figure size 700x500 with 1 Axes>"
      ]
     },
     "metadata": {},
     "output_type": "display_data"
    }
   ],
   "source": [
    "fig, ax = plt.subplots(figsize = (7, 5)) \n",
    "ax.axis(\"off\")\n",
    "\n",
    "nx.draw_kamada_kawai(G, node_color = node_colors, linewidths = 1., node_size = 300, connectionstyle = \"arc3, rad = 0.1\",\n",
    "                     arrowsize = 5, ax = ax)\n",
    "ax.collections[0].set_edgecolor(\"k\") \n",
    "\n",
    "fig.savefig(\"./data/position.png\", bbox_inches = \"tight\", dpi = 300)"
   ]
  }
 ],
 "metadata": {
  "kernelspec": {
   "display_name": "Python 3 (ipykernel)",
   "language": "python",
   "name": "python3"
  },
  "language_info": {
   "codemirror_mode": {
    "name": "ipython",
    "version": 3
   },
   "file_extension": ".py",
   "mimetype": "text/x-python",
   "name": "python",
   "nbconvert_exporter": "python",
   "pygments_lexer": "ipython3",
   "version": "3.9.13"
  }
 },
 "nbformat": 4,
 "nbformat_minor": 5
}
