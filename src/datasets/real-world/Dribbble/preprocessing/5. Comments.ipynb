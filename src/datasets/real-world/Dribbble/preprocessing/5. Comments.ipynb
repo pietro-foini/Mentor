{
 "cells": [
  {
   "cell_type": "code",
   "execution_count": 1,
   "metadata": {},
   "outputs": [],
   "source": [
    "import warnings\n",
    "warnings.filterwarnings(\"ignore\")"
   ]
  },
  {
   "cell_type": "code",
   "execution_count": 2,
   "metadata": {},
   "outputs": [],
   "source": [
    "import dask.dataframe as dd\n",
    "import pandas as pd\n",
    "import json\n",
    "import sqlite3\n",
    "\n",
    "from pathlib import Path "
   ]
  },
  {
   "cell_type": "code",
   "execution_count": 3,
   "metadata": {},
   "outputs": [],
   "source": [
    "# Connect to database sqlite where to store the information regarding the Dribbble dataset.\n",
    "conn = sqlite3.connect(\"dribbble_temporary.db\")\n",
    "c = conn.cursor()"
   ]
  },
  {
   "cell_type": "markdown",
   "metadata": {},
   "source": [
    "# Comments\n",
    "\n",
    "This file contains information about the **comments** on the shots (posts) of Dribbble. \n",
    "\n",
    "The corresponding raw data is the file *comments.tsv*."
   ]
  },
  {
   "cell_type": "markdown",
   "metadata": {},
   "source": [
    "### Raw data visualization"
   ]
  },
  {
   "cell_type": "code",
   "execution_count": 4,
   "metadata": {},
   "outputs": [],
   "source": [
    "# Let's try to open the dataframe in order to visualize it.\n",
    "comments = dd.read_csv(Path(\"raw_data/comments.tsv\"), sep = \"\\t\", header = None, names = [\"shot_id\", \"info\"])"
   ]
  },
  {
   "cell_type": "code",
   "execution_count": 5,
   "metadata": {},
   "outputs": [
    {
     "data": {
      "text/html": [
       "<div>\n",
       "<style scoped>\n",
       "    .dataframe tbody tr th:only-of-type {\n",
       "        vertical-align: middle;\n",
       "    }\n",
       "\n",
       "    .dataframe tbody tr th {\n",
       "        vertical-align: top;\n",
       "    }\n",
       "\n",
       "    .dataframe thead th {\n",
       "        text-align: right;\n",
       "    }\n",
       "</style>\n",
       "<table border=\"1\" class=\"dataframe\">\n",
       "  <thead>\n",
       "    <tr style=\"text-align: right;\">\n",
       "      <th></th>\n",
       "      <th>shot_id</th>\n",
       "      <th>info</th>\n",
       "    </tr>\n",
       "  </thead>\n",
       "  <tbody>\n",
       "    <tr>\n",
       "      <th>0</th>\n",
       "      <td>26</td>\n",
       "      <td>[]</td>\n",
       "    </tr>\n",
       "    <tr>\n",
       "      <th>1</th>\n",
       "      <td>30</td>\n",
       "      <td>[]</td>\n",
       "    </tr>\n",
       "    <tr>\n",
       "      <th>2</th>\n",
       "      <td>35</td>\n",
       "      <td>[]</td>\n",
       "    </tr>\n",
       "    <tr>\n",
       "      <th>3</th>\n",
       "      <td>49</td>\n",
       "      <td>[]</td>\n",
       "    </tr>\n",
       "    <tr>\n",
       "      <th>4</th>\n",
       "      <td>51</td>\n",
       "      <td>[]</td>\n",
       "    </tr>\n",
       "  </tbody>\n",
       "</table>\n",
       "</div>"
      ],
      "text/plain": [
       "   shot_id info\n",
       "0       26   []\n",
       "1       30   []\n",
       "2       35   []\n",
       "3       49   []\n",
       "4       51   []"
      ]
     },
     "execution_count": 5,
     "metadata": {},
     "output_type": "execute_result"
    }
   ],
   "source": [
    "comments.head()"
   ]
  },
  {
   "cell_type": "code",
   "execution_count": 6,
   "metadata": {},
   "outputs": [
    {
     "data": {
      "text/html": [
       "<div>\n",
       "<style scoped>\n",
       "    .dataframe tbody tr th:only-of-type {\n",
       "        vertical-align: middle;\n",
       "    }\n",
       "\n",
       "    .dataframe tbody tr th {\n",
       "        vertical-align: top;\n",
       "    }\n",
       "\n",
       "    .dataframe thead th {\n",
       "        text-align: right;\n",
       "    }\n",
       "</style>\n",
       "<table border=\"1\" class=\"dataframe\">\n",
       "  <thead>\n",
       "    <tr style=\"text-align: right;\">\n",
       "      <th></th>\n",
       "      <th>shot_id</th>\n",
       "      <th>info</th>\n",
       "    </tr>\n",
       "  </thead>\n",
       "  <tbody>\n",
       "    <tr>\n",
       "      <th>114</th>\n",
       "      <td>1109343</td>\n",
       "      <td>[[2641668, 1370933862, 1370933862, \"jakubspitz...</td>\n",
       "    </tr>\n",
       "    <tr>\n",
       "      <th>115</th>\n",
       "      <td>550172</td>\n",
       "      <td>[[1330211, 1336471790, 1336471790, \"gadzhi\", \"...</td>\n",
       "    </tr>\n",
       "    <tr>\n",
       "      <th>116</th>\n",
       "      <td>561492</td>\n",
       "      <td>[[1358483, 1337102790, 1337102790, \"jon_patter...</td>\n",
       "    </tr>\n",
       "    <tr>\n",
       "      <th>117</th>\n",
       "      <td>77356</td>\n",
       "      <td>[[199460, 1289403530, 1289403530, \"ThisIsKonra...</td>\n",
       "    </tr>\n",
       "    <tr>\n",
       "      <th>118</th>\n",
       "      <td>1489592</td>\n",
       "      <td>[[3501565, 1396369121, 1396369121, \"roguepixl\"...</td>\n",
       "    </tr>\n",
       "  </tbody>\n",
       "</table>\n",
       "</div>"
      ],
      "text/plain": [
       "     shot_id                                               info\n",
       "114  1109343  [[2641668, 1370933862, 1370933862, \"jakubspitz...\n",
       "115   550172  [[1330211, 1336471790, 1336471790, \"gadzhi\", \"...\n",
       "116   561492  [[1358483, 1337102790, 1337102790, \"jon_patter...\n",
       "117    77356  [[199460, 1289403530, 1289403530, \"ThisIsKonra...\n",
       "118  1489592  [[3501565, 1396369121, 1396369121, \"roguepixl\"..."
      ]
     },
     "execution_count": 6,
     "metadata": {},
     "output_type": "execute_result"
    }
   ],
   "source": [
    "comments.tail()"
   ]
  },
  {
   "cell_type": "code",
   "execution_count": 7,
   "metadata": {},
   "outputs": [
    {
     "data": {
      "text/plain": [
       "2483477"
      ]
     },
     "execution_count": 7,
     "metadata": {},
     "output_type": "execute_result"
    }
   ],
   "source": [
    "# Get the number of rows of the dataframe.\n",
    "comments.shape[0].compute()"
   ]
  },
  {
   "cell_type": "markdown",
   "metadata": {},
   "source": [
    "Each shot has a list of lists. Each list contains the information of the ID of the comment, the date of publication of the comment (Unix Time), the date the comment was modified last time (Unix Time), the author of the comment, the content of the comment and the amount of likes received."
   ]
  },
  {
   "cell_type": "markdown",
   "metadata": {},
   "source": [
    "### Unpack information from raw data"
   ]
  },
  {
   "cell_type": "code",
   "execution_count": 8,
   "metadata": {},
   "outputs": [],
   "source": [
    "# Read the large .tsv file with specified chunksize in order to preprocess it not all together.\n",
    "chunksize = 10000\n",
    "comments_chunk = pd.read_csv(Path(\"raw_data/comments.tsv\"), sep = \"\\t\", names = [\"shot_id\", \"info\"], chunksize = chunksize)"
   ]
  },
  {
   "cell_type": "code",
   "execution_count": 9,
   "metadata": {
    "scrolled": true
   },
   "outputs": [
    {
     "name": "stdout",
     "output_type": "stream",
     "text": [
      "Cumulative not empty chunk: 1370000\n",
      "Cumulative not empty chunk: 1380000\n",
      "Cumulative not empty chunk: 1390000\n",
      "Cumulative not empty chunk: 1400000\n",
      "Cumulative not empty chunk: 1410000\n",
      "Cumulative not empty chunk: 1420000\n",
      "Cumulative not empty chunk: 1430000\n",
      "Cumulative not empty chunk: 1440000\n",
      "Cumulative not empty chunk: 1450000\n",
      "Cumulative not empty chunk: 1460000\n",
      "Cumulative not empty chunk: 1470000\n",
      "Cumulative not empty chunk: 1480000\n",
      "Cumulative not empty chunk: 1490000\n",
      "Cumulative not empty chunk: 1500000\n",
      "Cumulative not empty chunk: 1510000\n",
      "Cumulative not empty chunk: 1520000\n",
      "Cumulative not empty chunk: 1530000\n",
      "Cumulative not empty chunk: 1540000\n",
      "Cumulative not empty chunk: 1550000\n",
      "Cumulative not empty chunk: 1560000\n",
      "Cumulative not empty chunk: 1570000\n",
      "Cumulative not empty chunk: 1580000\n",
      "Cumulative not empty chunk: 1590000\n",
      "Cumulative not empty chunk: 1600000\n",
      "Cumulative not empty chunk: 1610000\n",
      "Cumulative not empty chunk: 1620000\n",
      "Cumulative not empty chunk: 1630000\n",
      "Cumulative not empty chunk: 1640000\n",
      "Cumulative not empty chunk: 1650000\n",
      "Cumulative not empty chunk: 1660000\n",
      "Cumulative not empty chunk: 1670000\n",
      "Cumulative not empty chunk: 1680000\n",
      "Cumulative not empty chunk: 1690000\n",
      "Cumulative not empty chunk: 1700000\n",
      "Cumulative not empty chunk: 1710000\n",
      "Cumulative not empty chunk: 1720000\n",
      "Cumulative not empty chunk: 1730000\n",
      "Cumulative not empty chunk: 1740000\n",
      "Cumulative not empty chunk: 1750000\n",
      "Cumulative not empty chunk: 1760000\n",
      "Cumulative not empty chunk: 1770000\n",
      "Cumulative not empty chunk: 1780000\n",
      "Cumulative not empty chunk: 1790000\n",
      "Cumulative not empty chunk: 1800000\n",
      "Cumulative not empty chunk: 1810000\n",
      "Cumulative not empty chunk: 1820000\n",
      "Cumulative not empty chunk: 1830000\n",
      "Cumulative not empty chunk: 1840000\n",
      "Cumulative not empty chunk: 1850000\n",
      "Cumulative not empty chunk: 1860000\n",
      "Cumulative not empty chunk: 1870000\n",
      "Cumulative not empty chunk: 1880000\n",
      "Cumulative not empty chunk: 1890000\n",
      "Cumulative not empty chunk: 1900000\n",
      "Cumulative not empty chunk: 1910000\n",
      "Cumulative not empty chunk: 1920000\n",
      "Cumulative not empty chunk: 1930000\n",
      "Cumulative not empty chunk: 1940000\n",
      "Cumulative not empty chunk: 1950000\n",
      "Cumulative not empty chunk: 1960000\n",
      "Cumulative not empty chunk: 1970000\n",
      "Cumulative not empty chunk: 1980000\n",
      "Cumulative not empty chunk: 1990000\n",
      "Cumulative not empty chunk: 2000000\n",
      "Cumulative not empty chunk: 2010000\n",
      "Cumulative not empty chunk: 2020000\n",
      "Cumulative not empty chunk: 2030000\n",
      "Cumulative not empty chunk: 2040000\n",
      "Cumulative not empty chunk: 2050000\n",
      "Cumulative not empty chunk: 2060000\n",
      "Cumulative not empty chunk: 2070000\n",
      "Cumulative not empty chunk: 2080000\n",
      "Cumulative not empty chunk: 2090000\n",
      "Cumulative not empty chunk: 2100000\n",
      "Cumulative not empty chunk: 2110000\n",
      "Cumulative not empty chunk: 2120000\n",
      "Cumulative not empty chunk: 2130000\n",
      "Cumulative not empty chunk: 2140000\n",
      "Cumulative not empty chunk: 2150000\n",
      "Cumulative not empty chunk: 2160000\n",
      "Cumulative not empty chunk: 2170000\n",
      "Cumulative not empty chunk: 2180000\n",
      "Cumulative not empty chunk: 2190000\n",
      "Cumulative not empty chunk: 2200000\n",
      "Cumulative not empty chunk: 2210000\n",
      "Cumulative not empty chunk: 2220000\n",
      "Cumulative not empty chunk: 2230000\n",
      "Cumulative not empty chunk: 2240000\n",
      "Cumulative not empty chunk: 2250000\n",
      "Cumulative not empty chunk: 2260000\n",
      "Cumulative not empty chunk: 2270000\n",
      "Cumulative not empty chunk: 2280000\n",
      "Cumulative not empty chunk: 2290000\n",
      "Cumulative not empty chunk: 2300000\n",
      "Cumulative not empty chunk: 2310000\n",
      "Cumulative not empty chunk: 2320000\n",
      "Cumulative not empty chunk: 2330000\n",
      "Cumulative not empty chunk: 2340000\n",
      "Cumulative not empty chunk: 2350000\n",
      "Cumulative not empty chunk: 2360000\n",
      "Cumulative not empty chunk: 2370000\n",
      "Cumulative not empty chunk: 2380000\n",
      "Cumulative not empty chunk: 2390000\n",
      "Cumulative not empty chunk: 2400000\n",
      "Cumulative not empty chunk: 2410000\n",
      "Cumulative not empty chunk: 2420000\n",
      "Cumulative not empty chunk: 2430000\n",
      "Cumulative not empty chunk: 2440000\n",
      "Cumulative not empty chunk: 2450000\n",
      "Cumulative not empty chunk: 2460000\n",
      "Cumulative not empty chunk: 2470000\n",
      "Cumulative not empty chunk: 2480000\n",
      "Cumulative not empty chunk: 2490000\n"
     ]
    }
   ],
   "source": [
    "chunk_list = list()\n",
    "shots_no_comments = list()\n",
    "\n",
    "# Each chunk is a dataframe.\n",
    "for i,chunk in enumerate(comments_chunk):\n",
    "    # Store information about shots with no comments. \n",
    "    shots_no_comments.append(chunk.loc[(chunk[\"info\"] == \"[]\")][\"shot_id\"].values)\n",
    "    # Remove empty 'info' rows.\n",
    "    chunk = chunk.loc[~(chunk[\"info\"] == \"[]\")]\n",
    "    if not chunk.empty:\n",
    "        print(\"Cumulative not empty chunk: %d\" % (chunksize*(i+1)))\n",
    "        # We evaluate each row that contain strings containing Python expressions.\n",
    "        chunk[\"info\"] = chunk[\"info\"].apply(lambda x: json.loads(x))\n",
    "        # Flatten list of list over columns.\n",
    "        chunk = chunk.explode(\"info\")\n",
    "        # Extract all the information from this chunk of data.\n",
    "        chunk = pd.DataFrame(chunk[\"info\"].tolist(), index = chunk[\"shot_id\"], \n",
    "                             columns = [\"comment_id\", \"created_at\", \"updated_at\", \"author_comment\", \"comment\", \"likes_count\"]).reset_index()\n",
    "        \n",
    "        # Save the current chunk of data into list.\n",
    "        chunk_list.append(chunk)"
   ]
  },
  {
   "cell_type": "code",
   "execution_count": 10,
   "metadata": {},
   "outputs": [],
   "source": [
    "# Concatenate all data of shots with at least one comment.\n",
    "comments = pd.concat(chunk_list, ignore_index = False).reset_index(drop = True)"
   ]
  },
  {
   "cell_type": "code",
   "execution_count": 11,
   "metadata": {},
   "outputs": [
    {
     "data": {
      "text/html": [
       "<div>\n",
       "<style scoped>\n",
       "    .dataframe tbody tr th:only-of-type {\n",
       "        vertical-align: middle;\n",
       "    }\n",
       "\n",
       "    .dataframe tbody tr th {\n",
       "        vertical-align: top;\n",
       "    }\n",
       "\n",
       "    .dataframe thead th {\n",
       "        text-align: right;\n",
       "    }\n",
       "</style>\n",
       "<table border=\"1\" class=\"dataframe\">\n",
       "  <thead>\n",
       "    <tr style=\"text-align: right;\">\n",
       "      <th></th>\n",
       "      <th>shot_id</th>\n",
       "      <th>comment_id</th>\n",
       "      <th>created_at</th>\n",
       "      <th>updated_at</th>\n",
       "      <th>author_comment</th>\n",
       "      <th>comment</th>\n",
       "      <th>likes_count</th>\n",
       "    </tr>\n",
       "  </thead>\n",
       "  <tbody>\n",
       "    <tr>\n",
       "      <th>0</th>\n",
       "      <td>295643</td>\n",
       "      <td>738715</td>\n",
       "      <td>1318942035</td>\n",
       "      <td>1318942035</td>\n",
       "      <td>liammckay</td>\n",
       "      <td>&lt;p&gt;Clever stuff!&lt;/p&gt;</td>\n",
       "      <td>1</td>\n",
       "    </tr>\n",
       "    <tr>\n",
       "      <th>1</th>\n",
       "      <td>1696672</td>\n",
       "      <td>3994002</td>\n",
       "      <td>1412889025</td>\n",
       "      <td>1412889025</td>\n",
       "      <td>chadfullerton</td>\n",
       "      <td>&lt;p&gt;Love this. Great work!&lt;/p&gt;</td>\n",
       "      <td>1</td>\n",
       "    </tr>\n",
       "    <tr>\n",
       "      <th>2</th>\n",
       "      <td>1696672</td>\n",
       "      <td>3994160</td>\n",
       "      <td>1412899630</td>\n",
       "      <td>1412899630</td>\n",
       "      <td>sammer</td>\n",
       "      <td>&lt;p&gt;Thanks &lt;a href=\"https://dribbble.com/18675\"...</td>\n",
       "      <td>0</td>\n",
       "    </tr>\n",
       "    <tr>\n",
       "      <th>3</th>\n",
       "      <td>1691148</td>\n",
       "      <td>3889476</td>\n",
       "      <td>1408474083</td>\n",
       "      <td>1408474083</td>\n",
       "      <td>jalenconner</td>\n",
       "      <td>&lt;p&gt;really diggin' the three columns. Are you d...</td>\n",
       "      <td>1</td>\n",
       "    </tr>\n",
       "    <tr>\n",
       "      <th>4</th>\n",
       "      <td>1691148</td>\n",
       "      <td>3891158</td>\n",
       "      <td>1408542426</td>\n",
       "      <td>1408542426</td>\n",
       "      <td>arnaudschlupp</td>\n",
       "      <td>&lt;p&gt;&lt;a href=\"https://dribbble.com/357364\"&gt;@Jale...</td>\n",
       "      <td>1</td>\n",
       "    </tr>\n",
       "  </tbody>\n",
       "</table>\n",
       "</div>"
      ],
      "text/plain": [
       "   shot_id  comment_id  created_at  updated_at author_comment  \\\n",
       "0   295643      738715  1318942035  1318942035      liammckay   \n",
       "1  1696672     3994002  1412889025  1412889025  chadfullerton   \n",
       "2  1696672     3994160  1412899630  1412899630         sammer   \n",
       "3  1691148     3889476  1408474083  1408474083    jalenconner   \n",
       "4  1691148     3891158  1408542426  1408542426  arnaudschlupp   \n",
       "\n",
       "                                             comment  likes_count  \n",
       "0                               <p>Clever stuff!</p>            1  \n",
       "1                      <p>Love this. Great work!</p>            1  \n",
       "2  <p>Thanks <a href=\"https://dribbble.com/18675\"...            0  \n",
       "3  <p>really diggin' the three columns. Are you d...            1  \n",
       "4  <p><a href=\"https://dribbble.com/357364\">@Jale...            1  "
      ]
     },
     "execution_count": 11,
     "metadata": {},
     "output_type": "execute_result"
    }
   ],
   "source": [
    "comments.head()"
   ]
  },
  {
   "cell_type": "markdown",
   "metadata": {},
   "source": [
    "### Preprocessing"
   ]
  },
  {
   "cell_type": "code",
   "execution_count": 12,
   "metadata": {},
   "outputs": [],
   "source": [
    "# Load file that maps the multiple usernames of the 'users' table into an unique information.\n",
    "with open(\"users_mapper_username.json\") as f:\n",
    "    map_users_multiple_profiles = json.load(f)"
   ]
  },
  {
   "cell_type": "code",
   "execution_count": 13,
   "metadata": {},
   "outputs": [
    {
     "name": "stdout",
     "output_type": "stream",
     "text": [
      "n° of 'author_comment' usernames remapped: 1515\n"
     ]
    }
   ],
   "source": [
    "# We map the usernames with multiple profiles into 'users' table to have a single value.\n",
    "# 'author_comment'\n",
    "author_map = comments.author_comment[comments.author_comment.isin(map_users_multiple_profiles.keys())].map(map_users_multiple_profiles, na_action = \"ignore\")\n",
    "print(\"n° of 'author_comment' usernames remapped: %d\" % len(author_map))\n",
    "comments.author_comment.loc[author_map.index] = author_map"
   ]
  },
  {
   "cell_type": "code",
   "execution_count": 14,
   "metadata": {},
   "outputs": [
    {
     "data": {
      "text/plain": [
       "0"
      ]
     },
     "execution_count": 14,
     "metadata": {},
     "output_type": "execute_result"
    }
   ],
   "source": [
    "# Check duplicated rows.\n",
    "comments.duplicated().sum()"
   ]
  },
  {
   "cell_type": "code",
   "execution_count": 15,
   "metadata": {},
   "outputs": [
    {
     "data": {
      "text/plain": [
       "shot_id           0\n",
       "comment_id        0\n",
       "created_at        0\n",
       "updated_at        0\n",
       "author_comment    0\n",
       "comment           0\n",
       "likes_count       0\n",
       "dtype: int64"
      ]
     },
     "execution_count": 15,
     "metadata": {},
     "output_type": "execute_result"
    }
   ],
   "source": [
    "# Check NaN values.\n",
    "comments.isna().sum()"
   ]
  },
  {
   "cell_type": "code",
   "execution_count": 16,
   "metadata": {},
   "outputs": [],
   "source": [
    "# Flatten list of shot with no comments.\n",
    "shots_no_comments = pd.Series(shots_no_comments).explode().reset_index(drop = True)"
   ]
  },
  {
   "cell_type": "code",
   "execution_count": 17,
   "metadata": {},
   "outputs": [
    {
     "data": {
      "text/plain": [
       "24"
      ]
     },
     "execution_count": 17,
     "metadata": {},
     "output_type": "execute_result"
    }
   ],
   "source": [
    "# Check if there are some NaN shots IDs into the shots with no shots.\n",
    "shots_no_comments.isna().sum()"
   ]
  },
  {
   "cell_type": "code",
   "execution_count": 18,
   "metadata": {},
   "outputs": [],
   "source": [
    "shots_no_comments.dropna(inplace = True)"
   ]
  },
  {
   "cell_type": "code",
   "execution_count": 19,
   "metadata": {},
   "outputs": [
    {
     "data": {
      "text/plain": [
       "0"
      ]
     },
     "execution_count": 19,
     "metadata": {},
     "output_type": "execute_result"
    }
   ],
   "source": [
    "shots_no_comments.duplicated().sum()"
   ]
  },
  {
   "cell_type": "code",
   "execution_count": 20,
   "metadata": {},
   "outputs": [],
   "source": [
    "shots_no_comments = shots_no_comments.astype(int)"
   ]
  },
  {
   "cell_type": "code",
   "execution_count": 21,
   "metadata": {},
   "outputs": [
    {
     "data": {
      "text/plain": [
       "[]"
      ]
     },
     "execution_count": 21,
     "metadata": {},
     "output_type": "execute_result"
    }
   ],
   "source": [
    "# Check if there exist an intersection between the shot IDs with at least one comment and the shot IDs with no comments.\n",
    "list(set(comments.shot_id.unique()) & set(shots_no_comments))"
   ]
  },
  {
   "cell_type": "code",
   "execution_count": 22,
   "metadata": {},
   "outputs": [],
   "source": [
    "# Add to the dataframe the information regarding the shot IDs with no comments.\n",
    "no_comments = pd.DataFrame(columns = comments.columns)\n",
    "no_comments[\"shot_id\"] = shots_no_comments.values\n",
    "\n",
    "comments = pd.concat([comments, no_comments], ignore_index = False).reset_index(drop = True)"
   ]
  },
  {
   "cell_type": "code",
   "execution_count": 23,
   "metadata": {},
   "outputs": [],
   "source": [
    "# Convert to datetime UTC.\n",
    "# We decide to not save the UTC offset (+00:00).\n",
    "comments.created_at = pd.to_datetime(comments.created_at, unit = \"s\", utc = True).dt.tz_convert(None)\n",
    "comments.updated_at = pd.to_datetime(comments.updated_at, unit = \"s\", utc = True).dt.tz_convert(None)"
   ]
  },
  {
   "cell_type": "code",
   "execution_count": 24,
   "metadata": {},
   "outputs": [
    {
     "data": {
      "text/plain": [
       "0"
      ]
     },
     "execution_count": 24,
     "metadata": {},
     "output_type": "execute_result"
    }
   ],
   "source": [
    "# Check if the 'updated_at' feature is always greater in time than 'created_at' feature.\n",
    "timediff = comments.updated_at - comments.created_at\n",
    "sum(timediff < pd.Timedelta(0))"
   ]
  },
  {
   "cell_type": "code",
   "execution_count": 25,
   "metadata": {},
   "outputs": [
    {
     "data": {
      "text/html": [
       "<div>\n",
       "<style scoped>\n",
       "    .dataframe tbody tr th:only-of-type {\n",
       "        vertical-align: middle;\n",
       "    }\n",
       "\n",
       "    .dataframe tbody tr th {\n",
       "        vertical-align: top;\n",
       "    }\n",
       "\n",
       "    .dataframe thead th {\n",
       "        text-align: right;\n",
       "    }\n",
       "</style>\n",
       "<table border=\"1\" class=\"dataframe\">\n",
       "  <thead>\n",
       "    <tr style=\"text-align: right;\">\n",
       "      <th></th>\n",
       "      <th>shot_id</th>\n",
       "      <th>comment_id</th>\n",
       "      <th>created_at</th>\n",
       "      <th>updated_at</th>\n",
       "      <th>author_comment</th>\n",
       "      <th>comment</th>\n",
       "      <th>likes_count</th>\n",
       "    </tr>\n",
       "  </thead>\n",
       "  <tbody>\n",
       "    <tr>\n",
       "      <th>0</th>\n",
       "      <td>295643</td>\n",
       "      <td>738715</td>\n",
       "      <td>2011-10-18 12:47:15</td>\n",
       "      <td>2011-10-18 12:47:15</td>\n",
       "      <td>liammckay</td>\n",
       "      <td>&lt;p&gt;Clever stuff!&lt;/p&gt;</td>\n",
       "      <td>1</td>\n",
       "    </tr>\n",
       "    <tr>\n",
       "      <th>1</th>\n",
       "      <td>1696672</td>\n",
       "      <td>3994002</td>\n",
       "      <td>2014-10-09 21:10:25</td>\n",
       "      <td>2014-10-09 21:10:25</td>\n",
       "      <td>chadfullerton</td>\n",
       "      <td>&lt;p&gt;Love this. Great work!&lt;/p&gt;</td>\n",
       "      <td>1</td>\n",
       "    </tr>\n",
       "    <tr>\n",
       "      <th>2</th>\n",
       "      <td>1696672</td>\n",
       "      <td>3994160</td>\n",
       "      <td>2014-10-10 00:07:10</td>\n",
       "      <td>2014-10-10 00:07:10</td>\n",
       "      <td>sammer</td>\n",
       "      <td>&lt;p&gt;Thanks &lt;a href=\"https://dribbble.com/18675\"...</td>\n",
       "      <td>0</td>\n",
       "    </tr>\n",
       "    <tr>\n",
       "      <th>3</th>\n",
       "      <td>1691148</td>\n",
       "      <td>3889476</td>\n",
       "      <td>2014-08-19 18:48:03</td>\n",
       "      <td>2014-08-19 18:48:03</td>\n",
       "      <td>jalenconner</td>\n",
       "      <td>&lt;p&gt;really diggin' the three columns. Are you d...</td>\n",
       "      <td>1</td>\n",
       "    </tr>\n",
       "    <tr>\n",
       "      <th>4</th>\n",
       "      <td>1691148</td>\n",
       "      <td>3891158</td>\n",
       "      <td>2014-08-20 13:47:06</td>\n",
       "      <td>2014-08-20 13:47:06</td>\n",
       "      <td>arnaudschlupp</td>\n",
       "      <td>&lt;p&gt;&lt;a href=\"https://dribbble.com/357364\"&gt;@Jale...</td>\n",
       "      <td>1</td>\n",
       "    </tr>\n",
       "    <tr>\n",
       "      <th>...</th>\n",
       "      <td>...</td>\n",
       "      <td>...</td>\n",
       "      <td>...</td>\n",
       "      <td>...</td>\n",
       "      <td>...</td>\n",
       "      <td>...</td>\n",
       "      <td>...</td>\n",
       "    </tr>\n",
       "    <tr>\n",
       "      <th>6276987</th>\n",
       "      <td>3044495</td>\n",
       "      <td>NaN</td>\n",
       "      <td>NaT</td>\n",
       "      <td>NaT</td>\n",
       "      <td>NaN</td>\n",
       "      <td>NaN</td>\n",
       "      <td>NaN</td>\n",
       "    </tr>\n",
       "    <tr>\n",
       "      <th>6276988</th>\n",
       "      <td>3651916</td>\n",
       "      <td>NaN</td>\n",
       "      <td>NaT</td>\n",
       "      <td>NaT</td>\n",
       "      <td>NaN</td>\n",
       "      <td>NaN</td>\n",
       "      <td>NaN</td>\n",
       "    </tr>\n",
       "    <tr>\n",
       "      <th>6276989</th>\n",
       "      <td>1580545</td>\n",
       "      <td>NaN</td>\n",
       "      <td>NaT</td>\n",
       "      <td>NaT</td>\n",
       "      <td>NaN</td>\n",
       "      <td>NaN</td>\n",
       "      <td>NaN</td>\n",
       "    </tr>\n",
       "    <tr>\n",
       "      <th>6276990</th>\n",
       "      <td>3151559</td>\n",
       "      <td>NaN</td>\n",
       "      <td>NaT</td>\n",
       "      <td>NaT</td>\n",
       "      <td>NaN</td>\n",
       "      <td>NaN</td>\n",
       "      <td>NaN</td>\n",
       "    </tr>\n",
       "    <tr>\n",
       "      <th>6276991</th>\n",
       "      <td>3844445</td>\n",
       "      <td>NaN</td>\n",
       "      <td>NaT</td>\n",
       "      <td>NaT</td>\n",
       "      <td>NaN</td>\n",
       "      <td>NaN</td>\n",
       "      <td>NaN</td>\n",
       "    </tr>\n",
       "  </tbody>\n",
       "</table>\n",
       "<p>6276992 rows × 7 columns</p>\n",
       "</div>"
      ],
      "text/plain": [
       "         shot_id comment_id          created_at          updated_at  \\\n",
       "0         295643     738715 2011-10-18 12:47:15 2011-10-18 12:47:15   \n",
       "1        1696672    3994002 2014-10-09 21:10:25 2014-10-09 21:10:25   \n",
       "2        1696672    3994160 2014-10-10 00:07:10 2014-10-10 00:07:10   \n",
       "3        1691148    3889476 2014-08-19 18:48:03 2014-08-19 18:48:03   \n",
       "4        1691148    3891158 2014-08-20 13:47:06 2014-08-20 13:47:06   \n",
       "...          ...        ...                 ...                 ...   \n",
       "6276987  3044495        NaN                 NaT                 NaT   \n",
       "6276988  3651916        NaN                 NaT                 NaT   \n",
       "6276989  1580545        NaN                 NaT                 NaT   \n",
       "6276990  3151559        NaN                 NaT                 NaT   \n",
       "6276991  3844445        NaN                 NaT                 NaT   \n",
       "\n",
       "        author_comment                                            comment  \\\n",
       "0            liammckay                               <p>Clever stuff!</p>   \n",
       "1        chadfullerton                      <p>Love this. Great work!</p>   \n",
       "2               sammer  <p>Thanks <a href=\"https://dribbble.com/18675\"...   \n",
       "3          jalenconner  <p>really diggin' the three columns. Are you d...   \n",
       "4        arnaudschlupp  <p><a href=\"https://dribbble.com/357364\">@Jale...   \n",
       "...                ...                                                ...   \n",
       "6276987            NaN                                                NaN   \n",
       "6276988            NaN                                                NaN   \n",
       "6276989            NaN                                                NaN   \n",
       "6276990            NaN                                                NaN   \n",
       "6276991            NaN                                                NaN   \n",
       "\n",
       "        likes_count  \n",
       "0                 1  \n",
       "1                 1  \n",
       "2                 0  \n",
       "3                 1  \n",
       "4                 1  \n",
       "...             ...  \n",
       "6276987         NaN  \n",
       "6276988         NaN  \n",
       "6276989         NaN  \n",
       "6276990         NaN  \n",
       "6276991         NaN  \n",
       "\n",
       "[6276992 rows x 7 columns]"
      ]
     },
     "execution_count": 25,
     "metadata": {},
     "output_type": "execute_result"
    }
   ],
   "source": [
    "comments"
   ]
  },
  {
   "cell_type": "code",
   "execution_count": 26,
   "metadata": {},
   "outputs": [
    {
     "data": {
      "text/plain": [
       "6276992"
      ]
     },
     "execution_count": 26,
     "metadata": {},
     "output_type": "execute_result"
    }
   ],
   "source": [
    "len(comments)"
   ]
  },
  {
   "cell_type": "code",
   "execution_count": 27,
   "metadata": {},
   "outputs": [
    {
     "data": {
      "text/plain": [
       "True"
      ]
     },
     "execution_count": 27,
     "metadata": {},
     "output_type": "execute_result"
    }
   ],
   "source": [
    "# The unique key of the table.\n",
    "comments.set_index([\"shot_id\", \"comment_id\"]).index.is_unique"
   ]
  },
  {
   "cell_type": "code",
   "execution_count": 28,
   "metadata": {},
   "outputs": [
    {
     "data": {
      "text/plain": [
       "0"
      ]
     },
     "execution_count": 28,
     "metadata": {},
     "output_type": "execute_result"
    }
   ],
   "source": [
    "comments.duplicated().sum()"
   ]
  },
  {
   "cell_type": "code",
   "execution_count": 29,
   "metadata": {},
   "outputs": [
    {
     "data": {
      "text/plain": [
       "array([ 295643, 1696672, 1691148, ..., 1580545, 3151559, 3844445],\n",
       "      dtype=int64)"
      ]
     },
     "execution_count": 29,
     "metadata": {},
     "output_type": "execute_result"
    }
   ],
   "source": [
    "comments.shot_id.unique()"
   ]
  },
  {
   "cell_type": "code",
   "execution_count": 30,
   "metadata": {},
   "outputs": [
    {
     "data": {
      "text/plain": [
       "0"
      ]
     },
     "execution_count": 30,
     "metadata": {},
     "output_type": "execute_result"
    }
   ],
   "source": [
    "comments.shot_id.isna().sum()"
   ]
  },
  {
   "cell_type": "code",
   "execution_count": 31,
   "metadata": {},
   "outputs": [
    {
     "data": {
      "text/plain": [
       "Index(['shot_id', 'comment_id', 'created_at', 'updated_at', 'author_comment',\n",
       "       'comment', 'likes_count'],\n",
       "      dtype='object')"
      ]
     },
     "execution_count": 31,
     "metadata": {},
     "output_type": "execute_result"
    }
   ],
   "source": [
    "comments.columns"
   ]
  },
  {
   "cell_type": "code",
   "execution_count": 32,
   "metadata": {},
   "outputs": [],
   "source": [
    "# Save the type for the sqlite table.\n",
    "dtype = {\"shot_id\": \"INT\", \"comment_id\": \"INT\", \"created_at\": \"TIMESTAMP\", \"updated_at\": \"TIMESTAMP\", \"author_comment\": \"TEXT\", \n",
    "         \"comment\": \"TEXT\", \"likes_count\": \"INT\"}"
   ]
  },
  {
   "cell_type": "code",
   "execution_count": 33,
   "metadata": {},
   "outputs": [],
   "source": [
    "# Save the dataframe into the sql database.\n",
    "comments.to_sql(\"comments\", conn, index = False, dtype = dtype)"
   ]
  },
  {
   "cell_type": "code",
   "execution_count": 34,
   "metadata": {},
   "outputs": [],
   "source": [
    "conn.close()"
   ]
  }
 ],
 "metadata": {
  "kernelspec": {
   "display_name": "Python 3",
   "language": "python",
   "name": "python3"
  },
  "language_info": {
   "codemirror_mode": {
    "name": "ipython",
    "version": 3
   },
   "file_extension": ".py",
   "mimetype": "text/x-python",
   "name": "python",
   "nbconvert_exporter": "python",
   "pygments_lexer": "ipython3",
   "version": "3.6.6"
  }
 },
 "nbformat": 4,
 "nbformat_minor": 2
}
