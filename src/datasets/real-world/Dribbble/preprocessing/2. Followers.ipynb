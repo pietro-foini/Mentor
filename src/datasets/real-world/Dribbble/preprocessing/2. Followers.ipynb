{
 "cells": [
  {
   "cell_type": "code",
   "execution_count": 1,
   "metadata": {},
   "outputs": [],
   "source": [
    "import warnings\n",
    "warnings.filterwarnings(\"ignore\")"
   ]
  },
  {
   "cell_type": "code",
   "execution_count": 2,
   "metadata": {},
   "outputs": [],
   "source": [
    "import dask.dataframe as dd\n",
    "import pandas as pd\n",
    "import json\n",
    "import sqlite3\n",
    "\n",
    "from pathlib import Path"
   ]
  },
  {
   "cell_type": "code",
   "execution_count": 3,
   "metadata": {},
   "outputs": [],
   "source": [
    "# Connect to database sqlite where to store the information regarding the Dribbble dataset.\n",
    "conn = sqlite3.connect(\"dribbble_temporary.db\")\n",
    "c = conn.cursor()"
   ]
  },
  {
   "cell_type": "markdown",
   "metadata": {},
   "source": [
    "# Followers\n",
    "\n",
    "This file contains information about the **followers** and **followings** of Dribbble's users. \n",
    "\n",
    "The corresponding raw data is the file *followers.tsv*."
   ]
  },
  {
   "cell_type": "markdown",
   "metadata": {},
   "source": [
    "### Raw data visualization"
   ]
  },
  {
   "cell_type": "code",
   "execution_count": 4,
   "metadata": {},
   "outputs": [],
   "source": [
    "# Let's try to open the dataframe in order to visualize it.\n",
    "followers = dd.read_csv(Path(\"raw_data/followers.tsv\"), sep = \"\\t\", header = None, names = [\"destination\", \"info\"])"
   ]
  },
  {
   "cell_type": "code",
   "execution_count": 5,
   "metadata": {},
   "outputs": [
    {
     "data": {
      "text/html": [
       "<div>\n",
       "<style scoped>\n",
       "    .dataframe tbody tr th:only-of-type {\n",
       "        vertical-align: middle;\n",
       "    }\n",
       "\n",
       "    .dataframe tbody tr th {\n",
       "        vertical-align: top;\n",
       "    }\n",
       "\n",
       "    .dataframe thead th {\n",
       "        text-align: right;\n",
       "    }\n",
       "</style>\n",
       "<table border=\"1\" class=\"dataframe\">\n",
       "  <thead>\n",
       "    <tr style=\"text-align: right;\">\n",
       "      <th></th>\n",
       "      <th>destination</th>\n",
       "      <th>info</th>\n",
       "    </tr>\n",
       "  </thead>\n",
       "  <tbody>\n",
       "    <tr>\n",
       "      <th>0</th>\n",
       "      <td>marklamb</td>\n",
       "      <td>[[1511756060, \"cmaffuccio\"], [1511432388, \"are...</td>\n",
       "    </tr>\n",
       "    <tr>\n",
       "      <th>1</th>\n",
       "      <td>hrvoje-grubisic</td>\n",
       "      <td>[[1513098860, \"taylor-creative\"], [1513095452,...</td>\n",
       "    </tr>\n",
       "    <tr>\n",
       "      <th>2</th>\n",
       "      <td>quaintinc</td>\n",
       "      <td>[[1513044377, \"Lanaya66\"], [1512963960, \"trist...</td>\n",
       "    </tr>\n",
       "    <tr>\n",
       "      <th>3</th>\n",
       "      <td>hugowelke</td>\n",
       "      <td>[[1498405006, \"bleaning\"], [1467312933, \"Krisp...</td>\n",
       "    </tr>\n",
       "    <tr>\n",
       "      <th>4</th>\n",
       "      <td>giantghost</td>\n",
       "      <td>[[1452303125, \"joaquinlluis\"], [1438591511, \"s...</td>\n",
       "    </tr>\n",
       "  </tbody>\n",
       "</table>\n",
       "</div>"
      ],
      "text/plain": [
       "       destination                                               info\n",
       "0         marklamb  [[1511756060, \"cmaffuccio\"], [1511432388, \"are...\n",
       "1  hrvoje-grubisic  [[1513098860, \"taylor-creative\"], [1513095452,...\n",
       "2        quaintinc  [[1513044377, \"Lanaya66\"], [1512963960, \"trist...\n",
       "3        hugowelke  [[1498405006, \"bleaning\"], [1467312933, \"Krisp...\n",
       "4       giantghost  [[1452303125, \"joaquinlluis\"], [1438591511, \"s..."
      ]
     },
     "execution_count": 5,
     "metadata": {},
     "output_type": "execute_result"
    }
   ],
   "source": [
    "followers.head()"
   ]
  },
  {
   "cell_type": "code",
   "execution_count": 6,
   "metadata": {},
   "outputs": [
    {
     "data": {
      "text/html": [
       "<div>\n",
       "<style scoped>\n",
       "    .dataframe tbody tr th:only-of-type {\n",
       "        vertical-align: middle;\n",
       "    }\n",
       "\n",
       "    .dataframe tbody tr th {\n",
       "        vertical-align: top;\n",
       "    }\n",
       "\n",
       "    .dataframe thead th {\n",
       "        text-align: right;\n",
       "    }\n",
       "</style>\n",
       "<table border=\"1\" class=\"dataframe\">\n",
       "  <thead>\n",
       "    <tr style=\"text-align: right;\">\n",
       "      <th></th>\n",
       "      <th>destination</th>\n",
       "      <th>info</th>\n",
       "    </tr>\n",
       "  </thead>\n",
       "  <tbody>\n",
       "    <tr>\n",
       "      <th>150865</th>\n",
       "      <td>david_hildie</td>\n",
       "      <td>[[1476211260, \"groupondesignunion\"], [14714393...</td>\n",
       "    </tr>\n",
       "    <tr>\n",
       "      <th>150866</th>\n",
       "      <td>abairagi</td>\n",
       "      <td>[[1512653185, \"shirinkhara\"], [1512131050, \"ab...</td>\n",
       "    </tr>\n",
       "    <tr>\n",
       "      <th>150867</th>\n",
       "      <td>ioanacioc</td>\n",
       "      <td>[[1511122049, \"alexandraandronache\"], [1510048...</td>\n",
       "    </tr>\n",
       "    <tr>\n",
       "      <th>150868</th>\n",
       "      <td>upensh</td>\n",
       "      <td>[[1513650428, \"andreahock\"], [1513571262, \"Arv...</td>\n",
       "    </tr>\n",
       "    <tr>\n",
       "      <th>150869</th>\n",
       "      <td>vasstudio</td>\n",
       "      <td>[[1514870580, \"manojrajput\"], [1514542912, \"as...</td>\n",
       "    </tr>\n",
       "  </tbody>\n",
       "</table>\n",
       "</div>"
      ],
      "text/plain": [
       "         destination                                               info\n",
       "150865  david_hildie  [[1476211260, \"groupondesignunion\"], [14714393...\n",
       "150866      abairagi  [[1512653185, \"shirinkhara\"], [1512131050, \"ab...\n",
       "150867     ioanacioc  [[1511122049, \"alexandraandronache\"], [1510048...\n",
       "150868        upensh  [[1513650428, \"andreahock\"], [1513571262, \"Arv...\n",
       "150869     vasstudio  [[1514870580, \"manojrajput\"], [1514542912, \"as..."
      ]
     },
     "execution_count": 6,
     "metadata": {},
     "output_type": "execute_result"
    }
   ],
   "source": [
    "followers.tail()"
   ]
  },
  {
   "cell_type": "code",
   "execution_count": 7,
   "metadata": {},
   "outputs": [
    {
     "data": {
      "text/plain": [
       "772074"
      ]
     },
     "execution_count": 7,
     "metadata": {},
     "output_type": "execute_result"
    }
   ],
   "source": [
    "# Get the number of rows of the dataframe.\n",
    "followers.shape[0].compute()"
   ]
  },
  {
   "cell_type": "markdown",
   "metadata": {},
   "source": [
    "Each destination (username) has a list of lists. Each list contains a pair of information: the time (Unix Time) at which the follow action takes place and the following user."
   ]
  },
  {
   "cell_type": "markdown",
   "metadata": {},
   "source": [
    "### Unpack information from raw data"
   ]
  },
  {
   "cell_type": "code",
   "execution_count": 8,
   "metadata": {},
   "outputs": [],
   "source": [
    "# Read the large .tsv file with specified chunksize in order to preprocess it not all together.\n",
    "chunksize = 10000\n",
    "followers_chunk = pd.read_csv(Path(\"raw_data/followers.tsv\"), sep = \"\\t\", names = [\"destination\", \"info\"], chunksize = chunksize)"
   ]
  },
  {
   "cell_type": "code",
   "execution_count": 9,
   "metadata": {
    "scrolled": true
   },
   "outputs": [
    {
     "name": "stdout",
     "output_type": "stream",
     "text": [
      "Cumulative not empty chunk: 10000\n",
      "Cumulative not empty chunk: 20000\n",
      "Cumulative not empty chunk: 30000\n",
      "Cumulative not empty chunk: 40000\n",
      "Cumulative not empty chunk: 50000\n",
      "Cumulative not empty chunk: 60000\n",
      "Cumulative not empty chunk: 70000\n",
      "Cumulative not empty chunk: 80000\n",
      "Cumulative not empty chunk: 320000\n",
      "Cumulative not empty chunk: 330000\n",
      "Cumulative not empty chunk: 340000\n",
      "Cumulative not empty chunk: 370000\n",
      "Cumulative not empty chunk: 380000\n",
      "Cumulative not empty chunk: 410000\n",
      "Cumulative not empty chunk: 430000\n",
      "Cumulative not empty chunk: 440000\n",
      "Cumulative not empty chunk: 450000\n",
      "Cumulative not empty chunk: 460000\n",
      "Cumulative not empty chunk: 490000\n",
      "Cumulative not empty chunk: 500000\n",
      "Cumulative not empty chunk: 510000\n",
      "Cumulative not empty chunk: 520000\n",
      "Cumulative not empty chunk: 530000\n",
      "Cumulative not empty chunk: 540000\n",
      "Cumulative not empty chunk: 550000\n",
      "Cumulative not empty chunk: 570000\n",
      "Cumulative not empty chunk: 580000\n",
      "Cumulative not empty chunk: 590000\n",
      "Cumulative not empty chunk: 600000\n",
      "Cumulative not empty chunk: 620000\n",
      "Cumulative not empty chunk: 630000\n",
      "Cumulative not empty chunk: 640000\n",
      "Cumulative not empty chunk: 650000\n",
      "Cumulative not empty chunk: 660000\n",
      "Cumulative not empty chunk: 670000\n",
      "Cumulative not empty chunk: 770000\n",
      "Cumulative not empty chunk: 780000\n"
     ]
    }
   ],
   "source": [
    "chunk_list = list()\n",
    "users_no_followers = list()\n",
    "\n",
    "# Each chunk is a dataframe.\n",
    "for i,chunk in enumerate(followers_chunk):\n",
    "    # Store information about users with no followers. \n",
    "    users_no_followers.append(chunk.loc[(chunk[\"info\"] == \"[]\")][\"destination\"].values)\n",
    "    # Remove empty 'info' rows.\n",
    "    chunk = chunk.loc[~(chunk[\"info\"] == \"[]\")]\n",
    "    if not chunk.empty:\n",
    "        print(\"Cumulative not empty chunk: %d\" % (chunksize*(i+1)))\n",
    "        # We evaluate each row that contain strings containing Python expressions.\n",
    "        chunk[\"info\"] = chunk[\"info\"].apply(lambda x: json.loads(x))\n",
    "        # Flatten list of list over columns.\n",
    "        chunk = chunk.explode(\"info\")\n",
    "        # Extract all the information from this chunk of data.\n",
    "        chunk = pd.DataFrame(chunk[\"info\"].tolist(), index = chunk[\"destination\"], columns = [\"created_at\", \"source\"]).reset_index()\n",
    "\n",
    "        # Save the current chunk of data into list.\n",
    "        chunk_list.append(chunk)"
   ]
  },
  {
   "cell_type": "code",
   "execution_count": 10,
   "metadata": {},
   "outputs": [
    {
     "data": {
      "text/html": [
       "<div>\n",
       "<style scoped>\n",
       "    .dataframe tbody tr th:only-of-type {\n",
       "        vertical-align: middle;\n",
       "    }\n",
       "\n",
       "    .dataframe tbody tr th {\n",
       "        vertical-align: top;\n",
       "    }\n",
       "\n",
       "    .dataframe thead th {\n",
       "        text-align: right;\n",
       "    }\n",
       "</style>\n",
       "<table border=\"1\" class=\"dataframe\">\n",
       "  <thead>\n",
       "    <tr style=\"text-align: right;\">\n",
       "      <th></th>\n",
       "      <th>destination</th>\n",
       "      <th>created_at</th>\n",
       "      <th>source</th>\n",
       "    </tr>\n",
       "  </thead>\n",
       "  <tbody>\n",
       "    <tr>\n",
       "      <th>0</th>\n",
       "      <td>marklamb</td>\n",
       "      <td>1511756060</td>\n",
       "      <td>cmaffuccio</td>\n",
       "    </tr>\n",
       "    <tr>\n",
       "      <th>1</th>\n",
       "      <td>marklamb</td>\n",
       "      <td>1511432388</td>\n",
       "      <td>arestov_design</td>\n",
       "    </tr>\n",
       "    <tr>\n",
       "      <th>2</th>\n",
       "      <td>marklamb</td>\n",
       "      <td>1511368675</td>\n",
       "      <td>space307</td>\n",
       "    </tr>\n",
       "    <tr>\n",
       "      <th>3</th>\n",
       "      <td>marklamb</td>\n",
       "      <td>1511081409</td>\n",
       "      <td>Hido</td>\n",
       "    </tr>\n",
       "    <tr>\n",
       "      <th>4</th>\n",
       "      <td>marklamb</td>\n",
       "      <td>1511065426</td>\n",
       "      <td>Avagana</td>\n",
       "    </tr>\n",
       "  </tbody>\n",
       "</table>\n",
       "</div>"
      ],
      "text/plain": [
       "  destination  created_at          source\n",
       "0    marklamb  1511756060      cmaffuccio\n",
       "1    marklamb  1511432388  arestov_design\n",
       "2    marklamb  1511368675        space307\n",
       "3    marklamb  1511081409            Hido\n",
       "4    marklamb  1511065426         Avagana"
      ]
     },
     "execution_count": 10,
     "metadata": {},
     "output_type": "execute_result"
    }
   ],
   "source": [
    "# Concatenate all data of the users with at least one follower.\n",
    "followers = pd.concat(chunk_list, ignore_index = False).reset_index(drop = True)\n",
    "followers.head()"
   ]
  },
  {
   "cell_type": "markdown",
   "metadata": {},
   "source": [
    "### Preprocessing"
   ]
  },
  {
   "cell_type": "code",
   "execution_count": 11,
   "metadata": {},
   "outputs": [],
   "source": [
    "# Load file that maps the multiple usernames of the 'users' table into an unique information.\n",
    "with open(\"users_mapper_username.json\") as f:\n",
    "    map_users_multiple_profiles = json.load(f)"
   ]
  },
  {
   "cell_type": "code",
   "execution_count": 12,
   "metadata": {},
   "outputs": [],
   "source": [
    "# Flatten list of users with no followers.\n",
    "users_no_followers = pd.Series(users_no_followers).explode().reset_index(drop = True)"
   ]
  },
  {
   "cell_type": "code",
   "execution_count": 13,
   "metadata": {},
   "outputs": [
    {
     "name": "stdout",
     "output_type": "stream",
     "text": [
      "n° of 'destination' usernames remapped: 56958\n",
      "n° of 'source' usernames remapped: 42148\n",
      "n° of usernames with no followers remapped: 371\n"
     ]
    }
   ],
   "source": [
    "# We map the usernames with multiple profiles into 'users' table to have a single value.\n",
    "# 'destination'.\n",
    "destination_remap = followers.destination[followers.destination.isin(map_users_multiple_profiles.keys())].map(map_users_multiple_profiles, na_action = \"ignore\")\n",
    "print(\"n° of 'destination' usernames remapped: %d\" % len(destination_remap))\n",
    "followers.destination.loc[destination_remap.index] = destination_remap\n",
    "\n",
    "# 'source'.\n",
    "source_remap = followers.source[followers.source.isin(map_users_multiple_profiles.keys())].map(map_users_multiple_profiles, na_action = \"ignore\")\n",
    "print(\"n° of 'source' usernames remapped: %d\" % len(source_remap))\n",
    "followers.source.loc[source_remap.index] = source_remap\n",
    "\n",
    "# Users with no followers.\n",
    "users_no_followers_remap = users_no_followers[users_no_followers.isin(map_users_multiple_profiles.keys())].map(map_users_multiple_profiles, na_action = \"ignore\")\n",
    "print(\"n° of usernames with no followers remapped: %d\" % len(users_no_followers_remap))\n",
    "users_no_followers.loc[users_no_followers_remap.index] = users_no_followers_remap"
   ]
  },
  {
   "cell_type": "code",
   "execution_count": 14,
   "metadata": {},
   "outputs": [
    {
     "data": {
      "text/plain": [
       "326534"
      ]
     },
     "execution_count": 14,
     "metadata": {},
     "output_type": "execute_result"
    }
   ],
   "source": [
    "# Check duplicated rows.\n",
    "followers.duplicated().sum()"
   ]
  },
  {
   "cell_type": "code",
   "execution_count": 15,
   "metadata": {},
   "outputs": [],
   "source": [
    "# Remove duplicated rows.\n",
    "followers.drop_duplicates(inplace = True)"
   ]
  },
  {
   "cell_type": "code",
   "execution_count": 16,
   "metadata": {},
   "outputs": [
    {
     "data": {
      "text/plain": [
       "962"
      ]
     },
     "execution_count": 16,
     "metadata": {},
     "output_type": "execute_result"
    }
   ],
   "source": [
    "# Check duplicated rows.\n",
    "users_no_followers.duplicated().sum()"
   ]
  },
  {
   "cell_type": "code",
   "execution_count": 17,
   "metadata": {},
   "outputs": [],
   "source": [
    "# Remove duplicated rows.\n",
    "users_no_followers.drop_duplicates(inplace = True)"
   ]
  },
  {
   "cell_type": "code",
   "execution_count": 18,
   "metadata": {},
   "outputs": [
    {
     "data": {
      "text/plain": [
       "destination    2\n",
       "created_at     0\n",
       "source         0\n",
       "dtype: int64"
      ]
     },
     "execution_count": 18,
     "metadata": {},
     "output_type": "execute_result"
    }
   ],
   "source": [
    "# Check if there are some NaN users ('destination' and 'source').\n",
    "followers.isna().sum()"
   ]
  },
  {
   "cell_type": "code",
   "execution_count": 19,
   "metadata": {},
   "outputs": [],
   "source": [
    "# Remove rows with NaN values.\n",
    "followers.dropna(axis = 0, how = \"any\", inplace = True)"
   ]
  },
  {
   "cell_type": "code",
   "execution_count": 20,
   "metadata": {},
   "outputs": [
    {
     "data": {
      "text/plain": [
       "1"
      ]
     },
     "execution_count": 20,
     "metadata": {},
     "output_type": "execute_result"
    }
   ],
   "source": [
    "# Check if there are some NaN users.\n",
    "users_no_followers.isna().sum()"
   ]
  },
  {
   "cell_type": "code",
   "execution_count": 21,
   "metadata": {},
   "outputs": [],
   "source": [
    "users_no_followers.dropna(inplace = True)"
   ]
  },
  {
   "cell_type": "code",
   "execution_count": 22,
   "metadata": {
    "scrolled": true
   },
   "outputs": [
    {
     "data": {
      "text/plain": [
       "['olemgruber',\n",
       " 'zvonimircamber',\n",
       " 'origomez',\n",
       " 'Knightly',\n",
       " 'Seven_Song',\n",
       " 'mirakyns',\n",
       " 'Palmi',\n",
       " 'claudiamorales',\n",
       " 'Shawn_',\n",
       " 'm4rp79',\n",
       " 'lekeojo',\n",
       " 'YoussefEmadEldin',\n",
       " 'DingLiu',\n",
       " 'anggapermana',\n",
       " 'toyfu',\n",
       " 'Snow911',\n",
       " 'advarto',\n",
       " 'DianaGoh',\n",
       " 'im_abhishekp',\n",
       " 'mattculbertson',\n",
       " 'przemob',\n",
       " 'james-the-designer',\n",
       " 'MatadorianGray',\n",
       " 'Ryan77',\n",
       " 'MoshiMoshiMedia',\n",
       " 'Anuki',\n",
       " 'seahuang',\n",
       " 'ShinDoeun',\n",
       " 'sarahtrad',\n",
       " 'larsroed',\n",
       " 'scottxchilds',\n",
       " 'xavcz',\n",
       " 'Sharon_HXQ',\n",
       " 'Muppets',\n",
       " 'MeiruiDesign',\n",
       " 'julialitkevich',\n",
       " 'Mahui',\n",
       " 'AyoJon',\n",
       " 'reallyaditya',\n",
       " 'borodach',\n",
       " 'HishamTourbak',\n",
       " 'sunny-vision',\n",
       " 'Sukilam',\n",
       " 'ivv',\n",
       " 'LaisyWang0912',\n",
       " 'albertosoft',\n",
       " 'Thelittleeverything',\n",
       " 'Gxing',\n",
       " 'Mansion_Cai',\n",
       " 'Mister_Undying',\n",
       " 'isaaclemon',\n",
       " 'evavidovic_',\n",
       " 'J_R_Speed',\n",
       " 'theray',\n",
       " 'dellfi',\n",
       " 'lukas-nkz',\n",
       " 'NANCYGONG',\n",
       " 'zainalow',\n",
       " 'BleedingEyes',\n",
       " 'zhenyabelan',\n",
       " 'mahmoudemara',\n",
       " 'chinran',\n",
       " 'uxwis',\n",
       " 'ahmedsayed',\n",
       " 'Lvan_13',\n",
       " 'joshbaptista',\n",
       " 'primaua',\n",
       " 'sharminshima',\n",
       " 'Leo_deisgn',\n",
       " 'WongShen',\n",
       " 'eysteinn',\n",
       " 'fishliu',\n",
       " 'skinnersweet',\n",
       " 'bishrantt',\n",
       " 'hellofello',\n",
       " 'ElaineDettmann',\n",
       " 'endorfine',\n",
       " 'gmx_me',\n",
       " 'FabioLucini',\n",
       " 'Lin-XuePing',\n",
       " 'irina_nelga',\n",
       " 'gilsah',\n",
       " 'summerfangfang',\n",
       " 'ilbroccolovolante',\n",
       " 'petervaro',\n",
       " 'amisadai',\n",
       " 'annakis',\n",
       " 'viviennouzarede',\n",
       " 'kellspope',\n",
       " 'chinnu_studios']"
      ]
     },
     "execution_count": 22,
     "metadata": {},
     "output_type": "execute_result"
    }
   ],
   "source": [
    "# Check if there exist an intersection between the users with at least one follower and the users with no followers.\n",
    "intersection = list(set(followers.destination.unique()) & set(users_no_followers))\n",
    "intersection"
   ]
  },
  {
   "cell_type": "code",
   "execution_count": 23,
   "metadata": {},
   "outputs": [
    {
     "data": {
      "text/plain": [
       "90"
      ]
     },
     "execution_count": 23,
     "metadata": {},
     "output_type": "execute_result"
    }
   ],
   "source": [
    "len(intersection)"
   ]
  },
  {
   "cell_type": "code",
   "execution_count": 24,
   "metadata": {},
   "outputs": [],
   "source": [
    "# Not consider these users into the users with no followers.\n",
    "users_no_followers = users_no_followers.loc[~users_no_followers.isin(intersection)]"
   ]
  },
  {
   "cell_type": "code",
   "execution_count": 25,
   "metadata": {},
   "outputs": [
    {
     "data": {
      "text/plain": [
       "[]"
      ]
     },
     "execution_count": 25,
     "metadata": {},
     "output_type": "execute_result"
    }
   ],
   "source": [
    "list(set(followers.destination.unique()) & set(users_no_followers))"
   ]
  },
  {
   "cell_type": "code",
   "execution_count": 26,
   "metadata": {},
   "outputs": [],
   "source": [
    "# Check if the key 'destination' + 'source' is unique.\n",
    "followers.set_index([\"destination\", \"source\"], inplace = True)"
   ]
  },
  {
   "cell_type": "code",
   "execution_count": 27,
   "metadata": {},
   "outputs": [
    {
     "data": {
      "text/plain": [
       "False"
      ]
     },
     "execution_count": 27,
     "metadata": {},
     "output_type": "execute_result"
    }
   ],
   "source": [
    "followers.index.is_unique"
   ]
  },
  {
   "cell_type": "code",
   "execution_count": 28,
   "metadata": {},
   "outputs": [
    {
     "name": "stdout",
     "output_type": "stream",
     "text": [
      "24\n"
     ]
    },
    {
     "data": {
      "text/html": [
       "<div>\n",
       "<style scoped>\n",
       "    .dataframe tbody tr th:only-of-type {\n",
       "        vertical-align: middle;\n",
       "    }\n",
       "\n",
       "    .dataframe tbody tr th {\n",
       "        vertical-align: top;\n",
       "    }\n",
       "\n",
       "    .dataframe thead th {\n",
       "        text-align: right;\n",
       "    }\n",
       "</style>\n",
       "<table border=\"1\" class=\"dataframe\">\n",
       "  <thead>\n",
       "    <tr style=\"text-align: right;\">\n",
       "      <th></th>\n",
       "      <th></th>\n",
       "      <th>created_at</th>\n",
       "    </tr>\n",
       "    <tr>\n",
       "      <th>destination</th>\n",
       "      <th>source</th>\n",
       "      <th></th>\n",
       "    </tr>\n",
       "  </thead>\n",
       "  <tbody>\n",
       "    <tr>\n",
       "      <th rowspan=\"2\" valign=\"top\">miindofchris</th>\n",
       "      <th>shakuro</th>\n",
       "      <td>1512382855</td>\n",
       "    </tr>\n",
       "    <tr>\n",
       "      <th>shakuro</th>\n",
       "      <td>1514547494</td>\n",
       "    </tr>\n",
       "    <tr>\n",
       "      <th rowspan=\"2\" valign=\"top\">Gushn</th>\n",
       "      <th>BadTaste_</th>\n",
       "      <td>1513431494</td>\n",
       "    </tr>\n",
       "    <tr>\n",
       "      <th>BadTaste_</th>\n",
       "      <td>1514261805</td>\n",
       "    </tr>\n",
       "    <tr>\n",
       "      <th>Gis1on</th>\n",
       "      <th>Bill_Miao</th>\n",
       "      <td>1509611585</td>\n",
       "    </tr>\n",
       "  </tbody>\n",
       "</table>\n",
       "</div>"
      ],
      "text/plain": [
       "                        created_at\n",
       "destination  source               \n",
       "miindofchris shakuro    1512382855\n",
       "             shakuro    1514547494\n",
       "Gushn        BadTaste_  1513431494\n",
       "             BadTaste_  1514261805\n",
       "Gis1on       Bill_Miao  1509611585"
      ]
     },
     "execution_count": 28,
     "metadata": {},
     "output_type": "execute_result"
    }
   ],
   "source": [
    "not_unique = followers.index.value_counts()\n",
    "# The number of couple users with multiple contacts.\n",
    "print(sum(not_unique > 1))\n",
    "\n",
    "not_unique = not_unique[not_unique > 1]\n",
    "\n",
    "not_unique = followers.loc[not_unique.index]\n",
    "not_unique.head()"
   ]
  },
  {
   "cell_type": "code",
   "execution_count": 29,
   "metadata": {},
   "outputs": [],
   "source": [
    "followers.reset_index(inplace = True)"
   ]
  },
  {
   "cell_type": "code",
   "execution_count": 30,
   "metadata": {},
   "outputs": [
    {
     "data": {
      "text/html": [
       "<div>\n",
       "<style scoped>\n",
       "    .dataframe tbody tr th:only-of-type {\n",
       "        vertical-align: middle;\n",
       "    }\n",
       "\n",
       "    .dataframe tbody tr th {\n",
       "        vertical-align: top;\n",
       "    }\n",
       "\n",
       "    .dataframe thead th {\n",
       "        text-align: right;\n",
       "    }\n",
       "</style>\n",
       "<table border=\"1\" class=\"dataframe\">\n",
       "  <thead>\n",
       "    <tr style=\"text-align: right;\">\n",
       "      <th></th>\n",
       "      <th>destination</th>\n",
       "      <th>source</th>\n",
       "      <th>created_at</th>\n",
       "    </tr>\n",
       "  </thead>\n",
       "  <tbody>\n",
       "    <tr>\n",
       "      <th>0</th>\n",
       "      <td>marklamb</td>\n",
       "      <td>cmaffuccio</td>\n",
       "      <td>1511756060</td>\n",
       "    </tr>\n",
       "    <tr>\n",
       "      <th>1</th>\n",
       "      <td>marklamb</td>\n",
       "      <td>arestov_design</td>\n",
       "      <td>1511432388</td>\n",
       "    </tr>\n",
       "    <tr>\n",
       "      <th>2</th>\n",
       "      <td>marklamb</td>\n",
       "      <td>space307</td>\n",
       "      <td>1511368675</td>\n",
       "    </tr>\n",
       "    <tr>\n",
       "      <th>3</th>\n",
       "      <td>marklamb</td>\n",
       "      <td>Hido</td>\n",
       "      <td>1511081409</td>\n",
       "    </tr>\n",
       "    <tr>\n",
       "      <th>4</th>\n",
       "      <td>marklamb</td>\n",
       "      <td>Avagana</td>\n",
       "      <td>1511065426</td>\n",
       "    </tr>\n",
       "  </tbody>\n",
       "</table>\n",
       "</div>"
      ],
      "text/plain": [
       "  destination          source  created_at\n",
       "0    marklamb      cmaffuccio  1511756060\n",
       "1    marklamb  arestov_design  1511432388\n",
       "2    marklamb        space307  1511368675\n",
       "3    marklamb            Hido  1511081409\n",
       "4    marklamb         Avagana  1511065426"
      ]
     },
     "execution_count": 30,
     "metadata": {},
     "output_type": "execute_result"
    }
   ],
   "source": [
    "# Let's keep the rows less updated regarding 'created_at'.\n",
    "followers = followers[followers[\"created_at\"] == followers.groupby([\"destination\", \"source\"])[\"created_at\"].transform(\"min\")]\n",
    "followers.head()"
   ]
  },
  {
   "cell_type": "code",
   "execution_count": 31,
   "metadata": {},
   "outputs": [
    {
     "data": {
      "text/plain": [
       "True"
      ]
     },
     "execution_count": 31,
     "metadata": {},
     "output_type": "execute_result"
    }
   ],
   "source": [
    "followers.set_index([\"destination\", \"source\"]).index.is_unique"
   ]
  },
  {
   "cell_type": "code",
   "execution_count": 32,
   "metadata": {},
   "outputs": [
    {
     "data": {
      "text/plain": [
       "22033777"
      ]
     },
     "execution_count": 32,
     "metadata": {},
     "output_type": "execute_result"
    }
   ],
   "source": [
    "len(followers)"
   ]
  },
  {
   "cell_type": "code",
   "execution_count": 33,
   "metadata": {},
   "outputs": [],
   "source": [
    "# Add to the dataframe the information regarding the users with no followers.\n",
    "no_followers = pd.DataFrame(columns = followers.columns)\n",
    "no_followers[\"destination\"] = users_no_followers.values\n",
    "\n",
    "followers = pd.concat([followers, no_followers], ignore_index = False).reset_index(drop = True)"
   ]
  },
  {
   "cell_type": "code",
   "execution_count": 34,
   "metadata": {},
   "outputs": [],
   "source": [
    "# Convert to datetime UTC.\n",
    "# We decide to not save the UTC offset (+00:00).\n",
    "followers.created_at = pd.to_datetime(followers.created_at, unit = \"s\", utc = True).dt.tz_convert(None)"
   ]
  },
  {
   "cell_type": "code",
   "execution_count": 35,
   "metadata": {},
   "outputs": [
    {
     "data": {
      "text/html": [
       "<div>\n",
       "<style scoped>\n",
       "    .dataframe tbody tr th:only-of-type {\n",
       "        vertical-align: middle;\n",
       "    }\n",
       "\n",
       "    .dataframe tbody tr th {\n",
       "        vertical-align: top;\n",
       "    }\n",
       "\n",
       "    .dataframe thead th {\n",
       "        text-align: right;\n",
       "    }\n",
       "</style>\n",
       "<table border=\"1\" class=\"dataframe\">\n",
       "  <thead>\n",
       "    <tr style=\"text-align: right;\">\n",
       "      <th></th>\n",
       "      <th>destination</th>\n",
       "      <th>source</th>\n",
       "      <th>created_at</th>\n",
       "    </tr>\n",
       "  </thead>\n",
       "  <tbody>\n",
       "    <tr>\n",
       "      <th>0</th>\n",
       "      <td>marklamb</td>\n",
       "      <td>cmaffuccio</td>\n",
       "      <td>2017-11-27 04:14:20</td>\n",
       "    </tr>\n",
       "    <tr>\n",
       "      <th>1</th>\n",
       "      <td>marklamb</td>\n",
       "      <td>arestov_design</td>\n",
       "      <td>2017-11-23 10:19:48</td>\n",
       "    </tr>\n",
       "    <tr>\n",
       "      <th>2</th>\n",
       "      <td>marklamb</td>\n",
       "      <td>space307</td>\n",
       "      <td>2017-11-22 16:37:55</td>\n",
       "    </tr>\n",
       "    <tr>\n",
       "      <th>3</th>\n",
       "      <td>marklamb</td>\n",
       "      <td>Hido</td>\n",
       "      <td>2017-11-19 08:50:09</td>\n",
       "    </tr>\n",
       "    <tr>\n",
       "      <th>4</th>\n",
       "      <td>marklamb</td>\n",
       "      <td>Avagana</td>\n",
       "      <td>2017-11-19 04:23:46</td>\n",
       "    </tr>\n",
       "    <tr>\n",
       "      <th>...</th>\n",
       "      <td>...</td>\n",
       "      <td>...</td>\n",
       "      <td>...</td>\n",
       "    </tr>\n",
       "    <tr>\n",
       "      <th>22660838</th>\n",
       "      <td>ecorreia__</td>\n",
       "      <td>NaN</td>\n",
       "      <td>NaT</td>\n",
       "    </tr>\n",
       "    <tr>\n",
       "      <th>22660839</th>\n",
       "      <td>pkam</td>\n",
       "      <td>NaN</td>\n",
       "      <td>NaT</td>\n",
       "    </tr>\n",
       "    <tr>\n",
       "      <th>22660840</th>\n",
       "      <td>manish_minglani</td>\n",
       "      <td>NaN</td>\n",
       "      <td>NaT</td>\n",
       "    </tr>\n",
       "    <tr>\n",
       "      <th>22660841</th>\n",
       "      <td>Brandydy</td>\n",
       "      <td>NaN</td>\n",
       "      <td>NaT</td>\n",
       "    </tr>\n",
       "    <tr>\n",
       "      <th>22660842</th>\n",
       "      <td>IgorMosijchuk</td>\n",
       "      <td>NaN</td>\n",
       "      <td>NaT</td>\n",
       "    </tr>\n",
       "  </tbody>\n",
       "</table>\n",
       "<p>22660843 rows × 3 columns</p>\n",
       "</div>"
      ],
      "text/plain": [
       "              destination          source          created_at\n",
       "0                marklamb      cmaffuccio 2017-11-27 04:14:20\n",
       "1                marklamb  arestov_design 2017-11-23 10:19:48\n",
       "2                marklamb        space307 2017-11-22 16:37:55\n",
       "3                marklamb            Hido 2017-11-19 08:50:09\n",
       "4                marklamb         Avagana 2017-11-19 04:23:46\n",
       "...                   ...             ...                 ...\n",
       "22660838       ecorreia__             NaN                 NaT\n",
       "22660839             pkam             NaN                 NaT\n",
       "22660840  manish_minglani             NaN                 NaT\n",
       "22660841         Brandydy             NaN                 NaT\n",
       "22660842    IgorMosijchuk             NaN                 NaT\n",
       "\n",
       "[22660843 rows x 3 columns]"
      ]
     },
     "execution_count": 35,
     "metadata": {},
     "output_type": "execute_result"
    }
   ],
   "source": [
    "followers"
   ]
  },
  {
   "cell_type": "code",
   "execution_count": 36,
   "metadata": {},
   "outputs": [
    {
     "data": {
      "text/plain": [
       "0"
      ]
     },
     "execution_count": 36,
     "metadata": {},
     "output_type": "execute_result"
    }
   ],
   "source": [
    "followers.destination.isna().sum()"
   ]
  },
  {
   "cell_type": "code",
   "execution_count": 37,
   "metadata": {},
   "outputs": [
    {
     "data": {
      "text/plain": [
       "False"
      ]
     },
     "execution_count": 37,
     "metadata": {},
     "output_type": "execute_result"
    }
   ],
   "source": [
    "# Check if users into 'source' are always contained into 'destination'.\n",
    "set(followers.source.dropna().unique()).issubset(set(followers.destination.unique()))"
   ]
  },
  {
   "cell_type": "code",
   "execution_count": 38,
   "metadata": {},
   "outputs": [
    {
     "data": {
      "text/plain": [
       "['13932306898yan',\n",
       " 'leonardofaria',\n",
       " 'kruttika',\n",
       " 'sajawalacademy',\n",
       " 'NA',\n",
       " 'LeJit',\n",
       " 'Devi30',\n",
       " 'l792836',\n",
       " 'BenH',\n",
       " 'hollowsphere',\n",
       " 'jordanbvidrine',\n",
       " 'nan',\n",
       " 'null',\n",
       " 'CarlaBarahona',\n",
       " '2is0']"
      ]
     },
     "execution_count": 38,
     "metadata": {},
     "output_type": "execute_result"
    }
   ],
   "source": [
    "# Check users into 'source' that not have any information in 'destination'.\n",
    "difference = list(set(followers.source.dropna().unique()) - set(followers.destination.unique()))\n",
    "difference"
   ]
  },
  {
   "cell_type": "code",
   "execution_count": 39,
   "metadata": {},
   "outputs": [],
   "source": [
    "# Keep only users from 'source' that are also in 'destination'.\n",
    "followers = followers[(followers.source.isin(followers.destination.unique())) | (followers.source.isna())]"
   ]
  },
  {
   "cell_type": "code",
   "execution_count": 40,
   "metadata": {},
   "outputs": [
    {
     "data": {
      "text/plain": [
       "True"
      ]
     },
     "execution_count": 40,
     "metadata": {},
     "output_type": "execute_result"
    }
   ],
   "source": [
    "# Check if users into 'source' are always contained into 'destination'.\n",
    "set(followers.source.dropna().unique()).issubset(set(followers.destination.unique()))"
   ]
  },
  {
   "cell_type": "code",
   "execution_count": 41,
   "metadata": {},
   "outputs": [
    {
     "data": {
      "text/plain": [
       "22660662"
      ]
     },
     "execution_count": 41,
     "metadata": {},
     "output_type": "execute_result"
    }
   ],
   "source": [
    "len(followers)"
   ]
  },
  {
   "cell_type": "code",
   "execution_count": 42,
   "metadata": {},
   "outputs": [
    {
     "data": {
      "text/plain": [
       "0"
      ]
     },
     "execution_count": 42,
     "metadata": {},
     "output_type": "execute_result"
    }
   ],
   "source": [
    "# Check duplicated rows.\n",
    "followers.duplicated().sum()"
   ]
  },
  {
   "cell_type": "code",
   "execution_count": 43,
   "metadata": {},
   "outputs": [
    {
     "data": {
      "text/plain": [
       "0"
      ]
     },
     "execution_count": 43,
     "metadata": {},
     "output_type": "execute_result"
    }
   ],
   "source": [
    "followers.destination.isna().sum()"
   ]
  },
  {
   "cell_type": "code",
   "execution_count": 44,
   "metadata": {},
   "outputs": [
    {
     "data": {
      "text/plain": [
       "627066"
      ]
     },
     "execution_count": 44,
     "metadata": {},
     "output_type": "execute_result"
    }
   ],
   "source": [
    "followers.source.isna().sum()"
   ]
  },
  {
   "cell_type": "code",
   "execution_count": 45,
   "metadata": {},
   "outputs": [
    {
     "data": {
      "text/plain": [
       "770767"
      ]
     },
     "execution_count": 45,
     "metadata": {},
     "output_type": "execute_result"
    }
   ],
   "source": [
    "len(followers.destination.unique())"
   ]
  },
  {
   "cell_type": "code",
   "execution_count": 46,
   "metadata": {},
   "outputs": [],
   "source": [
    "# Save the dataframe into the sql database.\n",
    "followers.to_sql(\"followers\", conn, index = False, dtype = {\"destination\": \"TEXT\", \"created_at\": \"TIMESTAMP\", \"source\": \"TEXT\"})"
   ]
  },
  {
   "cell_type": "code",
   "execution_count": 47,
   "metadata": {},
   "outputs": [],
   "source": [
    "conn.close()"
   ]
  }
 ],
 "metadata": {
  "kernelspec": {
   "display_name": "Python 3",
   "language": "python",
   "name": "python3"
  },
  "language_info": {
   "codemirror_mode": {
    "name": "ipython",
    "version": 3
   },
   "file_extension": ".py",
   "mimetype": "text/x-python",
   "name": "python",
   "nbconvert_exporter": "python",
   "pygments_lexer": "ipython3",
   "version": "3.6.13"
  }
 },
 "nbformat": 4,
 "nbformat_minor": 2
}
