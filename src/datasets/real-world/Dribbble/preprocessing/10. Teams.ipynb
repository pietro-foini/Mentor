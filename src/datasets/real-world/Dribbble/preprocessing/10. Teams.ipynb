{
 "cells": [
  {
   "cell_type": "code",
   "execution_count": 1,
   "metadata": {},
   "outputs": [],
   "source": [
    "import warnings\n",
    "warnings.filterwarnings(\"ignore\")"
   ]
  },
  {
   "cell_type": "code",
   "execution_count": 2,
   "metadata": {},
   "outputs": [],
   "source": [
    "import pandas as pd\n",
    "import sqlite3"
   ]
  },
  {
   "cell_type": "code",
   "execution_count": 3,
   "metadata": {},
   "outputs": [],
   "source": [
    "# Connect to database sqlite where is stored the information regarding the Dribbble dataset.\n",
    "conn = sqlite3.connect(\"dribbble_temporary.db\", detect_types = sqlite3.PARSE_DECLTYPES)\n",
    "c = conn.cursor()"
   ]
  },
  {
   "cell_type": "markdown",
   "metadata": {},
   "source": [
    "# Teams\n",
    "\n",
    "We want to create a table containing the information regarding the **teams**: we keep the rows where the information regarding the 'team_username' is available (not NaN) from 'shots' table. In this manner, we can find the members of the teams (this information is not available from 'users' table). \n",
    "\n",
    "Building team structures using this procedure assumes that if a user really belonging to a team has never published a shot, it will not be included in the 'teams' table that we will build below. These users could be into the list of authors with no shots published but we cannot know which team they belong to."
   ]
  },
  {
   "cell_type": "code",
   "execution_count": 4,
   "metadata": {},
   "outputs": [
    {
     "data": {
      "text/html": [
       "<div>\n",
       "<style scoped>\n",
       "    .dataframe tbody tr th:only-of-type {\n",
       "        vertical-align: middle;\n",
       "    }\n",
       "\n",
       "    .dataframe tbody tr th {\n",
       "        vertical-align: top;\n",
       "    }\n",
       "\n",
       "    .dataframe thead th {\n",
       "        text-align: right;\n",
       "    }\n",
       "</style>\n",
       "<table border=\"1\" class=\"dataframe\">\n",
       "  <thead>\n",
       "    <tr style=\"text-align: right;\">\n",
       "      <th></th>\n",
       "      <th>author_shot</th>\n",
       "      <th>team_username</th>\n",
       "      <th>shot_id</th>\n",
       "      <th>created_at</th>\n",
       "      <th>updated_at</th>\n",
       "      <th>team_id</th>\n",
       "      <th>team_name</th>\n",
       "      <th>team_bio</th>\n",
       "      <th>team_location</th>\n",
       "      <th>team_buckets_count</th>\n",
       "      <th>...</th>\n",
       "      <th>team_rebounds_received_count</th>\n",
       "      <th>team_shots_count</th>\n",
       "      <th>team_can_upload_shot</th>\n",
       "      <th>team_type</th>\n",
       "      <th>team_pro</th>\n",
       "      <th>team_created_at</th>\n",
       "      <th>team_updated_at</th>\n",
       "      <th>team_members_count</th>\n",
       "      <th>id_author_shot</th>\n",
       "      <th>id_team_username</th>\n",
       "    </tr>\n",
       "  </thead>\n",
       "  <tbody>\n",
       "    <tr>\n",
       "      <th>0</th>\n",
       "      <td>max_palyvoda</td>\n",
       "      <td>None</td>\n",
       "      <td>3549658</td>\n",
       "      <td>2017-06-07 07:01:59</td>\n",
       "      <td>2017-06-07 11:46:56</td>\n",
       "      <td>NaN</td>\n",
       "      <td>None</td>\n",
       "      <td>None</td>\n",
       "      <td>None</td>\n",
       "      <td>NaN</td>\n",
       "      <td>...</td>\n",
       "      <td>NaN</td>\n",
       "      <td>NaN</td>\n",
       "      <td>NaN</td>\n",
       "      <td>None</td>\n",
       "      <td>NaN</td>\n",
       "      <td>NaT</td>\n",
       "      <td>NaT</td>\n",
       "      <td>NaN</td>\n",
       "      <td>1364989</td>\n",
       "      <td>NaN</td>\n",
       "    </tr>\n",
       "    <tr>\n",
       "      <th>1</th>\n",
       "      <td>max_palyvoda</td>\n",
       "      <td>None</td>\n",
       "      <td>3254544</td>\n",
       "      <td>2017-01-31 08:47:31</td>\n",
       "      <td>2017-01-31 09:47:32</td>\n",
       "      <td>NaN</td>\n",
       "      <td>None</td>\n",
       "      <td>None</td>\n",
       "      <td>None</td>\n",
       "      <td>NaN</td>\n",
       "      <td>...</td>\n",
       "      <td>NaN</td>\n",
       "      <td>NaN</td>\n",
       "      <td>NaN</td>\n",
       "      <td>None</td>\n",
       "      <td>NaN</td>\n",
       "      <td>NaT</td>\n",
       "      <td>NaT</td>\n",
       "      <td>NaN</td>\n",
       "      <td>1364989</td>\n",
       "      <td>NaN</td>\n",
       "    </tr>\n",
       "    <tr>\n",
       "      <th>2</th>\n",
       "      <td>max_palyvoda</td>\n",
       "      <td>None</td>\n",
       "      <td>3153930</td>\n",
       "      <td>2016-12-13 10:00:26</td>\n",
       "      <td>2016-12-13 11:07:05</td>\n",
       "      <td>NaN</td>\n",
       "      <td>None</td>\n",
       "      <td>None</td>\n",
       "      <td>None</td>\n",
       "      <td>NaN</td>\n",
       "      <td>...</td>\n",
       "      <td>NaN</td>\n",
       "      <td>NaN</td>\n",
       "      <td>NaN</td>\n",
       "      <td>None</td>\n",
       "      <td>NaN</td>\n",
       "      <td>NaT</td>\n",
       "      <td>NaT</td>\n",
       "      <td>NaN</td>\n",
       "      <td>1364989</td>\n",
       "      <td>NaN</td>\n",
       "    </tr>\n",
       "    <tr>\n",
       "      <th>3</th>\n",
       "      <td>miketanael</td>\n",
       "      <td>None</td>\n",
       "      <td>3732805</td>\n",
       "      <td>2017-08-14 04:10:20</td>\n",
       "      <td>2017-08-14 06:19:32</td>\n",
       "      <td>NaN</td>\n",
       "      <td>None</td>\n",
       "      <td>None</td>\n",
       "      <td>None</td>\n",
       "      <td>NaN</td>\n",
       "      <td>...</td>\n",
       "      <td>NaN</td>\n",
       "      <td>NaN</td>\n",
       "      <td>NaN</td>\n",
       "      <td>None</td>\n",
       "      <td>NaN</td>\n",
       "      <td>NaT</td>\n",
       "      <td>NaT</td>\n",
       "      <td>NaN</td>\n",
       "      <td>358178</td>\n",
       "      <td>NaN</td>\n",
       "    </tr>\n",
       "    <tr>\n",
       "      <th>4</th>\n",
       "      <td>citrusbyte</td>\n",
       "      <td>citrusbyte</td>\n",
       "      <td>2686725</td>\n",
       "      <td>2016-05-02 04:24:29</td>\n",
       "      <td>2016-09-08 08:32:15</td>\n",
       "      <td>673130.0</td>\n",
       "      <td>Citrusbyte</td>\n",
       "      <td>We are a global team of strategy, design and d...</td>\n",
       "      <td>Los Angeles</td>\n",
       "      <td>0.0</td>\n",
       "      <td>...</td>\n",
       "      <td>11.0</td>\n",
       "      <td>121.0</td>\n",
       "      <td>1.0</td>\n",
       "      <td>Team</td>\n",
       "      <td>0.0</td>\n",
       "      <td>2014-10-17 01:51:16</td>\n",
       "      <td>2017-12-18 17:09:03</td>\n",
       "      <td>18.0</td>\n",
       "      <td>673130</td>\n",
       "      <td>673130.0</td>\n",
       "    </tr>\n",
       "  </tbody>\n",
       "</table>\n",
       "<p>5 rows × 26 columns</p>\n",
       "</div>"
      ],
      "text/plain": [
       "    author_shot team_username  shot_id          created_at  \\\n",
       "0  max_palyvoda          None  3549658 2017-06-07 07:01:59   \n",
       "1  max_palyvoda          None  3254544 2017-01-31 08:47:31   \n",
       "2  max_palyvoda          None  3153930 2016-12-13 10:00:26   \n",
       "3    miketanael          None  3732805 2017-08-14 04:10:20   \n",
       "4    citrusbyte    citrusbyte  2686725 2016-05-02 04:24:29   \n",
       "\n",
       "           updated_at   team_id   team_name  \\\n",
       "0 2017-06-07 11:46:56       NaN        None   \n",
       "1 2017-01-31 09:47:32       NaN        None   \n",
       "2 2016-12-13 11:07:05       NaN        None   \n",
       "3 2017-08-14 06:19:32       NaN        None   \n",
       "4 2016-09-08 08:32:15  673130.0  Citrusbyte   \n",
       "\n",
       "                                            team_bio team_location  \\\n",
       "0                                               None          None   \n",
       "1                                               None          None   \n",
       "2                                               None          None   \n",
       "3                                               None          None   \n",
       "4  We are a global team of strategy, design and d...   Los Angeles   \n",
       "\n",
       "   team_buckets_count  ...  team_rebounds_received_count  team_shots_count  \\\n",
       "0                 NaN  ...                           NaN               NaN   \n",
       "1                 NaN  ...                           NaN               NaN   \n",
       "2                 NaN  ...                           NaN               NaN   \n",
       "3                 NaN  ...                           NaN               NaN   \n",
       "4                 0.0  ...                          11.0             121.0   \n",
       "\n",
       "   team_can_upload_shot  team_type  team_pro     team_created_at  \\\n",
       "0                   NaN       None       NaN                 NaT   \n",
       "1                   NaN       None       NaN                 NaT   \n",
       "2                   NaN       None       NaN                 NaT   \n",
       "3                   NaN       None       NaN                 NaT   \n",
       "4                   1.0       Team       0.0 2014-10-17 01:51:16   \n",
       "\n",
       "      team_updated_at  team_members_count  id_author_shot id_team_username  \n",
       "0                 NaT                 NaN         1364989              NaN  \n",
       "1                 NaT                 NaN         1364989              NaN  \n",
       "2                 NaT                 NaN         1364989              NaN  \n",
       "3                 NaT                 NaN          358178              NaN  \n",
       "4 2017-12-18 17:09:03                18.0          673130         673130.0  \n",
       "\n",
       "[5 rows x 26 columns]"
      ]
     },
     "execution_count": 4,
     "metadata": {},
     "output_type": "execute_result"
    }
   ],
   "source": [
    "# Read the dataset using pandas.\n",
    "teams = pd.read_sql(\"SELECT author_shot, team_username, shot_id, created_at, updated_at, team_id, team_name, team_bio, team_location, team_buckets_count, team_comments_received_count, team_followers_count, team_followings_count, team_likes_count, team_likes_received_count, team_projects_count, team_rebounds_received_count, team_shots_count, team_can_upload_shot, team_type, team_pro, team_created_at, team_updated_at, team_members_count, id_author_shot, id_team_username FROM shots\", conn)\n",
    "teams.head()"
   ]
  },
  {
   "cell_type": "code",
   "execution_count": 5,
   "metadata": {},
   "outputs": [],
   "source": [
    "teams = teams.loc[teams.team_username.dropna().index]"
   ]
  },
  {
   "cell_type": "code",
   "execution_count": 6,
   "metadata": {},
   "outputs": [
    {
     "data": {
      "text/plain": [
       "0"
      ]
     },
     "execution_count": 6,
     "metadata": {},
     "output_type": "execute_result"
    }
   ],
   "source": [
    "# Check duplicated rows.\n",
    "teams.duplicated().sum()"
   ]
  },
  {
   "cell_type": "code",
   "execution_count": 7,
   "metadata": {},
   "outputs": [],
   "source": [
    "# Rename some column names.\n",
    "teams.rename({\"created_at\": \"shot_publication_ts\", \n",
    "              \"updated_at\": \"shot_last_modification_ts\", \n",
    "              \"author_shot\": \"member_username\", \n",
    "              \"id_author_shot\": \"id_member_username\"}, axis = 1, inplace = True)"
   ]
  },
  {
   "cell_type": "code",
   "execution_count": 8,
   "metadata": {},
   "outputs": [
    {
     "data": {
      "text/plain": [
       "True"
      ]
     },
     "execution_count": 8,
     "metadata": {},
     "output_type": "execute_result"
    }
   ],
   "source": [
    "teams.set_index([\"member_username\", \"shot_id\", \"team_username\"]).index.is_unique"
   ]
  },
  {
   "cell_type": "code",
   "execution_count": 9,
   "metadata": {},
   "outputs": [
    {
     "data": {
      "text/plain": [
       "True"
      ]
     },
     "execution_count": 9,
     "metadata": {},
     "output_type": "execute_result"
    }
   ],
   "source": [
    "teams.set_index([\"member_username\", \"shot_id\"]).index.is_unique"
   ]
  },
  {
   "cell_type": "code",
   "execution_count": 10,
   "metadata": {
    "scrolled": true
   },
   "outputs": [
    {
     "data": {
      "text/html": [
       "<div>\n",
       "<style scoped>\n",
       "    .dataframe tbody tr th:only-of-type {\n",
       "        vertical-align: middle;\n",
       "    }\n",
       "\n",
       "    .dataframe tbody tr th {\n",
       "        vertical-align: top;\n",
       "    }\n",
       "\n",
       "    .dataframe thead th {\n",
       "        text-align: right;\n",
       "    }\n",
       "</style>\n",
       "<table border=\"1\" class=\"dataframe\">\n",
       "  <thead>\n",
       "    <tr style=\"text-align: right;\">\n",
       "      <th></th>\n",
       "      <th>member_username</th>\n",
       "      <th>team_username</th>\n",
       "      <th>n_of_shots</th>\n",
       "      <th>first_shot</th>\n",
       "      <th>last_shot</th>\n",
       "      <th>id_member_username</th>\n",
       "      <th>id_team_username</th>\n",
       "    </tr>\n",
       "  </thead>\n",
       "  <tbody>\n",
       "    <tr>\n",
       "      <th>0</th>\n",
       "      <td>-jk-</td>\n",
       "      <td>brandsprogram</td>\n",
       "      <td>9</td>\n",
       "      <td>2015-11-23 15:22:33</td>\n",
       "      <td>2016-10-03 09:15:54</td>\n",
       "      <td>506623</td>\n",
       "      <td>938258.0</td>\n",
       "    </tr>\n",
       "    <tr>\n",
       "      <th>1</th>\n",
       "      <td>09ui</td>\n",
       "      <td>hi09ui</td>\n",
       "      <td>2</td>\n",
       "      <td>2015-08-06 02:37:23</td>\n",
       "      <td>2016-06-18 08:16:03</td>\n",
       "      <td>900091</td>\n",
       "      <td>759443.0</td>\n",
       "    </tr>\n",
       "    <tr>\n",
       "      <th>2</th>\n",
       "      <td>100shapes</td>\n",
       "      <td>100shapes</td>\n",
       "      <td>4</td>\n",
       "      <td>2015-02-12 11:00:06</td>\n",
       "      <td>2015-05-15 14:42:21</td>\n",
       "      <td>760435</td>\n",
       "      <td>760435.0</td>\n",
       "    </tr>\n",
       "    <tr>\n",
       "      <th>3</th>\n",
       "      <td>10Clouds</td>\n",
       "      <td>10Clouds</td>\n",
       "      <td>7</td>\n",
       "      <td>2015-05-12 10:25:27</td>\n",
       "      <td>2017-11-10 10:31:29</td>\n",
       "      <td>845019</td>\n",
       "      <td>845019.0</td>\n",
       "    </tr>\n",
       "    <tr>\n",
       "      <th>4</th>\n",
       "      <td>10up</td>\n",
       "      <td>10up</td>\n",
       "      <td>1</td>\n",
       "      <td>2017-12-12 19:34:43</td>\n",
       "      <td>2017-12-12 20:35:43</td>\n",
       "      <td>5473</td>\n",
       "      <td>5473.0</td>\n",
       "    </tr>\n",
       "  </tbody>\n",
       "</table>\n",
       "</div>"
      ],
      "text/plain": [
       "  member_username  team_username  n_of_shots          first_shot  \\\n",
       "0            -jk-  brandsprogram           9 2015-11-23 15:22:33   \n",
       "1            09ui         hi09ui           2 2015-08-06 02:37:23   \n",
       "2       100shapes      100shapes           4 2015-02-12 11:00:06   \n",
       "3        10Clouds       10Clouds           7 2015-05-12 10:25:27   \n",
       "4            10up           10up           1 2017-12-12 19:34:43   \n",
       "\n",
       "            last_shot  id_member_username  id_team_username  \n",
       "0 2016-10-03 09:15:54              506623          938258.0  \n",
       "1 2016-06-18 08:16:03              900091          759443.0  \n",
       "2 2015-05-15 14:42:21              760435          760435.0  \n",
       "3 2017-11-10 10:31:29              845019          845019.0  \n",
       "4 2017-12-12 20:35:43                5473            5473.0  "
      ]
     },
     "execution_count": 10,
     "metadata": {},
     "output_type": "execute_result"
    }
   ],
   "source": [
    "def add_features(x):\n",
    "    # Create new features regarding the pubblications of members of team.\n",
    "    new_features = pd.Series({\"n_of_shots\": len(x), \n",
    "                              \"first_shot\": min(x.shot_publication_ts), \n",
    "                              \"last_shot\": max(x.shot_last_modification_ts), \n",
    "                              \"id_member_username\": x.id_member_username.unique()[0], \n",
    "                              \"id_team_username\": x.id_team_username.unique()[0]})\n",
    "    return new_features\n",
    "\n",
    "teams_feature = teams.groupby([\"member_username\", \"team_username\"]).apply(add_features).reset_index()\n",
    "teams_feature.head()"
   ]
  },
  {
   "cell_type": "code",
   "execution_count": 11,
   "metadata": {},
   "outputs": [],
   "source": [
    "dtype = {\"member_username\": \"TEXT\", \"team_username\": \"TEXT\", \"n_of_shots\": \"INT\", \"first_shot\": \"TIMESTAMP\", \"last_shot\": \"TIMESTAMP\", \"id_member_username\": \"INT\", \"id_team_username\": \"INT\"}"
   ]
  },
  {
   "cell_type": "code",
   "execution_count": 12,
   "metadata": {},
   "outputs": [],
   "source": [
    "# Save the dataframe into the sql database.\n",
    "teams_feature.to_sql(\"teams\", conn, index = False, dtype = dtype)"
   ]
  },
  {
   "cell_type": "code",
   "execution_count": 13,
   "metadata": {},
   "outputs": [],
   "source": [
    "conn.close()"
   ]
  }
 ],
 "metadata": {
  "kernelspec": {
   "display_name": "Python 3",
   "language": "python",
   "name": "python3"
  },
  "language_info": {
   "codemirror_mode": {
    "name": "ipython",
    "version": 3
   },
   "file_extension": ".py",
   "mimetype": "text/x-python",
   "name": "python",
   "nbconvert_exporter": "python",
   "pygments_lexer": "ipython3",
   "version": "3.6.6"
  }
 },
 "nbformat": 4,
 "nbformat_minor": 2
}
