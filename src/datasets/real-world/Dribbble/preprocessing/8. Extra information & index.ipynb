{
 "cells": [
  {
   "cell_type": "code",
   "execution_count": 1,
   "metadata": {},
   "outputs": [],
   "source": [
    "import warnings\n",
    "warnings.filterwarnings(\"ignore\")"
   ]
  },
  {
   "cell_type": "code",
   "execution_count": 2,
   "metadata": {},
   "outputs": [],
   "source": [
    "import pandas as pd\n",
    "import sqlite3"
   ]
  },
  {
   "cell_type": "code",
   "execution_count": 3,
   "metadata": {},
   "outputs": [],
   "source": [
    "# Connect to database sqlite where is stored the information regarding the Dribbble dataset.\n",
    "conn = sqlite3.connect(\"dribbble_temporary.db\", detect_types = sqlite3.PARSE_DECLTYPES)\n",
    "c = conn.cursor()"
   ]
  },
  {
   "cell_type": "markdown",
   "metadata": {},
   "source": [
    "# Extra information\n",
    "\n",
    "Let's add some extra column information to our tables related to the *id* of the users. \n",
    "\n",
    "For example in the *followers* table, we have only information about the usernames of the users (source and destination). We want to add also the information related to the corresponding *id*s. In addition, we insert an extra useful information column into the *likes* and *comments* tables regarding the authors of the shots."
   ]
  },
  {
   "cell_type": "markdown",
   "metadata": {},
   "source": [
    "## Table *shots*"
   ]
  },
  {
   "cell_type": "code",
   "execution_count": 4,
   "metadata": {},
   "outputs": [],
   "source": [
    "# Add the information regarding the id of the author of the shot.\n",
    "c.execute(\"\"\"ALTER TABLE shots ADD COLUMN id_author_shot INT\"\"\")\n",
    "c.execute(\"\"\"REPLACE INTO shots (rowid, author_shot, team_username, shot_id, title, description, width, height, views_count, likes_count, comments_count, attachments_count, rebounds_count, buckets_count, created_at, updated_at, animated, team_id, team_name, team_bio, team_location, team_buckets_count, team_comments_received_count, team_followers_count, team_followings_count, team_likes_count, team_likes_received_count, team_projects_count, team_rebounds_received_count, team_shots_count, team_can_upload_shot, team_type, team_pro, team_created_at, team_updated_at, team_members_count, id_author_shot)\n",
    "                SELECT s.rowid, s.author_shot, s.team_username, s.shot_id, s.title, s.description, s.width, s.height, s.views_count, s.likes_count, s.comments_count, s.attachments_count, s.rebounds_count, s.buckets_count, s.created_at, s.updated_at, s.animated, s.team_id, s.team_name, s.team_bio, s.team_location, s.team_buckets_count, s.team_comments_received_count, s.team_followers_count, s.team_followings_count, s.team_likes_count, s.team_likes_received_count, s.team_projects_count, s.team_rebounds_received_count, s.team_shots_count, s.team_can_upload_shot, s.team_type, s.team_pro, s.team_created_at, s.team_updated_at, s.team_members_count, u.id\n",
    "                    FROM shots s LEFT JOIN users u ON s.author_shot = u.username\"\"\")\n",
    "conn.commit()"
   ]
  },
  {
   "cell_type": "code",
   "execution_count": 5,
   "metadata": {},
   "outputs": [],
   "source": [
    "# Add the information regarding the id of the team_username of the shot.\n",
    "c.execute(\"\"\"ALTER TABLE shots ADD COLUMN id_team_username INT\"\"\")\n",
    "c.execute(\"\"\"REPLACE INTO shots (rowid, author_shot, team_username, shot_id, title, description, width, height, views_count, likes_count, comments_count, attachments_count, rebounds_count, buckets_count, created_at, updated_at, animated, team_id, team_name, team_bio, team_location, team_buckets_count, team_comments_received_count, team_followers_count, team_followings_count, team_likes_count, team_likes_received_count, team_projects_count, team_rebounds_received_count, team_shots_count, team_can_upload_shot, team_type, team_pro, team_created_at, team_updated_at, team_members_count, id_author_shot, id_team_username)\n",
    "                SELECT s.rowid, s.author_shot, s.team_username, s.shot_id, s.title, s.description, s.width, s.height, s.views_count, s.likes_count, s.comments_count, s.attachments_count, s.rebounds_count, s.buckets_count, s.created_at, s.updated_at, s.animated, s.team_id, s.team_name, s.team_bio, s.team_location, s.team_buckets_count, s.team_comments_received_count, s.team_followers_count, s.team_followings_count, s.team_likes_count, s.team_likes_received_count, s.team_projects_count, s.team_rebounds_received_count, s.team_shots_count, s.team_can_upload_shot, s.team_type, s.team_pro, s.team_created_at, s.team_updated_at, s.team_members_count, s.id_author_shot, u.id\n",
    "                    FROM shots s LEFT JOIN users u ON s.team_username = u.username\"\"\")\n",
    "conn.commit()"
   ]
  },
  {
   "cell_type": "markdown",
   "metadata": {},
   "source": [
    "## Table *comments*"
   ]
  },
  {
   "cell_type": "code",
   "execution_count": 6,
   "metadata": {},
   "outputs": [],
   "source": [
    "# Add the information regarding the id of the author of the comment.\n",
    "c.execute(\"\"\"ALTER TABLE comments ADD COLUMN id_author_comment INT\"\"\")\n",
    "c.execute(\"\"\"REPLACE INTO comments (rowid, shot_id, comment_id, created_at, updated_at, author_comment, comment, likes_count, id_author_comment)\n",
    "                SELECT c.rowid, c.shot_id, c.comment_id, c.created_at, c.updated_at, c.author_comment, c.comment, c.likes_count, u.id\n",
    "                    FROM comments c LEFT JOIN users u ON c.author_comment = u.username\"\"\")\n",
    "conn.commit()"
   ]
  },
  {
   "cell_type": "code",
   "execution_count": 7,
   "metadata": {},
   "outputs": [],
   "source": [
    "# Add the information regarding the author of the shot.\n",
    "c.execute(\"\"\"ALTER TABLE comments ADD COLUMN author_shot TEXT\"\"\")\n",
    "c.execute(\"\"\"REPLACE INTO comments (rowid, shot_id, comment_id, created_at, updated_at, author_comment, comment, likes_count, id_author_comment, author_shot)\n",
    "                SELECT c.rowid, c.shot_id, c.comment_id, c.created_at, c.updated_at, c.author_comment, c.comment, c.likes_count, c.id_author_comment, s.author_shot\n",
    "                    FROM comments c LEFT JOIN shots s ON c.shot_id = s.shot_id\"\"\")\n",
    "conn.commit()"
   ]
  },
  {
   "cell_type": "code",
   "execution_count": 8,
   "metadata": {},
   "outputs": [],
   "source": [
    "# Add the information regarding the id of the author of the shot.\n",
    "c.execute(\"\"\"ALTER TABLE comments ADD COLUMN id_author_shot INT\"\"\")\n",
    "c.execute(\"\"\"REPLACE INTO comments (rowid, shot_id, comment_id, created_at, updated_at, author_comment, comment, likes_count, id_author_comment, author_shot, id_author_shot)\n",
    "                SELECT c.rowid, c.shot_id, c.comment_id, c.created_at, c.updated_at, c.author_comment, c.comment, c.likes_count, c.id_author_comment, c.author_shot, u.id\n",
    "                    FROM comments c LEFT JOIN users u ON c.author_shot = u.username\"\"\")\n",
    "conn.commit()"
   ]
  },
  {
   "cell_type": "markdown",
   "metadata": {},
   "source": [
    "## Table *followers*"
   ]
  },
  {
   "cell_type": "code",
   "execution_count": 9,
   "metadata": {},
   "outputs": [],
   "source": [
    "# Add the information regarding the id of the destination.\n",
    "c.execute(\"\"\"ALTER TABLE followers ADD COLUMN id_destination INT\"\"\")\n",
    "c.execute(\"\"\"REPLACE INTO followers (rowid, destination, created_at, source, id_destination)\n",
    "                SELECT f.rowid, f.destination, f.created_at, f.source, u.id\n",
    "                    FROM followers f LEFT JOIN users u ON f.destination = u.username\"\"\")\n",
    "conn.commit()"
   ]
  },
  {
   "cell_type": "code",
   "execution_count": 10,
   "metadata": {},
   "outputs": [],
   "source": [
    "# Add the information regarding the id of the source.\n",
    "c.execute(\"\"\"ALTER TABLE followers ADD COLUMN id_source INT\"\"\")\n",
    "c.execute(\"\"\"REPLACE INTO followers (rowid, destination, created_at, source, id_destination, id_source)\n",
    "                SELECT f.rowid, f.destination, f.created_at, f.source, f.id_destination, u.id\n",
    "                    FROM followers f LEFT JOIN users u ON f.source = u.username\"\"\")\n",
    "conn.commit()"
   ]
  },
  {
   "cell_type": "markdown",
   "metadata": {},
   "source": [
    "## Table *skills*"
   ]
  },
  {
   "cell_type": "code",
   "execution_count": 11,
   "metadata": {},
   "outputs": [],
   "source": [
    "# Add the information regarding the id of the username.\n",
    "c.execute(\"\"\"ALTER TABLE skills ADD COLUMN id_username INT\"\"\")\n",
    "c.execute(\"\"\"REPLACE INTO skills (rowid, username, skill, id_username)\n",
    "                SELECT s.rowid, s.username, s.skill, u.id\n",
    "                    FROM skills s LEFT JOIN users u ON s.username = u.username\"\"\")\n",
    "conn.commit()"
   ]
  },
  {
   "cell_type": "markdown",
   "metadata": {},
   "source": [
    "## Table *tags*"
   ]
  },
  {
   "cell_type": "code",
   "execution_count": 12,
   "metadata": {},
   "outputs": [],
   "source": [
    "# Add the information regarding the id of the author of the shot.\n",
    "c.execute(\"\"\"ALTER TABLE tags ADD COLUMN id_author_shot INT\"\"\")\n",
    "c.execute(\"\"\"REPLACE INTO tags (rowid, shot_id, author_shot, tag, id_author_shot)\n",
    "                SELECT t.rowid, t.shot_id, t.author_shot, t.tag, u.id\n",
    "                    FROM tags t LEFT JOIN users u ON t.author_shot = u.username\"\"\")\n",
    "conn.commit()"
   ]
  },
  {
   "cell_type": "markdown",
   "metadata": {},
   "source": [
    "## Table *likes*"
   ]
  },
  {
   "cell_type": "code",
   "execution_count": 13,
   "metadata": {},
   "outputs": [],
   "source": [
    "# Add the information regarding the id of the author of the like.\n",
    "c.execute(\"\"\"ALTER TABLE likes ADD COLUMN id_author_like INT\"\"\")\n",
    "c.execute(\"\"\"REPLACE INTO likes (rowid, shot_id, like_id, created_at_unix, author_like, created_at, id_author_like)\n",
    "                SELECT l.rowid, l.shot_id, l.like_id, l.created_at_unix, l.author_like, l.created_at, u.id\n",
    "                    FROM likes l LEFT JOIN users u ON l.author_like = u.username\"\"\")\n",
    "conn.commit()"
   ]
  },
  {
   "cell_type": "code",
   "execution_count": 14,
   "metadata": {},
   "outputs": [],
   "source": [
    "# Add the information regarding the author of the shot.\n",
    "c.execute(\"\"\"ALTER TABLE likes ADD COLUMN author_shot TEXT\"\"\")\n",
    "c.execute(\"\"\"REPLACE INTO likes (rowid, shot_id, like_id, created_at_unix, author_like, created_at, id_author_like, author_shot)\n",
    "                SELECT l.rowid, l.shot_id, l.like_id, l.created_at_unix, l.author_like, l.created_at, l.id_author_like, s.author_shot\n",
    "                    FROM likes l LEFT JOIN shots s ON l.shot_id = s.shot_id\"\"\")\n",
    "conn.commit()"
   ]
  },
  {
   "cell_type": "code",
   "execution_count": 15,
   "metadata": {},
   "outputs": [],
   "source": [
    "# Add the information regarding the id of the author of the shot.\n",
    "c.execute(\"\"\"ALTER TABLE likes ADD COLUMN id_author_shot INT\"\"\")\n",
    "c.execute(\"\"\"REPLACE INTO likes (rowid, shot_id, like_id, created_at_unix, author_like, created_at, id_author_like, author_shot, id_author_shot)\n",
    "                SELECT l.rowid, l.shot_id, l.like_id, l.created_at_unix, l.author_like, l.created_at, l.id_author_like, l.author_shot, u.id\n",
    "                    FROM likes l LEFT JOIN users u ON l.author_shot = u.username\"\"\")\n",
    "conn.commit()"
   ]
  },
  {
   "cell_type": "markdown",
   "metadata": {},
   "source": [
    "# Index\n",
    "\n",
    "An index is an additional data structure that helps improve the performance of a query."
   ]
  },
  {
   "cell_type": "markdown",
   "metadata": {},
   "source": [
    "### Table *users*"
   ]
  },
  {
   "cell_type": "code",
   "execution_count": 17,
   "metadata": {},
   "outputs": [],
   "source": [
    "users = pd.read_sql(\"SELECT id, username, created_at FROM users\", conn)"
   ]
  },
  {
   "cell_type": "code",
   "execution_count": 18,
   "metadata": {},
   "outputs": [
    {
     "data": {
      "text/plain": [
       "True"
      ]
     },
     "execution_count": 18,
     "metadata": {},
     "output_type": "execute_result"
    }
   ],
   "source": [
    "users.set_index(\"id\").index.is_unique"
   ]
  },
  {
   "cell_type": "code",
   "execution_count": 19,
   "metadata": {},
   "outputs": [
    {
     "data": {
      "text/plain": [
       "True"
      ]
     },
     "execution_count": 19,
     "metadata": {},
     "output_type": "execute_result"
    }
   ],
   "source": [
    "users.set_index(\"username\").index.is_unique"
   ]
  },
  {
   "cell_type": "code",
   "execution_count": 20,
   "metadata": {},
   "outputs": [],
   "source": [
    "c.execute(\"\"\"CREATE UNIQUE INDEX idx_users ON users (id)\"\"\")\n",
    "conn.commit()"
   ]
  },
  {
   "cell_type": "markdown",
   "metadata": {},
   "source": [
    "### Table *followers*"
   ]
  },
  {
   "cell_type": "code",
   "execution_count": 21,
   "metadata": {},
   "outputs": [],
   "source": [
    "followers = pd.read_sql(\"SELECT id_destination, id_source, created_at FROM followers\", conn)"
   ]
  },
  {
   "cell_type": "code",
   "execution_count": 22,
   "metadata": {},
   "outputs": [
    {
     "data": {
      "text/plain": [
       "False"
      ]
     },
     "execution_count": 22,
     "metadata": {},
     "output_type": "execute_result"
    }
   ],
   "source": [
    "followers.set_index(\"id_destination\").index.is_unique"
   ]
  },
  {
   "cell_type": "code",
   "execution_count": 23,
   "metadata": {},
   "outputs": [
    {
     "data": {
      "text/plain": [
       "False"
      ]
     },
     "execution_count": 23,
     "metadata": {},
     "output_type": "execute_result"
    }
   ],
   "source": [
    "followers.set_index(\"id_source\").index.is_unique"
   ]
  },
  {
   "cell_type": "code",
   "execution_count": 24,
   "metadata": {},
   "outputs": [
    {
     "data": {
      "text/plain": [
       "True"
      ]
     },
     "execution_count": 24,
     "metadata": {},
     "output_type": "execute_result"
    }
   ],
   "source": [
    "followers.set_index([\"id_destination\", \"id_source\"]).index.is_unique"
   ]
  },
  {
   "cell_type": "code",
   "execution_count": 25,
   "metadata": {},
   "outputs": [],
   "source": [
    "c.execute(\"\"\"CREATE UNIQUE INDEX idx_followers ON followers (id_destination, id_source)\"\"\")\n",
    "conn.commit()"
   ]
  },
  {
   "cell_type": "markdown",
   "metadata": {},
   "source": [
    "### Table *comments*"
   ]
  },
  {
   "cell_type": "code",
   "execution_count": 26,
   "metadata": {},
   "outputs": [],
   "source": [
    "comments = pd.read_sql(\"SELECT shot_id, comment_id, created_at FROM comments\", conn)"
   ]
  },
  {
   "cell_type": "code",
   "execution_count": 27,
   "metadata": {},
   "outputs": [
    {
     "data": {
      "text/plain": [
       "True"
      ]
     },
     "execution_count": 27,
     "metadata": {},
     "output_type": "execute_result"
    }
   ],
   "source": [
    "comments.set_index(\"comment_id\").index.is_unique"
   ]
  },
  {
   "cell_type": "code",
   "execution_count": 28,
   "metadata": {},
   "outputs": [],
   "source": [
    "c.execute(\"\"\"CREATE UNIQUE INDEX idx_comments ON comments (comment_id)\"\"\")\n",
    "conn.commit()"
   ]
  },
  {
   "cell_type": "markdown",
   "metadata": {},
   "source": [
    "### Table *shots*"
   ]
  },
  {
   "cell_type": "code",
   "execution_count": 29,
   "metadata": {},
   "outputs": [],
   "source": [
    "shots = pd.read_sql(\"SELECT shot_id, created_at, updated_at, id_author_shot, id_team_username FROM shots\", conn)"
   ]
  },
  {
   "cell_type": "code",
   "execution_count": 30,
   "metadata": {},
   "outputs": [
    {
     "data": {
      "text/plain": [
       "False"
      ]
     },
     "execution_count": 30,
     "metadata": {},
     "output_type": "execute_result"
    }
   ],
   "source": [
    "shots.set_index(\"id_author_shot\").index.is_unique"
   ]
  },
  {
   "cell_type": "code",
   "execution_count": 31,
   "metadata": {},
   "outputs": [
    {
     "data": {
      "text/plain": [
       "True"
      ]
     },
     "execution_count": 31,
     "metadata": {},
     "output_type": "execute_result"
    }
   ],
   "source": [
    "shots.set_index(\"shot_id\").index.is_unique"
   ]
  },
  {
   "cell_type": "code",
   "execution_count": 32,
   "metadata": {},
   "outputs": [],
   "source": [
    "c.execute(\"\"\"CREATE UNIQUE INDEX idx_shots ON shots (shot_id)\"\"\")\n",
    "conn.commit()"
   ]
  },
  {
   "cell_type": "markdown",
   "metadata": {},
   "source": [
    "### Table *skills*"
   ]
  },
  {
   "cell_type": "code",
   "execution_count": 33,
   "metadata": {},
   "outputs": [],
   "source": [
    "skills = pd.read_sql(\"SELECT id_username, skill FROM skills\", conn)"
   ]
  },
  {
   "cell_type": "code",
   "execution_count": 34,
   "metadata": {},
   "outputs": [
    {
     "data": {
      "text/plain": [
       "False"
      ]
     },
     "execution_count": 34,
     "metadata": {},
     "output_type": "execute_result"
    }
   ],
   "source": [
    "skills.set_index(\"id_username\").index.is_unique"
   ]
  },
  {
   "cell_type": "code",
   "execution_count": 35,
   "metadata": {},
   "outputs": [
    {
     "data": {
      "text/plain": [
       "False"
      ]
     },
     "execution_count": 35,
     "metadata": {},
     "output_type": "execute_result"
    }
   ],
   "source": [
    "skills.set_index(\"skill\").index.is_unique"
   ]
  },
  {
   "cell_type": "code",
   "execution_count": 36,
   "metadata": {},
   "outputs": [
    {
     "data": {
      "text/plain": [
       "True"
      ]
     },
     "execution_count": 36,
     "metadata": {},
     "output_type": "execute_result"
    }
   ],
   "source": [
    "skills.set_index([\"id_username\", \"skill\"]).index.is_unique"
   ]
  },
  {
   "cell_type": "code",
   "execution_count": 37,
   "metadata": {},
   "outputs": [],
   "source": [
    "c.execute(\"\"\"CREATE UNIQUE INDEX idx_skills ON skills (id_username, skill)\"\"\")\n",
    "conn.commit()"
   ]
  },
  {
   "cell_type": "markdown",
   "metadata": {},
   "source": [
    "### Table *tags*"
   ]
  },
  {
   "cell_type": "code",
   "execution_count": 38,
   "metadata": {},
   "outputs": [],
   "source": [
    "tags = pd.read_sql(\"SELECT shot_id, id_author_shot, tag FROM tags\", conn)"
   ]
  },
  {
   "cell_type": "code",
   "execution_count": 39,
   "metadata": {},
   "outputs": [
    {
     "data": {
      "text/plain": [
       "False"
      ]
     },
     "execution_count": 39,
     "metadata": {},
     "output_type": "execute_result"
    }
   ],
   "source": [
    "tags.set_index(\"shot_id\").index.is_unique"
   ]
  },
  {
   "cell_type": "code",
   "execution_count": 40,
   "metadata": {},
   "outputs": [
    {
     "data": {
      "text/plain": [
       "False"
      ]
     },
     "execution_count": 40,
     "metadata": {},
     "output_type": "execute_result"
    }
   ],
   "source": [
    "tags.set_index(\"id_author_shot\").index.is_unique"
   ]
  },
  {
   "cell_type": "code",
   "execution_count": 41,
   "metadata": {},
   "outputs": [
    {
     "data": {
      "text/plain": [
       "False"
      ]
     },
     "execution_count": 41,
     "metadata": {},
     "output_type": "execute_result"
    }
   ],
   "source": [
    "tags.set_index(\"tag\").index.is_unique"
   ]
  },
  {
   "cell_type": "code",
   "execution_count": 42,
   "metadata": {},
   "outputs": [
    {
     "data": {
      "text/plain": [
       "False"
      ]
     },
     "execution_count": 42,
     "metadata": {},
     "output_type": "execute_result"
    }
   ],
   "source": [
    "tags.set_index([\"id_author_shot\", \"shot_id\"]).index.is_unique"
   ]
  },
  {
   "cell_type": "code",
   "execution_count": 43,
   "metadata": {},
   "outputs": [
    {
     "data": {
      "text/plain": [
       "False"
      ]
     },
     "execution_count": 43,
     "metadata": {},
     "output_type": "execute_result"
    }
   ],
   "source": [
    "tags.set_index([\"id_author_shot\", \"tag\"]).index.is_unique"
   ]
  },
  {
   "cell_type": "code",
   "execution_count": 44,
   "metadata": {},
   "outputs": [
    {
     "data": {
      "text/plain": [
       "True"
      ]
     },
     "execution_count": 44,
     "metadata": {},
     "output_type": "execute_result"
    }
   ],
   "source": [
    "tags.set_index([\"shot_id\", \"tag\"]).index.is_unique"
   ]
  },
  {
   "cell_type": "code",
   "execution_count": 45,
   "metadata": {},
   "outputs": [],
   "source": [
    "c.execute(\"\"\"CREATE UNIQUE INDEX idx_tags ON tags (shot_id, tag)\"\"\")\n",
    "conn.commit()"
   ]
  },
  {
   "cell_type": "markdown",
   "metadata": {},
   "source": [
    "### Table *likes*"
   ]
  },
  {
   "cell_type": "code",
   "execution_count": 46,
   "metadata": {},
   "outputs": [],
   "source": [
    "likes = pd.read_sql(\"SELECT shot_id, like_id FROM likes\", conn)"
   ]
  },
  {
   "cell_type": "code",
   "execution_count": 47,
   "metadata": {},
   "outputs": [
    {
     "data": {
      "text/plain": [
       "True"
      ]
     },
     "execution_count": 47,
     "metadata": {},
     "output_type": "execute_result"
    }
   ],
   "source": [
    "likes.set_index(\"like_id\").index.is_unique"
   ]
  },
  {
   "cell_type": "code",
   "execution_count": 48,
   "metadata": {},
   "outputs": [],
   "source": [
    "c.execute(\"\"\"CREATE UNIQUE INDEX idx_likes ON likes (like_id)\"\"\")\n",
    "conn.commit()"
   ]
  },
  {
   "cell_type": "code",
   "execution_count": 49,
   "metadata": {},
   "outputs": [],
   "source": [
    "c.execute(\"VACUUM\");"
   ]
  }
 ],
 "metadata": {
  "kernelspec": {
   "display_name": "Python 3",
   "language": "python",
   "name": "python3"
  },
  "language_info": {
   "codemirror_mode": {
    "name": "ipython",
    "version": 3
   },
   "file_extension": ".py",
   "mimetype": "text/x-python",
   "name": "python",
   "nbconvert_exporter": "python",
   "pygments_lexer": "ipython3",
   "version": "3.6.6"
  }
 },
 "nbformat": 4,
 "nbformat_minor": 2
}
