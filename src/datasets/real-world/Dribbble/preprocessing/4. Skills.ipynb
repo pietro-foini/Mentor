{
 "cells": [
  {
   "cell_type": "code",
   "execution_count": 1,
   "metadata": {},
   "outputs": [],
   "source": [
    "import warnings\n",
    "warnings.filterwarnings(\"ignore\")"
   ]
  },
  {
   "cell_type": "code",
   "execution_count": 2,
   "metadata": {},
   "outputs": [],
   "source": [
    "import pandas as pd\n",
    "import ast\n",
    "import sqlite3\n",
    "import json\n",
    "\n",
    "from pathlib import Path "
   ]
  },
  {
   "cell_type": "code",
   "execution_count": 3,
   "metadata": {},
   "outputs": [],
   "source": [
    "# Connect to database sqlite where to store the information regarding the Dribbble dataset.\n",
    "conn = sqlite3.connect(\"dribbble_temporary.db\")\n",
    "c = conn.cursor()"
   ]
  },
  {
   "cell_type": "markdown",
   "metadata": {},
   "source": [
    "# Skills\n",
    "\n",
    "This file contains information about the **skills** of the Dribbble's users.\n",
    "\n",
    "The corresponding raw data is the file *skills.txt*.\n",
    "\n",
    "N.B. The file regarding this information has been obtained by Francesco."
   ]
  },
  {
   "cell_type": "markdown",
   "metadata": {},
   "source": [
    "### Raw data visualization"
   ]
  },
  {
   "cell_type": "code",
   "execution_count": 4,
   "metadata": {},
   "outputs": [
    {
     "data": {
      "text/html": [
       "<div>\n",
       "<style scoped>\n",
       "    .dataframe tbody tr th:only-of-type {\n",
       "        vertical-align: middle;\n",
       "    }\n",
       "\n",
       "    .dataframe tbody tr th {\n",
       "        vertical-align: top;\n",
       "    }\n",
       "\n",
       "    .dataframe thead th {\n",
       "        text-align: right;\n",
       "    }\n",
       "</style>\n",
       "<table border=\"1\" class=\"dataframe\">\n",
       "  <thead>\n",
       "    <tr style=\"text-align: right;\">\n",
       "      <th></th>\n",
       "      <th>username</th>\n",
       "      <th>info</th>\n",
       "    </tr>\n",
       "  </thead>\n",
       "  <tbody>\n",
       "    <tr>\n",
       "      <th>0</th>\n",
       "      <td>cmaffuccio</td>\n",
       "      <td>[]</td>\n",
       "    </tr>\n",
       "    <tr>\n",
       "      <th>1</th>\n",
       "      <td>arestov_design</td>\n",
       "      <td>['art direction', 'banking', 'cryptocurrency'...</td>\n",
       "    </tr>\n",
       "    <tr>\n",
       "      <th>2</th>\n",
       "      <td>space307</td>\n",
       "      <td>['illustration', 'motion graphics', 'ui', 'ux...</td>\n",
       "    </tr>\n",
       "    <tr>\n",
       "      <th>3</th>\n",
       "      <td>Hido</td>\n",
       "      <td>[]</td>\n",
       "    </tr>\n",
       "    <tr>\n",
       "      <th>4</th>\n",
       "      <td>Avagana</td>\n",
       "      <td>[]</td>\n",
       "    </tr>\n",
       "    <tr>\n",
       "      <th>...</th>\n",
       "      <td>...</td>\n",
       "      <td>...</td>\n",
       "    </tr>\n",
       "    <tr>\n",
       "      <th>772805</th>\n",
       "      <td>thom_ryan</td>\n",
       "      <td>['hand rendered type design']</td>\n",
       "    </tr>\n",
       "    <tr>\n",
       "      <th>772806</th>\n",
       "      <td>mcborden88</td>\n",
       "      <td>[]</td>\n",
       "    </tr>\n",
       "    <tr>\n",
       "      <th>772807</th>\n",
       "      <td>JoseRivas</td>\n",
       "      <td>[]</td>\n",
       "    </tr>\n",
       "    <tr>\n",
       "      <th>772808</th>\n",
       "      <td>bridgetsandoval</td>\n",
       "      <td>[]</td>\n",
       "    </tr>\n",
       "    <tr>\n",
       "      <th>772809</th>\n",
       "      <td>GoodWine</td>\n",
       "      <td>[]</td>\n",
       "    </tr>\n",
       "  </tbody>\n",
       "</table>\n",
       "<p>772810 rows × 2 columns</p>\n",
       "</div>"
      ],
      "text/plain": [
       "                username                                               info\n",
       "0            cmaffuccio                                                 [] \n",
       "1        arestov_design    ['art direction', 'banking', 'cryptocurrency'...\n",
       "2              space307    ['illustration', 'motion graphics', 'ui', 'ux...\n",
       "3                  Hido                                                 [] \n",
       "4               Avagana                                                 [] \n",
       "...                  ...                                                ...\n",
       "772805        thom_ryan                      ['hand rendered type design'] \n",
       "772806       mcborden88                                                 [] \n",
       "772807        JoseRivas                                                 [] \n",
       "772808  bridgetsandoval                                                 [] \n",
       "772809         GoodWine                                                 [] \n",
       "\n",
       "[772810 rows x 2 columns]"
      ]
     },
     "execution_count": 4,
     "metadata": {},
     "output_type": "execute_result"
    }
   ],
   "source": [
    "# Let's try to open the dataframe in order to visualize it.\n",
    "skills = pd.read_csv(Path(\"raw_data/skills.txt\"), sep = \"\\t\", header = None, names = [\"username\", \"info\"])\n",
    "skills"
   ]
  },
  {
   "cell_type": "markdown",
   "metadata": {},
   "source": [
    "### Unpack information from raw data"
   ]
  },
  {
   "cell_type": "code",
   "execution_count": 5,
   "metadata": {},
   "outputs": [],
   "source": [
    "skills[\"info\"] = skills[\"info\"].apply(lambda x: x.rstrip().lstrip())\n",
    "skills[\"username\"] = skills[\"username\"].apply(lambda x: x.rstrip().lstrip())"
   ]
  },
  {
   "cell_type": "code",
   "execution_count": 6,
   "metadata": {},
   "outputs": [],
   "source": [
    "# Unique users with ascertain no skills.\n",
    "users_no_skills = pd.Series(skills[skills[\"info\"] == \"[]\"].username.unique())"
   ]
  },
  {
   "cell_type": "code",
   "execution_count": 7,
   "metadata": {},
   "outputs": [
    {
     "data": {
      "text/plain": [
       "0              cmaffuccio\n",
       "1                    Hido\n",
       "2                 Avagana\n",
       "3              citrusbyte\n",
       "4               bunninies\n",
       "               ...       \n",
       "584337             vovain\n",
       "584338         mcborden88\n",
       "584339          JoseRivas\n",
       "584340    bridgetsandoval\n",
       "584341           GoodWine\n",
       "Length: 584342, dtype: object"
      ]
     },
     "execution_count": 7,
     "metadata": {},
     "output_type": "execute_result"
    }
   ],
   "source": [
    "users_no_skills"
   ]
  },
  {
   "cell_type": "code",
   "execution_count": 8,
   "metadata": {},
   "outputs": [
    {
     "data": {
      "text/plain": [
       "584342"
      ]
     },
     "execution_count": 8,
     "metadata": {},
     "output_type": "execute_result"
    }
   ],
   "source": [
    "len(users_no_skills)"
   ]
  },
  {
   "cell_type": "markdown",
   "metadata": {},
   "source": [
    "Each username has a list containing the information about the skills of the corresponding users. Unfortunately, the *temporal information* on when these skills were earned by users is not present in the data."
   ]
  },
  {
   "cell_type": "code",
   "execution_count": 9,
   "metadata": {},
   "outputs": [],
   "source": [
    "# Read the .tsv file with specified chunksize in order to preprocess it not all together.\n",
    "chunksize = 10000\n",
    "skills_chunk = pd.read_csv(Path(\"raw_data/skills.txt\"), sep = \"\\t\", names = [\"username\", \"info\"], chunksize = chunksize)"
   ]
  },
  {
   "cell_type": "code",
   "execution_count": 10,
   "metadata": {
    "scrolled": true
   },
   "outputs": [
    {
     "name": "stdout",
     "output_type": "stream",
     "text": [
      "Cumulative not empty chunk: 10000\n",
      "Cumulative not empty chunk: 20000\n",
      "Cumulative not empty chunk: 30000\n",
      "Cumulative not empty chunk: 40000\n",
      "Cumulative not empty chunk: 50000\n",
      "Cumulative not empty chunk: 60000\n",
      "Cumulative not empty chunk: 70000\n",
      "Cumulative not empty chunk: 80000\n",
      "Cumulative not empty chunk: 90000\n",
      "Cumulative not empty chunk: 100000\n",
      "Cumulative not empty chunk: 110000\n",
      "Cumulative not empty chunk: 120000\n",
      "Cumulative not empty chunk: 130000\n",
      "Cumulative not empty chunk: 140000\n",
      "Cumulative not empty chunk: 150000\n",
      "Cumulative not empty chunk: 160000\n",
      "Cumulative not empty chunk: 170000\n",
      "Cumulative not empty chunk: 180000\n",
      "Cumulative not empty chunk: 190000\n",
      "Cumulative not empty chunk: 200000\n",
      "Cumulative not empty chunk: 210000\n",
      "Cumulative not empty chunk: 220000\n",
      "Cumulative not empty chunk: 230000\n",
      "Cumulative not empty chunk: 240000\n",
      "Cumulative not empty chunk: 250000\n",
      "Cumulative not empty chunk: 260000\n",
      "Cumulative not empty chunk: 270000\n",
      "Cumulative not empty chunk: 280000\n",
      "Cumulative not empty chunk: 290000\n",
      "Cumulative not empty chunk: 300000\n",
      "Cumulative not empty chunk: 310000\n",
      "Cumulative not empty chunk: 320000\n",
      "Cumulative not empty chunk: 330000\n",
      "Cumulative not empty chunk: 340000\n",
      "Cumulative not empty chunk: 350000\n",
      "Cumulative not empty chunk: 360000\n",
      "Cumulative not empty chunk: 370000\n",
      "Cumulative not empty chunk: 380000\n",
      "Cumulative not empty chunk: 390000\n",
      "Cumulative not empty chunk: 400000\n",
      "Cumulative not empty chunk: 410000\n",
      "Cumulative not empty chunk: 420000\n",
      "Cumulative not empty chunk: 430000\n",
      "Cumulative not empty chunk: 440000\n",
      "Cumulative not empty chunk: 450000\n",
      "Cumulative not empty chunk: 460000\n",
      "Cumulative not empty chunk: 470000\n",
      "Cumulative not empty chunk: 480000\n",
      "Cumulative not empty chunk: 490000\n",
      "Cumulative not empty chunk: 500000\n",
      "Cumulative not empty chunk: 510000\n",
      "Cumulative not empty chunk: 520000\n",
      "Cumulative not empty chunk: 530000\n",
      "Cumulative not empty chunk: 540000\n",
      "Cumulative not empty chunk: 550000\n",
      "Cumulative not empty chunk: 560000\n",
      "Cumulative not empty chunk: 570000\n",
      "Cumulative not empty chunk: 580000\n",
      "Cumulative not empty chunk: 590000\n",
      "Cumulative not empty chunk: 600000\n",
      "Cumulative not empty chunk: 610000\n",
      "Cumulative not empty chunk: 620000\n",
      "Cumulative not empty chunk: 630000\n",
      "Cumulative not empty chunk: 640000\n",
      "Cumulative not empty chunk: 650000\n",
      "Cumulative not empty chunk: 660000\n",
      "Cumulative not empty chunk: 670000\n",
      "Cumulative not empty chunk: 680000\n",
      "Cumulative not empty chunk: 690000\n",
      "Cumulative not empty chunk: 700000\n",
      "Cumulative not empty chunk: 710000\n",
      "Cumulative not empty chunk: 720000\n",
      "Cumulative not empty chunk: 730000\n",
      "Cumulative not empty chunk: 740000\n",
      "Cumulative not empty chunk: 750000\n",
      "Cumulative not empty chunk: 760000\n",
      "Cumulative not empty chunk: 770000\n",
      "Cumulative not empty chunk: 780000\n"
     ]
    }
   ],
   "source": [
    "chunk_list = list()\n",
    "\n",
    "# Each chunk is a dataframe.\n",
    "for i,chunk in enumerate(skills_chunk):\n",
    "    chunk[\"info\"] = chunk[\"info\"].apply(lambda x: x.rstrip().lstrip())\n",
    "    chunk[\"username\"] = chunk[\"username\"].apply(lambda x: x.rstrip().lstrip())\n",
    "    # Remove empty 'info' rows.\n",
    "    chunk = chunk.loc[~(chunk[\"info\"] == \"[]\")]\n",
    "    if not chunk.empty:\n",
    "        print(\"Cumulative not empty chunk: %d\" % (chunksize*(i+1)))\n",
    "        # We evaluate each row that contain strings containing Python expressions.\n",
    "        chunk[\"info\"] = chunk[\"info\"].apply(lambda x: ast.literal_eval(x))\n",
    "        # Flatten list of list over columns.\n",
    "        chunk = chunk.explode(\"info\")\n",
    "        # Rename 'info' column.\n",
    "        chunk.rename({\"info\": \"skill\"}, axis = 1, inplace = True)\n",
    "\n",
    "        # Save the current chunk of data into list.\n",
    "        chunk_list.append(chunk)"
   ]
  },
  {
   "cell_type": "code",
   "execution_count": 11,
   "metadata": {},
   "outputs": [
    {
     "data": {
      "text/html": [
       "<div>\n",
       "<style scoped>\n",
       "    .dataframe tbody tr th:only-of-type {\n",
       "        vertical-align: middle;\n",
       "    }\n",
       "\n",
       "    .dataframe tbody tr th {\n",
       "        vertical-align: top;\n",
       "    }\n",
       "\n",
       "    .dataframe thead th {\n",
       "        text-align: right;\n",
       "    }\n",
       "</style>\n",
       "<table border=\"1\" class=\"dataframe\">\n",
       "  <thead>\n",
       "    <tr style=\"text-align: right;\">\n",
       "      <th></th>\n",
       "      <th>username</th>\n",
       "      <th>skill</th>\n",
       "    </tr>\n",
       "  </thead>\n",
       "  <tbody>\n",
       "    <tr>\n",
       "      <th>0</th>\n",
       "      <td>arestov_design</td>\n",
       "      <td>art direction</td>\n",
       "    </tr>\n",
       "    <tr>\n",
       "      <th>1</th>\n",
       "      <td>arestov_design</td>\n",
       "      <td>banking</td>\n",
       "    </tr>\n",
       "    <tr>\n",
       "      <th>2</th>\n",
       "      <td>arestov_design</td>\n",
       "      <td>cryptocurrency</td>\n",
       "    </tr>\n",
       "    <tr>\n",
       "      <th>3</th>\n",
       "      <td>arestov_design</td>\n",
       "      <td>design systems</td>\n",
       "    </tr>\n",
       "    <tr>\n",
       "      <th>4</th>\n",
       "      <td>arestov_design</td>\n",
       "      <td>fintech</td>\n",
       "    </tr>\n",
       "    <tr>\n",
       "      <th>...</th>\n",
       "      <td>...</td>\n",
       "      <td>...</td>\n",
       "    </tr>\n",
       "    <tr>\n",
       "      <th>1103610</th>\n",
       "      <td>symple</td>\n",
       "      <td>online marketing</td>\n",
       "    </tr>\n",
       "    <tr>\n",
       "      <th>1103611</th>\n",
       "      <td>symple</td>\n",
       "      <td>php</td>\n",
       "    </tr>\n",
       "    <tr>\n",
       "      <th>1103612</th>\n",
       "      <td>symple</td>\n",
       "      <td>seo</td>\n",
       "    </tr>\n",
       "    <tr>\n",
       "      <th>1103613</th>\n",
       "      <td>symple</td>\n",
       "      <td>wordpress</td>\n",
       "    </tr>\n",
       "    <tr>\n",
       "      <th>1103614</th>\n",
       "      <td>thom_ryan</td>\n",
       "      <td>hand rendered type design</td>\n",
       "    </tr>\n",
       "  </tbody>\n",
       "</table>\n",
       "<p>1103615 rows × 2 columns</p>\n",
       "</div>"
      ],
      "text/plain": [
       "               username                      skill\n",
       "0        arestov_design              art direction\n",
       "1        arestov_design                    banking\n",
       "2        arestov_design             cryptocurrency\n",
       "3        arestov_design             design systems\n",
       "4        arestov_design                    fintech\n",
       "...                 ...                        ...\n",
       "1103610          symple           online marketing\n",
       "1103611          symple                        php\n",
       "1103612          symple                        seo\n",
       "1103613          symple                  wordpress\n",
       "1103614       thom_ryan  hand rendered type design\n",
       "\n",
       "[1103615 rows x 2 columns]"
      ]
     },
     "execution_count": 11,
     "metadata": {},
     "output_type": "execute_result"
    }
   ],
   "source": [
    "# Concatenate all data of the users with at least one skill.\n",
    "skills = pd.concat(chunk_list, ignore_index = False).reset_index(drop = True)\n",
    "skills"
   ]
  },
  {
   "cell_type": "markdown",
   "metadata": {},
   "source": [
    "### Preprocessing"
   ]
  },
  {
   "cell_type": "code",
   "execution_count": 12,
   "metadata": {},
   "outputs": [],
   "source": [
    "# Load file that maps the multiple usernames of the 'users' table into an unique information.\n",
    "with open(\"users_mapper_username.json\") as f:\n",
    "    map_users_multiple_profiles = json.load(f)"
   ]
  },
  {
   "cell_type": "code",
   "execution_count": 13,
   "metadata": {},
   "outputs": [
    {
     "name": "stdout",
     "output_type": "stream",
     "text": [
      "n° of 'username' usernames remapped: 399\n",
      "n° of usernames with no skills remapped: 639\n"
     ]
    }
   ],
   "source": [
    "# We map the usernames with multiple profiles into 'users' table to have a single value.\n",
    "# 'username'.\n",
    "username_remap = skills.username[skills.username.isin(map_users_multiple_profiles.keys())].map(map_users_multiple_profiles, na_action = \"ignore\")\n",
    "print(\"n° of 'username' usernames remapped: %d\" % len(username_remap))\n",
    "skills.username.loc[username_remap.index] = username_remap\n",
    "\n",
    "# Users with no skills.\n",
    "username_no_skills_remap = users_no_skills[users_no_skills.isin(map_users_multiple_profiles.keys())].map(map_users_multiple_profiles, na_action = \"ignore\")\n",
    "print(\"n° of usernames with no skills remapped: %d\" % len(username_no_skills_remap))\n",
    "users_no_skills.loc[username_no_skills_remap.index] = username_no_skills_remap"
   ]
  },
  {
   "cell_type": "code",
   "execution_count": 14,
   "metadata": {},
   "outputs": [
    {
     "data": {
      "text/plain": [
       "5161"
      ]
     },
     "execution_count": 14,
     "metadata": {},
     "output_type": "execute_result"
    }
   ],
   "source": [
    "# Check duplicated rows.\n",
    "skills.duplicated().sum()"
   ]
  },
  {
   "cell_type": "code",
   "execution_count": 15,
   "metadata": {},
   "outputs": [],
   "source": [
    "# Remove duplicated rows.\n",
    "skills.drop_duplicates(inplace = True)"
   ]
  },
  {
   "cell_type": "code",
   "execution_count": 16,
   "metadata": {},
   "outputs": [
    {
     "data": {
      "text/plain": [
       "352"
      ]
     },
     "execution_count": 16,
     "metadata": {},
     "output_type": "execute_result"
    }
   ],
   "source": [
    "# Check duplicated rows.\n",
    "users_no_skills.duplicated().sum()"
   ]
  },
  {
   "cell_type": "code",
   "execution_count": 17,
   "metadata": {},
   "outputs": [],
   "source": [
    "# Remove duplicated rows.\n",
    "users_no_skills.drop_duplicates(inplace = True)"
   ]
  },
  {
   "cell_type": "code",
   "execution_count": 18,
   "metadata": {},
   "outputs": [
    {
     "data": {
      "text/plain": [
       "username    0\n",
       "skill       0\n",
       "dtype: int64"
      ]
     },
     "execution_count": 18,
     "metadata": {},
     "output_type": "execute_result"
    }
   ],
   "source": [
    "# Check NaN values.\n",
    "skills.isna().sum()"
   ]
  },
  {
   "cell_type": "code",
   "execution_count": 19,
   "metadata": {},
   "outputs": [
    {
     "data": {
      "text/plain": [
       "0"
      ]
     },
     "execution_count": 19,
     "metadata": {},
     "output_type": "execute_result"
    }
   ],
   "source": [
    "# Check NaN values.\n",
    "users_no_skills.isna().sum()"
   ]
  },
  {
   "cell_type": "code",
   "execution_count": 20,
   "metadata": {},
   "outputs": [
    {
     "data": {
      "text/plain": [
       "['a2d',\n",
       " 'NEWFLIX',\n",
       " 'gustavo_meyer',\n",
       " 'mcampello',\n",
       " 'julienperriere',\n",
       " 'Palmi',\n",
       " 'przemob',\n",
       " 'primaua',\n",
       " 'kuon_yagi',\n",
       " 'Nadezhda_Lebedeva',\n",
       " 'janrvu',\n",
       " 'jaynejosie',\n",
       " 'micrazvandan',\n",
       " 'JLax86',\n",
       " 'UIFoxDesign',\n",
       " 'makulker',\n",
       " 'noobitter',\n",
       " 'iamrishishah',\n",
       " 'sarahschraderdesign',\n",
       " 'GianlucaDelgadoPires',\n",
       " 'kpugovkin',\n",
       " 'Cipomark',\n",
       " 'iamcelestah',\n",
       " 'juancamilovilla',\n",
       " 'davallan',\n",
       " 'JeroenSchaper',\n",
       " 'sayed',\n",
       " 'ATotalBeardo',\n",
       " 'LukaBliazze',\n",
       " 'jagnagra',\n",
       " 'BadTaste_',\n",
       " 'helloabalone',\n",
       " 'ufoo',\n",
       " 'marusha',\n",
       " 'bellayan',\n",
       " 'analemos',\n",
       " 'madebydanno',\n",
       " 'dannyshaw',\n",
       " 'sergiulupse',\n",
       " 'theray',\n",
       " 'Tka4enko',\n",
       " 'nnick',\n",
       " 'yankodesing',\n",
       " 'dgtlistru',\n",
       " 'pejcicnikola',\n",
       " 'olajaszewska',\n",
       " 'Jocelyn1332',\n",
       " 'is567',\n",
       " 'yuzhen01',\n",
       " 'ali_zareshahi',\n",
       " 'Kris_Olak',\n",
       " 'katayo0o0on',\n",
       " 'stephenandrewmurrill',\n",
       " 'lizziedesign',\n",
       " 'sidneykanoti',\n",
       " 'ingriddesing',\n",
       " 'sigra',\n",
       " 'tibidigital',\n",
       " 'r4vn',\n",
       " 'efrespmx',\n",
       " 'J_R_Speed',\n",
       " 'erikalam',\n",
       " 'zoll',\n",
       " 'bishrantt',\n",
       " 'bfagans',\n",
       " 'jonway',\n",
       " 'sweetie',\n",
       " 'julialitkevich',\n",
       " 'bonehaus',\n",
       " 'Stan3939',\n",
       " 'nicoooer',\n",
       " 'LaFemmeUX',\n",
       " 'alicesmithstudio',\n",
       " 'nuriu',\n",
       " 'ivanoviedo',\n",
       " 'dmitriyluzan',\n",
       " 'cyan_phoenix',\n",
       " 'shadddddd1106',\n",
       " 'ablv',\n",
       " 'DegouisJean-Philippe',\n",
       " 'wahyuhadi',\n",
       " 'iMostafa',\n",
       " 'RumiPetritsi',\n",
       " 'thltamrl',\n",
       " 'bekkers',\n",
       " 'Benoua',\n",
       " 'kbsatthiyaseelan',\n",
       " 'dokodesign',\n",
       " 'anggapermana',\n",
       " 'Mukesh_Advani',\n",
       " 'Mansion_Cai',\n",
       " 'adityapramana',\n",
       " 'icq',\n",
       " 'pynoth',\n",
       " 'fishliu',\n",
       " 'irina_nelga',\n",
       " 'artin_',\n",
       " 'xdesro',\n",
       " 'cartoonbeing',\n",
       " 'sharminshima',\n",
       " 'petervaro',\n",
       " '8bit_labs',\n",
       " 'sttt',\n",
       " 'debbby',\n",
       " 'verpackungsdesign',\n",
       " 'hilarybaumann',\n",
       " 'davmey',\n",
       " 'i-designcreative',\n",
       " 'tkstaple',\n",
       " 'wsiqi',\n",
       " 'Andbrands',\n",
       " 'Labirynto',\n",
       " 'VinceDagenais',\n",
       " 'yanghuadesign',\n",
       " '_madison',\n",
       " 'liulala',\n",
       " 'rxry',\n",
       " 'thirdbreath',\n",
       " 'FabioLucini',\n",
       " 'VladimirVatansky',\n",
       " 'sarahtrad',\n",
       " 'arturorey',\n",
       " 'barbr',\n",
       " 'GreyZhang',\n",
       " 'pieczorx',\n",
       " 'ashwinikr',\n",
       " 'FleaFace',\n",
       " 'andrewdroug',\n",
       " 'mycodedesk',\n",
       " 'annakis',\n",
       " 'BrodieP',\n",
       " 'Lensrev',\n",
       " 'Lin-XuePing',\n",
       " 'etanir',\n",
       " 'omniaesthetic',\n",
       " 'MoshiMoshiMedia',\n",
       " 'SebKayDesign',\n",
       " 'CH-506',\n",
       " 'NicooE',\n",
       " 'cborovskoy',\n",
       " 'nate_doverspike',\n",
       " 'WongShen',\n",
       " 'ulapeng',\n",
       " 'alatiandrea',\n",
       " 'igorbertolino',\n",
       " 'kevgk',\n",
       " 'Alisa_',\n",
       " 'Seven_Song',\n",
       " 'cedricmoore',\n",
       " 'dimtrunov',\n",
       " 'Seankl',\n",
       " 'FabianSM',\n",
       " 'ElaineDettmann',\n",
       " 'VISION_RGB',\n",
       " 'dellfi',\n",
       " 'Joven7',\n",
       " 'artemdrummers',\n",
       " 'Senko',\n",
       " 'amyheubachux',\n",
       " 'Muhammadensan',\n",
       " 'mikehaynes',\n",
       " 'AlexVo',\n",
       " 'rafalhelak',\n",
       " 'edanjumbo',\n",
       " 'ddythemes',\n",
       " 'charles_ght',\n",
       " 'ramlakhan',\n",
       " 'hokien099',\n",
       " 'AngelaEWingard',\n",
       " 'duongux88',\n",
       " 'danieldelcore',\n",
       " 'Marisolcb',\n",
       " 'RxH32',\n",
       " 'advarto',\n",
       " 'sarvaryan',\n",
       " 'artwarrior',\n",
       " 'jackre',\n",
       " 'SOUX',\n",
       " 'eddiewong',\n",
       " 'senoritaacacia',\n",
       " 'romanvorokhib',\n",
       " 'origomez',\n",
       " 'Yasin_',\n",
       " 'adilmohamed',\n",
       " 'ui-xumin',\n",
       " 'KamaalCreatives',\n",
       " 'MarcoBijl',\n",
       " 'jinsoncjohny',\n",
       " 'nakamurajenn',\n",
       " 'Zerry',\n",
       " 'zvonimircamber',\n",
       " 'marivi',\n",
       " 'francorodriguezn',\n",
       " 'alexisbalinoff',\n",
       " 'victoriakstudio',\n",
       " 'andy0nly',\n",
       " 'sujeetjaiswara',\n",
       " 'luzby',\n",
       " 'Aligns',\n",
       " 'djrossinodesign',\n",
       " 'kamleshkanwal08',\n",
       " 'awrye',\n",
       " 'capsicummediaworks',\n",
       " 'ShivBranding',\n",
       " 'claudiamorales',\n",
       " 'larsroed',\n",
       " 'ehsancinematic',\n",
       " 'arrowknot',\n",
       " 'noemiad',\n",
       " 'tajaju',\n",
       " 'ninarosso',\n",
       " 'LaisyWang0912',\n",
       " 'randystone',\n",
       " 'neymetov',\n",
       " '7aVisualCraftsman',\n",
       " 'CleoYang',\n",
       " 'yaingm',\n",
       " 'HunterRazo',\n",
       " 'nateryansmith',\n",
       " 'Artistsix',\n",
       " 'rodrigosantino',\n",
       " 'huntermcmahan',\n",
       " 'drew_nicka',\n",
       " 'michaelbenjamin',\n",
       " 'zhenyabelan',\n",
       " 'tannerdesigns',\n",
       " 'ForterocMediaInk',\n",
       " 'endorfine',\n",
       " 'ikilikadraj',\n",
       " 'arshile',\n",
       " 'monetcb',\n",
       " 'LexaNevon',\n",
       " 'calebmcguire',\n",
       " 'pointanimation',\n",
       " 'madebychaun',\n",
       " 'humam',\n",
       " 'amisadai',\n",
       " 'vladizainer',\n",
       " 'khaledbillal',\n",
       " 'bicco',\n",
       " 'lekeojo',\n",
       " 'CBR_Labs',\n",
       " 'andresjasso',\n",
       " 'gateui',\n",
       " 'fredluna',\n",
       " 'ipushpixels',\n",
       " 'KariLivs',\n",
       " 'ShinDoeun',\n",
       " 'hellomp',\n",
       " 'MinimoreDigital',\n",
       " 'rudypagnel',\n",
       " 'chern',\n",
       " 'MORED',\n",
       " 'm4rp79',\n",
       " 'ipamotion',\n",
       " 'denisestienen',\n",
       " 'honkers',\n",
       " 'rafabatista',\n",
       " 'wrecklessomar',\n",
       " 'samilbastas',\n",
       " 'LANGLU',\n",
       " 'sergioalves',\n",
       " 'xsiu_xsiu',\n",
       " 'summerfangfang',\n",
       " 'tadeusz',\n",
       " 'tamarak',\n",
       " 'toyfu',\n",
       " 'yesidanderfer',\n",
       " 'gbarros',\n",
       " 'jebtheuxdesigner',\n",
       " 'mygirlgalina',\n",
       " 'alikharaman',\n",
       " 'julytkachenko',\n",
       " 'ZchSltmr',\n",
       " 'isaaclemon',\n",
       " 'doodlesdesigner',\n",
       " 'breoworx',\n",
       " 'Mister_Undying',\n",
       " 'heynicolerdz',\n",
       " 'districtnorth',\n",
       " 'menjilx',\n",
       " 'jennairadesigns',\n",
       " 'vrozdesigns',\n",
       " 'zainalow',\n",
       " 'chinran',\n",
       " 'benberrybiscuit',\n",
       " 'Onwebdev',\n",
       " 'alxrbrown',\n",
       " 'pravinnakarmi',\n",
       " 'im_abhishekp',\n",
       " 'lukas-nkz',\n",
       " 'akshayyelmar',\n",
       " 'sh4hids',\n",
       " 'MrzDesignStudio',\n",
       " 'claudiatame7',\n",
       " 'james-walker',\n",
       " 'akaHomebody',\n",
       " 'karen_wong',\n",
       " 'Semernyov',\n",
       " 'Riotous',\n",
       " 'PraveenPrakashanNair',\n",
       " 'PRFTDigitalLabs',\n",
       " 'jennkhlee',\n",
       " 'AlexaP',\n",
       " 'curldigital',\n",
       " 'Leo_deisgn',\n",
       " 'Yug',\n",
       " 'pingfan',\n",
       " 'katieswansondesign',\n",
       " 'siyadsain',\n",
       " 'jonhanlan',\n",
       " 'PemDesign',\n",
       " 'Gefight',\n",
       " 'fortnight',\n",
       " 'ttarmann',\n",
       " 'Gushn',\n",
       " 'Sunoob',\n",
       " 'miello']"
      ]
     },
     "execution_count": 20,
     "metadata": {},
     "output_type": "execute_result"
    }
   ],
   "source": [
    "# Check if there exist an intersection between the users with at least one skill and the users with no skills.\n",
    "intersection = list(set(skills.username.unique()) & set(users_no_skills))\n",
    "intersection"
   ]
  },
  {
   "cell_type": "code",
   "execution_count": 21,
   "metadata": {},
   "outputs": [
    {
     "data": {
      "text/plain": [
       "318"
      ]
     },
     "execution_count": 21,
     "metadata": {},
     "output_type": "execute_result"
    }
   ],
   "source": [
    "len(intersection)"
   ]
  },
  {
   "cell_type": "code",
   "execution_count": 22,
   "metadata": {},
   "outputs": [],
   "source": [
    "# Not consider these users into the users with no skills.\n",
    "users_no_skills = users_no_skills.loc[~users_no_skills.isin(intersection)]"
   ]
  },
  {
   "cell_type": "code",
   "execution_count": 23,
   "metadata": {},
   "outputs": [],
   "source": [
    "# Add to the dataframe the information regarding the users with no skills.\n",
    "no_skills = pd.DataFrame(columns = skills.columns)\n",
    "no_skills[\"username\"] = users_no_skills.values\n",
    "no_skills[\"username\"] = no_skills[\"username\"].apply(lambda x: x.rstrip().lstrip())\n",
    "\n",
    "skills = pd.concat([skills, no_skills], ignore_index = False).reset_index(drop = True)"
   ]
  },
  {
   "cell_type": "code",
   "execution_count": 24,
   "metadata": {},
   "outputs": [
    {
     "data": {
      "text/html": [
       "<div>\n",
       "<style scoped>\n",
       "    .dataframe tbody tr th:only-of-type {\n",
       "        vertical-align: middle;\n",
       "    }\n",
       "\n",
       "    .dataframe tbody tr th {\n",
       "        vertical-align: top;\n",
       "    }\n",
       "\n",
       "    .dataframe thead th {\n",
       "        text-align: right;\n",
       "    }\n",
       "</style>\n",
       "<table border=\"1\" class=\"dataframe\">\n",
       "  <thead>\n",
       "    <tr style=\"text-align: right;\">\n",
       "      <th></th>\n",
       "      <th>username</th>\n",
       "      <th>skill</th>\n",
       "    </tr>\n",
       "  </thead>\n",
       "  <tbody>\n",
       "    <tr>\n",
       "      <th>0</th>\n",
       "      <td>arestov_design</td>\n",
       "      <td>art direction</td>\n",
       "    </tr>\n",
       "    <tr>\n",
       "      <th>1</th>\n",
       "      <td>arestov_design</td>\n",
       "      <td>banking</td>\n",
       "    </tr>\n",
       "    <tr>\n",
       "      <th>2</th>\n",
       "      <td>arestov_design</td>\n",
       "      <td>cryptocurrency</td>\n",
       "    </tr>\n",
       "    <tr>\n",
       "      <th>3</th>\n",
       "      <td>arestov_design</td>\n",
       "      <td>design systems</td>\n",
       "    </tr>\n",
       "    <tr>\n",
       "      <th>4</th>\n",
       "      <td>arestov_design</td>\n",
       "      <td>fintech</td>\n",
       "    </tr>\n",
       "    <tr>\n",
       "      <th>...</th>\n",
       "      <td>...</td>\n",
       "      <td>...</td>\n",
       "    </tr>\n",
       "    <tr>\n",
       "      <th>1682121</th>\n",
       "      <td>vovain</td>\n",
       "      <td>NaN</td>\n",
       "    </tr>\n",
       "    <tr>\n",
       "      <th>1682122</th>\n",
       "      <td>mcborden88</td>\n",
       "      <td>NaN</td>\n",
       "    </tr>\n",
       "    <tr>\n",
       "      <th>1682123</th>\n",
       "      <td>JoseRivas</td>\n",
       "      <td>NaN</td>\n",
       "    </tr>\n",
       "    <tr>\n",
       "      <th>1682124</th>\n",
       "      <td>bridgetsandoval</td>\n",
       "      <td>NaN</td>\n",
       "    </tr>\n",
       "    <tr>\n",
       "      <th>1682125</th>\n",
       "      <td>GoodWine</td>\n",
       "      <td>NaN</td>\n",
       "    </tr>\n",
       "  </tbody>\n",
       "</table>\n",
       "<p>1682126 rows × 2 columns</p>\n",
       "</div>"
      ],
      "text/plain": [
       "                username           skill\n",
       "0         arestov_design   art direction\n",
       "1         arestov_design         banking\n",
       "2         arestov_design  cryptocurrency\n",
       "3         arestov_design  design systems\n",
       "4         arestov_design         fintech\n",
       "...                  ...             ...\n",
       "1682121           vovain             NaN\n",
       "1682122       mcborden88             NaN\n",
       "1682123        JoseRivas             NaN\n",
       "1682124  bridgetsandoval             NaN\n",
       "1682125         GoodWine             NaN\n",
       "\n",
       "[1682126 rows x 2 columns]"
      ]
     },
     "execution_count": 24,
     "metadata": {},
     "output_type": "execute_result"
    }
   ],
   "source": [
    "skills"
   ]
  },
  {
   "cell_type": "code",
   "execution_count": 25,
   "metadata": {},
   "outputs": [
    {
     "data": {
      "text/plain": [
       "770821"
      ]
     },
     "execution_count": 25,
     "metadata": {},
     "output_type": "execute_result"
    }
   ],
   "source": [
    "len(skills.username.unique())"
   ]
  },
  {
   "cell_type": "code",
   "execution_count": 26,
   "metadata": {},
   "outputs": [
    {
     "data": {
      "text/plain": [
       "0"
      ]
     },
     "execution_count": 26,
     "metadata": {},
     "output_type": "execute_result"
    }
   ],
   "source": [
    "# Recheck duplicated rows after this remapping.\n",
    "skills.duplicated().sum()"
   ]
  },
  {
   "cell_type": "code",
   "execution_count": 27,
   "metadata": {},
   "outputs": [],
   "source": [
    "# Save the dataframe into the sql database.\n",
    "skills.to_sql(\"skills\", conn, index = False, dtype = {\"username\": \"TEXT\", \"skill\": \"TEXT\"})"
   ]
  },
  {
   "cell_type": "code",
   "execution_count": 28,
   "metadata": {},
   "outputs": [],
   "source": [
    "conn.close()"
   ]
  }
 ],
 "metadata": {
  "kernelspec": {
   "display_name": "Python 3",
   "language": "python",
   "name": "python3"
  },
  "language_info": {
   "codemirror_mode": {
    "name": "ipython",
    "version": 3
   },
   "file_extension": ".py",
   "mimetype": "text/x-python",
   "name": "python",
   "nbconvert_exporter": "python",
   "pygments_lexer": "ipython3",
   "version": "3.6.6"
  }
 },
 "nbformat": 4,
 "nbformat_minor": 2
}
