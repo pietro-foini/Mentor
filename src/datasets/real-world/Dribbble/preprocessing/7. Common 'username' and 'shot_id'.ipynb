{
 "cells": [
  {
   "cell_type": "code",
   "execution_count": 1,
   "metadata": {},
   "outputs": [],
   "source": [
    "import pandas as pd\n",
    "import sqlite3"
   ]
  },
  {
   "cell_type": "code",
   "execution_count": 2,
   "metadata": {},
   "outputs": [],
   "source": [
    "# Connect to database sqlite where the information regarding the Dribbble dataset are stored.\n",
    "conn = sqlite3.connect(\"dribbble_temporary.db\", detect_types = sqlite3.PARSE_DECLTYPES) # https://docs.python.org/3/library/sqlite3.html\n",
    "c = conn.cursor()"
   ]
  },
  {
   "cell_type": "markdown",
   "metadata": {},
   "source": [
    "# Dribbble database (data cleaning)\n",
    "\n",
    "This notebook deals with fixing some inconsistencies in the Dribbble database. In particular, we notice how the information regarding the users (*username*) and the shots (*shot_id*) are discrepant between the various tables. \n",
    "\n",
    "For example, a generic user 'X' could be present in the *users* table but not in the *shots* table where the username field is the identifier (n the *shots* table are stored the information of all the users: both those who have published and those who have not published any shots). This type of anomaly involves also the *shot_id* information among the tables where the *shot_id* field is an identifier. \n",
    "\n",
    "Let's find and fix them."
   ]
  },
  {
   "cell_type": "markdown",
   "metadata": {},
   "source": [
    "## Intersection between the *username*\n",
    "\n",
    "In order to solve the anomalies regarding the *username*, we decide to consider as our Dribbble population only the users in common between the tables where the *username* field is an identifier (*users*, *followers*, *skills*, *shots*). "
   ]
  },
  {
   "cell_type": "code",
   "execution_count": 3,
   "metadata": {},
   "outputs": [],
   "source": [
    "# Table 'users'.\n",
    "users = pd.read_sql(\"SELECT username FROM users\", conn)"
   ]
  },
  {
   "cell_type": "code",
   "execution_count": 4,
   "metadata": {},
   "outputs": [
    {
     "data": {
      "text/plain": [
       "0"
      ]
     },
     "execution_count": 4,
     "metadata": {},
     "output_type": "execute_result"
    }
   ],
   "source": [
    "users.username.isna().sum()"
   ]
  },
  {
   "cell_type": "code",
   "execution_count": 5,
   "metadata": {},
   "outputs": [
    {
     "data": {
      "text/plain": [
       "770732"
      ]
     },
     "execution_count": 5,
     "metadata": {},
     "output_type": "execute_result"
    }
   ],
   "source": [
    "len(users.username.unique())"
   ]
  },
  {
   "cell_type": "code",
   "execution_count": 6,
   "metadata": {},
   "outputs": [],
   "source": [
    "# Table 'followers'.\n",
    "followers = pd.read_sql(\"SELECT destination FROM followers\", conn)"
   ]
  },
  {
   "cell_type": "code",
   "execution_count": 7,
   "metadata": {},
   "outputs": [
    {
     "data": {
      "text/plain": [
       "0"
      ]
     },
     "execution_count": 7,
     "metadata": {},
     "output_type": "execute_result"
    }
   ],
   "source": [
    "followers.destination.isna().sum()"
   ]
  },
  {
   "cell_type": "code",
   "execution_count": 8,
   "metadata": {},
   "outputs": [
    {
     "data": {
      "text/plain": [
       "770767"
      ]
     },
     "execution_count": 8,
     "metadata": {},
     "output_type": "execute_result"
    }
   ],
   "source": [
    "len(followers.destination.unique())"
   ]
  },
  {
   "cell_type": "code",
   "execution_count": 9,
   "metadata": {},
   "outputs": [],
   "source": [
    "# Table 'skills'.\n",
    "skills = pd.read_sql(\"SELECT username FROM skills\", conn)"
   ]
  },
  {
   "cell_type": "code",
   "execution_count": 10,
   "metadata": {},
   "outputs": [
    {
     "data": {
      "text/plain": [
       "0"
      ]
     },
     "execution_count": 10,
     "metadata": {},
     "output_type": "execute_result"
    }
   ],
   "source": [
    "skills.username.isna().sum()"
   ]
  },
  {
   "cell_type": "code",
   "execution_count": 11,
   "metadata": {},
   "outputs": [
    {
     "data": {
      "text/plain": [
       "770821"
      ]
     },
     "execution_count": 11,
     "metadata": {},
     "output_type": "execute_result"
    }
   ],
   "source": [
    "len(skills.username.unique())"
   ]
  },
  {
   "cell_type": "code",
   "execution_count": 12,
   "metadata": {},
   "outputs": [],
   "source": [
    "# Table 'shots'.\n",
    "shots = pd.read_sql(\"SELECT author_shot FROM shots\", conn)"
   ]
  },
  {
   "cell_type": "code",
   "execution_count": 13,
   "metadata": {},
   "outputs": [
    {
     "data": {
      "text/plain": [
       "0"
      ]
     },
     "execution_count": 13,
     "metadata": {},
     "output_type": "execute_result"
    }
   ],
   "source": [
    "shots.author_shot.isna().sum()"
   ]
  },
  {
   "cell_type": "code",
   "execution_count": 14,
   "metadata": {},
   "outputs": [
    {
     "data": {
      "text/plain": [
       "770544"
      ]
     },
     "execution_count": 14,
     "metadata": {},
     "output_type": "execute_result"
    }
   ],
   "source": [
    "len(shots.author_shot.unique())"
   ]
  },
  {
   "cell_type": "markdown",
   "metadata": {},
   "source": [
    "### Common *username*"
   ]
  },
  {
   "cell_type": "code",
   "execution_count": 15,
   "metadata": {},
   "outputs": [],
   "source": [
    "intersection_users = list(set.intersection(set(users.username.unique()), set(followers.destination.unique()), set(shots.author_shot.unique()), set(skills.username.unique())))"
   ]
  },
  {
   "cell_type": "code",
   "execution_count": 16,
   "metadata": {},
   "outputs": [
    {
     "data": {
      "text/plain": [
       "770540"
      ]
     },
     "execution_count": 16,
     "metadata": {},
     "output_type": "execute_result"
    }
   ],
   "source": [
    "len(intersection_users)"
   ]
  },
  {
   "cell_type": "markdown",
   "metadata": {},
   "source": [
    "### Filtering *username*\n",
    "\n",
    "We save these users into a new table that we will use to filter the usernames into the other tables. \n",
    "\n",
    "N.B. We cannot directly filter using a python list because there exist a limit (`SQLITE_LIMIT_VARIABLE_NUMBER`) in the number of values we can provide to execute which is by default set to 999 `?`."
   ]
  },
  {
   "cell_type": "code",
   "execution_count": 17,
   "metadata": {},
   "outputs": [],
   "source": [
    "intersection_users = pd.DataFrame(intersection_users, columns = [\"username\"])"
   ]
  },
  {
   "cell_type": "code",
   "execution_count": 18,
   "metadata": {},
   "outputs": [],
   "source": [
    "# Save the dataframe into the sql database.\n",
    "intersection_users.to_sql(\"intersection_users\", conn, index = False, dtype = {\"username\": \"TEXT\"})"
   ]
  },
  {
   "cell_type": "code",
   "execution_count": 19,
   "metadata": {},
   "outputs": [],
   "source": [
    "c.execute(\"DELETE FROM users WHERE username NOT IN (SELECT username FROM intersection_users)\")\n",
    "conn.commit()"
   ]
  },
  {
   "cell_type": "code",
   "execution_count": 20,
   "metadata": {},
   "outputs": [],
   "source": [
    "c.execute(\"DELETE FROM followers WHERE destination NOT IN (SELECT username FROM intersection_users)\")\n",
    "conn.commit()"
   ]
  },
  {
   "cell_type": "code",
   "execution_count": 21,
   "metadata": {},
   "outputs": [],
   "source": [
    "c.execute(\"DELETE FROM followers WHERE source NOT IN (SELECT username FROM intersection_users)\")\n",
    "conn.commit()"
   ]
  },
  {
   "cell_type": "code",
   "execution_count": 22,
   "metadata": {},
   "outputs": [],
   "source": [
    "c.execute(\"DELETE FROM shots WHERE author_shot NOT IN (SELECT username FROM intersection_users)\")\n",
    "conn.commit()"
   ]
  },
  {
   "cell_type": "code",
   "execution_count": 23,
   "metadata": {},
   "outputs": [],
   "source": [
    "c.execute(\"DELETE FROM shots WHERE team_username NOT IN (SELECT username FROM intersection_users)\")\n",
    "conn.commit()"
   ]
  },
  {
   "cell_type": "code",
   "execution_count": 24,
   "metadata": {},
   "outputs": [],
   "source": [
    "c.execute(\"DELETE FROM tags WHERE author_shot NOT IN (SELECT username FROM intersection_users)\")\n",
    "conn.commit()"
   ]
  },
  {
   "cell_type": "code",
   "execution_count": 25,
   "metadata": {},
   "outputs": [],
   "source": [
    "c.execute(\"DELETE FROM skills WHERE username NOT IN (SELECT username FROM intersection_users)\")\n",
    "conn.commit()"
   ]
  },
  {
   "cell_type": "code",
   "execution_count": 26,
   "metadata": {},
   "outputs": [],
   "source": [
    "c.execute(\"DELETE FROM comments WHERE author_comment NOT IN (SELECT username FROM intersection_users)\")\n",
    "conn.commit()"
   ]
  },
  {
   "cell_type": "code",
   "execution_count": 27,
   "metadata": {},
   "outputs": [],
   "source": [
    "c.execute(\"DELETE FROM likes WHERE author_like NOT IN (SELECT username FROM intersection_users)\")\n",
    "conn.commit()"
   ]
  },
  {
   "cell_type": "markdown",
   "metadata": {},
   "source": [
    "These queries allow to filter the usernames keeping the rows where the usernames have `NULL` values."
   ]
  },
  {
   "cell_type": "markdown",
   "metadata": {},
   "source": [
    "## Intersection between the *shot_id*\n",
    "\n",
    "In order to solve the anomalies regarding the *shot_id*, we decide to consider as our Dribbble posts only the shots in common between the tables where the *shot_id* field is an identifier (*shots*, *comments*, *likes*). "
   ]
  },
  {
   "cell_type": "code",
   "execution_count": 28,
   "metadata": {},
   "outputs": [],
   "source": [
    "# Table 'shots'.\n",
    "shots = pd.read_sql(\"SELECT shot_id FROM shots\", conn)"
   ]
  },
  {
   "cell_type": "code",
   "execution_count": 29,
   "metadata": {},
   "outputs": [
    {
     "data": {
      "text/plain": [
       "2480528"
      ]
     },
     "execution_count": 29,
     "metadata": {},
     "output_type": "execute_result"
    }
   ],
   "source": [
    "len(shots.shot_id.unique())"
   ]
  },
  {
   "cell_type": "code",
   "execution_count": 30,
   "metadata": {},
   "outputs": [],
   "source": [
    "# Table 'comments'.\n",
    "comments = pd.read_sql(\"SELECT shot_id FROM comments\", conn)"
   ]
  },
  {
   "cell_type": "code",
   "execution_count": 31,
   "metadata": {},
   "outputs": [
    {
     "data": {
      "text/plain": [
       "0"
      ]
     },
     "execution_count": 31,
     "metadata": {},
     "output_type": "execute_result"
    }
   ],
   "source": [
    "comments.shot_id.isna().sum()"
   ]
  },
  {
   "cell_type": "code",
   "execution_count": 32,
   "metadata": {},
   "outputs": [
    {
     "data": {
      "text/plain": [
       "2482681"
      ]
     },
     "execution_count": 32,
     "metadata": {},
     "output_type": "execute_result"
    }
   ],
   "source": [
    "len(comments.shot_id.unique())"
   ]
  },
  {
   "cell_type": "code",
   "execution_count": 33,
   "metadata": {},
   "outputs": [],
   "source": [
    "# Table 'likes'.\n",
    "likes = pd.read_sql(\"SELECT shot_id FROM likes\", conn)"
   ]
  },
  {
   "cell_type": "code",
   "execution_count": 34,
   "metadata": {},
   "outputs": [
    {
     "data": {
      "text/plain": [
       "0"
      ]
     },
     "execution_count": 34,
     "metadata": {},
     "output_type": "execute_result"
    }
   ],
   "source": [
    "likes.shot_id.isna().sum()"
   ]
  },
  {
   "cell_type": "code",
   "execution_count": 35,
   "metadata": {},
   "outputs": [
    {
     "data": {
      "text/plain": [
       "2484398"
      ]
     },
     "execution_count": 35,
     "metadata": {},
     "output_type": "execute_result"
    }
   ],
   "source": [
    "len(likes.shot_id.unique())"
   ]
  },
  {
   "cell_type": "markdown",
   "metadata": {},
   "source": [
    "### Common *shot_id*"
   ]
  },
  {
   "cell_type": "code",
   "execution_count": 36,
   "metadata": {},
   "outputs": [],
   "source": [
    "intersection_shots = list(set.intersection(set(shots.shot_id.dropna().unique()), set(comments.shot_id.unique()), set(likes.shot_id.unique())))"
   ]
  },
  {
   "cell_type": "code",
   "execution_count": 37,
   "metadata": {},
   "outputs": [
    {
     "data": {
      "text/plain": [
       "2475311"
      ]
     },
     "execution_count": 37,
     "metadata": {},
     "output_type": "execute_result"
    }
   ],
   "source": [
    "len(intersection_shots)"
   ]
  },
  {
   "cell_type": "markdown",
   "metadata": {},
   "source": [
    "### Filtering *shot_id*\n",
    "\n",
    "We save these shots into a new table that we will use to filter the shots into the other tables. \n",
    "\n",
    "N.B. We cannot directly filter using a python list because there exist a limit (`SQLITE_LIMIT_VARIABLE_NUMBER`) in the number of values we can provide to execute which is by default set to 999 `?`."
   ]
  },
  {
   "cell_type": "code",
   "execution_count": 38,
   "metadata": {},
   "outputs": [],
   "source": [
    "intersection_shots = pd.DataFrame(intersection_shots, columns = [\"shot_id\"])"
   ]
  },
  {
   "cell_type": "code",
   "execution_count": 39,
   "metadata": {},
   "outputs": [],
   "source": [
    "# Save the dataframe into the sql database.\n",
    "intersection_shots.to_sql(\"intersection_shots\", conn, index = False, dtype = {\"shot_id\": \"INT\"})"
   ]
  },
  {
   "cell_type": "code",
   "execution_count": 40,
   "metadata": {},
   "outputs": [],
   "source": [
    "c.execute(\"DELETE FROM shots WHERE shot_id NOT IN (SELECT shot_id FROM intersection_shots)\")\n",
    "conn.commit()"
   ]
  },
  {
   "cell_type": "code",
   "execution_count": 41,
   "metadata": {},
   "outputs": [],
   "source": [
    "c.execute(\"DELETE FROM comments WHERE shot_id NOT IN (SELECT shot_id FROM intersection_shots)\")\n",
    "conn.commit()"
   ]
  },
  {
   "cell_type": "code",
   "execution_count": 42,
   "metadata": {},
   "outputs": [],
   "source": [
    "c.execute(\"DELETE FROM likes WHERE shot_id NOT IN (SELECT shot_id FROM intersection_shots)\")\n",
    "conn.commit()"
   ]
  },
  {
   "cell_type": "code",
   "execution_count": 43,
   "metadata": {},
   "outputs": [],
   "source": [
    "c.execute(\"DELETE FROM tags WHERE shot_id NOT IN (SELECT shot_id FROM intersection_shots)\")\n",
    "conn.commit()"
   ]
  },
  {
   "cell_type": "markdown",
   "metadata": {},
   "source": [
    "These queries allow to filter the shot_id keeping the rows when the shot_id have `NULL` values."
   ]
  },
  {
   "cell_type": "markdown",
   "metadata": {},
   "source": [
    "# Adjust tables after filtering\n",
    "\n",
    "Some tables must be adjusted in order to create a database with a correct structure: we delete the rows with `NULL` values in all the columns except one. For example, for the *followers* table:\n",
    "\n",
    "| destination | created_at | source |\n",
    "| --- | --- | --- |\n",
    "| John | NULL | NULL |\n",
    "\n",
    "\n",
    "The information regarding these cases will be available directly from the features *_count* in the suitable tables. For example, `John` will have 0 `followers_count` in the *users* table. We will build this information in the next notebooks."
   ]
  },
  {
   "cell_type": "markdown",
   "metadata": {},
   "source": [
    "## Table *shots*"
   ]
  },
  {
   "cell_type": "code",
   "execution_count": 44,
   "metadata": {},
   "outputs": [],
   "source": [
    "# Delete NULL rows from the 'shots' table.\n",
    "c.execute(\"DELETE FROM shots WHERE shot_id IS NULL\")\n",
    "conn.commit()"
   ]
  },
  {
   "cell_type": "markdown",
   "metadata": {},
   "source": [
    "## Table *skills*"
   ]
  },
  {
   "cell_type": "code",
   "execution_count": 45,
   "metadata": {},
   "outputs": [],
   "source": [
    "# Delete NULL rows from the 'skills' table.\n",
    "c.execute(\"DELETE FROM skills WHERE skill IS NULL\")\n",
    "conn.commit()"
   ]
  },
  {
   "cell_type": "markdown",
   "metadata": {},
   "source": [
    "## Table *followers*"
   ]
  },
  {
   "cell_type": "code",
   "execution_count": 46,
   "metadata": {},
   "outputs": [],
   "source": [
    "# Delete NULL rows from the 'followers' table.\n",
    "c.execute(\"DELETE FROM followers WHERE source IS NULL\")\n",
    "conn.commit()"
   ]
  },
  {
   "cell_type": "markdown",
   "metadata": {},
   "source": [
    "## Table *tags*"
   ]
  },
  {
   "cell_type": "code",
   "execution_count": 47,
   "metadata": {},
   "outputs": [],
   "source": [
    "# Delete NULL rows from the 'tags' table.\n",
    "c.execute(\"DELETE FROM tags WHERE tag IS NULL\")\n",
    "conn.commit()"
   ]
  },
  {
   "cell_type": "markdown",
   "metadata": {},
   "source": [
    "## Table *comments*"
   ]
  },
  {
   "cell_type": "code",
   "execution_count": 48,
   "metadata": {},
   "outputs": [],
   "source": [
    "# Delete NULL rows from the 'comments' table.\n",
    "c.execute(\"DELETE FROM comments WHERE comment_id IS NULL\")\n",
    "conn.commit()"
   ]
  },
  {
   "cell_type": "markdown",
   "metadata": {},
   "source": [
    "## Table *likes*"
   ]
  },
  {
   "cell_type": "code",
   "execution_count": 49,
   "metadata": {},
   "outputs": [],
   "source": [
    "# Delete NULL rows from the 'likes' table.\n",
    "c.execute(\"DELETE FROM likes WHERE like_id IS NULL\")\n",
    "conn.commit()"
   ]
  },
  {
   "cell_type": "code",
   "execution_count": 50,
   "metadata": {},
   "outputs": [],
   "source": [
    "# Remove tables used for intersections.\n",
    "c.execute(\"\"\"DROP TABLE intersection_users\"\"\")\n",
    "c.execute(\"\"\"DROP TABLE intersection_shots\"\"\")\n",
    "conn.commit()"
   ]
  },
  {
   "cell_type": "code",
   "execution_count": 51,
   "metadata": {},
   "outputs": [],
   "source": [
    "# Release effectively memory from the database.\n",
    "c.execute(\"VACUUM\");"
   ]
  },
  {
   "cell_type": "code",
   "execution_count": 52,
   "metadata": {},
   "outputs": [],
   "source": [
    "conn.close()"
   ]
  }
 ],
 "metadata": {
  "kernelspec": {
   "display_name": "Python 3",
   "language": "python",
   "name": "python3"
  },
  "language_info": {
   "codemirror_mode": {
    "name": "ipython",
    "version": 3
   },
   "file_extension": ".py",
   "mimetype": "text/x-python",
   "name": "python",
   "nbconvert_exporter": "python",
   "pygments_lexer": "ipython3",
   "version": "3.6.6"
  }
 },
 "nbformat": 4,
 "nbformat_minor": 2
}
