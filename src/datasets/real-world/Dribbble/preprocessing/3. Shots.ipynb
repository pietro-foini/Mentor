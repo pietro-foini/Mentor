{
 "cells": [
  {
   "cell_type": "code",
   "execution_count": 1,
   "metadata": {},
   "outputs": [],
   "source": [
    "import warnings\n",
    "warnings.filterwarnings(\"ignore\")"
   ]
  },
  {
   "cell_type": "code",
   "execution_count": 2,
   "metadata": {},
   "outputs": [],
   "source": [
    "import dask.dataframe as dd\n",
    "import pandas as pd\n",
    "import json\n",
    "import sqlite3\n",
    "\n",
    "from pathlib import Path "
   ]
  },
  {
   "cell_type": "code",
   "execution_count": 3,
   "metadata": {},
   "outputs": [],
   "source": [
    "pd.set_option(\"max_colwidth\", 30)"
   ]
  },
  {
   "cell_type": "code",
   "execution_count": 4,
   "metadata": {},
   "outputs": [],
   "source": [
    "# Connect to database sqlite where to store the information regarding the Dribbble dataset.\n",
    "conn = sqlite3.connect(\"dribbble_temporary.db\")\n",
    "c = conn.cursor()"
   ]
  },
  {
   "cell_type": "markdown",
   "metadata": {},
   "source": [
    "# Shots\n",
    "\n",
    "This file contains information about the **shots** (posts) published by the users on Dribbble. \n",
    "\n",
    "The corresponding raw data is the file *shots.tsv*."
   ]
  },
  {
   "cell_type": "markdown",
   "metadata": {},
   "source": [
    "### Raw data visualization"
   ]
  },
  {
   "cell_type": "code",
   "execution_count": 5,
   "metadata": {},
   "outputs": [],
   "source": [
    "# Let's try to open the dataframe in order to visualize it.\n",
    "shots = dd.read_csv(Path(\"raw_data/shots.tsv\"), sep = \"\\t\", header = None, names = [\"author_shot\", \"info\"])"
   ]
  },
  {
   "cell_type": "code",
   "execution_count": 6,
   "metadata": {},
   "outputs": [
    {
     "data": {
      "text/html": [
       "<div>\n",
       "<style scoped>\n",
       "    .dataframe tbody tr th:only-of-type {\n",
       "        vertical-align: middle;\n",
       "    }\n",
       "\n",
       "    .dataframe tbody tr th {\n",
       "        vertical-align: top;\n",
       "    }\n",
       "\n",
       "    .dataframe thead th {\n",
       "        text-align: right;\n",
       "    }\n",
       "</style>\n",
       "<table border=\"1\" class=\"dataframe\">\n",
       "  <thead>\n",
       "    <tr style=\"text-align: right;\">\n",
       "      <th></th>\n",
       "      <th>author_shot</th>\n",
       "      <th>info</th>\n",
       "    </tr>\n",
       "  </thead>\n",
       "  <tbody>\n",
       "    <tr>\n",
       "      <th>0</th>\n",
       "      <td>cmaffuccio</td>\n",
       "      <td>[]</td>\n",
       "    </tr>\n",
       "    <tr>\n",
       "      <th>1</th>\n",
       "      <td>Hido</td>\n",
       "      <td>[]</td>\n",
       "    </tr>\n",
       "    <tr>\n",
       "      <th>2</th>\n",
       "      <td>Avagana</td>\n",
       "      <td>[]</td>\n",
       "    </tr>\n",
       "    <tr>\n",
       "      <th>3</th>\n",
       "      <td>prem_kumar</td>\n",
       "      <td>[]</td>\n",
       "    </tr>\n",
       "    <tr>\n",
       "      <th>4</th>\n",
       "      <td>bunninies</td>\n",
       "      <td>[]</td>\n",
       "    </tr>\n",
       "  </tbody>\n",
       "</table>\n",
       "</div>"
      ],
      "text/plain": [
       "  author_shot info\n",
       "0  cmaffuccio   []\n",
       "1        Hido   []\n",
       "2     Avagana   []\n",
       "3  prem_kumar   []\n",
       "4   bunninies   []"
      ]
     },
     "execution_count": 6,
     "metadata": {},
     "output_type": "execute_result"
    }
   ],
   "source": [
    "shots.head()"
   ]
  },
  {
   "cell_type": "code",
   "execution_count": 7,
   "metadata": {},
   "outputs": [
    {
     "data": {
      "text/html": [
       "<div>\n",
       "<style scoped>\n",
       "    .dataframe tbody tr th:only-of-type {\n",
       "        vertical-align: middle;\n",
       "    }\n",
       "\n",
       "    .dataframe tbody tr th {\n",
       "        vertical-align: top;\n",
       "    }\n",
       "\n",
       "    .dataframe thead th {\n",
       "        text-align: right;\n",
       "    }\n",
       "</style>\n",
       "<table border=\"1\" class=\"dataframe\">\n",
       "  <thead>\n",
       "    <tr style=\"text-align: right;\">\n",
       "      <th></th>\n",
       "      <th>author_shot</th>\n",
       "      <th>info</th>\n",
       "    </tr>\n",
       "  </thead>\n",
       "  <tbody>\n",
       "    <tr>\n",
       "      <th>135867</th>\n",
       "      <td>Shylash</td>\n",
       "      <td>[{\"height\": 300, \"comments...</td>\n",
       "    </tr>\n",
       "    <tr>\n",
       "      <th>135868</th>\n",
       "      <td>upensh</td>\n",
       "      <td>[{\"height\": 300, \"comments...</td>\n",
       "    </tr>\n",
       "    <tr>\n",
       "      <th>135869</th>\n",
       "      <td>JeroenSchaper</td>\n",
       "      <td>[{\"height\": 300, \"comments...</td>\n",
       "    </tr>\n",
       "    <tr>\n",
       "      <th>135870</th>\n",
       "      <td>barrios_tony</td>\n",
       "      <td>[{\"height\": 300, \"comments...</td>\n",
       "    </tr>\n",
       "    <tr>\n",
       "      <th>135871</th>\n",
       "      <td>vasstudio</td>\n",
       "      <td>[{\"height\": 300, \"comments...</td>\n",
       "    </tr>\n",
       "  </tbody>\n",
       "</table>\n",
       "</div>"
      ],
      "text/plain": [
       "          author_shot                           info\n",
       "135867        Shylash  [{\"height\": 300, \"comments...\n",
       "135868         upensh  [{\"height\": 300, \"comments...\n",
       "135869  JeroenSchaper  [{\"height\": 300, \"comments...\n",
       "135870   barrios_tony  [{\"height\": 300, \"comments...\n",
       "135871      vasstudio  [{\"height\": 300, \"comments..."
      ]
     },
     "execution_count": 7,
     "metadata": {},
     "output_type": "execute_result"
    }
   ],
   "source": [
    "shots.tail()"
   ]
  },
  {
   "cell_type": "code",
   "execution_count": 8,
   "metadata": {},
   "outputs": [
    {
     "data": {
      "text/plain": [
       "771264"
      ]
     },
     "execution_count": 8,
     "metadata": {},
     "output_type": "execute_result"
    }
   ],
   "source": [
    "# Get the number of rows of the dataframe.\n",
    "shots.shape[0].compute()"
   ]
  },
  {
   "cell_type": "markdown",
   "metadata": {},
   "source": [
    "Each author has a list of dictionaries. Each dictionary contains the information related to a shot published by the author."
   ]
  },
  {
   "cell_type": "markdown",
   "metadata": {},
   "source": [
    "### Unpack information from raw data"
   ]
  },
  {
   "cell_type": "code",
   "execution_count": 9,
   "metadata": {},
   "outputs": [],
   "source": [
    "# Read the large .tsv file with specified chunksize in order to preprocess it not all together.\n",
    "chunksize = 10000\n",
    "shots_chunk = pd.read_csv(Path(\"raw_data/shots.tsv\"), sep = \"\\t\", names = [\"author_shot\", \"info\"], chunksize = chunksize)"
   ]
  },
  {
   "cell_type": "code",
   "execution_count": 10,
   "metadata": {},
   "outputs": [
    {
     "name": "stdout",
     "output_type": "stream",
     "text": [
      "Cumulative not empty chunk: 530000\n",
      "Cumulative not empty chunk: 540000\n",
      "Cumulative not empty chunk: 550000\n",
      "Cumulative not empty chunk: 560000\n",
      "Cumulative not empty chunk: 570000\n",
      "Cumulative not empty chunk: 580000\n",
      "Cumulative not empty chunk: 590000\n",
      "Cumulative not empty chunk: 600000\n",
      "Cumulative not empty chunk: 610000\n",
      "Cumulative not empty chunk: 620000\n",
      "Cumulative not empty chunk: 630000\n",
      "Cumulative not empty chunk: 640000\n",
      "Cumulative not empty chunk: 650000\n",
      "Cumulative not empty chunk: 670000\n",
      "Cumulative not empty chunk: 780000\n"
     ]
    }
   ],
   "source": [
    "chunk_list = list()\n",
    "authors_no_shots = list()\n",
    "\n",
    "# Each chunk is a dataframe.\n",
    "for i,chunk in enumerate(shots_chunk):\n",
    "    # Store information about authors with no shots. \n",
    "    authors_no_shots.append(chunk.loc[(chunk[\"info\"] == \"[]\")][\"author_shot\"].values)\n",
    "    # Remove empty 'info' rows.\n",
    "    chunk = chunk.loc[~(chunk[\"info\"] == \"[]\")]\n",
    "    if not chunk.empty:\n",
    "        print(\"Cumulative not empty chunk: %d\" % (chunksize*(i+1)))\n",
    "        # We evaluate each row that contain strings containing Python expressions.\n",
    "        chunk[\"info\"] = chunk[\"info\"].apply(lambda x: json.loads(x))\n",
    "        # Flatten list of list over columns.\n",
    "        chunk = chunk.explode(\"info\")\n",
    "        # Store the information regarding the authors of the shots.\n",
    "        authors = chunk[\"author_shot\"]\n",
    "        # Extract all the information from this chunk of data.\n",
    "        chunk = pd.json_normalize(chunk[\"info\"])\n",
    "        # Reassign the author feature.\n",
    "        chunk[\"author_shot\"] = authors.values\n",
    "\n",
    "        # Save the current chunk of data into list.\n",
    "        chunk_list.append(chunk)"
   ]
  },
  {
   "cell_type": "code",
   "execution_count": 11,
   "metadata": {},
   "outputs": [],
   "source": [
    "# Concatenate all data of authors with at least one shot published.\n",
    "shots = pd.concat(chunk_list, ignore_index = False).reset_index(drop = True)"
   ]
  },
  {
   "cell_type": "code",
   "execution_count": 12,
   "metadata": {},
   "outputs": [
    {
     "data": {
      "text/plain": [
       "Index(['id', 'title', 'description', 'width', 'height', 'views_count',\n",
       "       'likes_count', 'comments_count', 'attachments_count', 'rebounds_count',\n",
       "       'buckets_count', 'created_at', 'updated_at', 'html_url',\n",
       "       'attachments_url', 'buckets_url', 'comments_url', 'likes_url',\n",
       "       'projects_url', 'rebounds_url', 'animated', 'tags', 'team',\n",
       "       'images.hidpi', 'images.normal', 'images.teaser', 'team.id',\n",
       "       'team.name', 'team.username', 'team.html_url', 'team.avatar_url',\n",
       "       'team.bio', 'team.location', 'team.links.web', 'team.links.twitter',\n",
       "       'team.buckets_count', 'team.comments_received_count',\n",
       "       'team.followers_count', 'team.followings_count', 'team.likes_count',\n",
       "       'team.likes_received_count', 'team.projects_count',\n",
       "       'team.rebounds_received_count', 'team.shots_count',\n",
       "       'team.can_upload_shot', 'team.type', 'team.pro', 'team.buckets_url',\n",
       "       'team.followers_url', 'team.following_url', 'team.likes_url',\n",
       "       'team.projects_url', 'team.shots_url', 'team.created_at',\n",
       "       'team.updated_at', 'team.members_count', 'team.members_url',\n",
       "       'team.team_shots_url', 'rebound_source_url', 'author_shot'],\n",
       "      dtype='object')"
      ]
     },
     "execution_count": 12,
     "metadata": {},
     "output_type": "execute_result"
    }
   ],
   "source": [
    "shots.columns"
   ]
  },
  {
   "cell_type": "code",
   "execution_count": 13,
   "metadata": {},
   "outputs": [],
   "source": [
    "# Replace '.' character in all column names with '_'.\n",
    "shots.columns = shots.columns.str.replace(\".\", \"_\")"
   ]
  },
  {
   "cell_type": "markdown",
   "metadata": {},
   "source": [
    "### Preprocessing"
   ]
  },
  {
   "cell_type": "code",
   "execution_count": 14,
   "metadata": {},
   "outputs": [],
   "source": [
    "# Load file that maps the multiple usernames of the 'users' table into an unique information.\n",
    "with open(\"users_mapper_username.json\") as f:\n",
    "    map_users_multiple_profiles = json.load(f)"
   ]
  },
  {
   "cell_type": "code",
   "execution_count": 15,
   "metadata": {},
   "outputs": [],
   "source": [
    "# Flatten list of authors with no shots.\n",
    "authors_no_shots = pd.Series(authors_no_shots).explode().reset_index(drop = True)"
   ]
  },
  {
   "cell_type": "code",
   "execution_count": 16,
   "metadata": {},
   "outputs": [
    {
     "name": "stdout",
     "output_type": "stream",
     "text": [
      "n° of 'author_shot' usernames remapped: 4559\n",
      "n° of 'team_username' usernames remapped: 270\n",
      "n° of 'author no shots' usernames remapped: 440\n"
     ]
    }
   ],
   "source": [
    "# We map the usernames with multiple profiles into 'users' table to have a single value.\n",
    "# 'author'.\n",
    "author_map = shots.author_shot[shots.author_shot.isin(map_users_multiple_profiles.keys())].map(map_users_multiple_profiles, na_action = \"ignore\")\n",
    "print(\"n° of 'author_shot' usernames remapped: %d\" % len(author_map))\n",
    "shots.author_shot.loc[author_map.index] = author_map\n",
    "\n",
    "# 'team_username'.\n",
    "team_username_map = shots.team_username[shots.team_username.isin(map_users_multiple_profiles.keys())].map(map_users_multiple_profiles, na_action = \"ignore\")\n",
    "print(\"n° of 'team_username' usernames remapped: %d\" % len(team_username_map))\n",
    "shots.team_username.loc[team_username_map.index] = team_username_map\n",
    "\n",
    "# Authors with no shots.\n",
    "author_map_no_shots = authors_no_shots[authors_no_shots.isin(map_users_multiple_profiles.keys())].map(map_users_multiple_profiles, na_action = \"ignore\")\n",
    "print(\"n° of 'author no shots' usernames remapped: %d\" % len(author_map_no_shots))\n",
    "authors_no_shots.loc[author_map_no_shots.index] = author_map_no_shots"
   ]
  },
  {
   "cell_type": "code",
   "execution_count": 17,
   "metadata": {},
   "outputs": [],
   "source": [
    "# We can't check the duplicated rows of 'shots' table due to 'tags' feature that contains lists."
   ]
  },
  {
   "cell_type": "code",
   "execution_count": 18,
   "metadata": {},
   "outputs": [
    {
     "data": {
      "text/plain": [
       "0"
      ]
     },
     "execution_count": 18,
     "metadata": {},
     "output_type": "execute_result"
    }
   ],
   "source": [
    "# Check if there are some NaN authors into the authors with at least one shot published.\n",
    "shots.author_shot.isna().sum()"
   ]
  },
  {
   "cell_type": "code",
   "execution_count": 19,
   "metadata": {},
   "outputs": [
    {
     "data": {
      "text/plain": [
       "395"
      ]
     },
     "execution_count": 19,
     "metadata": {},
     "output_type": "execute_result"
    }
   ],
   "source": [
    "# Check duplicated rows.\n",
    "authors_no_shots.duplicated().sum()"
   ]
  },
  {
   "cell_type": "code",
   "execution_count": 20,
   "metadata": {},
   "outputs": [],
   "source": [
    "# Remove duplicated rows.\n",
    "authors_no_shots.drop_duplicates(inplace = True)"
   ]
  },
  {
   "cell_type": "code",
   "execution_count": 21,
   "metadata": {},
   "outputs": [
    {
     "data": {
      "text/plain": [
       "1"
      ]
     },
     "execution_count": 21,
     "metadata": {},
     "output_type": "execute_result"
    }
   ],
   "source": [
    "# Check if there are some NaN authors into the authors with no shots.\n",
    "authors_no_shots.isna().sum()"
   ]
  },
  {
   "cell_type": "code",
   "execution_count": 22,
   "metadata": {},
   "outputs": [],
   "source": [
    "# Remove NaN values.\n",
    "authors_no_shots.dropna(inplace = True)"
   ]
  },
  {
   "cell_type": "code",
   "execution_count": 23,
   "metadata": {
    "scrolled": true
   },
   "outputs": [
    {
     "data": {
      "text/plain": [
       "['WongShen',\n",
       " 'shaun42',\n",
       " 'M-cony',\n",
       " 'adityapramana',\n",
       " 'andy0nly',\n",
       " 'moveworks',\n",
       " 'Shawn_',\n",
       " 'advarto',\n",
       " 'im_abhishekp',\n",
       " 'gateui',\n",
       " 'fishliu',\n",
       " 'przemob',\n",
       " 'Tetef',\n",
       " 'gilsah',\n",
       " 'skinnersweet',\n",
       " 'claudiatame7',\n",
       " 'lekeojo',\n",
       " 'analemos',\n",
       " 'Ryan77',\n",
       " 'dellfi',\n",
       " 'seahuang',\n",
       " 'm4rp79',\n",
       " 'primaua',\n",
       " 'J_R_Speed',\n",
       " 'qed42',\n",
       " 'Gushn',\n",
       " 'origomez',\n",
       " 'YoussefEmadEldin',\n",
       " 'toyfu',\n",
       " 'isaaclemon',\n",
       " 'joshbaptista',\n",
       " 'Mister_Undying',\n",
       " 'mashenka',\n",
       " 'julialitkevich',\n",
       " 'Snow911',\n",
       " 'Leo_deisgn',\n",
       " 'hellofello',\n",
       " 'FabianSM',\n",
       " 'ivv',\n",
       " 'noobitter',\n",
       " 'ShinDoeun',\n",
       " 'mark41',\n",
       " 'larsroed',\n",
       " 'lukas-nkz',\n",
       " 'humam',\n",
       " 'Dreamy123',\n",
       " 'claudiamorales',\n",
       " 'NANCYGONG']"
      ]
     },
     "execution_count": 23,
     "metadata": {},
     "output_type": "execute_result"
    }
   ],
   "source": [
    "# Check if there exist an intersection between the users with at least one shot and the users with no shots.\n",
    "intersection = list(set(shots.author_shot.unique()) & set(authors_no_shots))\n",
    "intersection"
   ]
  },
  {
   "cell_type": "code",
   "execution_count": 24,
   "metadata": {},
   "outputs": [
    {
     "data": {
      "text/plain": [
       "48"
      ]
     },
     "execution_count": 24,
     "metadata": {},
     "output_type": "execute_result"
    }
   ],
   "source": [
    "len(intersection)"
   ]
  },
  {
   "cell_type": "code",
   "execution_count": 25,
   "metadata": {},
   "outputs": [],
   "source": [
    "# Not consider these users into the users with no shots.\n",
    "authors_no_shots = authors_no_shots.loc[~authors_no_shots.isin(intersection)]"
   ]
  },
  {
   "cell_type": "code",
   "execution_count": 26,
   "metadata": {},
   "outputs": [
    {
     "data": {
      "text/plain": [
       "[]"
      ]
     },
     "execution_count": 26,
     "metadata": {},
     "output_type": "execute_result"
    }
   ],
   "source": [
    "list(set(shots.author_shot.unique()) & set(authors_no_shots))"
   ]
  },
  {
   "cell_type": "code",
   "execution_count": 27,
   "metadata": {},
   "outputs": [],
   "source": [
    "# We delete all the features containing an 'url' information (not of interest).\n",
    "shots.drop([\"html_url\", \"attachments_url\", \"buckets_url\", \"comments_url\", \"likes_url\", \"projects_url\", \"rebounds_url\",\n",
    "            \"team_html_url\", \"team_avatar_url\", \"team_links_web\", \"team_links_twitter\", \"team_buckets_url\", \n",
    "            \"team_followers_url\", \"team_following_url\", \"team_likes_url\", \"team_projects_url\", \"team_shots_url\", \n",
    "            \"team_members_url\", \"team_team_shots_url\", \"rebound_source_url\"], axis = 1, inplace = True)"
   ]
  },
  {
   "cell_type": "code",
   "execution_count": 28,
   "metadata": {},
   "outputs": [],
   "source": [
    "# We also delete the 'images' url (not of interest).\n",
    "shots.drop([\"images_hidpi\", \"images_normal\", \"images_teaser\"], axis = 1, inplace = True)"
   ]
  },
  {
   "cell_type": "code",
   "execution_count": 29,
   "metadata": {},
   "outputs": [],
   "source": [
    "# Rename the 'id' column corresponding to the shot.\n",
    "shots.rename({\"id\": \"shot_id\", \"tags\": \"tag\"}, axis = 1, inplace = True)"
   ]
  },
  {
   "cell_type": "code",
   "execution_count": 30,
   "metadata": {},
   "outputs": [],
   "source": [
    "# Add to the dataframe the information regarding the users with no shots.\n",
    "no_shots = pd.DataFrame(columns = shots.columns)\n",
    "no_shots[\"author_shot\"] = authors_no_shots.values\n",
    "\n",
    "shots = pd.concat([shots, no_shots], ignore_index = False).reset_index(drop = True)"
   ]
  },
  {
   "cell_type": "code",
   "execution_count": 31,
   "metadata": {},
   "outputs": [
    {
     "data": {
      "text/html": [
       "<div>\n",
       "<style scoped>\n",
       "    .dataframe tbody tr th:only-of-type {\n",
       "        vertical-align: middle;\n",
       "    }\n",
       "\n",
       "    .dataframe tbody tr th {\n",
       "        vertical-align: top;\n",
       "    }\n",
       "\n",
       "    .dataframe thead th {\n",
       "        text-align: right;\n",
       "    }\n",
       "</style>\n",
       "<table border=\"1\" class=\"dataframe\">\n",
       "  <thead>\n",
       "    <tr style=\"text-align: right;\">\n",
       "      <th></th>\n",
       "      <th>shot_id</th>\n",
       "      <th>title</th>\n",
       "      <th>description</th>\n",
       "      <th>width</th>\n",
       "      <th>height</th>\n",
       "      <th>views_count</th>\n",
       "      <th>likes_count</th>\n",
       "      <th>comments_count</th>\n",
       "      <th>attachments_count</th>\n",
       "      <th>rebounds_count</th>\n",
       "      <th>...</th>\n",
       "      <th>team_projects_count</th>\n",
       "      <th>team_rebounds_received_count</th>\n",
       "      <th>team_shots_count</th>\n",
       "      <th>team_can_upload_shot</th>\n",
       "      <th>team_type</th>\n",
       "      <th>team_pro</th>\n",
       "      <th>team_created_at</th>\n",
       "      <th>team_updated_at</th>\n",
       "      <th>team_members_count</th>\n",
       "      <th>author_shot</th>\n",
       "    </tr>\n",
       "  </thead>\n",
       "  <tbody>\n",
       "    <tr>\n",
       "      <th>0</th>\n",
       "      <td>3549658</td>\n",
       "      <td>Cinema Festival App Part.1</td>\n",
       "      <td>&lt;p&gt;What's up Dribbblers!&lt;/...</td>\n",
       "      <td>400</td>\n",
       "      <td>300</td>\n",
       "      <td>1611</td>\n",
       "      <td>51</td>\n",
       "      <td>5</td>\n",
       "      <td>0</td>\n",
       "      <td>0</td>\n",
       "      <td>...</td>\n",
       "      <td>NaN</td>\n",
       "      <td>NaN</td>\n",
       "      <td>NaN</td>\n",
       "      <td>NaN</td>\n",
       "      <td>NaN</td>\n",
       "      <td>NaN</td>\n",
       "      <td>NaN</td>\n",
       "      <td>NaN</td>\n",
       "      <td>NaN</td>\n",
       "      <td>max_palyvoda</td>\n",
       "    </tr>\n",
       "    <tr>\n",
       "      <th>1</th>\n",
       "      <td>3254544</td>\n",
       "      <td>Smart Home App Concept</td>\n",
       "      <td>&lt;p&gt;What's up Dribbblers!\\n...</td>\n",
       "      <td>400</td>\n",
       "      <td>300</td>\n",
       "      <td>3263</td>\n",
       "      <td>101</td>\n",
       "      <td>7</td>\n",
       "      <td>0</td>\n",
       "      <td>0</td>\n",
       "      <td>...</td>\n",
       "      <td>NaN</td>\n",
       "      <td>NaN</td>\n",
       "      <td>NaN</td>\n",
       "      <td>NaN</td>\n",
       "      <td>NaN</td>\n",
       "      <td>NaN</td>\n",
       "      <td>NaN</td>\n",
       "      <td>NaN</td>\n",
       "      <td>NaN</td>\n",
       "      <td>max_palyvoda</td>\n",
       "    </tr>\n",
       "    <tr>\n",
       "      <th>2</th>\n",
       "      <td>3153930</td>\n",
       "      <td>Pre-Order App For Cafe</td>\n",
       "      <td>&lt;p&gt;Hello, Dribbblers!\\n&lt;br...</td>\n",
       "      <td>400</td>\n",
       "      <td>300</td>\n",
       "      <td>5769</td>\n",
       "      <td>192</td>\n",
       "      <td>26</td>\n",
       "      <td>0</td>\n",
       "      <td>0</td>\n",
       "      <td>...</td>\n",
       "      <td>NaN</td>\n",
       "      <td>NaN</td>\n",
       "      <td>NaN</td>\n",
       "      <td>NaN</td>\n",
       "      <td>NaN</td>\n",
       "      <td>NaN</td>\n",
       "      <td>NaN</td>\n",
       "      <td>NaN</td>\n",
       "      <td>NaN</td>\n",
       "      <td>max_palyvoda</td>\n",
       "    </tr>\n",
       "    <tr>\n",
       "      <th>3</th>\n",
       "      <td>3732805</td>\n",
       "      <td>Threenity Logo Design</td>\n",
       "      <td>&lt;p&gt;Hellow fellow dribbbler...</td>\n",
       "      <td>400</td>\n",
       "      <td>300</td>\n",
       "      <td>445</td>\n",
       "      <td>44</td>\n",
       "      <td>4</td>\n",
       "      <td>0</td>\n",
       "      <td>0</td>\n",
       "      <td>...</td>\n",
       "      <td>NaN</td>\n",
       "      <td>NaN</td>\n",
       "      <td>NaN</td>\n",
       "      <td>NaN</td>\n",
       "      <td>NaN</td>\n",
       "      <td>NaN</td>\n",
       "      <td>NaN</td>\n",
       "      <td>NaN</td>\n",
       "      <td>NaN</td>\n",
       "      <td>miketanael</td>\n",
       "    </tr>\n",
       "    <tr>\n",
       "      <th>4</th>\n",
       "      <td>2686725</td>\n",
       "      <td>Real Estate collaboration ...</td>\n",
       "      <td>&lt;p&gt;ProTitle360 let lawyers...</td>\n",
       "      <td>400</td>\n",
       "      <td>300</td>\n",
       "      <td>1309</td>\n",
       "      <td>27</td>\n",
       "      <td>0</td>\n",
       "      <td>1</td>\n",
       "      <td>0</td>\n",
       "      <td>...</td>\n",
       "      <td>5.0</td>\n",
       "      <td>11.0</td>\n",
       "      <td>121.0</td>\n",
       "      <td>True</td>\n",
       "      <td>Team</td>\n",
       "      <td>False</td>\n",
       "      <td>2014-10-17T01:51:16Z</td>\n",
       "      <td>2017-12-18T17:09:03Z</td>\n",
       "      <td>18.0</td>\n",
       "      <td>citrusbyte</td>\n",
       "    </tr>\n",
       "  </tbody>\n",
       "</table>\n",
       "<p>5 rows × 37 columns</p>\n",
       "</div>"
      ],
      "text/plain": [
       "   shot_id                          title                    description  \\\n",
       "0  3549658    Cinema Festival App Part.1   <p>What's up Dribbblers!</...   \n",
       "1  3254544         Smart Home App Concept  <p>What's up Dribbblers!\\n...   \n",
       "2  3153930         Pre-Order App For Cafe  <p>Hello, Dribbblers!\\n<br...   \n",
       "3  3732805          Threenity Logo Design  <p>Hellow fellow dribbbler...   \n",
       "4  2686725  Real Estate collaboration ...  <p>ProTitle360 let lawyers...   \n",
       "\n",
       "  width height views_count likes_count comments_count attachments_count  \\\n",
       "0   400    300        1611          51              5                 0   \n",
       "1   400    300        3263         101              7                 0   \n",
       "2   400    300        5769         192             26                 0   \n",
       "3   400    300         445          44              4                 0   \n",
       "4   400    300        1309          27              0                 1   \n",
       "\n",
       "  rebounds_count  ... team_projects_count team_rebounds_received_count  \\\n",
       "0              0  ...                 NaN                          NaN   \n",
       "1              0  ...                 NaN                          NaN   \n",
       "2              0  ...                 NaN                          NaN   \n",
       "3              0  ...                 NaN                          NaN   \n",
       "4              0  ...                 5.0                         11.0   \n",
       "\n",
       "  team_shots_count team_can_upload_shot team_type  team_pro  \\\n",
       "0              NaN                  NaN       NaN       NaN   \n",
       "1              NaN                  NaN       NaN       NaN   \n",
       "2              NaN                  NaN       NaN       NaN   \n",
       "3              NaN                  NaN       NaN       NaN   \n",
       "4            121.0                 True      Team     False   \n",
       "\n",
       "        team_created_at       team_updated_at team_members_count   author_shot  \n",
       "0                   NaN                   NaN                NaN  max_palyvoda  \n",
       "1                   NaN                   NaN                NaN  max_palyvoda  \n",
       "2                   NaN                   NaN                NaN  max_palyvoda  \n",
       "3                   NaN                   NaN                NaN    miketanael  \n",
       "4  2014-10-17T01:51:16Z  2017-12-18T17:09:03Z               18.0    citrusbyte  \n",
       "\n",
       "[5 rows x 37 columns]"
      ]
     },
     "execution_count": 31,
     "metadata": {},
     "output_type": "execute_result"
    }
   ],
   "source": [
    "shots.head()"
   ]
  },
  {
   "cell_type": "code",
   "execution_count": 32,
   "metadata": {},
   "outputs": [
    {
     "name": "stdout",
     "output_type": "stream",
     "text": [
      "True\n",
      "True\n",
      "True\n",
      "True\n"
     ]
    }
   ],
   "source": [
    "# Check if all the dates end with 'Z': Zulu timezone (UTC). Greenwich zone. No time difference between Greenwich Mean Time and Coordinated Universal Time.\n",
    "print(shots.team_created_at.dropna().str.endswith(\"Z\").all())\n",
    "print(shots.team_updated_at.dropna().str.endswith(\"Z\").all())\n",
    "print(shots.created_at.str.endswith(\"Z\").all())\n",
    "print(shots.updated_at.str.endswith(\"Z\").all())"
   ]
  },
  {
   "cell_type": "code",
   "execution_count": 33,
   "metadata": {},
   "outputs": [],
   "source": [
    "# Convert to datetime UTC.\n",
    "# We decide to not save the UTC offset (+00:00).\n",
    "shots.team_created_at = pd.to_datetime(shots.team_created_at, utc = True).dt.tz_convert(None)\n",
    "shots.team_updated_at = pd.to_datetime(shots.team_updated_at, utc = True).dt.tz_convert(None)\n",
    "shots.created_at = pd.to_datetime(shots.created_at, utc = True).dt.tz_convert(None)\n",
    "shots.updated_at = pd.to_datetime(shots.updated_at, utc = True).dt.tz_convert(None)"
   ]
  },
  {
   "cell_type": "code",
   "execution_count": 34,
   "metadata": {},
   "outputs": [
    {
     "data": {
      "text/plain": [
       "False"
      ]
     },
     "execution_count": 34,
     "metadata": {},
     "output_type": "execute_result"
    }
   ],
   "source": [
    "# Check if users into 'team_username' are always contained into 'author_shot'.\n",
    "set(shots.team_username.dropna().unique()).issubset(set(shots.author_shot.unique()))"
   ]
  },
  {
   "cell_type": "code",
   "execution_count": 35,
   "metadata": {},
   "outputs": [
    {
     "data": {
      "text/plain": [
       "['uberdigital',\n",
       " 'plasso',\n",
       " 'cusy',\n",
       " 'parasut',\n",
       " 'dsnmfg',\n",
       " 'monterail',\n",
       " 'songkick',\n",
       " 'brandalmanac',\n",
       " 'CoSchedule',\n",
       " 'jivesoftware',\n",
       " 'needledesignteam',\n",
       " 'TheVariable',\n",
       " 'allturtles',\n",
       " 'btc-media',\n",
       " 'wearewky',\n",
       " 'powster',\n",
       " 'lftechnology',\n",
       " 'betterup',\n",
       " 'hellokitka',\n",
       " 'linitix',\n",
       " 'piasagames',\n",
       " 'SAP_PI_TOOLS',\n",
       " 'paddle',\n",
       " 'InfoShell',\n",
       " 'autopilothq',\n",
       " 'beamery',\n",
       " 'cprojectpro',\n",
       " 'naturalcycles',\n",
       " 'pacifichelm',\n",
       " 'evermix',\n",
       " 'nwpropaganda',\n",
       " 'itomychstudio',\n",
       " 'EventMobi',\n",
       " 'inboundfit',\n",
       " 'microsoftedge',\n",
       " 'saltedstone',\n",
       " 'prototypeberlin',\n",
       " 'Bankin',\n",
       " 'uxdots',\n",
       " 'etsy',\n",
       " 'Wizeline',\n",
       " 'noaveau',\n",
       " 'operabrowser',\n",
       " 'pinsight',\n",
       " 'webstronauts',\n",
       " 'codefantasy',\n",
       " 'stevens',\n",
       " 'hustledesign',\n",
       " 'bossanova',\n",
       " 'DueDilDesigner',\n",
       " 'builtbygood',\n",
       " 'EDITED',\n",
       " 'mytaxi',\n",
       " 'superluckyboy',\n",
       " 'zhizai',\n",
       " 'meural',\n",
       " 'fasten',\n",
       " 'sillynessco',\n",
       " 'mirumee',\n",
       " 'pie_mappping',\n",
       " 'ammunitionagency',\n",
       " 'FormAssembly',\n",
       " 'xo',\n",
       " 'bithound',\n",
       " 'tremendousness',\n",
       " 'sprk',\n",
       " 'cameo',\n",
       " 'bigcartel',\n",
       " 'kayako',\n",
       " 'MoneySuperMarket',\n",
       " 'paystack',\n",
       " 'TravelexCXD',\n",
       " 'jordieyap',\n",
       " 'wealthfront',\n",
       " 'StudioAnd',\n",
       " 'sequr',\n",
       " 'thisbrilliantaffair',\n",
       " 'monzo',\n",
       " 'oceanio',\n",
       " 'codeandmortar',\n",
       " 'wearetelegraph',\n",
       " 'loftyword',\n",
       " 'ProdoDigital',\n",
       " 'spiilka',\n",
       " 'kapowgames',\n",
       " 'svk',\n",
       " 'Sensetalentlabs',\n",
       " 'tribalistanbul',\n",
       " 'inves',\n",
       " 'JamesCookPublishing',\n",
       " 'inplayer',\n",
       " 'estadodigital',\n",
       " 'CHFcreative',\n",
       " 'gboxvideo',\n",
       " 'nokiahealth',\n",
       " 'gtmhub',\n",
       " 'optimize',\n",
       " 'wixel',\n",
       " 'etecc',\n",
       " 'sthor',\n",
       " 'omniperforms',\n",
       " 'Coursera',\n",
       " 'holysheepteam',\n",
       " 'evnedev',\n",
       " 'sneakersagency',\n",
       " 'bloc',\n",
       " 'Lookupto',\n",
       " 'netsoarsolutionsinc',\n",
       " 'beardedstudio',\n",
       " 'deskpro',\n",
       " 'BlondeDutchGirl',\n",
       " 'Dictionarycom',\n",
       " 'Joist',\n",
       " 'omni',\n",
       " 'zivtech',\n",
       " 'Crello',\n",
       " 'emoney',\n",
       " 'swd',\n",
       " 'themeskingdom',\n",
       " 'dividdesigns',\n",
       " 'bebo_official',\n",
       " 'Syncano',\n",
       " 'gameux163',\n",
       " 'codio',\n",
       " 'few',\n",
       " 'stfalconcom',\n",
       " 'baxtergroup',\n",
       " 'tenforward',\n",
       " 'vaadin',\n",
       " 'avividvisual',\n",
       " 'Painless1099',\n",
       " 'datarobot',\n",
       " 'usemo',\n",
       " 'lookout',\n",
       " 'mapbox',\n",
       " 'TEAM4D',\n",
       " 'ReeferRadness',\n",
       " 'capitalone',\n",
       " 'edXOnline',\n",
       " 'markenwerk',\n",
       " 'transfix',\n",
       " 'dayy',\n",
       " 'Whitespace_SE',\n",
       " 'alcatel',\n",
       " 'Limely',\n",
       " 'warriorsofcode',\n",
       " 'OKDOTHIS',\n",
       " 'weworkweplay',\n",
       " 'vpgraphicx',\n",
       " 'HeyJoeCoffee',\n",
       " 'rocketbank',\n",
       " 'tapfox',\n",
       " 'DigitalKrikitsR',\n",
       " 'rockettown',\n",
       " 'samcartapp',\n",
       " 'handup',\n",
       " 'Liveperson',\n",
       " 'calmdigital',\n",
       " 'geoaday',\n",
       " 'graphcool',\n",
       " 'purefusionmedia',\n",
       " 'revealstudio',\n",
       " 'CrewDesign',\n",
       " 'beyond',\n",
       " 'immersus',\n",
       " 'demodern',\n",
       " 'superherocheesecake',\n",
       " 'apttus',\n",
       " 'gvio',\n",
       " 'redrokk',\n",
       " 'daresayab',\n",
       " 'cheesecakelabs',\n",
       " 'sunnycloud',\n",
       " 'trueagency',\n",
       " 'instacart',\n",
       " 'EtchNSketch',\n",
       " 'modest',\n",
       " 'madmimi',\n",
       " 'notabli',\n",
       " 'izi-travel',\n",
       " 'tiket',\n",
       " 'minabastapolare',\n",
       " 'connected',\n",
       " 'OkDoCo',\n",
       " 'DatacomPayroll',\n",
       " 'pilot',\n",
       " 'fredswan',\n",
       " 'astoundify',\n",
       " 'pixense',\n",
       " 'sumup',\n",
       " 'ChatterBuzzMedia',\n",
       " 'uikit',\n",
       " 'brvnd',\n",
       " 'microsoft',\n",
       " 'studio1344',\n",
       " 'BrilliantBasics',\n",
       " 'flocabulary',\n",
       " 'AppetizerMobile',\n",
       " 'Hellomoon',\n",
       " 'meniga',\n",
       " 'ideasoncanvas',\n",
       " 'palmandco',\n",
       " 'parisleaf',\n",
       " 'inFakt',\n",
       " 'mintdigital',\n",
       " 'bitriothq',\n",
       " '97thfloor',\n",
       " 'minimalapps',\n",
       " 'cwsdigital',\n",
       " 'Innovify',\n",
       " 'sparkexperience',\n",
       " 'k12insight',\n",
       " 'okgo',\n",
       " 'foremost',\n",
       " 'tictail',\n",
       " 'DocuSign',\n",
       " 'crankapps',\n",
       " 'hiq',\n",
       " 'cuoma',\n",
       " 'Aireal',\n",
       " 'currencyfair',\n",
       " '3owlmedia',\n",
       " 'uxs',\n",
       " 'Wacom',\n",
       " 'salesforceiq',\n",
       " 'bigbinary',\n",
       " 'onward',\n",
       " 'PlugandPlay1',\n",
       " 'netjelly',\n",
       " 'concentricsky',\n",
       " 'PerfectLine',\n",
       " 'apartmentlist',\n",
       " 'bitmatica',\n",
       " 'Cellairis',\n",
       " 'StudioArtisse',\n",
       " 'maleoteam',\n",
       " 'PremeraMobile',\n",
       " 'pubu',\n",
       " 'flowroute',\n",
       " 'resource',\n",
       " 'siili',\n",
       " 'evaneos',\n",
       " 'lumosity',\n",
       " 'onehub',\n",
       " 'zenefits',\n",
       " 'saucey',\n",
       " 'bixin',\n",
       " 'classy',\n",
       " 'niceandneat',\n",
       " 'Gratipay',\n",
       " 'swishvideo',\n",
       " 'Unity',\n",
       " 'pisano',\n",
       " 'roanuz',\n",
       " 'klaviyo',\n",
       " 'Policygenius',\n",
       " 'therectangles',\n",
       " 'Exceptional',\n",
       " 'studiozeldman',\n",
       " 'HillaryousRamenSet',\n",
       " 'polarbit',\n",
       " 'glue',\n",
       " 'meticulous',\n",
       " 'unleashla',\n",
       " 'codementor',\n",
       " 'rogerai',\n",
       " 'Chec',\n",
       " 'mainstay',\n",
       " 'swdst',\n",
       " 'VISUALITY',\n",
       " 'cardinalsolutions',\n",
       " 'Aloki',\n",
       " 'appstronaut',\n",
       " 'leadhub',\n",
       " 'jimdo',\n",
       " 'ok',\n",
       " 'beezy',\n",
       " 'thejibe',\n",
       " 'studiotocka',\n",
       " 'methodandcraft',\n",
       " 'giftee',\n",
       " 'mobivity',\n",
       " 'SaveHoney',\n",
       " 'producthunt',\n",
       " 'Aintu',\n",
       " 'tribalplanet',\n",
       " 'Branded3',\n",
       " 'hackhub',\n",
       " 'inspi',\n",
       " 'iamparagon',\n",
       " 'oovoo',\n",
       " 'voog',\n",
       " 'CompuGain',\n",
       " 'bold',\n",
       " 'flywheeldesignco',\n",
       " 'eyesonly',\n",
       " 'superfriendly',\n",
       " 'monsterteam',\n",
       " 'lift',\n",
       " 'spoil',\n",
       " 'northpointe',\n",
       " 'TwoCards',\n",
       " 'adeprimo',\n",
       " 'abacus',\n",
       " 'nodivide',\n",
       " 'tripadvisor',\n",
       " 'codetasty',\n",
       " 'xcubelabsdesign',\n",
       " 'warp_digital',\n",
       " 'wedia',\n",
       " 'siftscience',\n",
       " 'fontspring',\n",
       " 'originatedesign',\n",
       " 'MayHQ',\n",
       " 'kontist',\n",
       " 'bunkrapp',\n",
       " 'bowerlabs',\n",
       " 'WeAreMonday',\n",
       " 'ideakraft',\n",
       " 'Mindspace',\n",
       " '36team',\n",
       " 'adroll',\n",
       " 'mindoula',\n",
       " 'Place',\n",
       " 'TeamSnap',\n",
       " 'NetGon',\n",
       " 'HELMSWORKSHOP',\n",
       " 'elevate',\n",
       " 'PixelCutLabs',\n",
       " 'sugarux',\n",
       " 'sparkcentral',\n",
       " 'devmynd',\n",
       " 'thegarage',\n",
       " 'LBRJK',\n",
       " 'factoredstudio',\n",
       " 'logojoy',\n",
       " 'atzuche',\n",
       " 'oneday_interact',\n",
       " 'baunfire',\n",
       " 'primerco',\n",
       " 'perka',\n",
       " 'brewex',\n",
       " 'uptake_design',\n",
       " 'konstantinfo',\n",
       " 'wpi',\n",
       " 'shoplo',\n",
       " 'superteamdeluxe',\n",
       " 'teamgrid',\n",
       " 'brew',\n",
       " 'touchlab',\n",
       " 'spaceteam',\n",
       " 'decemberlabs',\n",
       " 'crankandlever',\n",
       " 'VisualCreation',\n",
       " 'moneybird',\n",
       " 'Boldium',\n",
       " 'freeletics',\n",
       " 'countly',\n",
       " '3estudio',\n",
       " 'stuffandnonsense',\n",
       " 'designsprinkles',\n",
       " 'exr',\n",
       " 'FullCircleSthlm',\n",
       " 'calltodesign',\n",
       " 'legendarybots',\n",
       " 'schedual',\n",
       " 'eddie_bedrosian',\n",
       " 'pandiweb',\n",
       " 'Potentia',\n",
       " 'uniqpath',\n",
       " 'sperlinginteractive',\n",
       " 'Telerik_',\n",
       " 'hashnode',\n",
       " 'ravelin',\n",
       " 'beastagency',\n",
       " 'campfireandco',\n",
       " 'bistrostudios',\n",
       " 'perpetio',\n",
       " 'twilio',\n",
       " 'Alkemy',\n",
       " 'kustomer',\n",
       " 'bigroomstudios',\n",
       " 'inuvo',\n",
       " 'tgdesign',\n",
       " 'laruche',\n",
       " 'WSUGD2016',\n",
       " 'skypedesign',\n",
       " 'usehike',\n",
       " 'uniicode',\n",
       " 'digitalalphas',\n",
       " 'cotm',\n",
       " 'flipagram',\n",
       " 'okcupid',\n",
       " 'orangedigital',\n",
       " 'smartpeople',\n",
       " 'coffeeandcode',\n",
       " 'FIREANTSTUDIO',\n",
       " 'meetcircle',\n",
       " '3wDlabs',\n",
       " 'squarefoot',\n",
       " 'upstart',\n",
       " 'justworkshr',\n",
       " 'thisisfreshface',\n",
       " 'CodelessInteractive',\n",
       " 'victorops',\n",
       " 'aboss',\n",
       " 'teemforwork',\n",
       " 'teamopal',\n",
       " 'finwerk',\n",
       " 'gethightower',\n",
       " 'geetest',\n",
       " 'Shoutly',\n",
       " 'olery',\n",
       " 'greenlinecreative',\n",
       " 'dummybunny',\n",
       " 'kindredstudio',\n",
       " 'Bumble',\n",
       " 'lincolnloop',\n",
       " 'infiniteloop',\n",
       " 'Brushfire',\n",
       " 'hanekedesign',\n",
       " 'redbooth',\n",
       " 'BeepiInc',\n",
       " 'carwow',\n",
       " 'onedrive',\n",
       " 'bessemer',\n",
       " 'themanual',\n",
       " 'mashbox',\n",
       " 'ThoughtWorks',\n",
       " 'half',\n",
       " 'PacelliCreative',\n",
       " 'YouNow',\n",
       " 'ooyala',\n",
       " 'degreed',\n",
       " 'tuplelabs',\n",
       " 'SAM_desk',\n",
       " 'meerkatapp',\n",
       " 'oliverscreative',\n",
       " 'teracy',\n",
       " 'atelerixCC',\n",
       " 'carbonhouse',\n",
       " 'fontawesome',\n",
       " 'LifelyNL',\n",
       " 'Lekiosk',\n",
       " 'dboy']"
      ]
     },
     "execution_count": 35,
     "metadata": {},
     "output_type": "execute_result"
    }
   ],
   "source": [
    "# There are some team usernames that not have any information about the shots published or not published directly.\n",
    "difference = list(set(shots.team_username.dropna().unique()) - set(shots.author_shot.unique()))\n",
    "difference"
   ]
  },
  {
   "cell_type": "code",
   "execution_count": 36,
   "metadata": {},
   "outputs": [
    {
     "data": {
      "text/plain": [
       "445"
      ]
     },
     "execution_count": 36,
     "metadata": {},
     "output_type": "execute_result"
    }
   ],
   "source": [
    "len(difference)"
   ]
  },
  {
   "cell_type": "code",
   "execution_count": 37,
   "metadata": {},
   "outputs": [],
   "source": [
    "# Keep only users from 'team_username' that are also in 'author'.\n",
    "shots = shots[(shots.team_username.isin(shots.author_shot.unique())) | (shots.team_username.isna())]"
   ]
  },
  {
   "cell_type": "code",
   "execution_count": 38,
   "metadata": {},
   "outputs": [
    {
     "data": {
      "text/plain": [
       "[]"
      ]
     },
     "execution_count": 38,
     "metadata": {},
     "output_type": "execute_result"
    }
   ],
   "source": [
    "list(set(shots.team_username.dropna().unique()) - set(shots.author_shot.unique()))"
   ]
  },
  {
   "cell_type": "code",
   "execution_count": 39,
   "metadata": {},
   "outputs": [
    {
     "data": {
      "text/html": [
       "<div>\n",
       "<style scoped>\n",
       "    .dataframe tbody tr th:only-of-type {\n",
       "        vertical-align: middle;\n",
       "    }\n",
       "\n",
       "    .dataframe tbody tr th {\n",
       "        vertical-align: top;\n",
       "    }\n",
       "\n",
       "    .dataframe thead th {\n",
       "        text-align: right;\n",
       "    }\n",
       "</style>\n",
       "<table border=\"1\" class=\"dataframe\">\n",
       "  <thead>\n",
       "    <tr style=\"text-align: right;\">\n",
       "      <th></th>\n",
       "      <th>shot_id</th>\n",
       "      <th>title</th>\n",
       "      <th>description</th>\n",
       "      <th>width</th>\n",
       "      <th>height</th>\n",
       "      <th>views_count</th>\n",
       "      <th>likes_count</th>\n",
       "      <th>comments_count</th>\n",
       "      <th>attachments_count</th>\n",
       "      <th>rebounds_count</th>\n",
       "      <th>...</th>\n",
       "      <th>team_projects_count</th>\n",
       "      <th>team_rebounds_received_count</th>\n",
       "      <th>team_shots_count</th>\n",
       "      <th>team_can_upload_shot</th>\n",
       "      <th>team_type</th>\n",
       "      <th>team_pro</th>\n",
       "      <th>team_created_at</th>\n",
       "      <th>team_updated_at</th>\n",
       "      <th>team_members_count</th>\n",
       "      <th>author_shot</th>\n",
       "    </tr>\n",
       "  </thead>\n",
       "  <tbody>\n",
       "    <tr>\n",
       "      <th>0</th>\n",
       "      <td>3549658</td>\n",
       "      <td>Cinema Festival App Part.1</td>\n",
       "      <td>&lt;p&gt;What's up Dribbblers!&lt;/...</td>\n",
       "      <td>400</td>\n",
       "      <td>300</td>\n",
       "      <td>1611</td>\n",
       "      <td>51</td>\n",
       "      <td>5</td>\n",
       "      <td>0</td>\n",
       "      <td>0</td>\n",
       "      <td>...</td>\n",
       "      <td>NaN</td>\n",
       "      <td>NaN</td>\n",
       "      <td>NaN</td>\n",
       "      <td>NaN</td>\n",
       "      <td>NaN</td>\n",
       "      <td>NaN</td>\n",
       "      <td>NaT</td>\n",
       "      <td>NaT</td>\n",
       "      <td>NaN</td>\n",
       "      <td>max_palyvoda</td>\n",
       "    </tr>\n",
       "    <tr>\n",
       "      <th>1</th>\n",
       "      <td>3254544</td>\n",
       "      <td>Smart Home App Concept</td>\n",
       "      <td>&lt;p&gt;What's up Dribbblers!\\n...</td>\n",
       "      <td>400</td>\n",
       "      <td>300</td>\n",
       "      <td>3263</td>\n",
       "      <td>101</td>\n",
       "      <td>7</td>\n",
       "      <td>0</td>\n",
       "      <td>0</td>\n",
       "      <td>...</td>\n",
       "      <td>NaN</td>\n",
       "      <td>NaN</td>\n",
       "      <td>NaN</td>\n",
       "      <td>NaN</td>\n",
       "      <td>NaN</td>\n",
       "      <td>NaN</td>\n",
       "      <td>NaT</td>\n",
       "      <td>NaT</td>\n",
       "      <td>NaN</td>\n",
       "      <td>max_palyvoda</td>\n",
       "    </tr>\n",
       "    <tr>\n",
       "      <th>2</th>\n",
       "      <td>3153930</td>\n",
       "      <td>Pre-Order App For Cafe</td>\n",
       "      <td>&lt;p&gt;Hello, Dribbblers!\\n&lt;br...</td>\n",
       "      <td>400</td>\n",
       "      <td>300</td>\n",
       "      <td>5769</td>\n",
       "      <td>192</td>\n",
       "      <td>26</td>\n",
       "      <td>0</td>\n",
       "      <td>0</td>\n",
       "      <td>...</td>\n",
       "      <td>NaN</td>\n",
       "      <td>NaN</td>\n",
       "      <td>NaN</td>\n",
       "      <td>NaN</td>\n",
       "      <td>NaN</td>\n",
       "      <td>NaN</td>\n",
       "      <td>NaT</td>\n",
       "      <td>NaT</td>\n",
       "      <td>NaN</td>\n",
       "      <td>max_palyvoda</td>\n",
       "    </tr>\n",
       "    <tr>\n",
       "      <th>3</th>\n",
       "      <td>3732805</td>\n",
       "      <td>Threenity Logo Design</td>\n",
       "      <td>&lt;p&gt;Hellow fellow dribbbler...</td>\n",
       "      <td>400</td>\n",
       "      <td>300</td>\n",
       "      <td>445</td>\n",
       "      <td>44</td>\n",
       "      <td>4</td>\n",
       "      <td>0</td>\n",
       "      <td>0</td>\n",
       "      <td>...</td>\n",
       "      <td>NaN</td>\n",
       "      <td>NaN</td>\n",
       "      <td>NaN</td>\n",
       "      <td>NaN</td>\n",
       "      <td>NaN</td>\n",
       "      <td>NaN</td>\n",
       "      <td>NaT</td>\n",
       "      <td>NaT</td>\n",
       "      <td>NaN</td>\n",
       "      <td>miketanael</td>\n",
       "    </tr>\n",
       "    <tr>\n",
       "      <th>4</th>\n",
       "      <td>2686725</td>\n",
       "      <td>Real Estate collaboration ...</td>\n",
       "      <td>&lt;p&gt;ProTitle360 let lawyers...</td>\n",
       "      <td>400</td>\n",
       "      <td>300</td>\n",
       "      <td>1309</td>\n",
       "      <td>27</td>\n",
       "      <td>0</td>\n",
       "      <td>1</td>\n",
       "      <td>0</td>\n",
       "      <td>...</td>\n",
       "      <td>5.0</td>\n",
       "      <td>11.0</td>\n",
       "      <td>121.0</td>\n",
       "      <td>True</td>\n",
       "      <td>Team</td>\n",
       "      <td>False</td>\n",
       "      <td>2014-10-17 01:51:16</td>\n",
       "      <td>2017-12-18 17:09:03</td>\n",
       "      <td>18.0</td>\n",
       "      <td>citrusbyte</td>\n",
       "    </tr>\n",
       "  </tbody>\n",
       "</table>\n",
       "<p>5 rows × 37 columns</p>\n",
       "</div>"
      ],
      "text/plain": [
       "   shot_id                          title                    description  \\\n",
       "0  3549658    Cinema Festival App Part.1   <p>What's up Dribbblers!</...   \n",
       "1  3254544         Smart Home App Concept  <p>What's up Dribbblers!\\n...   \n",
       "2  3153930         Pre-Order App For Cafe  <p>Hello, Dribbblers!\\n<br...   \n",
       "3  3732805          Threenity Logo Design  <p>Hellow fellow dribbbler...   \n",
       "4  2686725  Real Estate collaboration ...  <p>ProTitle360 let lawyers...   \n",
       "\n",
       "  width height views_count likes_count comments_count attachments_count  \\\n",
       "0   400    300        1611          51              5                 0   \n",
       "1   400    300        3263         101              7                 0   \n",
       "2   400    300        5769         192             26                 0   \n",
       "3   400    300         445          44              4                 0   \n",
       "4   400    300        1309          27              0                 1   \n",
       "\n",
       "  rebounds_count  ... team_projects_count team_rebounds_received_count  \\\n",
       "0              0  ...                 NaN                          NaN   \n",
       "1              0  ...                 NaN                          NaN   \n",
       "2              0  ...                 NaN                          NaN   \n",
       "3              0  ...                 NaN                          NaN   \n",
       "4              0  ...                 5.0                         11.0   \n",
       "\n",
       "  team_shots_count team_can_upload_shot team_type  team_pro  \\\n",
       "0              NaN                  NaN       NaN       NaN   \n",
       "1              NaN                  NaN       NaN       NaN   \n",
       "2              NaN                  NaN       NaN       NaN   \n",
       "3              NaN                  NaN       NaN       NaN   \n",
       "4            121.0                 True      Team     False   \n",
       "\n",
       "      team_created_at     team_updated_at team_members_count   author_shot  \n",
       "0                 NaT                 NaT                NaN  max_palyvoda  \n",
       "1                 NaT                 NaT                NaN  max_palyvoda  \n",
       "2                 NaT                 NaT                NaN  max_palyvoda  \n",
       "3                 NaT                 NaT                NaN    miketanael  \n",
       "4 2014-10-17 01:51:16 2017-12-18 17:09:03               18.0    citrusbyte  \n",
       "\n",
       "[5 rows x 37 columns]"
      ]
     },
     "execution_count": 39,
     "metadata": {},
     "output_type": "execute_result"
    }
   ],
   "source": [
    "shots.head()"
   ]
  },
  {
   "cell_type": "code",
   "execution_count": 40,
   "metadata": {},
   "outputs": [
    {
     "data": {
      "text/plain": [
       "2480532"
      ]
     },
     "execution_count": 40,
     "metadata": {},
     "output_type": "execute_result"
    }
   ],
   "source": [
    "len(shots.shot_id.dropna().unique())"
   ]
  },
  {
   "cell_type": "code",
   "execution_count": 41,
   "metadata": {},
   "outputs": [
    {
     "data": {
      "text/plain": [
       "3"
      ]
     },
     "execution_count": 41,
     "metadata": {},
     "output_type": "execute_result"
    }
   ],
   "source": [
    "# Check if the 'updated_at' feature is always greater in time than 'created_at' feature.\n",
    "timediff = shots.updated_at - shots.created_at\n",
    "sum(timediff < pd.Timedelta(0))"
   ]
  },
  {
   "cell_type": "code",
   "execution_count": 42,
   "metadata": {},
   "outputs": [
    {
     "data": {
      "text/html": [
       "<div>\n",
       "<style scoped>\n",
       "    .dataframe tbody tr th:only-of-type {\n",
       "        vertical-align: middle;\n",
       "    }\n",
       "\n",
       "    .dataframe tbody tr th {\n",
       "        vertical-align: top;\n",
       "    }\n",
       "\n",
       "    .dataframe thead th {\n",
       "        text-align: right;\n",
       "    }\n",
       "</style>\n",
       "<table border=\"1\" class=\"dataframe\">\n",
       "  <thead>\n",
       "    <tr style=\"text-align: right;\">\n",
       "      <th></th>\n",
       "      <th>created_at</th>\n",
       "      <th>updated_at</th>\n",
       "    </tr>\n",
       "  </thead>\n",
       "  <tbody>\n",
       "    <tr>\n",
       "      <th>673241</th>\n",
       "      <td>2017-11-05 06:58:55</td>\n",
       "      <td>2017-11-05 06:00:51</td>\n",
       "    </tr>\n",
       "    <tr>\n",
       "      <th>1579052</th>\n",
       "      <td>2017-11-05 06:56:08</td>\n",
       "      <td>2017-11-05 06:16:14</td>\n",
       "    </tr>\n",
       "    <tr>\n",
       "      <th>2145251</th>\n",
       "      <td>2014-11-02 06:56:03</td>\n",
       "      <td>2014-11-02 06:11:24</td>\n",
       "    </tr>\n",
       "  </tbody>\n",
       "</table>\n",
       "</div>"
      ],
      "text/plain": [
       "                 created_at          updated_at\n",
       "673241  2017-11-05 06:58:55 2017-11-05 06:00:51\n",
       "1579052 2017-11-05 06:56:08 2017-11-05 06:16:14\n",
       "2145251 2014-11-02 06:56:03 2014-11-02 06:11:24"
      ]
     },
     "execution_count": 42,
     "metadata": {},
     "output_type": "execute_result"
    }
   ],
   "source": [
    "anomalies = shots.loc[timediff < pd.Timedelta(0)]\n",
    "anomalies[[\"created_at\", \"updated_at\"]]"
   ]
  },
  {
   "cell_type": "code",
   "execution_count": 43,
   "metadata": {},
   "outputs": [],
   "source": [
    "# For these anomalies, we decide to swap the 'created_at' and 'updated_at' features.\n",
    "shots.loc[anomalies.index] = shots.loc[anomalies.index].rename(columns = {\"created_at\": \"updated_at\", \"updated_at\": \"created_at\"})"
   ]
  },
  {
   "cell_type": "code",
   "execution_count": 44,
   "metadata": {},
   "outputs": [
    {
     "data": {
      "text/plain": [
       "0"
      ]
     },
     "execution_count": 44,
     "metadata": {},
     "output_type": "execute_result"
    }
   ],
   "source": [
    "timediff = shots.updated_at - shots.created_at\n",
    "sum(timediff < pd.Timedelta(0))"
   ]
  },
  {
   "cell_type": "code",
   "execution_count": 45,
   "metadata": {},
   "outputs": [
    {
     "data": {
      "text/plain": [
       "0"
      ]
     },
     "execution_count": 45,
     "metadata": {},
     "output_type": "execute_result"
    }
   ],
   "source": [
    "# Check if the 'team_updated_at' feature is always greater in time than 'team_created_at' feature.\n",
    "timediff = shots.team_updated_at.dropna() - shots.team_created_at.dropna()\n",
    "sum(timediff < pd.Timedelta(0))"
   ]
  },
  {
   "cell_type": "markdown",
   "metadata": {},
   "source": [
    "We want to verify the similarities between the teams defined into *users* table and the teams defined in the current *shots* table."
   ]
  },
  {
   "cell_type": "code",
   "execution_count": 46,
   "metadata": {},
   "outputs": [],
   "source": [
    "# Read 'users' table.\n",
    "users = pd.read_sql(\"SELECT username, type FROM users\", conn)"
   ]
  },
  {
   "cell_type": "code",
   "execution_count": 47,
   "metadata": {},
   "outputs": [
    {
     "data": {
      "text/plain": [
       "False"
      ]
     },
     "execution_count": 47,
     "metadata": {},
     "output_type": "execute_result"
    }
   ],
   "source": [
    "# Check if the 'team_username' is a subset of teams according to users.\n",
    "set(shots.team_username.dropna().unique()).issubset(set(users[users.type == \"Team\"][\"username\"].unique()))"
   ]
  },
  {
   "cell_type": "code",
   "execution_count": 48,
   "metadata": {},
   "outputs": [
    {
     "data": {
      "text/plain": [
       "['BrodieP']"
      ]
     },
     "execution_count": 48,
     "metadata": {},
     "output_type": "execute_result"
    }
   ],
   "source": [
    "# Difference. This user is not considered as team into 'users' table but as 'Player'.\n",
    "list(set(shots.team_username.dropna().unique()) - set(users[users.type == \"Team\"][\"username\"].unique()))"
   ]
  },
  {
   "cell_type": "code",
   "execution_count": 49,
   "metadata": {},
   "outputs": [
    {
     "data": {
      "text/plain": [
       "3146120"
      ]
     },
     "execution_count": 49,
     "metadata": {},
     "output_type": "execute_result"
    }
   ],
   "source": [
    "len(shots)"
   ]
  },
  {
   "cell_type": "code",
   "execution_count": 50,
   "metadata": {},
   "outputs": [],
   "source": [
    "# We decide to not consider this user.\n",
    "shots = shots[(shots.author_shot != \"BrodieP\") & (shots.team_username != \"BrodieP\")]"
   ]
  },
  {
   "cell_type": "code",
   "execution_count": 51,
   "metadata": {},
   "outputs": [
    {
     "data": {
      "text/plain": [
       "3146112"
      ]
     },
     "execution_count": 51,
     "metadata": {},
     "output_type": "execute_result"
    }
   ],
   "source": [
    "len(shots)"
   ]
  },
  {
   "cell_type": "markdown",
   "metadata": {},
   "source": [
    "## Tags\n",
    "\n",
    "We have to extract the tags information that is a list of strings. We decide to create an independent dataframe for this information."
   ]
  },
  {
   "cell_type": "code",
   "execution_count": 52,
   "metadata": {},
   "outputs": [
    {
     "data": {
      "text/html": [
       "<div>\n",
       "<style scoped>\n",
       "    .dataframe tbody tr th:only-of-type {\n",
       "        vertical-align: middle;\n",
       "    }\n",
       "\n",
       "    .dataframe tbody tr th {\n",
       "        vertical-align: top;\n",
       "    }\n",
       "\n",
       "    .dataframe thead th {\n",
       "        text-align: right;\n",
       "    }\n",
       "</style>\n",
       "<table border=\"1\" class=\"dataframe\">\n",
       "  <thead>\n",
       "    <tr style=\"text-align: right;\">\n",
       "      <th></th>\n",
       "      <th>shot_id</th>\n",
       "      <th>author_shot</th>\n",
       "      <th>tag</th>\n",
       "    </tr>\n",
       "  </thead>\n",
       "  <tbody>\n",
       "    <tr>\n",
       "      <th>0</th>\n",
       "      <td>3549658.0</td>\n",
       "      <td>max_palyvoda</td>\n",
       "      <td>app</td>\n",
       "    </tr>\n",
       "    <tr>\n",
       "      <th>1</th>\n",
       "      <td>3549658.0</td>\n",
       "      <td>max_palyvoda</td>\n",
       "      <td>cinema</td>\n",
       "    </tr>\n",
       "    <tr>\n",
       "      <th>2</th>\n",
       "      <td>3549658.0</td>\n",
       "      <td>max_palyvoda</td>\n",
       "      <td>material</td>\n",
       "    </tr>\n",
       "    <tr>\n",
       "      <th>3</th>\n",
       "      <td>3549658.0</td>\n",
       "      <td>max_palyvoda</td>\n",
       "      <td>mobile</td>\n",
       "    </tr>\n",
       "    <tr>\n",
       "      <th>4</th>\n",
       "      <td>3549658.0</td>\n",
       "      <td>max_palyvoda</td>\n",
       "      <td>movie</td>\n",
       "    </tr>\n",
       "    <tr>\n",
       "      <th>...</th>\n",
       "      <td>...</td>\n",
       "      <td>...</td>\n",
       "      <td>...</td>\n",
       "    </tr>\n",
       "    <tr>\n",
       "      <th>16632763</th>\n",
       "      <td>NaN</td>\n",
       "      <td>tangduoduo</td>\n",
       "      <td>NaN</td>\n",
       "    </tr>\n",
       "    <tr>\n",
       "      <th>16632764</th>\n",
       "      <td>NaN</td>\n",
       "      <td>ioanacioc</td>\n",
       "      <td>NaN</td>\n",
       "    </tr>\n",
       "    <tr>\n",
       "      <th>16632765</th>\n",
       "      <td>NaN</td>\n",
       "      <td>DawnGarrett</td>\n",
       "      <td>NaN</td>\n",
       "    </tr>\n",
       "    <tr>\n",
       "      <th>16632766</th>\n",
       "      <td>NaN</td>\n",
       "      <td>SmallMili</td>\n",
       "      <td>NaN</td>\n",
       "    </tr>\n",
       "    <tr>\n",
       "      <th>16632767</th>\n",
       "      <td>NaN</td>\n",
       "      <td>HEIZITAIYANG</td>\n",
       "      <td>NaN</td>\n",
       "    </tr>\n",
       "  </tbody>\n",
       "</table>\n",
       "<p>16632768 rows × 3 columns</p>\n",
       "</div>"
      ],
      "text/plain": [
       "            shot_id   author_shot       tag\n",
       "0         3549658.0  max_palyvoda       app\n",
       "1         3549658.0  max_palyvoda    cinema\n",
       "2         3549658.0  max_palyvoda  material\n",
       "3         3549658.0  max_palyvoda    mobile\n",
       "4         3549658.0  max_palyvoda     movie\n",
       "...             ...           ...       ...\n",
       "16632763        NaN    tangduoduo       NaN\n",
       "16632764        NaN     ioanacioc       NaN\n",
       "16632765        NaN   DawnGarrett       NaN\n",
       "16632766        NaN     SmallMili       NaN\n",
       "16632767        NaN  HEIZITAIYANG       NaN\n",
       "\n",
       "[16632768 rows x 3 columns]"
      ]
     },
     "execution_count": 52,
     "metadata": {},
     "output_type": "execute_result"
    }
   ],
   "source": [
    "tags = shots[[\"shot_id\", \"tag\", \"author_shot\"]].set_index([\"shot_id\", \"author_shot\"]).explode(\"tag\").reset_index()\n",
    "tags"
   ]
  },
  {
   "cell_type": "code",
   "execution_count": 53,
   "metadata": {},
   "outputs": [
    {
     "data": {
      "text/plain": [
       "13413"
      ]
     },
     "execution_count": 53,
     "metadata": {},
     "output_type": "execute_result"
    }
   ],
   "source": [
    "# Check duplicated rows.\n",
    "tags.duplicated().sum()"
   ]
  },
  {
   "cell_type": "code",
   "execution_count": 54,
   "metadata": {},
   "outputs": [],
   "source": [
    "# Remove duplicated rows.\n",
    "tags.drop_duplicates(inplace = True)"
   ]
  },
  {
   "cell_type": "code",
   "execution_count": 55,
   "metadata": {},
   "outputs": [
    {
     "data": {
      "text/plain": [
       "16619355"
      ]
     },
     "execution_count": 55,
     "metadata": {},
     "output_type": "execute_result"
    }
   ],
   "source": [
    "len(tags)"
   ]
  },
  {
   "cell_type": "code",
   "execution_count": 56,
   "metadata": {},
   "outputs": [
    {
     "data": {
      "text/plain": [
       "2480527"
      ]
     },
     "execution_count": 56,
     "metadata": {},
     "output_type": "execute_result"
    }
   ],
   "source": [
    "len(tags.shot_id.dropna().unique())"
   ]
  },
  {
   "cell_type": "code",
   "execution_count": 57,
   "metadata": {},
   "outputs": [
    {
     "data": {
      "text/plain": [
       "770544"
      ]
     },
     "execution_count": 57,
     "metadata": {},
     "output_type": "execute_result"
    }
   ],
   "source": [
    "len(tags.author_shot.dropna().unique())"
   ]
  },
  {
   "cell_type": "code",
   "execution_count": 58,
   "metadata": {},
   "outputs": [],
   "source": [
    "# Save the dataframe into the sql database.\n",
    "tags.to_sql(\"tags\", conn, index = False, dtype = {\"shot_id\": \"INT\", \"author_shot\": \"TEXT\", \"tag\": \"TEXT\"})"
   ]
  },
  {
   "cell_type": "markdown",
   "metadata": {},
   "source": [
    "## Shots"
   ]
  },
  {
   "cell_type": "code",
   "execution_count": 59,
   "metadata": {},
   "outputs": [],
   "source": [
    "# Remove 'tags' feature.\n",
    "shots.drop(\"tag\", axis = 1, inplace = True)"
   ]
  },
  {
   "cell_type": "code",
   "execution_count": 60,
   "metadata": {},
   "outputs": [
    {
     "data": {
      "text/plain": [
       "574"
      ]
     },
     "execution_count": 60,
     "metadata": {},
     "output_type": "execute_result"
    }
   ],
   "source": [
    "# Check duplicated rows.\n",
    "shots.duplicated().sum()"
   ]
  },
  {
   "cell_type": "code",
   "execution_count": 61,
   "metadata": {},
   "outputs": [],
   "source": [
    "# Remove duplicated rows.\n",
    "shots.drop_duplicates(inplace = True)"
   ]
  },
  {
   "cell_type": "code",
   "execution_count": 62,
   "metadata": {},
   "outputs": [
    {
     "data": {
      "text/plain": [
       "2480527"
      ]
     },
     "execution_count": 62,
     "metadata": {},
     "output_type": "execute_result"
    }
   ],
   "source": [
    "len(shots.shot_id.dropna().unique())"
   ]
  },
  {
   "cell_type": "code",
   "execution_count": 63,
   "metadata": {},
   "outputs": [
    {
     "data": {
      "text/plain": [
       "0"
      ]
     },
     "execution_count": 63,
     "metadata": {},
     "output_type": "execute_result"
    }
   ],
   "source": [
    "shots.author_shot.isna().sum()"
   ]
  },
  {
   "cell_type": "code",
   "execution_count": 64,
   "metadata": {},
   "outputs": [
    {
     "data": {
      "text/plain": [
       "770544"
      ]
     },
     "execution_count": 64,
     "metadata": {},
     "output_type": "execute_result"
    }
   ],
   "source": [
    "len(shots.author_shot.unique())"
   ]
  },
  {
   "cell_type": "markdown",
   "metadata": {},
   "source": [
    "Let's search the unique key of this table. Let's try the key 'author' + 'team_username' + 'shot_id'."
   ]
  },
  {
   "cell_type": "code",
   "execution_count": 65,
   "metadata": {},
   "outputs": [],
   "source": [
    "shots.set_index([\"author_shot\", \"team_username\", \"shot_id\"], inplace = True)"
   ]
  },
  {
   "cell_type": "code",
   "execution_count": 66,
   "metadata": {},
   "outputs": [
    {
     "data": {
      "text/html": [
       "<div>\n",
       "<style scoped>\n",
       "    .dataframe tbody tr th:only-of-type {\n",
       "        vertical-align: middle;\n",
       "    }\n",
       "\n",
       "    .dataframe tbody tr th {\n",
       "        vertical-align: top;\n",
       "    }\n",
       "\n",
       "    .dataframe thead th {\n",
       "        text-align: right;\n",
       "    }\n",
       "</style>\n",
       "<table border=\"1\" class=\"dataframe\">\n",
       "  <thead>\n",
       "    <tr style=\"text-align: right;\">\n",
       "      <th></th>\n",
       "      <th></th>\n",
       "      <th></th>\n",
       "      <th>title</th>\n",
       "      <th>description</th>\n",
       "      <th>width</th>\n",
       "      <th>height</th>\n",
       "      <th>views_count</th>\n",
       "      <th>likes_count</th>\n",
       "      <th>comments_count</th>\n",
       "      <th>attachments_count</th>\n",
       "      <th>rebounds_count</th>\n",
       "      <th>buckets_count</th>\n",
       "      <th>...</th>\n",
       "      <th>team_likes_received_count</th>\n",
       "      <th>team_projects_count</th>\n",
       "      <th>team_rebounds_received_count</th>\n",
       "      <th>team_shots_count</th>\n",
       "      <th>team_can_upload_shot</th>\n",
       "      <th>team_type</th>\n",
       "      <th>team_pro</th>\n",
       "      <th>team_created_at</th>\n",
       "      <th>team_updated_at</th>\n",
       "      <th>team_members_count</th>\n",
       "    </tr>\n",
       "    <tr>\n",
       "      <th>author_shot</th>\n",
       "      <th>team_username</th>\n",
       "      <th>shot_id</th>\n",
       "      <th></th>\n",
       "      <th></th>\n",
       "      <th></th>\n",
       "      <th></th>\n",
       "      <th></th>\n",
       "      <th></th>\n",
       "      <th></th>\n",
       "      <th></th>\n",
       "      <th></th>\n",
       "      <th></th>\n",
       "      <th></th>\n",
       "      <th></th>\n",
       "      <th></th>\n",
       "      <th></th>\n",
       "      <th></th>\n",
       "      <th></th>\n",
       "      <th></th>\n",
       "      <th></th>\n",
       "      <th></th>\n",
       "      <th></th>\n",
       "      <th></th>\n",
       "    </tr>\n",
       "  </thead>\n",
       "  <tbody>\n",
       "    <tr>\n",
       "      <th rowspan=\"3\" valign=\"top\">max_palyvoda</th>\n",
       "      <th rowspan=\"3\" valign=\"top\">NaN</th>\n",
       "      <th>3549658</th>\n",
       "      <td>Cinema Festival App Part.1</td>\n",
       "      <td>&lt;p&gt;What's up Dribbblers!&lt;/...</td>\n",
       "      <td>400</td>\n",
       "      <td>300</td>\n",
       "      <td>1611</td>\n",
       "      <td>51</td>\n",
       "      <td>5</td>\n",
       "      <td>0</td>\n",
       "      <td>0</td>\n",
       "      <td>5</td>\n",
       "      <td>...</td>\n",
       "      <td>NaN</td>\n",
       "      <td>NaN</td>\n",
       "      <td>NaN</td>\n",
       "      <td>NaN</td>\n",
       "      <td>NaN</td>\n",
       "      <td>NaN</td>\n",
       "      <td>NaN</td>\n",
       "      <td>NaT</td>\n",
       "      <td>NaT</td>\n",
       "      <td>NaN</td>\n",
       "    </tr>\n",
       "    <tr>\n",
       "      <th>3254544</th>\n",
       "      <td>Smart Home App Concept</td>\n",
       "      <td>&lt;p&gt;What's up Dribbblers!\\n...</td>\n",
       "      <td>400</td>\n",
       "      <td>300</td>\n",
       "      <td>3263</td>\n",
       "      <td>101</td>\n",
       "      <td>7</td>\n",
       "      <td>0</td>\n",
       "      <td>0</td>\n",
       "      <td>16</td>\n",
       "      <td>...</td>\n",
       "      <td>NaN</td>\n",
       "      <td>NaN</td>\n",
       "      <td>NaN</td>\n",
       "      <td>NaN</td>\n",
       "      <td>NaN</td>\n",
       "      <td>NaN</td>\n",
       "      <td>NaN</td>\n",
       "      <td>NaT</td>\n",
       "      <td>NaT</td>\n",
       "      <td>NaN</td>\n",
       "    </tr>\n",
       "    <tr>\n",
       "      <th>3153930</th>\n",
       "      <td>Pre-Order App For Cafe</td>\n",
       "      <td>&lt;p&gt;Hello, Dribbblers!\\n&lt;br...</td>\n",
       "      <td>400</td>\n",
       "      <td>300</td>\n",
       "      <td>5769</td>\n",
       "      <td>192</td>\n",
       "      <td>26</td>\n",
       "      <td>0</td>\n",
       "      <td>0</td>\n",
       "      <td>19</td>\n",
       "      <td>...</td>\n",
       "      <td>NaN</td>\n",
       "      <td>NaN</td>\n",
       "      <td>NaN</td>\n",
       "      <td>NaN</td>\n",
       "      <td>NaN</td>\n",
       "      <td>NaN</td>\n",
       "      <td>NaN</td>\n",
       "      <td>NaT</td>\n",
       "      <td>NaT</td>\n",
       "      <td>NaN</td>\n",
       "    </tr>\n",
       "    <tr>\n",
       "      <th>miketanael</th>\n",
       "      <th>NaN</th>\n",
       "      <th>3732805</th>\n",
       "      <td>Threenity Logo Design</td>\n",
       "      <td>&lt;p&gt;Hellow fellow dribbbler...</td>\n",
       "      <td>400</td>\n",
       "      <td>300</td>\n",
       "      <td>445</td>\n",
       "      <td>44</td>\n",
       "      <td>4</td>\n",
       "      <td>0</td>\n",
       "      <td>0</td>\n",
       "      <td>0</td>\n",
       "      <td>...</td>\n",
       "      <td>NaN</td>\n",
       "      <td>NaN</td>\n",
       "      <td>NaN</td>\n",
       "      <td>NaN</td>\n",
       "      <td>NaN</td>\n",
       "      <td>NaN</td>\n",
       "      <td>NaN</td>\n",
       "      <td>NaT</td>\n",
       "      <td>NaT</td>\n",
       "      <td>NaN</td>\n",
       "    </tr>\n",
       "    <tr>\n",
       "      <th>citrusbyte</th>\n",
       "      <th>citrusbyte</th>\n",
       "      <th>2686725</th>\n",
       "      <td>Real Estate collaboration ...</td>\n",
       "      <td>&lt;p&gt;ProTitle360 let lawyers...</td>\n",
       "      <td>400</td>\n",
       "      <td>300</td>\n",
       "      <td>1309</td>\n",
       "      <td>27</td>\n",
       "      <td>0</td>\n",
       "      <td>1</td>\n",
       "      <td>0</td>\n",
       "      <td>1</td>\n",
       "      <td>...</td>\n",
       "      <td>40.0</td>\n",
       "      <td>5.0</td>\n",
       "      <td>11.0</td>\n",
       "      <td>121.0</td>\n",
       "      <td>True</td>\n",
       "      <td>Team</td>\n",
       "      <td>False</td>\n",
       "      <td>2014-10-17 01:51:16</td>\n",
       "      <td>2017-12-18 17:09:03</td>\n",
       "      <td>18.0</td>\n",
       "    </tr>\n",
       "  </tbody>\n",
       "</table>\n",
       "<p>5 rows × 33 columns</p>\n",
       "</div>"
      ],
      "text/plain": [
       "                                                            title  \\\n",
       "author_shot  team_username shot_id                                  \n",
       "max_palyvoda NaN           3549658    Cinema Festival App Part.1    \n",
       "                           3254544         Smart Home App Concept   \n",
       "                           3153930         Pre-Order App For Cafe   \n",
       "miketanael   NaN           3732805          Threenity Logo Design   \n",
       "citrusbyte   citrusbyte    2686725  Real Estate collaboration ...   \n",
       "\n",
       "                                                      description width  \\\n",
       "author_shot  team_username shot_id                                        \n",
       "max_palyvoda NaN           3549658  <p>What's up Dribbblers!</...   400   \n",
       "                           3254544  <p>What's up Dribbblers!\\n...   400   \n",
       "                           3153930  <p>Hello, Dribbblers!\\n<br...   400   \n",
       "miketanael   NaN           3732805  <p>Hellow fellow dribbbler...   400   \n",
       "citrusbyte   citrusbyte    2686725  <p>ProTitle360 let lawyers...   400   \n",
       "\n",
       "                                   height views_count likes_count  \\\n",
       "author_shot  team_username shot_id                                  \n",
       "max_palyvoda NaN           3549658    300        1611          51   \n",
       "                           3254544    300        3263         101   \n",
       "                           3153930    300        5769         192   \n",
       "miketanael   NaN           3732805    300         445          44   \n",
       "citrusbyte   citrusbyte    2686725    300        1309          27   \n",
       "\n",
       "                                   comments_count attachments_count  \\\n",
       "author_shot  team_username shot_id                                    \n",
       "max_palyvoda NaN           3549658              5                 0   \n",
       "                           3254544              7                 0   \n",
       "                           3153930             26                 0   \n",
       "miketanael   NaN           3732805              4                 0   \n",
       "citrusbyte   citrusbyte    2686725              0                 1   \n",
       "\n",
       "                                   rebounds_count buckets_count  ...  \\\n",
       "author_shot  team_username shot_id                               ...   \n",
       "max_palyvoda NaN           3549658              0             5  ...   \n",
       "                           3254544              0            16  ...   \n",
       "                           3153930              0            19  ...   \n",
       "miketanael   NaN           3732805              0             0  ...   \n",
       "citrusbyte   citrusbyte    2686725              0             1  ...   \n",
       "\n",
       "                                   team_likes_received_count  \\\n",
       "author_shot  team_username shot_id                             \n",
       "max_palyvoda NaN           3549658                       NaN   \n",
       "                           3254544                       NaN   \n",
       "                           3153930                       NaN   \n",
       "miketanael   NaN           3732805                       NaN   \n",
       "citrusbyte   citrusbyte    2686725                      40.0   \n",
       "\n",
       "                                   team_projects_count  \\\n",
       "author_shot  team_username shot_id                       \n",
       "max_palyvoda NaN           3549658                 NaN   \n",
       "                           3254544                 NaN   \n",
       "                           3153930                 NaN   \n",
       "miketanael   NaN           3732805                 NaN   \n",
       "citrusbyte   citrusbyte    2686725                 5.0   \n",
       "\n",
       "                                   team_rebounds_received_count  \\\n",
       "author_shot  team_username shot_id                                \n",
       "max_palyvoda NaN           3549658                          NaN   \n",
       "                           3254544                          NaN   \n",
       "                           3153930                          NaN   \n",
       "miketanael   NaN           3732805                          NaN   \n",
       "citrusbyte   citrusbyte    2686725                         11.0   \n",
       "\n",
       "                                    team_shots_count  team_can_upload_shot  \\\n",
       "author_shot  team_username shot_id                                           \n",
       "max_palyvoda NaN           3549658               NaN                   NaN   \n",
       "                           3254544               NaN                   NaN   \n",
       "                           3153930               NaN                   NaN   \n",
       "miketanael   NaN           3732805               NaN                   NaN   \n",
       "citrusbyte   citrusbyte    2686725             121.0                  True   \n",
       "\n",
       "                                   team_type team_pro     team_created_at  \\\n",
       "author_shot  team_username shot_id                                          \n",
       "max_palyvoda NaN           3549658       NaN      NaN                 NaT   \n",
       "                           3254544       NaN      NaN                 NaT   \n",
       "                           3153930       NaN      NaN                 NaT   \n",
       "miketanael   NaN           3732805       NaN      NaN                 NaT   \n",
       "citrusbyte   citrusbyte    2686725      Team    False 2014-10-17 01:51:16   \n",
       "\n",
       "                                       team_updated_at  team_members_count  \n",
       "author_shot  team_username shot_id                                          \n",
       "max_palyvoda NaN           3549658                 NaT                 NaN  \n",
       "                           3254544                 NaT                 NaN  \n",
       "                           3153930                 NaT                 NaN  \n",
       "miketanael   NaN           3732805                 NaT                 NaN  \n",
       "citrusbyte   citrusbyte    2686725 2017-12-18 17:09:03                18.0  \n",
       "\n",
       "[5 rows x 33 columns]"
      ]
     },
     "execution_count": 66,
     "metadata": {},
     "output_type": "execute_result"
    }
   ],
   "source": [
    "shots.head()"
   ]
  },
  {
   "cell_type": "code",
   "execution_count": 67,
   "metadata": {},
   "outputs": [
    {
     "data": {
      "text/plain": [
       "False"
      ]
     },
     "execution_count": 67,
     "metadata": {},
     "output_type": "execute_result"
    }
   ],
   "source": [
    "shots.index.is_unique"
   ]
  },
  {
   "cell_type": "code",
   "execution_count": 68,
   "metadata": {},
   "outputs": [
    {
     "data": {
      "text/plain": [
       "3145538"
      ]
     },
     "execution_count": 68,
     "metadata": {},
     "output_type": "execute_result"
    }
   ],
   "source": [
    "len(shots.index)"
   ]
  },
  {
   "cell_type": "code",
   "execution_count": 69,
   "metadata": {},
   "outputs": [
    {
     "data": {
      "text/plain": [
       "3143908"
      ]
     },
     "execution_count": 69,
     "metadata": {},
     "output_type": "execute_result"
    }
   ],
   "source": [
    "len(shots.index.unique())"
   ]
  },
  {
   "cell_type": "code",
   "execution_count": 70,
   "metadata": {},
   "outputs": [
    {
     "name": "stdout",
     "output_type": "stream",
     "text": [
      "1630\n"
     ]
    }
   ],
   "source": [
    "# Let's isolate the profiles that not allow to make unique this key.\n",
    "not_unique = shots.index.value_counts()\n",
    "print(sum(not_unique > 1))\n",
    "\n",
    "not_unique = not_unique[not_unique > 1]\n",
    "\n",
    "unique = shots.drop(not_unique.index, axis = 0)\n",
    "not_unique = shots.loc[not_unique.index]"
   ]
  },
  {
   "cell_type": "code",
   "execution_count": 71,
   "metadata": {},
   "outputs": [
    {
     "data": {
      "text/html": [
       "<div>\n",
       "<style scoped>\n",
       "    .dataframe tbody tr th:only-of-type {\n",
       "        vertical-align: middle;\n",
       "    }\n",
       "\n",
       "    .dataframe tbody tr th {\n",
       "        vertical-align: top;\n",
       "    }\n",
       "\n",
       "    .dataframe thead th {\n",
       "        text-align: right;\n",
       "    }\n",
       "</style>\n",
       "<table border=\"1\" class=\"dataframe\">\n",
       "  <thead>\n",
       "    <tr style=\"text-align: right;\">\n",
       "      <th></th>\n",
       "      <th></th>\n",
       "      <th></th>\n",
       "      <th>title</th>\n",
       "      <th>description</th>\n",
       "      <th>width</th>\n",
       "      <th>height</th>\n",
       "      <th>views_count</th>\n",
       "      <th>likes_count</th>\n",
       "      <th>comments_count</th>\n",
       "      <th>attachments_count</th>\n",
       "      <th>rebounds_count</th>\n",
       "      <th>buckets_count</th>\n",
       "      <th>...</th>\n",
       "      <th>team_likes_received_count</th>\n",
       "      <th>team_projects_count</th>\n",
       "      <th>team_rebounds_received_count</th>\n",
       "      <th>team_shots_count</th>\n",
       "      <th>team_can_upload_shot</th>\n",
       "      <th>team_type</th>\n",
       "      <th>team_pro</th>\n",
       "      <th>team_created_at</th>\n",
       "      <th>team_updated_at</th>\n",
       "      <th>team_members_count</th>\n",
       "    </tr>\n",
       "    <tr>\n",
       "      <th>author_shot</th>\n",
       "      <th>team_username</th>\n",
       "      <th>shot_id</th>\n",
       "      <th></th>\n",
       "      <th></th>\n",
       "      <th></th>\n",
       "      <th></th>\n",
       "      <th></th>\n",
       "      <th></th>\n",
       "      <th></th>\n",
       "      <th></th>\n",
       "      <th></th>\n",
       "      <th></th>\n",
       "      <th></th>\n",
       "      <th></th>\n",
       "      <th></th>\n",
       "      <th></th>\n",
       "      <th></th>\n",
       "      <th></th>\n",
       "      <th></th>\n",
       "      <th></th>\n",
       "      <th></th>\n",
       "      <th></th>\n",
       "      <th></th>\n",
       "    </tr>\n",
       "  </thead>\n",
       "  <tbody>\n",
       "    <tr>\n",
       "      <th rowspan=\"2\" valign=\"top\">ogbeniseyi</th>\n",
       "      <th rowspan=\"2\" valign=\"top\">NaN</th>\n",
       "      <th>4015709</th>\n",
       "      <td>Lockup for Wellsprings</td>\n",
       "      <td>None</td>\n",
       "      <td>400</td>\n",
       "      <td>300</td>\n",
       "      <td>107</td>\n",
       "      <td>17</td>\n",
       "      <td>2</td>\n",
       "      <td>0</td>\n",
       "      <td>0</td>\n",
       "      <td>1</td>\n",
       "      <td>...</td>\n",
       "      <td>NaN</td>\n",
       "      <td>NaN</td>\n",
       "      <td>NaN</td>\n",
       "      <td>NaN</td>\n",
       "      <td>NaN</td>\n",
       "      <td>NaN</td>\n",
       "      <td>NaN</td>\n",
       "      <td>NaT</td>\n",
       "      <td>NaT</td>\n",
       "      <td>NaN</td>\n",
       "    </tr>\n",
       "    <tr>\n",
       "      <th>4015709</th>\n",
       "      <td>Lockup for Wellsprings</td>\n",
       "      <td>None</td>\n",
       "      <td>400</td>\n",
       "      <td>300</td>\n",
       "      <td>130</td>\n",
       "      <td>17</td>\n",
       "      <td>2</td>\n",
       "      <td>0</td>\n",
       "      <td>0</td>\n",
       "      <td>1</td>\n",
       "      <td>...</td>\n",
       "      <td>NaN</td>\n",
       "      <td>NaN</td>\n",
       "      <td>NaN</td>\n",
       "      <td>NaN</td>\n",
       "      <td>NaN</td>\n",
       "      <td>NaN</td>\n",
       "      <td>NaN</td>\n",
       "      <td>NaT</td>\n",
       "      <td>NaT</td>\n",
       "      <td>NaN</td>\n",
       "    </tr>\n",
       "    <tr>\n",
       "      <th rowspan=\"2\" valign=\"top\">Kim_Chen</th>\n",
       "      <th rowspan=\"2\" valign=\"top\">NaN</th>\n",
       "      <th>3374117</th>\n",
       "      <td>Business icons</td>\n",
       "      <td>&lt;p&gt;Some icons that I did n...</td>\n",
       "      <td>400</td>\n",
       "      <td>300</td>\n",
       "      <td>273</td>\n",
       "      <td>21</td>\n",
       "      <td>3</td>\n",
       "      <td>0</td>\n",
       "      <td>0</td>\n",
       "      <td>0</td>\n",
       "      <td>...</td>\n",
       "      <td>NaN</td>\n",
       "      <td>NaN</td>\n",
       "      <td>NaN</td>\n",
       "      <td>NaN</td>\n",
       "      <td>NaN</td>\n",
       "      <td>NaN</td>\n",
       "      <td>NaN</td>\n",
       "      <td>NaT</td>\n",
       "      <td>NaT</td>\n",
       "      <td>NaN</td>\n",
       "    </tr>\n",
       "    <tr>\n",
       "      <th>3374117</th>\n",
       "      <td>Business icons</td>\n",
       "      <td>&lt;p&gt;Some icons that I did n...</td>\n",
       "      <td>400</td>\n",
       "      <td>300</td>\n",
       "      <td>274</td>\n",
       "      <td>21</td>\n",
       "      <td>3</td>\n",
       "      <td>0</td>\n",
       "      <td>0</td>\n",
       "      <td>0</td>\n",
       "      <td>...</td>\n",
       "      <td>NaN</td>\n",
       "      <td>NaN</td>\n",
       "      <td>NaN</td>\n",
       "      <td>NaN</td>\n",
       "      <td>NaN</td>\n",
       "      <td>NaN</td>\n",
       "      <td>NaN</td>\n",
       "      <td>NaT</td>\n",
       "      <td>NaT</td>\n",
       "      <td>NaN</td>\n",
       "    </tr>\n",
       "    <tr>\n",
       "      <th>stavangr</th>\n",
       "      <th>NaN</th>\n",
       "      <th>3793638</th>\n",
       "      <td>Product icon concept for n...</td>\n",
       "      <td>&lt;p&gt;Icon idea for an Androi...</td>\n",
       "      <td>400</td>\n",
       "      <td>300</td>\n",
       "      <td>215</td>\n",
       "      <td>16</td>\n",
       "      <td>0</td>\n",
       "      <td>0</td>\n",
       "      <td>0</td>\n",
       "      <td>0</td>\n",
       "      <td>...</td>\n",
       "      <td>NaN</td>\n",
       "      <td>NaN</td>\n",
       "      <td>NaN</td>\n",
       "      <td>NaN</td>\n",
       "      <td>NaN</td>\n",
       "      <td>NaN</td>\n",
       "      <td>NaN</td>\n",
       "      <td>NaT</td>\n",
       "      <td>NaT</td>\n",
       "      <td>NaN</td>\n",
       "    </tr>\n",
       "  </tbody>\n",
       "</table>\n",
       "<p>5 rows × 33 columns</p>\n",
       "</div>"
      ],
      "text/plain": [
       "                                                           title  \\\n",
       "author_shot team_username shot_id                                  \n",
       "ogbeniseyi  NaN           4015709         Lockup for Wellsprings   \n",
       "                          4015709         Lockup for Wellsprings   \n",
       "Kim_Chen    NaN           3374117                 Business icons   \n",
       "                          3374117                 Business icons   \n",
       "stavangr    NaN           3793638  Product icon concept for n...   \n",
       "\n",
       "                                                     description width height  \\\n",
       "author_shot team_username shot_id                                               \n",
       "ogbeniseyi  NaN           4015709                           None   400    300   \n",
       "                          4015709                           None   400    300   \n",
       "Kim_Chen    NaN           3374117  <p>Some icons that I did n...   400    300   \n",
       "                          3374117  <p>Some icons that I did n...   400    300   \n",
       "stavangr    NaN           3793638  <p>Icon idea for an Androi...   400    300   \n",
       "\n",
       "                                  views_count likes_count comments_count  \\\n",
       "author_shot team_username shot_id                                          \n",
       "ogbeniseyi  NaN           4015709         107          17              2   \n",
       "                          4015709         130          17              2   \n",
       "Kim_Chen    NaN           3374117         273          21              3   \n",
       "                          3374117         274          21              3   \n",
       "stavangr    NaN           3793638         215          16              0   \n",
       "\n",
       "                                  attachments_count rebounds_count  \\\n",
       "author_shot team_username shot_id                                    \n",
       "ogbeniseyi  NaN           4015709                 0              0   \n",
       "                          4015709                 0              0   \n",
       "Kim_Chen    NaN           3374117                 0              0   \n",
       "                          3374117                 0              0   \n",
       "stavangr    NaN           3793638                 0              0   \n",
       "\n",
       "                                  buckets_count  ...  \\\n",
       "author_shot team_username shot_id                ...   \n",
       "ogbeniseyi  NaN           4015709             1  ...   \n",
       "                          4015709             1  ...   \n",
       "Kim_Chen    NaN           3374117             0  ...   \n",
       "                          3374117             0  ...   \n",
       "stavangr    NaN           3793638             0  ...   \n",
       "\n",
       "                                  team_likes_received_count  \\\n",
       "author_shot team_username shot_id                             \n",
       "ogbeniseyi  NaN           4015709                       NaN   \n",
       "                          4015709                       NaN   \n",
       "Kim_Chen    NaN           3374117                       NaN   \n",
       "                          3374117                       NaN   \n",
       "stavangr    NaN           3793638                       NaN   \n",
       "\n",
       "                                  team_projects_count  \\\n",
       "author_shot team_username shot_id                       \n",
       "ogbeniseyi  NaN           4015709                 NaN   \n",
       "                          4015709                 NaN   \n",
       "Kim_Chen    NaN           3374117                 NaN   \n",
       "                          3374117                 NaN   \n",
       "stavangr    NaN           3793638                 NaN   \n",
       "\n",
       "                                  team_rebounds_received_count  \\\n",
       "author_shot team_username shot_id                                \n",
       "ogbeniseyi  NaN           4015709                          NaN   \n",
       "                          4015709                          NaN   \n",
       "Kim_Chen    NaN           3374117                          NaN   \n",
       "                          3374117                          NaN   \n",
       "stavangr    NaN           3793638                          NaN   \n",
       "\n",
       "                                   team_shots_count  team_can_upload_shot  \\\n",
       "author_shot team_username shot_id                                           \n",
       "ogbeniseyi  NaN           4015709               NaN                   NaN   \n",
       "                          4015709               NaN                   NaN   \n",
       "Kim_Chen    NaN           3374117               NaN                   NaN   \n",
       "                          3374117               NaN                   NaN   \n",
       "stavangr    NaN           3793638               NaN                   NaN   \n",
       "\n",
       "                                  team_type team_pro team_created_at  \\\n",
       "author_shot team_username shot_id                                      \n",
       "ogbeniseyi  NaN           4015709       NaN      NaN             NaT   \n",
       "                          4015709       NaN      NaN             NaT   \n",
       "Kim_Chen    NaN           3374117       NaN      NaN             NaT   \n",
       "                          3374117       NaN      NaN             NaT   \n",
       "stavangr    NaN           3793638       NaN      NaN             NaT   \n",
       "\n",
       "                                   team_updated_at  team_members_count  \n",
       "author_shot team_username shot_id                                       \n",
       "ogbeniseyi  NaN           4015709              NaT                 NaN  \n",
       "                          4015709              NaT                 NaN  \n",
       "Kim_Chen    NaN           3374117              NaT                 NaN  \n",
       "                          3374117              NaT                 NaN  \n",
       "stavangr    NaN           3793638              NaT                 NaN  \n",
       "\n",
       "[5 rows x 33 columns]"
      ]
     },
     "execution_count": 71,
     "metadata": {},
     "output_type": "execute_result"
    }
   ],
   "source": [
    "not_unique.head()"
   ]
  },
  {
   "cell_type": "code",
   "execution_count": 72,
   "metadata": {},
   "outputs": [
    {
     "data": {
      "text/plain": [
       "3260"
      ]
     },
     "execution_count": 72,
     "metadata": {},
     "output_type": "execute_result"
    }
   ],
   "source": [
    "len(not_unique)"
   ]
  },
  {
   "cell_type": "markdown",
   "metadata": {},
   "source": [
    "Let's try to reduce to an unique information this subset with multiple profiles keeping the rows more updated regarding the two temporal features 'team_updated_at' and 'updated_at'."
   ]
  },
  {
   "cell_type": "code",
   "execution_count": 73,
   "metadata": {},
   "outputs": [],
   "source": [
    "not_unique.reset_index(inplace = True)"
   ]
  },
  {
   "cell_type": "code",
   "execution_count": 74,
   "metadata": {},
   "outputs": [],
   "source": [
    "# Let's keep the rows more updated regarding 'team_updated_at' (valid for only teams and team members).\n",
    "update = not_unique.groupby([\"author_shot\", \"team_username\", \"shot_id\"], dropna = False)[\"team_updated_at\"].transform(\"max\")"
   ]
  },
  {
   "cell_type": "code",
   "execution_count": 75,
   "metadata": {},
   "outputs": [],
   "source": [
    "# Update.\n",
    "not_unique = not_unique[(not_unique[\"team_updated_at\"] == update) | (update.isna())]"
   ]
  },
  {
   "cell_type": "code",
   "execution_count": 76,
   "metadata": {},
   "outputs": [],
   "source": [
    "# Let's keep the rows more updated regarding 'updated_at' (valid for all users).\n",
    "update = not_unique.groupby([\"author_shot\", \"team_username\", \"shot_id\"], dropna = False)[\"updated_at\"].transform(\"max\")"
   ]
  },
  {
   "cell_type": "code",
   "execution_count": 77,
   "metadata": {},
   "outputs": [],
   "source": [
    "# Update.\n",
    "not_unique = not_unique[not_unique[\"updated_at\"] == update]"
   ]
  },
  {
   "cell_type": "code",
   "execution_count": 78,
   "metadata": {},
   "outputs": [],
   "source": [
    "# Check the key.\n",
    "not_unique.set_index([\"author_shot\", \"team_username\", \"shot_id\"], inplace = True)"
   ]
  },
  {
   "cell_type": "code",
   "execution_count": 79,
   "metadata": {},
   "outputs": [
    {
     "data": {
      "text/plain": [
       "False"
      ]
     },
     "execution_count": 79,
     "metadata": {},
     "output_type": "execute_result"
    }
   ],
   "source": [
    "not_unique.index.is_unique"
   ]
  },
  {
   "cell_type": "code",
   "execution_count": 80,
   "metadata": {},
   "outputs": [
    {
     "data": {
      "text/plain": [
       "2937"
      ]
     },
     "execution_count": 80,
     "metadata": {},
     "output_type": "execute_result"
    }
   ],
   "source": [
    "len(not_unique.index)"
   ]
  },
  {
   "cell_type": "code",
   "execution_count": 81,
   "metadata": {},
   "outputs": [
    {
     "data": {
      "text/plain": [
       "1630"
      ]
     },
     "execution_count": 81,
     "metadata": {},
     "output_type": "execute_result"
    }
   ],
   "source": [
    "len(not_unique.index.unique())"
   ]
  },
  {
   "cell_type": "code",
   "execution_count": 82,
   "metadata": {},
   "outputs": [
    {
     "data": {
      "text/html": [
       "<div>\n",
       "<style scoped>\n",
       "    .dataframe tbody tr th:only-of-type {\n",
       "        vertical-align: middle;\n",
       "    }\n",
       "\n",
       "    .dataframe tbody tr th {\n",
       "        vertical-align: top;\n",
       "    }\n",
       "\n",
       "    .dataframe thead th {\n",
       "        text-align: right;\n",
       "    }\n",
       "</style>\n",
       "<table border=\"1\" class=\"dataframe\">\n",
       "  <thead>\n",
       "    <tr style=\"text-align: right;\">\n",
       "      <th></th>\n",
       "      <th></th>\n",
       "      <th></th>\n",
       "      <th>title</th>\n",
       "      <th>description</th>\n",
       "      <th>width</th>\n",
       "      <th>height</th>\n",
       "      <th>views_count</th>\n",
       "      <th>likes_count</th>\n",
       "      <th>comments_count</th>\n",
       "      <th>attachments_count</th>\n",
       "      <th>rebounds_count</th>\n",
       "      <th>buckets_count</th>\n",
       "      <th>...</th>\n",
       "      <th>team_likes_received_count</th>\n",
       "      <th>team_projects_count</th>\n",
       "      <th>team_rebounds_received_count</th>\n",
       "      <th>team_shots_count</th>\n",
       "      <th>team_can_upload_shot</th>\n",
       "      <th>team_type</th>\n",
       "      <th>team_pro</th>\n",
       "      <th>team_created_at</th>\n",
       "      <th>team_updated_at</th>\n",
       "      <th>team_members_count</th>\n",
       "    </tr>\n",
       "    <tr>\n",
       "      <th>author_shot</th>\n",
       "      <th>team_username</th>\n",
       "      <th>shot_id</th>\n",
       "      <th></th>\n",
       "      <th></th>\n",
       "      <th></th>\n",
       "      <th></th>\n",
       "      <th></th>\n",
       "      <th></th>\n",
       "      <th></th>\n",
       "      <th></th>\n",
       "      <th></th>\n",
       "      <th></th>\n",
       "      <th></th>\n",
       "      <th></th>\n",
       "      <th></th>\n",
       "      <th></th>\n",
       "      <th></th>\n",
       "      <th></th>\n",
       "      <th></th>\n",
       "      <th></th>\n",
       "      <th></th>\n",
       "      <th></th>\n",
       "      <th></th>\n",
       "    </tr>\n",
       "  </thead>\n",
       "  <tbody>\n",
       "    <tr>\n",
       "      <th rowspan=\"2\" valign=\"top\">ogbeniseyi</th>\n",
       "      <th rowspan=\"2\" valign=\"top\">NaN</th>\n",
       "      <th>4015709</th>\n",
       "      <td>Lockup for Wellsprings</td>\n",
       "      <td>None</td>\n",
       "      <td>400</td>\n",
       "      <td>300</td>\n",
       "      <td>107</td>\n",
       "      <td>17</td>\n",
       "      <td>2</td>\n",
       "      <td>0</td>\n",
       "      <td>0</td>\n",
       "      <td>1</td>\n",
       "      <td>...</td>\n",
       "      <td>NaN</td>\n",
       "      <td>NaN</td>\n",
       "      <td>NaN</td>\n",
       "      <td>NaN</td>\n",
       "      <td>NaN</td>\n",
       "      <td>NaN</td>\n",
       "      <td>NaN</td>\n",
       "      <td>NaT</td>\n",
       "      <td>NaT</td>\n",
       "      <td>NaN</td>\n",
       "    </tr>\n",
       "    <tr>\n",
       "      <th>4015709</th>\n",
       "      <td>Lockup for Wellsprings</td>\n",
       "      <td>None</td>\n",
       "      <td>400</td>\n",
       "      <td>300</td>\n",
       "      <td>130</td>\n",
       "      <td>17</td>\n",
       "      <td>2</td>\n",
       "      <td>0</td>\n",
       "      <td>0</td>\n",
       "      <td>1</td>\n",
       "      <td>...</td>\n",
       "      <td>NaN</td>\n",
       "      <td>NaN</td>\n",
       "      <td>NaN</td>\n",
       "      <td>NaN</td>\n",
       "      <td>NaN</td>\n",
       "      <td>NaN</td>\n",
       "      <td>NaN</td>\n",
       "      <td>NaT</td>\n",
       "      <td>NaT</td>\n",
       "      <td>NaN</td>\n",
       "    </tr>\n",
       "    <tr>\n",
       "      <th rowspan=\"2\" valign=\"top\">Kim_Chen</th>\n",
       "      <th rowspan=\"2\" valign=\"top\">NaN</th>\n",
       "      <th>3374117</th>\n",
       "      <td>Business icons</td>\n",
       "      <td>&lt;p&gt;Some icons that I did n...</td>\n",
       "      <td>400</td>\n",
       "      <td>300</td>\n",
       "      <td>273</td>\n",
       "      <td>21</td>\n",
       "      <td>3</td>\n",
       "      <td>0</td>\n",
       "      <td>0</td>\n",
       "      <td>0</td>\n",
       "      <td>...</td>\n",
       "      <td>NaN</td>\n",
       "      <td>NaN</td>\n",
       "      <td>NaN</td>\n",
       "      <td>NaN</td>\n",
       "      <td>NaN</td>\n",
       "      <td>NaN</td>\n",
       "      <td>NaN</td>\n",
       "      <td>NaT</td>\n",
       "      <td>NaT</td>\n",
       "      <td>NaN</td>\n",
       "    </tr>\n",
       "    <tr>\n",
       "      <th>3374117</th>\n",
       "      <td>Business icons</td>\n",
       "      <td>&lt;p&gt;Some icons that I did n...</td>\n",
       "      <td>400</td>\n",
       "      <td>300</td>\n",
       "      <td>274</td>\n",
       "      <td>21</td>\n",
       "      <td>3</td>\n",
       "      <td>0</td>\n",
       "      <td>0</td>\n",
       "      <td>0</td>\n",
       "      <td>...</td>\n",
       "      <td>NaN</td>\n",
       "      <td>NaN</td>\n",
       "      <td>NaN</td>\n",
       "      <td>NaN</td>\n",
       "      <td>NaN</td>\n",
       "      <td>NaN</td>\n",
       "      <td>NaN</td>\n",
       "      <td>NaT</td>\n",
       "      <td>NaT</td>\n",
       "      <td>NaN</td>\n",
       "    </tr>\n",
       "    <tr>\n",
       "      <th>stavangr</th>\n",
       "      <th>NaN</th>\n",
       "      <th>3793638</th>\n",
       "      <td>Product icon concept for n...</td>\n",
       "      <td>&lt;p&gt;Icon idea for an Androi...</td>\n",
       "      <td>400</td>\n",
       "      <td>300</td>\n",
       "      <td>215</td>\n",
       "      <td>16</td>\n",
       "      <td>0</td>\n",
       "      <td>0</td>\n",
       "      <td>0</td>\n",
       "      <td>0</td>\n",
       "      <td>...</td>\n",
       "      <td>NaN</td>\n",
       "      <td>NaN</td>\n",
       "      <td>NaN</td>\n",
       "      <td>NaN</td>\n",
       "      <td>NaN</td>\n",
       "      <td>NaN</td>\n",
       "      <td>NaN</td>\n",
       "      <td>NaT</td>\n",
       "      <td>NaT</td>\n",
       "      <td>NaN</td>\n",
       "    </tr>\n",
       "    <tr>\n",
       "      <th>...</th>\n",
       "      <th>...</th>\n",
       "      <th>...</th>\n",
       "      <td>...</td>\n",
       "      <td>...</td>\n",
       "      <td>...</td>\n",
       "      <td>...</td>\n",
       "      <td>...</td>\n",
       "      <td>...</td>\n",
       "      <td>...</td>\n",
       "      <td>...</td>\n",
       "      <td>...</td>\n",
       "      <td>...</td>\n",
       "      <td>...</td>\n",
       "      <td>...</td>\n",
       "      <td>...</td>\n",
       "      <td>...</td>\n",
       "      <td>...</td>\n",
       "      <td>...</td>\n",
       "      <td>...</td>\n",
       "      <td>...</td>\n",
       "      <td>...</td>\n",
       "      <td>...</td>\n",
       "      <td>...</td>\n",
       "    </tr>\n",
       "    <tr>\n",
       "      <th>upensh</th>\n",
       "      <th>NaN</th>\n",
       "      <th>2886712</th>\n",
       "      <td>Pinterest</td>\n",
       "      <td>&lt;p&gt;I like this style of Pi...</td>\n",
       "      <td>400</td>\n",
       "      <td>300</td>\n",
       "      <td>372</td>\n",
       "      <td>20</td>\n",
       "      <td>0</td>\n",
       "      <td>0</td>\n",
       "      <td>0</td>\n",
       "      <td>0</td>\n",
       "      <td>...</td>\n",
       "      <td>NaN</td>\n",
       "      <td>NaN</td>\n",
       "      <td>NaN</td>\n",
       "      <td>NaN</td>\n",
       "      <td>NaN</td>\n",
       "      <td>NaN</td>\n",
       "      <td>NaN</td>\n",
       "      <td>NaT</td>\n",
       "      <td>NaT</td>\n",
       "      <td>NaN</td>\n",
       "    </tr>\n",
       "    <tr>\n",
       "      <th rowspan=\"2\" valign=\"top\">Kim_Chen</th>\n",
       "      <th rowspan=\"2\" valign=\"top\">NaN</th>\n",
       "      <th>3402864</th>\n",
       "      <td>404 Page</td>\n",
       "      <td>&lt;p&gt;#daily ui day8 404 page...</td>\n",
       "      <td>400</td>\n",
       "      <td>300</td>\n",
       "      <td>197</td>\n",
       "      <td>10</td>\n",
       "      <td>0</td>\n",
       "      <td>0</td>\n",
       "      <td>1</td>\n",
       "      <td>1</td>\n",
       "      <td>...</td>\n",
       "      <td>NaN</td>\n",
       "      <td>NaN</td>\n",
       "      <td>NaN</td>\n",
       "      <td>NaN</td>\n",
       "      <td>NaN</td>\n",
       "      <td>NaN</td>\n",
       "      <td>NaN</td>\n",
       "      <td>NaT</td>\n",
       "      <td>NaT</td>\n",
       "      <td>NaN</td>\n",
       "    </tr>\n",
       "    <tr>\n",
       "      <th>3402864</th>\n",
       "      <td>404 Page</td>\n",
       "      <td>&lt;p&gt;#daily ui day8 404 page...</td>\n",
       "      <td>400</td>\n",
       "      <td>300</td>\n",
       "      <td>198</td>\n",
       "      <td>10</td>\n",
       "      <td>0</td>\n",
       "      <td>0</td>\n",
       "      <td>1</td>\n",
       "      <td>1</td>\n",
       "      <td>...</td>\n",
       "      <td>NaN</td>\n",
       "      <td>NaN</td>\n",
       "      <td>NaN</td>\n",
       "      <td>NaN</td>\n",
       "      <td>NaN</td>\n",
       "      <td>NaN</td>\n",
       "      <td>NaN</td>\n",
       "      <td>NaT</td>\n",
       "      <td>NaT</td>\n",
       "      <td>NaN</td>\n",
       "    </tr>\n",
       "    <tr>\n",
       "      <th rowspan=\"2\" valign=\"top\">akaHomebody</th>\n",
       "      <th rowspan=\"2\" valign=\"top\">NaN</th>\n",
       "      <th>3037781</th>\n",
       "      <td>$k8rGuRl</td>\n",
       "      <td>&lt;p&gt;Took a bit of a tumble,...</td>\n",
       "      <td>400</td>\n",
       "      <td>300</td>\n",
       "      <td>3894</td>\n",
       "      <td>105</td>\n",
       "      <td>4</td>\n",
       "      <td>0</td>\n",
       "      <td>0</td>\n",
       "      <td>2</td>\n",
       "      <td>...</td>\n",
       "      <td>NaN</td>\n",
       "      <td>NaN</td>\n",
       "      <td>NaN</td>\n",
       "      <td>NaN</td>\n",
       "      <td>NaN</td>\n",
       "      <td>NaN</td>\n",
       "      <td>NaN</td>\n",
       "      <td>NaT</td>\n",
       "      <td>NaT</td>\n",
       "      <td>NaN</td>\n",
       "    </tr>\n",
       "    <tr>\n",
       "      <th>3037781</th>\n",
       "      <td>$k8rGuRl</td>\n",
       "      <td>&lt;p&gt;Took a bit of a tumble,...</td>\n",
       "      <td>400</td>\n",
       "      <td>300</td>\n",
       "      <td>3911</td>\n",
       "      <td>105</td>\n",
       "      <td>4</td>\n",
       "      <td>0</td>\n",
       "      <td>0</td>\n",
       "      <td>2</td>\n",
       "      <td>...</td>\n",
       "      <td>NaN</td>\n",
       "      <td>NaN</td>\n",
       "      <td>NaN</td>\n",
       "      <td>NaN</td>\n",
       "      <td>NaN</td>\n",
       "      <td>NaN</td>\n",
       "      <td>NaN</td>\n",
       "      <td>NaT</td>\n",
       "      <td>NaT</td>\n",
       "      <td>NaN</td>\n",
       "    </tr>\n",
       "  </tbody>\n",
       "</table>\n",
       "<p>2614 rows × 33 columns</p>\n",
       "</div>"
      ],
      "text/plain": [
       "                                                           title  \\\n",
       "author_shot team_username shot_id                                  \n",
       "ogbeniseyi  NaN           4015709         Lockup for Wellsprings   \n",
       "                          4015709         Lockup for Wellsprings   \n",
       "Kim_Chen    NaN           3374117                 Business icons   \n",
       "                          3374117                 Business icons   \n",
       "stavangr    NaN           3793638  Product icon concept for n...   \n",
       "...                                                          ...   \n",
       "upensh      NaN           2886712                      Pinterest   \n",
       "Kim_Chen    NaN           3402864                       404 Page   \n",
       "                          3402864                       404 Page   \n",
       "akaHomebody NaN           3037781                       $k8rGuRl   \n",
       "                          3037781                       $k8rGuRl   \n",
       "\n",
       "                                                     description width height  \\\n",
       "author_shot team_username shot_id                                               \n",
       "ogbeniseyi  NaN           4015709                           None   400    300   \n",
       "                          4015709                           None   400    300   \n",
       "Kim_Chen    NaN           3374117  <p>Some icons that I did n...   400    300   \n",
       "                          3374117  <p>Some icons that I did n...   400    300   \n",
       "stavangr    NaN           3793638  <p>Icon idea for an Androi...   400    300   \n",
       "...                                                          ...   ...    ...   \n",
       "upensh      NaN           2886712  <p>I like this style of Pi...   400    300   \n",
       "Kim_Chen    NaN           3402864  <p>#daily ui day8 404 page...   400    300   \n",
       "                          3402864  <p>#daily ui day8 404 page...   400    300   \n",
       "akaHomebody NaN           3037781  <p>Took a bit of a tumble,...   400    300   \n",
       "                          3037781  <p>Took a bit of a tumble,...   400    300   \n",
       "\n",
       "                                  views_count likes_count comments_count  \\\n",
       "author_shot team_username shot_id                                          \n",
       "ogbeniseyi  NaN           4015709         107          17              2   \n",
       "                          4015709         130          17              2   \n",
       "Kim_Chen    NaN           3374117         273          21              3   \n",
       "                          3374117         274          21              3   \n",
       "stavangr    NaN           3793638         215          16              0   \n",
       "...                                       ...         ...            ...   \n",
       "upensh      NaN           2886712         372          20              0   \n",
       "Kim_Chen    NaN           3402864         197          10              0   \n",
       "                          3402864         198          10              0   \n",
       "akaHomebody NaN           3037781        3894         105              4   \n",
       "                          3037781        3911         105              4   \n",
       "\n",
       "                                  attachments_count rebounds_count  \\\n",
       "author_shot team_username shot_id                                    \n",
       "ogbeniseyi  NaN           4015709                 0              0   \n",
       "                          4015709                 0              0   \n",
       "Kim_Chen    NaN           3374117                 0              0   \n",
       "                          3374117                 0              0   \n",
       "stavangr    NaN           3793638                 0              0   \n",
       "...                                             ...            ...   \n",
       "upensh      NaN           2886712                 0              0   \n",
       "Kim_Chen    NaN           3402864                 0              1   \n",
       "                          3402864                 0              1   \n",
       "akaHomebody NaN           3037781                 0              0   \n",
       "                          3037781                 0              0   \n",
       "\n",
       "                                  buckets_count  ...  \\\n",
       "author_shot team_username shot_id                ...   \n",
       "ogbeniseyi  NaN           4015709             1  ...   \n",
       "                          4015709             1  ...   \n",
       "Kim_Chen    NaN           3374117             0  ...   \n",
       "                          3374117             0  ...   \n",
       "stavangr    NaN           3793638             0  ...   \n",
       "...                                         ...  ...   \n",
       "upensh      NaN           2886712             0  ...   \n",
       "Kim_Chen    NaN           3402864             1  ...   \n",
       "                          3402864             1  ...   \n",
       "akaHomebody NaN           3037781             2  ...   \n",
       "                          3037781             2  ...   \n",
       "\n",
       "                                  team_likes_received_count  \\\n",
       "author_shot team_username shot_id                             \n",
       "ogbeniseyi  NaN           4015709                       NaN   \n",
       "                          4015709                       NaN   \n",
       "Kim_Chen    NaN           3374117                       NaN   \n",
       "                          3374117                       NaN   \n",
       "stavangr    NaN           3793638                       NaN   \n",
       "...                                                     ...   \n",
       "upensh      NaN           2886712                       NaN   \n",
       "Kim_Chen    NaN           3402864                       NaN   \n",
       "                          3402864                       NaN   \n",
       "akaHomebody NaN           3037781                       NaN   \n",
       "                          3037781                       NaN   \n",
       "\n",
       "                                  team_projects_count  \\\n",
       "author_shot team_username shot_id                       \n",
       "ogbeniseyi  NaN           4015709                 NaN   \n",
       "                          4015709                 NaN   \n",
       "Kim_Chen    NaN           3374117                 NaN   \n",
       "                          3374117                 NaN   \n",
       "stavangr    NaN           3793638                 NaN   \n",
       "...                                               ...   \n",
       "upensh      NaN           2886712                 NaN   \n",
       "Kim_Chen    NaN           3402864                 NaN   \n",
       "                          3402864                 NaN   \n",
       "akaHomebody NaN           3037781                 NaN   \n",
       "                          3037781                 NaN   \n",
       "\n",
       "                                  team_rebounds_received_count  \\\n",
       "author_shot team_username shot_id                                \n",
       "ogbeniseyi  NaN           4015709                          NaN   \n",
       "                          4015709                          NaN   \n",
       "Kim_Chen    NaN           3374117                          NaN   \n",
       "                          3374117                          NaN   \n",
       "stavangr    NaN           3793638                          NaN   \n",
       "...                                                        ...   \n",
       "upensh      NaN           2886712                          NaN   \n",
       "Kim_Chen    NaN           3402864                          NaN   \n",
       "                          3402864                          NaN   \n",
       "akaHomebody NaN           3037781                          NaN   \n",
       "                          3037781                          NaN   \n",
       "\n",
       "                                   team_shots_count  team_can_upload_shot  \\\n",
       "author_shot team_username shot_id                                           \n",
       "ogbeniseyi  NaN           4015709               NaN                   NaN   \n",
       "                          4015709               NaN                   NaN   \n",
       "Kim_Chen    NaN           3374117               NaN                   NaN   \n",
       "                          3374117               NaN                   NaN   \n",
       "stavangr    NaN           3793638               NaN                   NaN   \n",
       "...                                             ...                   ...   \n",
       "upensh      NaN           2886712               NaN                   NaN   \n",
       "Kim_Chen    NaN           3402864               NaN                   NaN   \n",
       "                          3402864               NaN                   NaN   \n",
       "akaHomebody NaN           3037781               NaN                   NaN   \n",
       "                          3037781               NaN                   NaN   \n",
       "\n",
       "                                  team_type team_pro team_created_at  \\\n",
       "author_shot team_username shot_id                                      \n",
       "ogbeniseyi  NaN           4015709       NaN      NaN             NaT   \n",
       "                          4015709       NaN      NaN             NaT   \n",
       "Kim_Chen    NaN           3374117       NaN      NaN             NaT   \n",
       "                          3374117       NaN      NaN             NaT   \n",
       "stavangr    NaN           3793638       NaN      NaN             NaT   \n",
       "...                                     ...      ...             ...   \n",
       "upensh      NaN           2886712       NaN      NaN             NaT   \n",
       "Kim_Chen    NaN           3402864       NaN      NaN             NaT   \n",
       "                          3402864       NaN      NaN             NaT   \n",
       "akaHomebody NaN           3037781       NaN      NaN             NaT   \n",
       "                          3037781       NaN      NaN             NaT   \n",
       "\n",
       "                                   team_updated_at  team_members_count  \n",
       "author_shot team_username shot_id                                       \n",
       "ogbeniseyi  NaN           4015709              NaT                 NaN  \n",
       "                          4015709              NaT                 NaN  \n",
       "Kim_Chen    NaN           3374117              NaT                 NaN  \n",
       "                          3374117              NaT                 NaN  \n",
       "stavangr    NaN           3793638              NaT                 NaN  \n",
       "...                                            ...                 ...  \n",
       "upensh      NaN           2886712              NaT                 NaN  \n",
       "Kim_Chen    NaN           3402864              NaT                 NaN  \n",
       "                          3402864              NaT                 NaN  \n",
       "akaHomebody NaN           3037781              NaT                 NaN  \n",
       "                          3037781              NaT                 NaN  \n",
       "\n",
       "[2614 rows x 33 columns]"
      ]
     },
     "execution_count": 82,
     "metadata": {},
     "output_type": "execute_result"
    }
   ],
   "source": [
    "not_unique.loc[not_unique.index.value_counts() > 1]"
   ]
  },
  {
   "cell_type": "code",
   "execution_count": 83,
   "metadata": {},
   "outputs": [
    {
     "data": {
      "text/plain": [
       "author_shot                     0.000\n",
       "team_username                   0.000\n",
       "shot_id                         0.000\n",
       "title                           0.000\n",
       "description                     0.000\n",
       "width                           0.000\n",
       "height                          0.000\n",
       "views_count                     0.990\n",
       "likes_count                     0.265\n",
       "comments_count                  0.018\n",
       "attachments_count               0.000\n",
       "rebounds_count                  0.004\n",
       "buckets_count                   0.026\n",
       "created_at                      0.000\n",
       "updated_at                      0.000\n",
       "animated                        0.000\n",
       "team                            0.000\n",
       "team_id                         0.000\n",
       "team_name                       0.000\n",
       "team_bio                        0.000\n",
       "team_location                   0.000\n",
       "team_buckets_count              0.000\n",
       "team_comments_received_count    0.000\n",
       "team_followers_count            0.000\n",
       "team_followings_count           0.000\n",
       "team_likes_count                0.000\n",
       "team_likes_received_count       0.000\n",
       "team_projects_count             0.000\n",
       "team_rebounds_received_count    0.000\n",
       "team_shots_count                0.000\n",
       "team_can_upload_shot            0.000\n",
       "team_type                       0.000\n",
       "team_pro                        0.000\n",
       "team_created_at                 0.000\n",
       "team_updated_at                 0.000\n",
       "team_members_count              0.000\n",
       "dtype: float64"
      ]
     },
     "execution_count": 83,
     "metadata": {},
     "output_type": "execute_result"
    }
   ],
   "source": [
    "# Let's check what are the features (columns) that change for these profiles.\n",
    "def features_not_unique(x):\n",
    "    return x.apply(lambda x: x.nunique()-1 if not x.isnull().all() else 0)\n",
    "\n",
    "# Percentage of change.\n",
    "not_unique.loc[not_unique.index.value_counts() > 1].reset_index().groupby([\"author_shot\", \"team_username\", \"shot_id\"], dropna = False).apply(features_not_unique).mean(axis = 0).round(3)"
   ]
  },
  {
   "cell_type": "code",
   "execution_count": 84,
   "metadata": {},
   "outputs": [],
   "source": [
    "not_unique.reset_index(inplace = True)"
   ]
  },
  {
   "cell_type": "code",
   "execution_count": 85,
   "metadata": {},
   "outputs": [],
   "source": [
    "# Select the rows with more views of the shot.\n",
    "not_unique = not_unique[not_unique[\"views_count\"] == not_unique.groupby([\"author_shot\", \"team_username\", \"shot_id\"], dropna = False)[\"views_count\"].transform(\"max\")]"
   ]
  },
  {
   "cell_type": "code",
   "execution_count": 86,
   "metadata": {},
   "outputs": [
    {
     "data": {
      "text/plain": [
       "False"
      ]
     },
     "execution_count": 86,
     "metadata": {},
     "output_type": "execute_result"
    }
   ],
   "source": [
    "not_unique.set_index([\"author_shot\", \"team_username\", \"shot_id\"]).index.is_unique"
   ]
  },
  {
   "cell_type": "code",
   "execution_count": 87,
   "metadata": {},
   "outputs": [],
   "source": [
    "# Select the rows with more likes of the shot.\n",
    "not_unique = not_unique[not_unique[\"likes_count\"] == not_unique.groupby([\"author_shot\", \"team_username\", \"shot_id\"], dropna = False)[\"likes_count\"].transform(\"max\")]"
   ]
  },
  {
   "cell_type": "code",
   "execution_count": 88,
   "metadata": {},
   "outputs": [
    {
     "data": {
      "text/plain": [
       "True"
      ]
     },
     "execution_count": 88,
     "metadata": {},
     "output_type": "execute_result"
    }
   ],
   "source": [
    "not_unique.set_index([\"author_shot\", \"team_username\", \"shot_id\"]).index.is_unique"
   ]
  },
  {
   "cell_type": "code",
   "execution_count": 89,
   "metadata": {},
   "outputs": [],
   "source": [
    "shots = pd.concat([unique.reset_index(), not_unique], ignore_index = False).reset_index(drop = True)"
   ]
  },
  {
   "cell_type": "code",
   "execution_count": 90,
   "metadata": {},
   "outputs": [
    {
     "data": {
      "text/plain": [
       "3143908"
      ]
     },
     "execution_count": 90,
     "metadata": {},
     "output_type": "execute_result"
    }
   ],
   "source": [
    "len(shots)"
   ]
  },
  {
   "cell_type": "code",
   "execution_count": 91,
   "metadata": {},
   "outputs": [
    {
     "data": {
      "text/plain": [
       "True"
      ]
     },
     "execution_count": 91,
     "metadata": {},
     "output_type": "execute_result"
    }
   ],
   "source": [
    "shots.set_index([\"author_shot\", \"team_username\", \"shot_id\"]).index.is_unique"
   ]
  },
  {
   "cell_type": "code",
   "execution_count": 92,
   "metadata": {},
   "outputs": [
    {
     "data": {
      "text/html": [
       "<div>\n",
       "<style scoped>\n",
       "    .dataframe tbody tr th:only-of-type {\n",
       "        vertical-align: middle;\n",
       "    }\n",
       "\n",
       "    .dataframe tbody tr th {\n",
       "        vertical-align: top;\n",
       "    }\n",
       "\n",
       "    .dataframe thead th {\n",
       "        text-align: right;\n",
       "    }\n",
       "</style>\n",
       "<table border=\"1\" class=\"dataframe\">\n",
       "  <thead>\n",
       "    <tr style=\"text-align: right;\">\n",
       "      <th></th>\n",
       "      <th>author_shot</th>\n",
       "      <th>team_username</th>\n",
       "      <th>shot_id</th>\n",
       "      <th>title</th>\n",
       "      <th>description</th>\n",
       "      <th>width</th>\n",
       "      <th>height</th>\n",
       "      <th>views_count</th>\n",
       "      <th>likes_count</th>\n",
       "      <th>comments_count</th>\n",
       "      <th>...</th>\n",
       "      <th>team_likes_received_count</th>\n",
       "      <th>team_projects_count</th>\n",
       "      <th>team_rebounds_received_count</th>\n",
       "      <th>team_shots_count</th>\n",
       "      <th>team_can_upload_shot</th>\n",
       "      <th>team_type</th>\n",
       "      <th>team_pro</th>\n",
       "      <th>team_created_at</th>\n",
       "      <th>team_updated_at</th>\n",
       "      <th>team_members_count</th>\n",
       "    </tr>\n",
       "  </thead>\n",
       "  <tbody>\n",
       "    <tr>\n",
       "      <th>0</th>\n",
       "      <td>max_palyvoda</td>\n",
       "      <td>NaN</td>\n",
       "      <td>3549658.0</td>\n",
       "      <td>Cinema Festival App Part.1</td>\n",
       "      <td>&lt;p&gt;What's up Dribbblers!&lt;/...</td>\n",
       "      <td>400</td>\n",
       "      <td>300</td>\n",
       "      <td>1611</td>\n",
       "      <td>51</td>\n",
       "      <td>5</td>\n",
       "      <td>...</td>\n",
       "      <td>NaN</td>\n",
       "      <td>NaN</td>\n",
       "      <td>NaN</td>\n",
       "      <td>NaN</td>\n",
       "      <td>NaN</td>\n",
       "      <td>NaN</td>\n",
       "      <td>NaN</td>\n",
       "      <td>NaT</td>\n",
       "      <td>NaT</td>\n",
       "      <td>NaN</td>\n",
       "    </tr>\n",
       "    <tr>\n",
       "      <th>1</th>\n",
       "      <td>max_palyvoda</td>\n",
       "      <td>NaN</td>\n",
       "      <td>3254544.0</td>\n",
       "      <td>Smart Home App Concept</td>\n",
       "      <td>&lt;p&gt;What's up Dribbblers!\\n...</td>\n",
       "      <td>400</td>\n",
       "      <td>300</td>\n",
       "      <td>3263</td>\n",
       "      <td>101</td>\n",
       "      <td>7</td>\n",
       "      <td>...</td>\n",
       "      <td>NaN</td>\n",
       "      <td>NaN</td>\n",
       "      <td>NaN</td>\n",
       "      <td>NaN</td>\n",
       "      <td>NaN</td>\n",
       "      <td>NaN</td>\n",
       "      <td>NaN</td>\n",
       "      <td>NaT</td>\n",
       "      <td>NaT</td>\n",
       "      <td>NaN</td>\n",
       "    </tr>\n",
       "    <tr>\n",
       "      <th>2</th>\n",
       "      <td>max_palyvoda</td>\n",
       "      <td>NaN</td>\n",
       "      <td>3153930.0</td>\n",
       "      <td>Pre-Order App For Cafe</td>\n",
       "      <td>&lt;p&gt;Hello, Dribbblers!\\n&lt;br...</td>\n",
       "      <td>400</td>\n",
       "      <td>300</td>\n",
       "      <td>5769</td>\n",
       "      <td>192</td>\n",
       "      <td>26</td>\n",
       "      <td>...</td>\n",
       "      <td>NaN</td>\n",
       "      <td>NaN</td>\n",
       "      <td>NaN</td>\n",
       "      <td>NaN</td>\n",
       "      <td>NaN</td>\n",
       "      <td>NaN</td>\n",
       "      <td>NaN</td>\n",
       "      <td>NaT</td>\n",
       "      <td>NaT</td>\n",
       "      <td>NaN</td>\n",
       "    </tr>\n",
       "    <tr>\n",
       "      <th>3</th>\n",
       "      <td>miketanael</td>\n",
       "      <td>NaN</td>\n",
       "      <td>3732805.0</td>\n",
       "      <td>Threenity Logo Design</td>\n",
       "      <td>&lt;p&gt;Hellow fellow dribbbler...</td>\n",
       "      <td>400</td>\n",
       "      <td>300</td>\n",
       "      <td>445</td>\n",
       "      <td>44</td>\n",
       "      <td>4</td>\n",
       "      <td>...</td>\n",
       "      <td>NaN</td>\n",
       "      <td>NaN</td>\n",
       "      <td>NaN</td>\n",
       "      <td>NaN</td>\n",
       "      <td>NaN</td>\n",
       "      <td>NaN</td>\n",
       "      <td>NaN</td>\n",
       "      <td>NaT</td>\n",
       "      <td>NaT</td>\n",
       "      <td>NaN</td>\n",
       "    </tr>\n",
       "    <tr>\n",
       "      <th>4</th>\n",
       "      <td>citrusbyte</td>\n",
       "      <td>citrusbyte</td>\n",
       "      <td>2686725.0</td>\n",
       "      <td>Real Estate collaboration ...</td>\n",
       "      <td>&lt;p&gt;ProTitle360 let lawyers...</td>\n",
       "      <td>400</td>\n",
       "      <td>300</td>\n",
       "      <td>1309</td>\n",
       "      <td>27</td>\n",
       "      <td>0</td>\n",
       "      <td>...</td>\n",
       "      <td>40.0</td>\n",
       "      <td>5.0</td>\n",
       "      <td>11.0</td>\n",
       "      <td>121.0</td>\n",
       "      <td>True</td>\n",
       "      <td>Team</td>\n",
       "      <td>False</td>\n",
       "      <td>2014-10-17 01:51:16</td>\n",
       "      <td>2017-12-18 17:09:03</td>\n",
       "      <td>18.0</td>\n",
       "    </tr>\n",
       "  </tbody>\n",
       "</table>\n",
       "<p>5 rows × 36 columns</p>\n",
       "</div>"
      ],
      "text/plain": [
       "    author_shot team_username    shot_id                          title  \\\n",
       "0  max_palyvoda           NaN  3549658.0    Cinema Festival App Part.1    \n",
       "1  max_palyvoda           NaN  3254544.0         Smart Home App Concept   \n",
       "2  max_palyvoda           NaN  3153930.0         Pre-Order App For Cafe   \n",
       "3    miketanael           NaN  3732805.0          Threenity Logo Design   \n",
       "4    citrusbyte    citrusbyte  2686725.0  Real Estate collaboration ...   \n",
       "\n",
       "                     description width height views_count likes_count  \\\n",
       "0  <p>What's up Dribbblers!</...   400    300        1611          51   \n",
       "1  <p>What's up Dribbblers!\\n...   400    300        3263         101   \n",
       "2  <p>Hello, Dribbblers!\\n<br...   400    300        5769         192   \n",
       "3  <p>Hellow fellow dribbbler...   400    300         445          44   \n",
       "4  <p>ProTitle360 let lawyers...   400    300        1309          27   \n",
       "\n",
       "  comments_count  ... team_likes_received_count team_projects_count  \\\n",
       "0              5  ...                       NaN                 NaN   \n",
       "1              7  ...                       NaN                 NaN   \n",
       "2             26  ...                       NaN                 NaN   \n",
       "3              4  ...                       NaN                 NaN   \n",
       "4              0  ...                      40.0                 5.0   \n",
       "\n",
       "  team_rebounds_received_count team_shots_count team_can_upload_shot  \\\n",
       "0                          NaN              NaN                  NaN   \n",
       "1                          NaN              NaN                  NaN   \n",
       "2                          NaN              NaN                  NaN   \n",
       "3                          NaN              NaN                  NaN   \n",
       "4                         11.0            121.0                 True   \n",
       "\n",
       "  team_type  team_pro     team_created_at     team_updated_at  \\\n",
       "0       NaN       NaN                 NaT                 NaT   \n",
       "1       NaN       NaN                 NaT                 NaT   \n",
       "2       NaN       NaN                 NaT                 NaT   \n",
       "3       NaN       NaN                 NaT                 NaT   \n",
       "4      Team     False 2014-10-17 01:51:16 2017-12-18 17:09:03   \n",
       "\n",
       "  team_members_count  \n",
       "0                NaN  \n",
       "1                NaN  \n",
       "2                NaN  \n",
       "3                NaN  \n",
       "4               18.0  \n",
       "\n",
       "[5 rows x 36 columns]"
      ]
     },
     "execution_count": 92,
     "metadata": {},
     "output_type": "execute_result"
    }
   ],
   "source": [
    "shots.head()"
   ]
  },
  {
   "cell_type": "code",
   "execution_count": 93,
   "metadata": {},
   "outputs": [
    {
     "data": {
      "text/plain": [
       "0"
      ]
     },
     "execution_count": 93,
     "metadata": {},
     "output_type": "execute_result"
    }
   ],
   "source": [
    "# Check duplicated rows.\n",
    "shots.duplicated().sum()"
   ]
  },
  {
   "cell_type": "code",
   "execution_count": 94,
   "metadata": {},
   "outputs": [
    {
     "data": {
      "text/plain": [
       "2480527"
      ]
     },
     "execution_count": 94,
     "metadata": {},
     "output_type": "execute_result"
    }
   ],
   "source": [
    "len(shots.shot_id.dropna().unique())"
   ]
  },
  {
   "cell_type": "code",
   "execution_count": 95,
   "metadata": {},
   "outputs": [
    {
     "data": {
      "text/plain": [
       "770544"
      ]
     },
     "execution_count": 95,
     "metadata": {},
     "output_type": "execute_result"
    }
   ],
   "source": [
    "len(shots.author_shot.unique())"
   ]
  },
  {
   "cell_type": "code",
   "execution_count": 96,
   "metadata": {},
   "outputs": [
    {
     "data": {
      "text/plain": [
       "True"
      ]
     },
     "execution_count": 96,
     "metadata": {},
     "output_type": "execute_result"
    }
   ],
   "source": [
    "shots.set_index([\"shot_id\", \"author_shot\"]).index.is_unique"
   ]
  },
  {
   "cell_type": "code",
   "execution_count": 97,
   "metadata": {},
   "outputs": [],
   "source": [
    "shots.drop(\"team\", axis = 1, inplace = True)"
   ]
  },
  {
   "cell_type": "code",
   "execution_count": 98,
   "metadata": {},
   "outputs": [
    {
     "data": {
      "text/plain": [
       "Index(['author_shot', 'team_username', 'shot_id', 'title', 'description',\n",
       "       'width', 'height', 'views_count', 'likes_count', 'comments_count',\n",
       "       'attachments_count', 'rebounds_count', 'buckets_count', 'created_at',\n",
       "       'updated_at', 'animated', 'team_id', 'team_name', 'team_bio',\n",
       "       'team_location', 'team_buckets_count', 'team_comments_received_count',\n",
       "       'team_followers_count', 'team_followings_count', 'team_likes_count',\n",
       "       'team_likes_received_count', 'team_projects_count',\n",
       "       'team_rebounds_received_count', 'team_shots_count',\n",
       "       'team_can_upload_shot', 'team_type', 'team_pro', 'team_created_at',\n",
       "       'team_updated_at', 'team_members_count'],\n",
       "      dtype='object')"
      ]
     },
     "execution_count": 98,
     "metadata": {},
     "output_type": "execute_result"
    }
   ],
   "source": [
    "shots.columns"
   ]
  },
  {
   "cell_type": "code",
   "execution_count": 99,
   "metadata": {},
   "outputs": [],
   "source": [
    "# Save the type for the sqlite table.\n",
    "dtype = {\"shot_id\": \"INT\", \"title\": \"TEXT\", \"description\": \"TEXT\", \"width\": \"INT\", \"height\": \"INT\", \"views_count\": \"INT\",\n",
    "         \"likes_count\": \"INT\", \"comments_count\": \"INT\", \"attachments_count\": \"INT\", \"rebounds_count\": \"INT\", \"buckets_count\": \"INT\",  \n",
    "         \"created_at\": \"TIMESTAMP\", \"updated_at\": \"TIMESTAMP\", \"animated\": \"BOOLEAN\", \"team_username\": \"TEXT\", \"author_shot\": \"TEXT\", \n",
    "         \"team_id\": \"INT\", \"team_name\": \"TEXT\", \"team_bio\": \"TEXT\", \"team_location\": \"TEXT\", \"team_buckets_count\": \"INT\", \n",
    "         \"team_comments_received_count\": \"INT\", \"team_followers_count\": \"INT\", \"team_followings_count\": \"INT\", \n",
    "         \"team_likes_count\": \"INT\", \"team_likes_received_count\": \"INT\", \"team_projects_count\": \"INT\",\n",
    "         \"team_rebounds_received_count\": \"INT\", \"team_shots_count\": \"INT\", \"team_can_upload_shot\": \"BOOLEAN\", \n",
    "         \"team_type\": \"TEXT\", \"team_pro\": \"BOOLEAN\", \"team_created_at\": \"TIMESTAMP\", \"team_updated_at\": \"TIMESTAMP\", \n",
    "         \"team_members_count\": \"INT\"}"
   ]
  },
  {
   "cell_type": "code",
   "execution_count": 100,
   "metadata": {},
   "outputs": [],
   "source": [
    "# Save the dataframe into the sql database.\n",
    "shots.to_sql(\"shots\", conn, index = False, dtype = dtype)"
   ]
  },
  {
   "cell_type": "code",
   "execution_count": 101,
   "metadata": {},
   "outputs": [],
   "source": [
    "conn.close()"
   ]
  },
  {
   "cell_type": "markdown",
   "metadata": {},
   "source": [
    "### Brief analysis\n",
    "\n",
    "We analyze the cumulative *_count* features checking for their positive or negative (anomalies) values."
   ]
  },
  {
   "cell_type": "code",
   "execution_count": 102,
   "metadata": {},
   "outputs": [],
   "source": [
    "features = [\"views_count\", \"likes_count\", \"comments_count\", \"attachments_count\", \"rebounds_count\", \n",
    "            \"buckets_count\"]"
   ]
  },
  {
   "cell_type": "code",
   "execution_count": 103,
   "metadata": {},
   "outputs": [
    {
     "name": "stdout",
     "output_type": "stream",
     "text": [
      "Negative values for 'views_count': 0 of 3143908\n",
      "Negative values for 'likes_count': 0 of 3143908\n",
      "Negative values for 'comments_count': 11 of 3143908\n",
      "Negative values for 'attachments_count': 7 of 3143908\n",
      "Negative values for 'rebounds_count': 0 of 3143908\n",
      "Negative values for 'buckets_count': 0 of 3143908\n"
     ]
    }
   ],
   "source": [
    "for feature in features:\n",
    "    negatives = len(shots[feature][shots[feature] < 0])\n",
    "    print(\"Negative values for '%s': %d of %d\" % (feature, negatives, len(shots)))"
   ]
  },
  {
   "cell_type": "code",
   "execution_count": 104,
   "metadata": {},
   "outputs": [
    {
     "data": {
      "text/html": [
       "<div>\n",
       "<style scoped>\n",
       "    .dataframe tbody tr th:only-of-type {\n",
       "        vertical-align: middle;\n",
       "    }\n",
       "\n",
       "    .dataframe tbody tr th {\n",
       "        vertical-align: top;\n",
       "    }\n",
       "\n",
       "    .dataframe thead th {\n",
       "        text-align: right;\n",
       "    }\n",
       "</style>\n",
       "<table border=\"1\" class=\"dataframe\">\n",
       "  <thead>\n",
       "    <tr style=\"text-align: right;\">\n",
       "      <th></th>\n",
       "      <th>author_shot</th>\n",
       "      <th>team_username</th>\n",
       "      <th>shot_id</th>\n",
       "      <th>title</th>\n",
       "      <th>description</th>\n",
       "      <th>width</th>\n",
       "      <th>height</th>\n",
       "      <th>views_count</th>\n",
       "      <th>likes_count</th>\n",
       "      <th>comments_count</th>\n",
       "      <th>...</th>\n",
       "      <th>team_likes_received_count</th>\n",
       "      <th>team_projects_count</th>\n",
       "      <th>team_rebounds_received_count</th>\n",
       "      <th>team_shots_count</th>\n",
       "      <th>team_can_upload_shot</th>\n",
       "      <th>team_type</th>\n",
       "      <th>team_pro</th>\n",
       "      <th>team_created_at</th>\n",
       "      <th>team_updated_at</th>\n",
       "      <th>team_members_count</th>\n",
       "    </tr>\n",
       "  </thead>\n",
       "  <tbody>\n",
       "    <tr>\n",
       "      <th>721</th>\n",
       "      <td>marcoyu</td>\n",
       "      <td>NaN</td>\n",
       "      <td>2033009.0</td>\n",
       "      <td>Beat Leukemia</td>\n",
       "      <td>&lt;p&gt;A project of Leukemia C...</td>\n",
       "      <td>400</td>\n",
       "      <td>300</td>\n",
       "      <td>1431</td>\n",
       "      <td>55</td>\n",
       "      <td>-1</td>\n",
       "      <td>...</td>\n",
       "      <td>NaN</td>\n",
       "      <td>NaN</td>\n",
       "      <td>NaN</td>\n",
       "      <td>NaN</td>\n",
       "      <td>NaN</td>\n",
       "      <td>NaN</td>\n",
       "      <td>NaN</td>\n",
       "      <td>NaT</td>\n",
       "      <td>NaT</td>\n",
       "      <td>NaN</td>\n",
       "    </tr>\n",
       "    <tr>\n",
       "      <th>65918</th>\n",
       "      <td>orthonormai</td>\n",
       "      <td>NaN</td>\n",
       "      <td>2327786.0</td>\n",
       "      <td>Free PSD - Bree Products l...</td>\n",
       "      <td>None</td>\n",
       "      <td>400</td>\n",
       "      <td>300</td>\n",
       "      <td>3305</td>\n",
       "      <td>39</td>\n",
       "      <td>-1</td>\n",
       "      <td>...</td>\n",
       "      <td>NaN</td>\n",
       "      <td>NaN</td>\n",
       "      <td>NaN</td>\n",
       "      <td>NaN</td>\n",
       "      <td>NaN</td>\n",
       "      <td>NaN</td>\n",
       "      <td>NaN</td>\n",
       "      <td>NaT</td>\n",
       "      <td>NaT</td>\n",
       "      <td>NaN</td>\n",
       "    </tr>\n",
       "    <tr>\n",
       "      <th>76204</th>\n",
       "      <td>rgarcia</td>\n",
       "      <td>NaN</td>\n",
       "      <td>1167203.0</td>\n",
       "      <td>Curupaco Landing Page Prop...</td>\n",
       "      <td>None</td>\n",
       "      <td>400</td>\n",
       "      <td>300</td>\n",
       "      <td>1722</td>\n",
       "      <td>45</td>\n",
       "      <td>2</td>\n",
       "      <td>...</td>\n",
       "      <td>NaN</td>\n",
       "      <td>NaN</td>\n",
       "      <td>NaN</td>\n",
       "      <td>NaN</td>\n",
       "      <td>NaN</td>\n",
       "      <td>NaN</td>\n",
       "      <td>NaN</td>\n",
       "      <td>NaT</td>\n",
       "      <td>NaT</td>\n",
       "      <td>NaN</td>\n",
       "    </tr>\n",
       "    <tr>\n",
       "      <th>285386</th>\n",
       "      <td>DavidSilberb</td>\n",
       "      <td>NaN</td>\n",
       "      <td>715104.0</td>\n",
       "      <td>King Throne 4 Web</td>\n",
       "      <td>&lt;p&gt;busy doing this illustr...</td>\n",
       "      <td>400</td>\n",
       "      <td>300</td>\n",
       "      <td>139</td>\n",
       "      <td>5</td>\n",
       "      <td>-1</td>\n",
       "      <td>...</td>\n",
       "      <td>NaN</td>\n",
       "      <td>NaN</td>\n",
       "      <td>NaN</td>\n",
       "      <td>NaN</td>\n",
       "      <td>NaN</td>\n",
       "      <td>NaN</td>\n",
       "      <td>NaN</td>\n",
       "      <td>NaT</td>\n",
       "      <td>NaT</td>\n",
       "      <td>NaN</td>\n",
       "    </tr>\n",
       "    <tr>\n",
       "      <th>319422</th>\n",
       "      <td>Varsano</td>\n",
       "      <td>NaN</td>\n",
       "      <td>2119172.0</td>\n",
       "      <td>Asia To Go UI Design</td>\n",
       "      <td>None</td>\n",
       "      <td>400</td>\n",
       "      <td>300</td>\n",
       "      <td>816</td>\n",
       "      <td>31</td>\n",
       "      <td>-1</td>\n",
       "      <td>...</td>\n",
       "      <td>NaN</td>\n",
       "      <td>NaN</td>\n",
       "      <td>NaN</td>\n",
       "      <td>NaN</td>\n",
       "      <td>NaN</td>\n",
       "      <td>NaN</td>\n",
       "      <td>NaN</td>\n",
       "      <td>NaT</td>\n",
       "      <td>NaT</td>\n",
       "      <td>NaN</td>\n",
       "    </tr>\n",
       "  </tbody>\n",
       "</table>\n",
       "<p>5 rows × 35 columns</p>\n",
       "</div>"
      ],
      "text/plain": [
       "         author_shot team_username    shot_id                          title  \\\n",
       "721          marcoyu           NaN  2033009.0                  Beat Leukemia   \n",
       "65918    orthonormai           NaN  2327786.0  Free PSD - Bree Products l...   \n",
       "76204        rgarcia           NaN  1167203.0  Curupaco Landing Page Prop...   \n",
       "285386  DavidSilberb           NaN   715104.0              King Throne 4 Web   \n",
       "319422       Varsano           NaN  2119172.0           Asia To Go UI Design   \n",
       "\n",
       "                          description width height views_count likes_count  \\\n",
       "721     <p>A project of Leukemia C...   400    300        1431          55   \n",
       "65918                            None   400    300        3305          39   \n",
       "76204                            None   400    300        1722          45   \n",
       "285386  <p>busy doing this illustr...   400    300         139           5   \n",
       "319422                           None   400    300         816          31   \n",
       "\n",
       "       comments_count  ... team_likes_received_count team_projects_count  \\\n",
       "721                -1  ...                       NaN                 NaN   \n",
       "65918              -1  ...                       NaN                 NaN   \n",
       "76204               2  ...                       NaN                 NaN   \n",
       "285386             -1  ...                       NaN                 NaN   \n",
       "319422             -1  ...                       NaN                 NaN   \n",
       "\n",
       "       team_rebounds_received_count team_shots_count team_can_upload_shot  \\\n",
       "721                             NaN              NaN                  NaN   \n",
       "65918                           NaN              NaN                  NaN   \n",
       "76204                           NaN              NaN                  NaN   \n",
       "285386                          NaN              NaN                  NaN   \n",
       "319422                          NaN              NaN                  NaN   \n",
       "\n",
       "       team_type  team_pro team_created_at team_updated_at team_members_count  \n",
       "721          NaN       NaN             NaT             NaT                NaN  \n",
       "65918        NaN       NaN             NaT             NaT                NaN  \n",
       "76204        NaN       NaN             NaT             NaT                NaN  \n",
       "285386       NaN       NaN             NaT             NaT                NaN  \n",
       "319422       NaN       NaN             NaT             NaT                NaN  \n",
       "\n",
       "[5 rows x 35 columns]"
      ]
     },
     "execution_count": 104,
     "metadata": {},
     "output_type": "execute_result"
    }
   ],
   "source": [
    "# Get the subset dataframe with at least one anomaly.\n",
    "anomalies = shots.loc[(shots[features] < 0).any(axis = 1)]\n",
    "anomalies.head()"
   ]
  },
  {
   "cell_type": "code",
   "execution_count": 105,
   "metadata": {},
   "outputs": [
    {
     "data": {
      "text/plain": [
       "18"
      ]
     },
     "execution_count": 105,
     "metadata": {},
     "output_type": "execute_result"
    }
   ],
   "source": [
    "len(anomalies)"
   ]
  }
 ],
 "metadata": {
  "kernelspec": {
   "display_name": "Python 3",
   "language": "python",
   "name": "python3"
  },
  "language_info": {
   "codemirror_mode": {
    "name": "ipython",
    "version": 3
   },
   "file_extension": ".py",
   "mimetype": "text/x-python",
   "name": "python",
   "nbconvert_exporter": "python",
   "pygments_lexer": "ipython3",
   "version": "3.6.6"
  }
 },
 "nbformat": 4,
 "nbformat_minor": 2
}
