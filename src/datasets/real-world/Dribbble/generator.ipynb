{
 "cells": [
  {
   "cell_type": "code",
   "execution_count": null,
   "metadata": {},
   "outputs": [],
   "source": [
    "import warnings\n",
    "warnings.filterwarnings(\"ignore\")"
   ]
  },
  {
   "cell_type": "code",
   "execution_count": 1,
   "metadata": {},
   "outputs": [],
   "source": [
    "import pickle\n",
    "\n",
    "import pandas as pd\n",
    "import numpy as np\n",
    "import sqlite3\n",
    "import networkx as nx\n",
    "from tqdm.notebook import tqdm\n",
    "import matplotlib.pyplot as plt\n",
    "import seaborn as sns"
   ]
  },
  {
   "cell_type": "markdown",
   "metadata": {},
   "source": [
    "# Dribbble"
   ]
  },
  {
   "cell_type": "code",
   "execution_count": 4,
   "metadata": {},
   "outputs": [],
   "source": [
    "# Connect database sqlite where the information regarding the Dribbble dataset are stored.\n",
    "conn = sqlite3.connect(\"./preprocessing/dribbble.db\", detect_types = sqlite3.PARSE_DECLTYPES)\n",
    "c = conn.cursor()"
   ]
  },
  {
   "cell_type": "code",
   "execution_count": 5,
   "metadata": {},
   "outputs": [
    {
     "data": {
      "text/html": [
       "<div>\n",
       "<style scoped>\n",
       "    .dataframe tbody tr th:only-of-type {\n",
       "        vertical-align: middle;\n",
       "    }\n",
       "\n",
       "    .dataframe tbody tr th {\n",
       "        vertical-align: top;\n",
       "    }\n",
       "\n",
       "    .dataframe thead th {\n",
       "        text-align: right;\n",
       "    }\n",
       "</style>\n",
       "<table border=\"1\" class=\"dataframe\">\n",
       "  <thead>\n",
       "    <tr style=\"text-align: right;\">\n",
       "      <th></th>\n",
       "      <th>id_destination</th>\n",
       "      <th>created_at_connection</th>\n",
       "      <th>id_source</th>\n",
       "    </tr>\n",
       "  </thead>\n",
       "  <tbody>\n",
       "    <tr>\n",
       "      <th>0</th>\n",
       "      <td>14275</td>\n",
       "      <td>2017-11-27 04:14:20</td>\n",
       "      <td>2005984</td>\n",
       "    </tr>\n",
       "    <tr>\n",
       "      <th>1</th>\n",
       "      <td>14275</td>\n",
       "      <td>2017-11-23 10:19:48</td>\n",
       "      <td>695302</td>\n",
       "    </tr>\n",
       "    <tr>\n",
       "      <th>2</th>\n",
       "      <td>14275</td>\n",
       "      <td>2017-11-22 16:37:55</td>\n",
       "      <td>1946520</td>\n",
       "    </tr>\n",
       "    <tr>\n",
       "      <th>3</th>\n",
       "      <td>14275</td>\n",
       "      <td>2017-11-19 08:50:09</td>\n",
       "      <td>1875583</td>\n",
       "    </tr>\n",
       "    <tr>\n",
       "      <th>4</th>\n",
       "      <td>14275</td>\n",
       "      <td>2017-11-19 04:23:46</td>\n",
       "      <td>1386566</td>\n",
       "    </tr>\n",
       "  </tbody>\n",
       "</table>\n",
       "</div>"
      ],
      "text/plain": [
       "   id_destination created_at_connection  id_source\n",
       "0           14275   2017-11-27 04:14:20    2005984\n",
       "1           14275   2017-11-23 10:19:48     695302\n",
       "2           14275   2017-11-22 16:37:55    1946520\n",
       "3           14275   2017-11-19 08:50:09    1875583\n",
       "4           14275   2017-11-19 04:23:46    1386566"
      ]
     },
     "execution_count": 5,
     "metadata": {},
     "output_type": "execute_result"
    }
   ],
   "source": [
    "# Read 'followers' table.\n",
    "followers = pd.read_sql(\"SELECT id_destination, created_at AS created_at_connection, id_source FROM followers\", conn)\n",
    "followers.head()"
   ]
  },
  {
   "cell_type": "code",
   "execution_count": 6,
   "metadata": {},
   "outputs": [
    {
     "data": {
      "text/html": [
       "<div>\n",
       "<style scoped>\n",
       "    .dataframe tbody tr th:only-of-type {\n",
       "        vertical-align: middle;\n",
       "    }\n",
       "\n",
       "    .dataframe tbody tr th {\n",
       "        vertical-align: top;\n",
       "    }\n",
       "\n",
       "    .dataframe thead th {\n",
       "        text-align: right;\n",
       "    }\n",
       "</style>\n",
       "<table border=\"1\" class=\"dataframe\">\n",
       "  <thead>\n",
       "    <tr style=\"text-align: right;\">\n",
       "      <th></th>\n",
       "      <th>shot_id</th>\n",
       "      <th>created_at_shot</th>\n",
       "      <th>id_author_shot</th>\n",
       "      <th>id_team_username</th>\n",
       "    </tr>\n",
       "  </thead>\n",
       "  <tbody>\n",
       "    <tr>\n",
       "      <th>0</th>\n",
       "      <td>3549658</td>\n",
       "      <td>2017-06-07 07:01:59</td>\n",
       "      <td>1364989</td>\n",
       "      <td>NaN</td>\n",
       "    </tr>\n",
       "    <tr>\n",
       "      <th>1</th>\n",
       "      <td>3254544</td>\n",
       "      <td>2017-01-31 08:47:31</td>\n",
       "      <td>1364989</td>\n",
       "      <td>NaN</td>\n",
       "    </tr>\n",
       "    <tr>\n",
       "      <th>2</th>\n",
       "      <td>3153930</td>\n",
       "      <td>2016-12-13 10:00:26</td>\n",
       "      <td>1364989</td>\n",
       "      <td>NaN</td>\n",
       "    </tr>\n",
       "    <tr>\n",
       "      <th>3</th>\n",
       "      <td>3732805</td>\n",
       "      <td>2017-08-14 04:10:20</td>\n",
       "      <td>358178</td>\n",
       "      <td>NaN</td>\n",
       "    </tr>\n",
       "    <tr>\n",
       "      <th>4</th>\n",
       "      <td>2686725</td>\n",
       "      <td>2016-05-02 04:24:29</td>\n",
       "      <td>673130</td>\n",
       "      <td>673130.0</td>\n",
       "    </tr>\n",
       "  </tbody>\n",
       "</table>\n",
       "</div>"
      ],
      "text/plain": [
       "   shot_id     created_at_shot  id_author_shot  id_team_username\n",
       "0  3549658 2017-06-07 07:01:59         1364989               NaN\n",
       "1  3254544 2017-01-31 08:47:31         1364989               NaN\n",
       "2  3153930 2016-12-13 10:00:26         1364989               NaN\n",
       "3  3732805 2017-08-14 04:10:20          358178               NaN\n",
       "4  2686725 2016-05-02 04:24:29          673130          673130.0"
      ]
     },
     "execution_count": 6,
     "metadata": {},
     "output_type": "execute_result"
    }
   ],
   "source": [
    "# Read 'shots' table.\n",
    "shots = pd.read_sql(\"SELECT shot_id, created_at AS created_at_shot, id_author_shot, id_team_username FROM shots\", conn)\n",
    "shots.head()"
   ]
  },
  {
   "cell_type": "code",
   "execution_count": 7,
   "metadata": {},
   "outputs": [
    {
     "data": {
      "text/html": [
       "<div>\n",
       "<style scoped>\n",
       "    .dataframe tbody tr th:only-of-type {\n",
       "        vertical-align: middle;\n",
       "    }\n",
       "\n",
       "    .dataframe tbody tr th {\n",
       "        vertical-align: top;\n",
       "    }\n",
       "\n",
       "    .dataframe thead th {\n",
       "        text-align: right;\n",
       "    }\n",
       "</style>\n",
       "<table border=\"1\" class=\"dataframe\">\n",
       "  <thead>\n",
       "    <tr style=\"text-align: right;\">\n",
       "      <th></th>\n",
       "      <th>id_member_username</th>\n",
       "      <th>id_team_username</th>\n",
       "      <th>team_username</th>\n",
       "      <th>first_shot</th>\n",
       "      <th>last_shot</th>\n",
       "    </tr>\n",
       "  </thead>\n",
       "  <tbody>\n",
       "    <tr>\n",
       "      <th>0</th>\n",
       "      <td>506623</td>\n",
       "      <td>938258</td>\n",
       "      <td>brandsprogram</td>\n",
       "      <td>2015-11-23 15:22:33</td>\n",
       "      <td>2016-10-03 09:15:54</td>\n",
       "    </tr>\n",
       "    <tr>\n",
       "      <th>1</th>\n",
       "      <td>900091</td>\n",
       "      <td>759443</td>\n",
       "      <td>hi09ui</td>\n",
       "      <td>2015-08-06 02:37:23</td>\n",
       "      <td>2016-06-18 08:16:03</td>\n",
       "    </tr>\n",
       "    <tr>\n",
       "      <th>2</th>\n",
       "      <td>760435</td>\n",
       "      <td>760435</td>\n",
       "      <td>100shapes</td>\n",
       "      <td>2015-02-12 11:00:06</td>\n",
       "      <td>2015-05-15 14:42:21</td>\n",
       "    </tr>\n",
       "    <tr>\n",
       "      <th>3</th>\n",
       "      <td>845019</td>\n",
       "      <td>845019</td>\n",
       "      <td>10Clouds</td>\n",
       "      <td>2015-05-12 10:25:27</td>\n",
       "      <td>2017-11-10 10:31:29</td>\n",
       "    </tr>\n",
       "    <tr>\n",
       "      <th>4</th>\n",
       "      <td>5473</td>\n",
       "      <td>5473</td>\n",
       "      <td>10up</td>\n",
       "      <td>2017-12-12 19:34:43</td>\n",
       "      <td>2017-12-12 20:35:43</td>\n",
       "    </tr>\n",
       "  </tbody>\n",
       "</table>\n",
       "</div>"
      ],
      "text/plain": [
       "   id_member_username  id_team_username  team_username          first_shot  \\\n",
       "0              506623            938258  brandsprogram 2015-11-23 15:22:33   \n",
       "1              900091            759443         hi09ui 2015-08-06 02:37:23   \n",
       "2              760435            760435      100shapes 2015-02-12 11:00:06   \n",
       "3              845019            845019       10Clouds 2015-05-12 10:25:27   \n",
       "4                5473              5473           10up 2017-12-12 19:34:43   \n",
       "\n",
       "            last_shot  \n",
       "0 2016-10-03 09:15:54  \n",
       "1 2016-06-18 08:16:03  \n",
       "2 2015-05-15 14:42:21  \n",
       "3 2017-11-10 10:31:29  \n",
       "4 2017-12-12 20:35:43  "
      ]
     },
     "execution_count": 7,
     "metadata": {},
     "output_type": "execute_result"
    }
   ],
   "source": [
    "# Read 'teams' table.\n",
    "teams = pd.read_sql(\"SELECT id_member_username, id_team_username, team_username, first_shot, last_shot FROM teams\", conn)\n",
    "teams.head()"
   ]
  },
  {
   "cell_type": "code",
   "execution_count": 8,
   "metadata": {},
   "outputs": [],
   "source": [
    "# Create dictionary {team_id: \"name\"}.\n",
    "id_to_name_teams = teams[[\"id_team_username\", \"team_username\"]].drop_duplicates().set_index(\"id_team_username\")[\"team_username\"].to_dict()"
   ]
  },
  {
   "cell_type": "code",
   "execution_count": 9,
   "metadata": {},
   "outputs": [
    {
     "data": {
      "text/html": [
       "<div>\n",
       "<style scoped>\n",
       "    .dataframe tbody tr th:only-of-type {\n",
       "        vertical-align: middle;\n",
       "    }\n",
       "\n",
       "    .dataframe tbody tr th {\n",
       "        vertical-align: top;\n",
       "    }\n",
       "\n",
       "    .dataframe thead th {\n",
       "        text-align: right;\n",
       "    }\n",
       "</style>\n",
       "<table border=\"1\" class=\"dataframe\">\n",
       "  <thead>\n",
       "    <tr style=\"text-align: right;\">\n",
       "      <th></th>\n",
       "      <th>comment_id</th>\n",
       "      <th>shot_id</th>\n",
       "      <th>created_at_comment</th>\n",
       "      <th>id_author_comment</th>\n",
       "      <th>likes_count</th>\n",
       "      <th>id_author_shot</th>\n",
       "    </tr>\n",
       "  </thead>\n",
       "  <tbody>\n",
       "    <tr>\n",
       "      <th>0</th>\n",
       "      <td>738715</td>\n",
       "      <td>295643</td>\n",
       "      <td>2011-10-18 12:47:15</td>\n",
       "      <td>3196</td>\n",
       "      <td>1</td>\n",
       "      <td>3196</td>\n",
       "    </tr>\n",
       "    <tr>\n",
       "      <th>1</th>\n",
       "      <td>3994002</td>\n",
       "      <td>1696672</td>\n",
       "      <td>2014-10-09 21:10:25</td>\n",
       "      <td>504893</td>\n",
       "      <td>1</td>\n",
       "      <td>504893</td>\n",
       "    </tr>\n",
       "    <tr>\n",
       "      <th>2</th>\n",
       "      <td>3994160</td>\n",
       "      <td>1696672</td>\n",
       "      <td>2014-10-10 00:07:10</td>\n",
       "      <td>504893</td>\n",
       "      <td>0</td>\n",
       "      <td>504893</td>\n",
       "    </tr>\n",
       "    <tr>\n",
       "      <th>3</th>\n",
       "      <td>3889476</td>\n",
       "      <td>1691148</td>\n",
       "      <td>2014-08-19 18:48:03</td>\n",
       "      <td>161795</td>\n",
       "      <td>1</td>\n",
       "      <td>161795</td>\n",
       "    </tr>\n",
       "    <tr>\n",
       "      <th>4</th>\n",
       "      <td>3891158</td>\n",
       "      <td>1691148</td>\n",
       "      <td>2014-08-20 13:47:06</td>\n",
       "      <td>161795</td>\n",
       "      <td>1</td>\n",
       "      <td>161795</td>\n",
       "    </tr>\n",
       "  </tbody>\n",
       "</table>\n",
       "</div>"
      ],
      "text/plain": [
       "   comment_id  shot_id  created_at_comment  id_author_comment  likes_count  \\\n",
       "0      738715   295643 2011-10-18 12:47:15               3196            1   \n",
       "1     3994002  1696672 2014-10-09 21:10:25             504893            1   \n",
       "2     3994160  1696672 2014-10-10 00:07:10             504893            0   \n",
       "3     3889476  1691148 2014-08-19 18:48:03             161795            1   \n",
       "4     3891158  1691148 2014-08-20 13:47:06             161795            1   \n",
       "\n",
       "   id_author_shot  \n",
       "0            3196  \n",
       "1          504893  \n",
       "2          504893  \n",
       "3          161795  \n",
       "4          161795  "
      ]
     },
     "execution_count": 9,
     "metadata": {},
     "output_type": "execute_result"
    }
   ],
   "source": [
    "# Read 'comments' table.\n",
    "comments = pd.read_sql(\"SELECT comment_id, shot_id, created_at AS created_at_comment, id_author_comment, likes_count, id_author_shot FROM comments\", conn)\n",
    "comments.head()"
   ]
  },
  {
   "cell_type": "code",
   "execution_count": 10,
   "metadata": {},
   "outputs": [
    {
     "data": {
      "text/html": [
       "<div>\n",
       "<style scoped>\n",
       "    .dataframe tbody tr th:only-of-type {\n",
       "        vertical-align: middle;\n",
       "    }\n",
       "\n",
       "    .dataframe tbody tr th {\n",
       "        vertical-align: top;\n",
       "    }\n",
       "\n",
       "    .dataframe thead th {\n",
       "        text-align: right;\n",
       "    }\n",
       "</style>\n",
       "<table border=\"1\" class=\"dataframe\">\n",
       "  <thead>\n",
       "    <tr style=\"text-align: right;\">\n",
       "      <th></th>\n",
       "      <th>skill</th>\n",
       "      <th>id_username</th>\n",
       "    </tr>\n",
       "  </thead>\n",
       "  <tbody>\n",
       "    <tr>\n",
       "      <th>0</th>\n",
       "      <td>art direction</td>\n",
       "      <td>695302</td>\n",
       "    </tr>\n",
       "    <tr>\n",
       "      <th>1</th>\n",
       "      <td>banking</td>\n",
       "      <td>695302</td>\n",
       "    </tr>\n",
       "    <tr>\n",
       "      <th>2</th>\n",
       "      <td>cryptocurrency</td>\n",
       "      <td>695302</td>\n",
       "    </tr>\n",
       "    <tr>\n",
       "      <th>3</th>\n",
       "      <td>design systems</td>\n",
       "      <td>695302</td>\n",
       "    </tr>\n",
       "    <tr>\n",
       "      <th>4</th>\n",
       "      <td>fintech</td>\n",
       "      <td>695302</td>\n",
       "    </tr>\n",
       "  </tbody>\n",
       "</table>\n",
       "</div>"
      ],
      "text/plain": [
       "            skill  id_username\n",
       "0   art direction       695302\n",
       "1         banking       695302\n",
       "2  cryptocurrency       695302\n",
       "3  design systems       695302\n",
       "4         fintech       695302"
      ]
     },
     "execution_count": 10,
     "metadata": {},
     "output_type": "execute_result"
    }
   ],
   "source": [
    "# Read 'skills' table.\n",
    "skills = pd.read_sql(\"SELECT skill, id_username FROM skills\", conn)\n",
    "skills.head()"
   ]
  },
  {
   "cell_type": "code",
   "execution_count": 11,
   "metadata": {},
   "outputs": [
    {
     "data": {
      "text/html": [
       "<div>\n",
       "<style scoped>\n",
       "    .dataframe tbody tr th:only-of-type {\n",
       "        vertical-align: middle;\n",
       "    }\n",
       "\n",
       "    .dataframe tbody tr th {\n",
       "        vertical-align: top;\n",
       "    }\n",
       "\n",
       "    .dataframe thead th {\n",
       "        text-align: right;\n",
       "    }\n",
       "</style>\n",
       "<table border=\"1\" class=\"dataframe\">\n",
       "  <thead>\n",
       "    <tr style=\"text-align: right;\">\n",
       "      <th></th>\n",
       "      <th>id</th>\n",
       "      <th>username</th>\n",
       "    </tr>\n",
       "  </thead>\n",
       "  <tbody>\n",
       "    <tr>\n",
       "      <th>0</th>\n",
       "      <td>2005984</td>\n",
       "      <td>cmaffuccio</td>\n",
       "    </tr>\n",
       "    <tr>\n",
       "      <th>1</th>\n",
       "      <td>695302</td>\n",
       "      <td>arestov_design</td>\n",
       "    </tr>\n",
       "    <tr>\n",
       "      <th>2</th>\n",
       "      <td>1946520</td>\n",
       "      <td>space307</td>\n",
       "    </tr>\n",
       "    <tr>\n",
       "      <th>3</th>\n",
       "      <td>1875583</td>\n",
       "      <td>Hido</td>\n",
       "    </tr>\n",
       "    <tr>\n",
       "      <th>4</th>\n",
       "      <td>1386566</td>\n",
       "      <td>Avagana</td>\n",
       "    </tr>\n",
       "  </tbody>\n",
       "</table>\n",
       "</div>"
      ],
      "text/plain": [
       "        id        username\n",
       "0  2005984      cmaffuccio\n",
       "1   695302  arestov_design\n",
       "2  1946520        space307\n",
       "3  1875583            Hido\n",
       "4  1386566         Avagana"
      ]
     },
     "execution_count": 11,
     "metadata": {},
     "output_type": "execute_result"
    }
   ],
   "source": [
    "# Read 'users' table.\n",
    "users = pd.read_sql(\"SELECT id, username FROM users\", conn)\n",
    "users.head()"
   ]
  },
  {
   "cell_type": "code",
   "execution_count": 12,
   "metadata": {},
   "outputs": [],
   "source": [
    "# Create dictionary {node_id: \"name\"}.\n",
    "id_to_name_nodes = users.set_index(\"id\")[\"username\"].to_dict()"
   ]
  },
  {
   "cell_type": "markdown",
   "metadata": {},
   "source": [
    "# Preprocessing Dribbble\n",
    "\n",
    "## Reference period\n",
    "\n",
    "At first, we search the teams that published at least one shot during the selected reference period. These teams will be considered as *active* and we will create a label respect to the received likes from the corresponding shots. If a team published more than one shot, we aggregated its activity into one value (mean of the received likes)."
   ]
  },
  {
   "cell_type": "code",
   "execution_count": 13,
   "metadata": {},
   "outputs": [],
   "source": [
    "# Define a reference date.\n",
    "START_DATE = \"2017-01-01\"\n",
    "END_DATE = \"2017-04-01\""
   ]
  },
  {
   "cell_type": "markdown",
   "metadata": {},
   "source": [
    "## Team members hiring-firing"
   ]
  },
  {
   "cell_type": "code",
   "execution_count": 14,
   "metadata": {},
   "outputs": [
    {
     "data": {
      "text/html": [
       "<div>\n",
       "<style scoped>\n",
       "    .dataframe tbody tr th:only-of-type {\n",
       "        vertical-align: middle;\n",
       "    }\n",
       "\n",
       "    .dataframe tbody tr th {\n",
       "        vertical-align: top;\n",
       "    }\n",
       "\n",
       "    .dataframe thead th {\n",
       "        text-align: right;\n",
       "    }\n",
       "</style>\n",
       "<table border=\"1\" class=\"dataframe\">\n",
       "  <thead>\n",
       "    <tr style=\"text-align: right;\">\n",
       "      <th></th>\n",
       "      <th>id_member_username</th>\n",
       "      <th>id_team_username</th>\n",
       "      <th>team_username</th>\n",
       "      <th>hiring</th>\n",
       "      <th>firing</th>\n",
       "    </tr>\n",
       "  </thead>\n",
       "  <tbody>\n",
       "    <tr>\n",
       "      <th>0</th>\n",
       "      <td>506623</td>\n",
       "      <td>938258</td>\n",
       "      <td>brandsprogram</td>\n",
       "      <td>2015-11-23 15:22:33</td>\n",
       "      <td>2017-10-03 09:15:54</td>\n",
       "    </tr>\n",
       "    <tr>\n",
       "      <th>1</th>\n",
       "      <td>900091</td>\n",
       "      <td>759443</td>\n",
       "      <td>hi09ui</td>\n",
       "      <td>2015-08-06 02:37:23</td>\n",
       "      <td>2017-06-18 08:16:03</td>\n",
       "    </tr>\n",
       "    <tr>\n",
       "      <th>5</th>\n",
       "      <td>14962</td>\n",
       "      <td>860812</td>\n",
       "      <td>ClassPass</td>\n",
       "      <td>2016-11-22 23:50:44</td>\n",
       "      <td>2017-11-23 00:46:11</td>\n",
       "    </tr>\n",
       "    <tr>\n",
       "      <th>7</th>\n",
       "      <td>4950</td>\n",
       "      <td>675289</td>\n",
       "      <td>Trello</td>\n",
       "      <td>2014-10-21 03:15:58</td>\n",
       "      <td>2018-02-15 17:40:01</td>\n",
       "    </tr>\n",
       "    <tr>\n",
       "      <th>11</th>\n",
       "      <td>1442131</td>\n",
       "      <td>1049573</td>\n",
       "      <td>devitemsllc</td>\n",
       "      <td>2016-10-28 16:30:28</td>\n",
       "      <td>2017-11-04 13:31:34</td>\n",
       "    </tr>\n",
       "  </tbody>\n",
       "</table>\n",
       "</div>"
      ],
      "text/plain": [
       "    id_member_username  id_team_username  team_username              hiring  \\\n",
       "0               506623            938258  brandsprogram 2015-11-23 15:22:33   \n",
       "1               900091            759443         hi09ui 2015-08-06 02:37:23   \n",
       "5                14962            860812      ClassPass 2016-11-22 23:50:44   \n",
       "7                 4950            675289         Trello 2014-10-21 03:15:58   \n",
       "11             1442131           1049573    devitemsllc 2016-10-28 16:30:28   \n",
       "\n",
       "                firing  \n",
       "0  2017-10-03 09:15:54  \n",
       "1  2017-06-18 08:16:03  \n",
       "5  2017-11-23 00:46:11  \n",
       "7  2018-02-15 17:40:01  \n",
       "11 2017-11-04 13:31:34  "
      ]
     },
     "execution_count": 14,
     "metadata": {},
     "output_type": "execute_result"
    }
   ],
   "source": [
    "# Not consider when member of the team is the team itself (there exist nodes that represent team iteself).\n",
    "teams = teams[(teams[\"id_member_username\"] != teams[\"id_team_username\"])]\n",
    "\n",
    "# Define the hiring and firing periods of users into teams (our choice).\n",
    "teams[\"hiring\"] = teams[\"first_shot\"]\n",
    "teams[\"firing\"] = teams[\"last_shot\"] + pd.DateOffset(months = 12)\n",
    "teams.drop([\"first_shot\", \"last_shot\"], axis = 1, inplace = True)\n",
    "teams.head()"
   ]
  },
  {
   "cell_type": "markdown",
   "metadata": {},
   "source": [
    "## Team shots publication"
   ]
  },
  {
   "cell_type": "code",
   "execution_count": 15,
   "metadata": {},
   "outputs": [],
   "source": [
    "# Keep only shots published for a team.\n",
    "shots_of_teams = shots[(shots[\"id_team_username\"].notnull())]"
   ]
  },
  {
   "cell_type": "code",
   "execution_count": 16,
   "metadata": {},
   "outputs": [
    {
     "data": {
      "text/plain": [
       "130816"
      ]
     },
     "execution_count": 16,
     "metadata": {},
     "output_type": "execute_result"
    }
   ],
   "source": [
    "len(shots_of_teams)"
   ]
  },
  {
   "cell_type": "code",
   "execution_count": 17,
   "metadata": {},
   "outputs": [
    {
     "data": {
      "text/html": [
       "<div>\n",
       "<style scoped>\n",
       "    .dataframe tbody tr th:only-of-type {\n",
       "        vertical-align: middle;\n",
       "    }\n",
       "\n",
       "    .dataframe tbody tr th {\n",
       "        vertical-align: top;\n",
       "    }\n",
       "\n",
       "    .dataframe thead th {\n",
       "        text-align: right;\n",
       "    }\n",
       "</style>\n",
       "<table border=\"1\" class=\"dataframe\">\n",
       "  <thead>\n",
       "    <tr style=\"text-align: right;\">\n",
       "      <th></th>\n",
       "      <th>shot_id</th>\n",
       "      <th>created_at_shot</th>\n",
       "      <th>id_author_shot</th>\n",
       "      <th>id_team_username</th>\n",
       "      <th>id_member_username</th>\n",
       "      <th>team_username</th>\n",
       "      <th>hiring</th>\n",
       "      <th>firing</th>\n",
       "    </tr>\n",
       "  </thead>\n",
       "  <tbody>\n",
       "    <tr>\n",
       "      <th>0</th>\n",
       "      <td>2686725</td>\n",
       "      <td>2016-05-02 04:24:29</td>\n",
       "      <td>673130</td>\n",
       "      <td>673130.0</td>\n",
       "      <td>42567.0</td>\n",
       "      <td>citrusbyte</td>\n",
       "      <td>2016-01-27 19:02:45</td>\n",
       "      <td>2017-08-05 23:27:28</td>\n",
       "    </tr>\n",
       "    <tr>\n",
       "      <th>1</th>\n",
       "      <td>2686725</td>\n",
       "      <td>2016-05-02 04:24:29</td>\n",
       "      <td>673130</td>\n",
       "      <td>673130.0</td>\n",
       "      <td>4824.0</td>\n",
       "      <td>citrusbyte</td>\n",
       "      <td>2014-10-30 16:58:34</td>\n",
       "      <td>2018-12-13 11:30:00</td>\n",
       "    </tr>\n",
       "    <tr>\n",
       "      <th>2</th>\n",
       "      <td>2686725</td>\n",
       "      <td>2016-05-02 04:24:29</td>\n",
       "      <td>673130</td>\n",
       "      <td>673130.0</td>\n",
       "      <td>155464.0</td>\n",
       "      <td>citrusbyte</td>\n",
       "      <td>2016-08-05 20:07:53</td>\n",
       "      <td>2018-11-06 07:22:52</td>\n",
       "    </tr>\n",
       "    <tr>\n",
       "      <th>3</th>\n",
       "      <td>2686725</td>\n",
       "      <td>2016-05-02 04:24:29</td>\n",
       "      <td>673130</td>\n",
       "      <td>673130.0</td>\n",
       "      <td>73845.0</td>\n",
       "      <td>citrusbyte</td>\n",
       "      <td>2015-07-08 13:29:13</td>\n",
       "      <td>2018-10-02 23:05:04</td>\n",
       "    </tr>\n",
       "    <tr>\n",
       "      <th>4</th>\n",
       "      <td>2686725</td>\n",
       "      <td>2016-05-02 04:24:29</td>\n",
       "      <td>673130</td>\n",
       "      <td>673130.0</td>\n",
       "      <td>978450.0</td>\n",
       "      <td>citrusbyte</td>\n",
       "      <td>2016-08-05 21:41:51</td>\n",
       "      <td>2018-12-01 15:00:00</td>\n",
       "    </tr>\n",
       "  </tbody>\n",
       "</table>\n",
       "</div>"
      ],
      "text/plain": [
       "   shot_id     created_at_shot  id_author_shot  id_team_username  \\\n",
       "0  2686725 2016-05-02 04:24:29          673130          673130.0   \n",
       "1  2686725 2016-05-02 04:24:29          673130          673130.0   \n",
       "2  2686725 2016-05-02 04:24:29          673130          673130.0   \n",
       "3  2686725 2016-05-02 04:24:29          673130          673130.0   \n",
       "4  2686725 2016-05-02 04:24:29          673130          673130.0   \n",
       "\n",
       "   id_member_username team_username              hiring              firing  \n",
       "0             42567.0    citrusbyte 2016-01-27 19:02:45 2017-08-05 23:27:28  \n",
       "1              4824.0    citrusbyte 2014-10-30 16:58:34 2018-12-13 11:30:00  \n",
       "2            155464.0    citrusbyte 2016-08-05 20:07:53 2018-11-06 07:22:52  \n",
       "3             73845.0    citrusbyte 2015-07-08 13:29:13 2018-10-02 23:05:04  \n",
       "4            978450.0    citrusbyte 2016-08-05 21:41:51 2018-12-01 15:00:00  "
      ]
     },
     "execution_count": 17,
     "metadata": {},
     "output_type": "execute_result"
    }
   ],
   "source": [
    "# For each shot, we merge the corresponding members of the team (of all time).\n",
    "shots_of_teams = pd.merge(shots_of_teams, teams, on = \"id_team_username\", how = \"left\")\n",
    "shots_of_teams.head()"
   ]
  },
  {
   "cell_type": "code",
   "execution_count": 18,
   "metadata": {},
   "outputs": [
    {
     "data": {
      "text/plain": [
       "shot_id                  0\n",
       "created_at_shot          0\n",
       "id_author_shot           0\n",
       "id_team_username         0\n",
       "id_member_username    6605\n",
       "team_username         6605\n",
       "hiring                6605\n",
       "firing                6605\n",
       "dtype: int64"
      ]
     },
     "execution_count": 18,
     "metadata": {},
     "output_type": "execute_result"
    }
   ],
   "source": [
    "shots_of_teams.isna().sum()\n",
    "# There are some shots published by teams that not have any members during their history (onl team itself)."
   ]
  },
  {
   "cell_type": "code",
   "execution_count": 19,
   "metadata": {},
   "outputs": [],
   "source": [
    "# Keep only shots published by teams that have at least some members during the entire history.\n",
    "shots_of_teams = shots_of_teams[shots_of_teams[\"id_member_username\"].notnull()]"
   ]
  },
  {
   "cell_type": "code",
   "execution_count": 20,
   "metadata": {},
   "outputs": [
    {
     "data": {
      "application/vnd.jupyter.widget-view+json": {
       "model_id": "08285541318e42eb90c0331340219603",
       "version_major": 2,
       "version_minor": 0
      },
      "text/plain": [
       "  0%|          | 0/876479 [00:00<?, ?it/s]"
      ]
     },
     "metadata": {},
     "output_type": "display_data"
    },
    {
     "data": {
      "text/html": [
       "<div>\n",
       "<style scoped>\n",
       "    .dataframe tbody tr th:only-of-type {\n",
       "        vertical-align: middle;\n",
       "    }\n",
       "\n",
       "    .dataframe tbody tr th {\n",
       "        vertical-align: top;\n",
       "    }\n",
       "\n",
       "    .dataframe thead th {\n",
       "        text-align: right;\n",
       "    }\n",
       "</style>\n",
       "<table border=\"1\" class=\"dataframe\">\n",
       "  <thead>\n",
       "    <tr style=\"text-align: right;\">\n",
       "      <th></th>\n",
       "      <th>shot_id</th>\n",
       "      <th>created_at_shot</th>\n",
       "      <th>id_author_shot</th>\n",
       "      <th>id_team_username</th>\n",
       "      <th>id_member_username</th>\n",
       "      <th>team_username</th>\n",
       "      <th>hiring</th>\n",
       "      <th>firing</th>\n",
       "      <th>published_in_team</th>\n",
       "    </tr>\n",
       "  </thead>\n",
       "  <tbody>\n",
       "    <tr>\n",
       "      <th>0</th>\n",
       "      <td>2686725</td>\n",
       "      <td>2016-05-02 04:24:29</td>\n",
       "      <td>673130</td>\n",
       "      <td>673130.0</td>\n",
       "      <td>42567.0</td>\n",
       "      <td>citrusbyte</td>\n",
       "      <td>2016-01-27 19:02:45</td>\n",
       "      <td>2017-08-05 23:27:28</td>\n",
       "      <td>True</td>\n",
       "    </tr>\n",
       "    <tr>\n",
       "      <th>1</th>\n",
       "      <td>2686725</td>\n",
       "      <td>2016-05-02 04:24:29</td>\n",
       "      <td>673130</td>\n",
       "      <td>673130.0</td>\n",
       "      <td>4824.0</td>\n",
       "      <td>citrusbyte</td>\n",
       "      <td>2014-10-30 16:58:34</td>\n",
       "      <td>2018-12-13 11:30:00</td>\n",
       "      <td>True</td>\n",
       "    </tr>\n",
       "    <tr>\n",
       "      <th>2</th>\n",
       "      <td>2686725</td>\n",
       "      <td>2016-05-02 04:24:29</td>\n",
       "      <td>673130</td>\n",
       "      <td>673130.0</td>\n",
       "      <td>155464.0</td>\n",
       "      <td>citrusbyte</td>\n",
       "      <td>2016-08-05 20:07:53</td>\n",
       "      <td>2018-11-06 07:22:52</td>\n",
       "      <td>False</td>\n",
       "    </tr>\n",
       "    <tr>\n",
       "      <th>3</th>\n",
       "      <td>2686725</td>\n",
       "      <td>2016-05-02 04:24:29</td>\n",
       "      <td>673130</td>\n",
       "      <td>673130.0</td>\n",
       "      <td>73845.0</td>\n",
       "      <td>citrusbyte</td>\n",
       "      <td>2015-07-08 13:29:13</td>\n",
       "      <td>2018-10-02 23:05:04</td>\n",
       "      <td>True</td>\n",
       "    </tr>\n",
       "    <tr>\n",
       "      <th>4</th>\n",
       "      <td>2686725</td>\n",
       "      <td>2016-05-02 04:24:29</td>\n",
       "      <td>673130</td>\n",
       "      <td>673130.0</td>\n",
       "      <td>978450.0</td>\n",
       "      <td>citrusbyte</td>\n",
       "      <td>2016-08-05 21:41:51</td>\n",
       "      <td>2018-12-01 15:00:00</td>\n",
       "      <td>False</td>\n",
       "    </tr>\n",
       "  </tbody>\n",
       "</table>\n",
       "</div>"
      ],
      "text/plain": [
       "   shot_id     created_at_shot  id_author_shot  id_team_username  \\\n",
       "0  2686725 2016-05-02 04:24:29          673130          673130.0   \n",
       "1  2686725 2016-05-02 04:24:29          673130          673130.0   \n",
       "2  2686725 2016-05-02 04:24:29          673130          673130.0   \n",
       "3  2686725 2016-05-02 04:24:29          673130          673130.0   \n",
       "4  2686725 2016-05-02 04:24:29          673130          673130.0   \n",
       "\n",
       "   id_member_username team_username              hiring              firing  \\\n",
       "0             42567.0    citrusbyte 2016-01-27 19:02:45 2017-08-05 23:27:28   \n",
       "1              4824.0    citrusbyte 2014-10-30 16:58:34 2018-12-13 11:30:00   \n",
       "2            155464.0    citrusbyte 2016-08-05 20:07:53 2018-11-06 07:22:52   \n",
       "3             73845.0    citrusbyte 2015-07-08 13:29:13 2018-10-02 23:05:04   \n",
       "4            978450.0    citrusbyte 2016-08-05 21:41:51 2018-12-01 15:00:00   \n",
       "\n",
       "   published_in_team  \n",
       "0               True  \n",
       "1               True  \n",
       "2              False  \n",
       "3               True  \n",
       "4              False  "
      ]
     },
     "execution_count": 20,
     "metadata": {},
     "output_type": "execute_result"
    }
   ],
   "source": [
    "# Let's search the composition of the teams at shot publication: check what members belong to the team at shot publication.\n",
    "tqdm.pandas()\n",
    "shots_of_teams[\"published_in_team\"] = shots_of_teams.progress_apply(lambda x: (x[\"created_at_shot\"] >= x[\"hiring\"]) & (x[\"created_at_shot\"] < x[\"firing\"]), axis = 1)\n",
    "shots_of_teams.head()"
   ]
  },
  {
   "cell_type": "code",
   "execution_count": 21,
   "metadata": {},
   "outputs": [],
   "source": [
    "# Keep users that belong to the team when the corresponding shot was published.\n",
    "shots_of_teams = shots_of_teams[shots_of_teams[\"published_in_team\"]]"
   ]
  },
  {
   "cell_type": "code",
   "execution_count": 22,
   "metadata": {},
   "outputs": [
    {
     "data": {
      "text/html": [
       "<div>\n",
       "<style scoped>\n",
       "    .dataframe tbody tr th:only-of-type {\n",
       "        vertical-align: middle;\n",
       "    }\n",
       "\n",
       "    .dataframe tbody tr th {\n",
       "        vertical-align: top;\n",
       "    }\n",
       "\n",
       "    .dataframe thead th {\n",
       "        text-align: right;\n",
       "    }\n",
       "</style>\n",
       "<table border=\"1\" class=\"dataframe\">\n",
       "  <thead>\n",
       "    <tr style=\"text-align: right;\">\n",
       "      <th></th>\n",
       "      <th>shot_id</th>\n",
       "      <th>size_team_at_shot_publication</th>\n",
       "      <th>id_members_at_shot_publication</th>\n",
       "    </tr>\n",
       "  </thead>\n",
       "  <tbody>\n",
       "    <tr>\n",
       "      <th>0</th>\n",
       "      <td>8720</td>\n",
       "      <td>1.0</td>\n",
       "      <td>[1.0]</td>\n",
       "    </tr>\n",
       "    <tr>\n",
       "      <th>1</th>\n",
       "      <td>12250</td>\n",
       "      <td>1.0</td>\n",
       "      <td>[1.0]</td>\n",
       "    </tr>\n",
       "    <tr>\n",
       "      <th>2</th>\n",
       "      <td>38297</td>\n",
       "      <td>2.0</td>\n",
       "      <td>[2.0, 1.0]</td>\n",
       "    </tr>\n",
       "    <tr>\n",
       "      <th>3</th>\n",
       "      <td>41736</td>\n",
       "      <td>2.0</td>\n",
       "      <td>[2.0, 1.0]</td>\n",
       "    </tr>\n",
       "    <tr>\n",
       "      <th>4</th>\n",
       "      <td>49326</td>\n",
       "      <td>2.0</td>\n",
       "      <td>[2.0, 1.0]</td>\n",
       "    </tr>\n",
       "  </tbody>\n",
       "</table>\n",
       "</div>"
      ],
      "text/plain": [
       "   shot_id  size_team_at_shot_publication id_members_at_shot_publication\n",
       "0     8720                            1.0                          [1.0]\n",
       "1    12250                            1.0                          [1.0]\n",
       "2    38297                            2.0                     [2.0, 1.0]\n",
       "3    41736                            2.0                     [2.0, 1.0]\n",
       "4    49326                            2.0                     [2.0, 1.0]"
      ]
     },
     "execution_count": 22,
     "metadata": {},
     "output_type": "execute_result"
    }
   ],
   "source": [
    "# Count the number of unique members of teams for each shot and save the ids of the corresponding members.\n",
    "shots_of_teams = shots_of_teams.groupby(\"shot_id\", as_index = False).agg(size_team_at_shot_publication = (\"id_member_username\", lambda x: x.nunique()), \n",
    "                                                                         id_members_at_shot_publication = (\"id_member_username\", lambda x: x.unique().tolist()))\n",
    "shots_of_teams.head()"
   ]
  },
  {
   "cell_type": "code",
   "execution_count": 23,
   "metadata": {},
   "outputs": [
    {
     "data": {
      "text/html": [
       "<div>\n",
       "<style scoped>\n",
       "    .dataframe tbody tr th:only-of-type {\n",
       "        vertical-align: middle;\n",
       "    }\n",
       "\n",
       "    .dataframe tbody tr th {\n",
       "        vertical-align: top;\n",
       "    }\n",
       "\n",
       "    .dataframe thead th {\n",
       "        text-align: right;\n",
       "    }\n",
       "</style>\n",
       "<table border=\"1\" class=\"dataframe\">\n",
       "  <thead>\n",
       "    <tr style=\"text-align: right;\">\n",
       "      <th></th>\n",
       "      <th>shot_id</th>\n",
       "      <th>id_team_username</th>\n",
       "      <th>created_at_shot</th>\n",
       "      <th>size_team_at_shot_publication</th>\n",
       "      <th>id_members_at_shot_publication</th>\n",
       "    </tr>\n",
       "  </thead>\n",
       "  <tbody>\n",
       "    <tr>\n",
       "      <th>0</th>\n",
       "      <td>2686725</td>\n",
       "      <td>673130.0</td>\n",
       "      <td>2016-05-02 04:24:29</td>\n",
       "      <td>6.0</td>\n",
       "      <td>[42567.0, 4824.0, 73845.0, 39618.0, 187969.0, ...</td>\n",
       "    </tr>\n",
       "    <tr>\n",
       "      <th>1</th>\n",
       "      <td>2322796</td>\n",
       "      <td>673130.0</td>\n",
       "      <td>2015-10-29 20:20:28</td>\n",
       "      <td>3.0</td>\n",
       "      <td>[4824.0, 73845.0, 39618.0]</td>\n",
       "    </tr>\n",
       "    <tr>\n",
       "      <th>2</th>\n",
       "      <td>4006045</td>\n",
       "      <td>1045497.0</td>\n",
       "      <td>2017-12-08 10:35:34</td>\n",
       "      <td>2.0</td>\n",
       "      <td>[151423.0, 741168.0]</td>\n",
       "    </tr>\n",
       "    <tr>\n",
       "      <th>3</th>\n",
       "      <td>4002904</td>\n",
       "      <td>1045497.0</td>\n",
       "      <td>2017-12-07 08:37:18</td>\n",
       "      <td>2.0</td>\n",
       "      <td>[151423.0, 741168.0]</td>\n",
       "    </tr>\n",
       "    <tr>\n",
       "      <th>4</th>\n",
       "      <td>3908921</td>\n",
       "      <td>1045497.0</td>\n",
       "      <td>2017-10-30 09:29:30</td>\n",
       "      <td>2.0</td>\n",
       "      <td>[151423.0, 741168.0]</td>\n",
       "    </tr>\n",
       "  </tbody>\n",
       "</table>\n",
       "</div>"
      ],
      "text/plain": [
       "   shot_id  id_team_username     created_at_shot  \\\n",
       "0  2686725          673130.0 2016-05-02 04:24:29   \n",
       "1  2322796          673130.0 2015-10-29 20:20:28   \n",
       "2  4006045         1045497.0 2017-12-08 10:35:34   \n",
       "3  4002904         1045497.0 2017-12-07 08:37:18   \n",
       "4  3908921         1045497.0 2017-10-30 09:29:30   \n",
       "\n",
       "   size_team_at_shot_publication  \\\n",
       "0                            6.0   \n",
       "1                            3.0   \n",
       "2                            2.0   \n",
       "3                            2.0   \n",
       "4                            2.0   \n",
       "\n",
       "                      id_members_at_shot_publication  \n",
       "0  [42567.0, 4824.0, 73845.0, 39618.0, 187969.0, ...  \n",
       "1                         [4824.0, 73845.0, 39618.0]  \n",
       "2                               [151423.0, 741168.0]  \n",
       "3                               [151423.0, 741168.0]  \n",
       "4                               [151423.0, 741168.0]  "
      ]
     },
     "execution_count": 23,
     "metadata": {},
     "output_type": "execute_result"
    }
   ],
   "source": [
    "# Add the shots that are published by team without members (the missing ones).\n",
    "shots_of_teams = pd.merge(shots[(shots[\"id_team_username\"].notnull())][[\"shot_id\", \"id_team_username\", \"created_at_shot\"]], \n",
    "                          shots_of_teams, on = \"shot_id\", how = \"left\")\n",
    "shots_of_teams.head()"
   ]
  },
  {
   "cell_type": "code",
   "execution_count": 24,
   "metadata": {},
   "outputs": [
    {
     "data": {
      "text/plain": [
       "shot_id                               0\n",
       "id_team_username                      0\n",
       "created_at_shot                       0\n",
       "size_team_at_shot_publication     18444\n",
       "id_members_at_shot_publication    18444\n",
       "dtype: int64"
      ]
     },
     "execution_count": 24,
     "metadata": {},
     "output_type": "execute_result"
    }
   ],
   "source": [
    "shots_of_teams.isna().sum()\n",
    "# There are some shots published by teams that not have any members at shot publication."
   ]
  },
  {
   "cell_type": "code",
   "execution_count": 25,
   "metadata": {},
   "outputs": [],
   "source": [
    "# Fill the information for the team that not have any members.\n",
    "shots_of_teams[\"size_team_at_shot_publication\"] = shots_of_teams[\"size_team_at_shot_publication\"].fillna(0).astype(int)\n",
    "mask = shots_of_teams[\"id_members_at_shot_publication\"].isna()\n",
    "shots_of_teams.loc[mask, \"id_members_at_shot_publication\"] = pd.Series([[]]*mask.sum()).values"
   ]
  },
  {
   "cell_type": "code",
   "execution_count": 26,
   "metadata": {},
   "outputs": [],
   "source": [
    "# Add the team user into the members of team.\n",
    "shots_of_teams[\"id_members_at_shot_publication\"] = shots_of_teams[\"id_team_username\"].map(lambda x: [x]) + shots_of_teams[\"id_members_at_shot_publication\"]\n",
    "shots_of_teams[\"size_team_at_shot_publication\"] = shots_of_teams[\"size_team_at_shot_publication\"] + 1"
   ]
  },
  {
   "cell_type": "code",
   "execution_count": 27,
   "metadata": {},
   "outputs": [
    {
     "data": {
      "text/html": [
       "<div>\n",
       "<style scoped>\n",
       "    .dataframe tbody tr th:only-of-type {\n",
       "        vertical-align: middle;\n",
       "    }\n",
       "\n",
       "    .dataframe tbody tr th {\n",
       "        vertical-align: top;\n",
       "    }\n",
       "\n",
       "    .dataframe thead th {\n",
       "        text-align: right;\n",
       "    }\n",
       "</style>\n",
       "<table border=\"1\" class=\"dataframe\">\n",
       "  <thead>\n",
       "    <tr style=\"text-align: right;\">\n",
       "      <th></th>\n",
       "      <th>shot_id</th>\n",
       "      <th>id_team_username</th>\n",
       "      <th>created_at_shot</th>\n",
       "      <th>size_team_at_shot_publication</th>\n",
       "      <th>id_members_at_shot_publication</th>\n",
       "    </tr>\n",
       "  </thead>\n",
       "  <tbody>\n",
       "    <tr>\n",
       "      <th>0</th>\n",
       "      <td>2686725</td>\n",
       "      <td>673130.0</td>\n",
       "      <td>2016-05-02 04:24:29</td>\n",
       "      <td>7</td>\n",
       "      <td>[673130.0, 42567.0, 4824.0, 73845.0, 39618.0, ...</td>\n",
       "    </tr>\n",
       "    <tr>\n",
       "      <th>1</th>\n",
       "      <td>2322796</td>\n",
       "      <td>673130.0</td>\n",
       "      <td>2015-10-29 20:20:28</td>\n",
       "      <td>4</td>\n",
       "      <td>[673130.0, 4824.0, 73845.0, 39618.0]</td>\n",
       "    </tr>\n",
       "    <tr>\n",
       "      <th>2</th>\n",
       "      <td>4006045</td>\n",
       "      <td>1045497.0</td>\n",
       "      <td>2017-12-08 10:35:34</td>\n",
       "      <td>3</td>\n",
       "      <td>[1045497.0, 151423.0, 741168.0]</td>\n",
       "    </tr>\n",
       "    <tr>\n",
       "      <th>3</th>\n",
       "      <td>4002904</td>\n",
       "      <td>1045497.0</td>\n",
       "      <td>2017-12-07 08:37:18</td>\n",
       "      <td>3</td>\n",
       "      <td>[1045497.0, 151423.0, 741168.0]</td>\n",
       "    </tr>\n",
       "    <tr>\n",
       "      <th>4</th>\n",
       "      <td>3908921</td>\n",
       "      <td>1045497.0</td>\n",
       "      <td>2017-10-30 09:29:30</td>\n",
       "      <td>3</td>\n",
       "      <td>[1045497.0, 151423.0, 741168.0]</td>\n",
       "    </tr>\n",
       "  </tbody>\n",
       "</table>\n",
       "</div>"
      ],
      "text/plain": [
       "   shot_id  id_team_username     created_at_shot  \\\n",
       "0  2686725          673130.0 2016-05-02 04:24:29   \n",
       "1  2322796          673130.0 2015-10-29 20:20:28   \n",
       "2  4006045         1045497.0 2017-12-08 10:35:34   \n",
       "3  4002904         1045497.0 2017-12-07 08:37:18   \n",
       "4  3908921         1045497.0 2017-10-30 09:29:30   \n",
       "\n",
       "   size_team_at_shot_publication  \\\n",
       "0                              7   \n",
       "1                              4   \n",
       "2                              3   \n",
       "3                              3   \n",
       "4                              3   \n",
       "\n",
       "                      id_members_at_shot_publication  \n",
       "0  [673130.0, 42567.0, 4824.0, 73845.0, 39618.0, ...  \n",
       "1               [673130.0, 4824.0, 73845.0, 39618.0]  \n",
       "2                    [1045497.0, 151423.0, 741168.0]  \n",
       "3                    [1045497.0, 151423.0, 741168.0]  \n",
       "4                    [1045497.0, 151423.0, 741168.0]  "
      ]
     },
     "execution_count": 27,
     "metadata": {},
     "output_type": "execute_result"
    }
   ],
   "source": [
    "shots_of_teams.head()"
   ]
  },
  {
   "cell_type": "code",
   "execution_count": 28,
   "metadata": {},
   "outputs": [
    {
     "data": {
      "text/plain": [
       "130816"
      ]
     },
     "execution_count": 28,
     "metadata": {},
     "output_type": "execute_result"
    }
   ],
   "source": [
    "len(shots_of_teams)"
   ]
  },
  {
   "cell_type": "markdown",
   "metadata": {},
   "source": [
    "## Snapshot "
   ]
  },
  {
   "cell_type": "code",
   "execution_count": 29,
   "metadata": {},
   "outputs": [
    {
     "data": {
      "text/html": [
       "<div>\n",
       "<style scoped>\n",
       "    .dataframe tbody tr th:only-of-type {\n",
       "        vertical-align: middle;\n",
       "    }\n",
       "\n",
       "    .dataframe tbody tr th {\n",
       "        vertical-align: top;\n",
       "    }\n",
       "\n",
       "    .dataframe thead th {\n",
       "        text-align: right;\n",
       "    }\n",
       "</style>\n",
       "<table border=\"1\" class=\"dataframe\">\n",
       "  <thead>\n",
       "    <tr style=\"text-align: right;\">\n",
       "      <th></th>\n",
       "      <th>shot_id</th>\n",
       "      <th>id_team_username</th>\n",
       "      <th>created_at_shot</th>\n",
       "      <th>size_team_at_shot_publication</th>\n",
       "      <th>id_members_at_shot_publication</th>\n",
       "    </tr>\n",
       "  </thead>\n",
       "  <tbody>\n",
       "    <tr>\n",
       "      <th>56</th>\n",
       "      <td>3315339</td>\n",
       "      <td>845499.0</td>\n",
       "      <td>2017-02-23 15:21:25</td>\n",
       "      <td>12</td>\n",
       "      <td>[845499.0, 750420.0, 1082346.0, 721524.0, 1019...</td>\n",
       "    </tr>\n",
       "    <tr>\n",
       "      <th>57</th>\n",
       "      <td>3291242</td>\n",
       "      <td>845499.0</td>\n",
       "      <td>2017-02-14 13:47:14</td>\n",
       "      <td>11</td>\n",
       "      <td>[845499.0, 750420.0, 1082346.0, 721524.0, 1019...</td>\n",
       "    </tr>\n",
       "    <tr>\n",
       "      <th>58</th>\n",
       "      <td>3282401</td>\n",
       "      <td>845499.0</td>\n",
       "      <td>2017-02-10 15:20:03</td>\n",
       "      <td>11</td>\n",
       "      <td>[845499.0, 750420.0, 1082346.0, 721524.0, 1019...</td>\n",
       "    </tr>\n",
       "    <tr>\n",
       "      <th>200</th>\n",
       "      <td>3402111</td>\n",
       "      <td>1203446.0</td>\n",
       "      <td>2017-03-31 03:23:56</td>\n",
       "      <td>4</td>\n",
       "      <td>[1203446.0, 1251030.0, 1567291.0, 1203441.0]</td>\n",
       "    </tr>\n",
       "    <tr>\n",
       "      <th>201</th>\n",
       "      <td>3399255</td>\n",
       "      <td>1203446.0</td>\n",
       "      <td>2017-03-30 02:36:39</td>\n",
       "      <td>4</td>\n",
       "      <td>[1203446.0, 1251030.0, 1567291.0, 1203441.0]</td>\n",
       "    </tr>\n",
       "    <tr>\n",
       "      <th>...</th>\n",
       "      <td>...</td>\n",
       "      <td>...</td>\n",
       "      <td>...</td>\n",
       "      <td>...</td>\n",
       "      <td>...</td>\n",
       "    </tr>\n",
       "    <tr>\n",
       "      <th>130745</th>\n",
       "      <td>3228437</td>\n",
       "      <td>964985.0</td>\n",
       "      <td>2017-01-19 14:12:29</td>\n",
       "      <td>4</td>\n",
       "      <td>[964985.0, 344486.0, 1071072.0, 51045.0]</td>\n",
       "    </tr>\n",
       "    <tr>\n",
       "      <th>130766</th>\n",
       "      <td>3266344</td>\n",
       "      <td>964985.0</td>\n",
       "      <td>2017-02-04 17:54:22</td>\n",
       "      <td>4</td>\n",
       "      <td>[964985.0, 344486.0, 1071072.0, 51045.0]</td>\n",
       "    </tr>\n",
       "    <tr>\n",
       "      <th>130772</th>\n",
       "      <td>3229236</td>\n",
       "      <td>839306.0</td>\n",
       "      <td>2017-01-19 19:17:01</td>\n",
       "      <td>9</td>\n",
       "      <td>[839306.0, 397380.0, 35877.0, 767099.0, 61462....</td>\n",
       "    </tr>\n",
       "    <tr>\n",
       "      <th>130776</th>\n",
       "      <td>3222760</td>\n",
       "      <td>964985.0</td>\n",
       "      <td>2017-01-17 14:13:26</td>\n",
       "      <td>4</td>\n",
       "      <td>[964985.0, 344486.0, 1071072.0, 51045.0]</td>\n",
       "    </tr>\n",
       "    <tr>\n",
       "      <th>130783</th>\n",
       "      <td>3222806</td>\n",
       "      <td>964985.0</td>\n",
       "      <td>2017-01-17 14:25:40</td>\n",
       "      <td>4</td>\n",
       "      <td>[964985.0, 344486.0, 1071072.0, 51045.0]</td>\n",
       "    </tr>\n",
       "  </tbody>\n",
       "</table>\n",
       "<p>6403 rows × 5 columns</p>\n",
       "</div>"
      ],
      "text/plain": [
       "        shot_id  id_team_username     created_at_shot  \\\n",
       "56      3315339          845499.0 2017-02-23 15:21:25   \n",
       "57      3291242          845499.0 2017-02-14 13:47:14   \n",
       "58      3282401          845499.0 2017-02-10 15:20:03   \n",
       "200     3402111         1203446.0 2017-03-31 03:23:56   \n",
       "201     3399255         1203446.0 2017-03-30 02:36:39   \n",
       "...         ...               ...                 ...   \n",
       "130745  3228437          964985.0 2017-01-19 14:12:29   \n",
       "130766  3266344          964985.0 2017-02-04 17:54:22   \n",
       "130772  3229236          839306.0 2017-01-19 19:17:01   \n",
       "130776  3222760          964985.0 2017-01-17 14:13:26   \n",
       "130783  3222806          964985.0 2017-01-17 14:25:40   \n",
       "\n",
       "        size_team_at_shot_publication  \\\n",
       "56                                 12   \n",
       "57                                 11   \n",
       "58                                 11   \n",
       "200                                 4   \n",
       "201                                 4   \n",
       "...                               ...   \n",
       "130745                              4   \n",
       "130766                              4   \n",
       "130772                              9   \n",
       "130776                              4   \n",
       "130783                              4   \n",
       "\n",
       "                           id_members_at_shot_publication  \n",
       "56      [845499.0, 750420.0, 1082346.0, 721524.0, 1019...  \n",
       "57      [845499.0, 750420.0, 1082346.0, 721524.0, 1019...  \n",
       "58      [845499.0, 750420.0, 1082346.0, 721524.0, 1019...  \n",
       "200          [1203446.0, 1251030.0, 1567291.0, 1203441.0]  \n",
       "201          [1203446.0, 1251030.0, 1567291.0, 1203441.0]  \n",
       "...                                                   ...  \n",
       "130745           [964985.0, 344486.0, 1071072.0, 51045.0]  \n",
       "130766           [964985.0, 344486.0, 1071072.0, 51045.0]  \n",
       "130772  [839306.0, 397380.0, 35877.0, 767099.0, 61462....  \n",
       "130776           [964985.0, 344486.0, 1071072.0, 51045.0]  \n",
       "130783           [964985.0, 344486.0, 1071072.0, 51045.0]  \n",
       "\n",
       "[6403 rows x 5 columns]"
      ]
     },
     "execution_count": 29,
     "metadata": {},
     "output_type": "execute_result"
    }
   ],
   "source": [
    "# Keep shots published by teams with at least a size of 4 members (also team itself).\n",
    "shots_of_teams_snapshot = shots_of_teams[shots_of_teams[\"size_team_at_shot_publication\"] > 3]\n",
    "# Keep shots published during the reference period. \n",
    "shots_of_teams_snapshot = shots_of_teams_snapshot[(shots_of_teams_snapshot[\"created_at_shot\"] >= pd.to_datetime(START_DATE)) & (shots_of_teams_snapshot[\"created_at_shot\"] <= pd.to_datetime(END_DATE))]\n",
    "shots_of_teams_snapshot"
   ]
  },
  {
   "cell_type": "code",
   "execution_count": 30,
   "metadata": {},
   "outputs": [
    {
     "data": {
      "text/plain": [
       "769"
      ]
     },
     "execution_count": 30,
     "metadata": {},
     "output_type": "execute_result"
    }
   ],
   "source": [
    "# Unique teams.\n",
    "shots_of_teams_snapshot[\"id_team_username\"].nunique()"
   ]
  },
  {
   "cell_type": "code",
   "execution_count": 31,
   "metadata": {},
   "outputs": [
    {
     "data": {
      "text/html": [
       "<div>\n",
       "<style scoped>\n",
       "    .dataframe tbody tr th:only-of-type {\n",
       "        vertical-align: middle;\n",
       "    }\n",
       "\n",
       "    .dataframe tbody tr th {\n",
       "        vertical-align: top;\n",
       "    }\n",
       "\n",
       "    .dataframe thead th {\n",
       "        text-align: right;\n",
       "    }\n",
       "</style>\n",
       "<table border=\"1\" class=\"dataframe\">\n",
       "  <thead>\n",
       "    <tr style=\"text-align: right;\">\n",
       "      <th></th>\n",
       "      <th>id_team_username</th>\n",
       "      <th>id_members_at_shot_publication</th>\n",
       "      <th>size_team_at_shot_publication</th>\n",
       "    </tr>\n",
       "  </thead>\n",
       "  <tbody>\n",
       "    <tr>\n",
       "      <th>0</th>\n",
       "      <td>39</td>\n",
       "      <td>[39.0, 6299.0, 7.0, 634228.0, 2.0, 35355.0, 34...</td>\n",
       "      <td>10</td>\n",
       "    </tr>\n",
       "    <tr>\n",
       "      <th>1</th>\n",
       "      <td>1145</td>\n",
       "      <td>[1145.0, 79100.0, 26335.0, 1019.0, 279128.0, 8...</td>\n",
       "      <td>11</td>\n",
       "    </tr>\n",
       "    <tr>\n",
       "      <th>2</th>\n",
       "      <td>2933</td>\n",
       "      <td>[2933.0, 758198.0, 812240.0, 818431.0, 454842....</td>\n",
       "      <td>7</td>\n",
       "    </tr>\n",
       "    <tr>\n",
       "      <th>3</th>\n",
       "      <td>3898</td>\n",
       "      <td>[3898.0, 81880.0, 18105.0, 69122.0, 98612.0, 1...</td>\n",
       "      <td>10</td>\n",
       "    </tr>\n",
       "    <tr>\n",
       "      <th>4</th>\n",
       "      <td>4577</td>\n",
       "      <td>[4577.0, 916913.0, 393146.0, 693064.0, 87059.0...</td>\n",
       "      <td>6</td>\n",
       "    </tr>\n",
       "  </tbody>\n",
       "</table>\n",
       "</div>"
      ],
      "text/plain": [
       "   id_team_username                     id_members_at_shot_publication  \\\n",
       "0                39  [39.0, 6299.0, 7.0, 634228.0, 2.0, 35355.0, 34...   \n",
       "1              1145  [1145.0, 79100.0, 26335.0, 1019.0, 279128.0, 8...   \n",
       "2              2933  [2933.0, 758198.0, 812240.0, 818431.0, 454842....   \n",
       "3              3898  [3898.0, 81880.0, 18105.0, 69122.0, 98612.0, 1...   \n",
       "4              4577  [4577.0, 916913.0, 393146.0, 693064.0, 87059.0...   \n",
       "\n",
       "   size_team_at_shot_publication  \n",
       "0                             10  \n",
       "1                             11  \n",
       "2                              7  \n",
       "3                             10  \n",
       "4                              6  "
      ]
     },
     "execution_count": 31,
     "metadata": {},
     "output_type": "execute_result"
    }
   ],
   "source": [
    "# Compute an unique composition of the team during the reference period: union of the members.\n",
    "composition = shots_of_teams_snapshot.groupby(\"id_team_username\", as_index = False).agg(id_members_at_shot_publication = (\"id_members_at_shot_publication\", lambda x: list(x.explode().unique())), \n",
    "                                                                                        size_team_at_shot_publication = (\"id_members_at_shot_publication\", lambda x: x.explode().nunique()))\n",
    "composition[\"id_team_username\"] = composition[\"id_team_username\"].astype(int)\n",
    "composition.head()"
   ]
  },
  {
   "cell_type": "markdown",
   "metadata": {},
   "source": [
    "## Label"
   ]
  },
  {
   "cell_type": "code",
   "execution_count": 32,
   "metadata": {},
   "outputs": [
    {
     "data": {
      "text/html": [
       "<div>\n",
       "<style scoped>\n",
       "    .dataframe tbody tr th:only-of-type {\n",
       "        vertical-align: middle;\n",
       "    }\n",
       "\n",
       "    .dataframe tbody tr th {\n",
       "        vertical-align: top;\n",
       "    }\n",
       "\n",
       "    .dataframe thead th {\n",
       "        text-align: right;\n",
       "    }\n",
       "</style>\n",
       "<table border=\"1\" class=\"dataframe\">\n",
       "  <thead>\n",
       "    <tr style=\"text-align: right;\">\n",
       "      <th></th>\n",
       "      <th>shot_id</th>\n",
       "      <th>n_likes_at_1_minutes</th>\n",
       "      <th>n_likes_at_10_minutes</th>\n",
       "      <th>n_likes_at_30_minutes</th>\n",
       "      <th>n_likes_at_1_hours</th>\n",
       "      <th>n_likes_at_8_hours</th>\n",
       "      <th>n_likes_at_16_hours</th>\n",
       "      <th>n_likes_at_1_days</th>\n",
       "      <th>n_likes_at_2_days</th>\n",
       "      <th>n_likes_at_3_days</th>\n",
       "      <th>n_likes_at_5_days</th>\n",
       "      <th>n_likes_at_7_days</th>\n",
       "      <th>n_likes_at_12_days</th>\n",
       "      <th>n_likes_at_20_days</th>\n",
       "      <th>n_likes_at_30_days</th>\n",
       "      <th>n_likes_at_90_days</th>\n",
       "    </tr>\n",
       "  </thead>\n",
       "  <tbody>\n",
       "    <tr>\n",
       "      <th>0</th>\n",
       "      <td>3549658</td>\n",
       "      <td>0</td>\n",
       "      <td>0</td>\n",
       "      <td>51</td>\n",
       "      <td>51</td>\n",
       "      <td>51</td>\n",
       "      <td>51</td>\n",
       "      <td>51</td>\n",
       "      <td>51</td>\n",
       "      <td>51</td>\n",
       "      <td>51</td>\n",
       "      <td>51</td>\n",
       "      <td>51</td>\n",
       "      <td>51</td>\n",
       "      <td>51</td>\n",
       "      <td>51</td>\n",
       "    </tr>\n",
       "    <tr>\n",
       "      <th>1</th>\n",
       "      <td>3254544</td>\n",
       "      <td>0</td>\n",
       "      <td>0</td>\n",
       "      <td>0</td>\n",
       "      <td>0</td>\n",
       "      <td>101</td>\n",
       "      <td>101</td>\n",
       "      <td>101</td>\n",
       "      <td>101</td>\n",
       "      <td>101</td>\n",
       "      <td>101</td>\n",
       "      <td>101</td>\n",
       "      <td>101</td>\n",
       "      <td>101</td>\n",
       "      <td>101</td>\n",
       "      <td>101</td>\n",
       "    </tr>\n",
       "    <tr>\n",
       "      <th>2</th>\n",
       "      <td>3153930</td>\n",
       "      <td>0</td>\n",
       "      <td>0</td>\n",
       "      <td>0</td>\n",
       "      <td>0</td>\n",
       "      <td>0</td>\n",
       "      <td>0</td>\n",
       "      <td>0</td>\n",
       "      <td>192</td>\n",
       "      <td>192</td>\n",
       "      <td>192</td>\n",
       "      <td>192</td>\n",
       "      <td>192</td>\n",
       "      <td>192</td>\n",
       "      <td>192</td>\n",
       "      <td>192</td>\n",
       "    </tr>\n",
       "    <tr>\n",
       "      <th>3</th>\n",
       "      <td>3732805</td>\n",
       "      <td>0</td>\n",
       "      <td>0</td>\n",
       "      <td>0</td>\n",
       "      <td>0</td>\n",
       "      <td>44</td>\n",
       "      <td>44</td>\n",
       "      <td>44</td>\n",
       "      <td>44</td>\n",
       "      <td>44</td>\n",
       "      <td>44</td>\n",
       "      <td>44</td>\n",
       "      <td>44</td>\n",
       "      <td>44</td>\n",
       "      <td>44</td>\n",
       "      <td>44</td>\n",
       "    </tr>\n",
       "    <tr>\n",
       "      <th>4</th>\n",
       "      <td>2686725</td>\n",
       "      <td>0</td>\n",
       "      <td>0</td>\n",
       "      <td>0</td>\n",
       "      <td>0</td>\n",
       "      <td>0</td>\n",
       "      <td>27</td>\n",
       "      <td>27</td>\n",
       "      <td>27</td>\n",
       "      <td>27</td>\n",
       "      <td>27</td>\n",
       "      <td>27</td>\n",
       "      <td>27</td>\n",
       "      <td>27</td>\n",
       "      <td>27</td>\n",
       "      <td>27</td>\n",
       "    </tr>\n",
       "  </tbody>\n",
       "</table>\n",
       "</div>"
      ],
      "text/plain": [
       "   shot_id  n_likes_at_1_minutes  n_likes_at_10_minutes  \\\n",
       "0  3549658                     0                      0   \n",
       "1  3254544                     0                      0   \n",
       "2  3153930                     0                      0   \n",
       "3  3732805                     0                      0   \n",
       "4  2686725                     0                      0   \n",
       "\n",
       "   n_likes_at_30_minutes  n_likes_at_1_hours  n_likes_at_8_hours  \\\n",
       "0                     51                  51                  51   \n",
       "1                      0                   0                 101   \n",
       "2                      0                   0                   0   \n",
       "3                      0                   0                  44   \n",
       "4                      0                   0                   0   \n",
       "\n",
       "   n_likes_at_16_hours  n_likes_at_1_days  n_likes_at_2_days  \\\n",
       "0                   51                 51                 51   \n",
       "1                  101                101                101   \n",
       "2                    0                  0                192   \n",
       "3                   44                 44                 44   \n",
       "4                   27                 27                 27   \n",
       "\n",
       "   n_likes_at_3_days  n_likes_at_5_days  n_likes_at_7_days  \\\n",
       "0                 51                 51                 51   \n",
       "1                101                101                101   \n",
       "2                192                192                192   \n",
       "3                 44                 44                 44   \n",
       "4                 27                 27                 27   \n",
       "\n",
       "   n_likes_at_12_days  n_likes_at_20_days  n_likes_at_30_days  \\\n",
       "0                  51                  51                  51   \n",
       "1                 101                 101                 101   \n",
       "2                 192                 192                 192   \n",
       "3                  44                  44                  44   \n",
       "4                  27                  27                  27   \n",
       "\n",
       "   n_likes_at_90_days  \n",
       "0                  51  \n",
       "1                 101  \n",
       "2                 192  \n",
       "3                  44  \n",
       "4                  27  "
      ]
     },
     "execution_count": 32,
     "metadata": {},
     "output_type": "execute_result"
    }
   ],
   "source": [
    "# Read shots exploration results.\n",
    "shots_likes = pd.read_csv(\"./preprocessing/shots_likes.csv\", index_col = 0)\n",
    "shots_likes.head()"
   ]
  },
  {
   "cell_type": "code",
   "execution_count": 33,
   "metadata": {},
   "outputs": [],
   "source": [
    "TARGET = \"n_likes_at_7_days\""
   ]
  },
  {
   "cell_type": "code",
   "execution_count": 34,
   "metadata": {},
   "outputs": [
    {
     "data": {
      "text/html": [
       "<div>\n",
       "<style scoped>\n",
       "    .dataframe tbody tr th:only-of-type {\n",
       "        vertical-align: middle;\n",
       "    }\n",
       "\n",
       "    .dataframe tbody tr th {\n",
       "        vertical-align: top;\n",
       "    }\n",
       "\n",
       "    .dataframe thead th {\n",
       "        text-align: right;\n",
       "    }\n",
       "</style>\n",
       "<table border=\"1\" class=\"dataframe\">\n",
       "  <thead>\n",
       "    <tr style=\"text-align: right;\">\n",
       "      <th></th>\n",
       "      <th>shot_id</th>\n",
       "      <th>id_team_username</th>\n",
       "      <th>n_likes_at_7_days</th>\n",
       "    </tr>\n",
       "  </thead>\n",
       "  <tbody>\n",
       "    <tr>\n",
       "      <th>0</th>\n",
       "      <td>3315339</td>\n",
       "      <td>845499.0</td>\n",
       "      <td>0</td>\n",
       "    </tr>\n",
       "    <tr>\n",
       "      <th>1</th>\n",
       "      <td>3291242</td>\n",
       "      <td>845499.0</td>\n",
       "      <td>0</td>\n",
       "    </tr>\n",
       "    <tr>\n",
       "      <th>2</th>\n",
       "      <td>3282401</td>\n",
       "      <td>845499.0</td>\n",
       "      <td>744</td>\n",
       "    </tr>\n",
       "    <tr>\n",
       "      <th>3</th>\n",
       "      <td>3402111</td>\n",
       "      <td>1203446.0</td>\n",
       "      <td>21</td>\n",
       "    </tr>\n",
       "    <tr>\n",
       "      <th>4</th>\n",
       "      <td>3399255</td>\n",
       "      <td>1203446.0</td>\n",
       "      <td>26</td>\n",
       "    </tr>\n",
       "  </tbody>\n",
       "</table>\n",
       "</div>"
      ],
      "text/plain": [
       "   shot_id  id_team_username  n_likes_at_7_days\n",
       "0  3315339          845499.0                  0\n",
       "1  3291242          845499.0                  0\n",
       "2  3282401          845499.0                744\n",
       "3  3402111         1203446.0                 21\n",
       "4  3399255         1203446.0                 26"
      ]
     },
     "execution_count": 34,
     "metadata": {},
     "output_type": "execute_result"
    }
   ],
   "source": [
    "# Keep the shots that are published according to the snapshot table.\n",
    "shots_likes_snapshot = pd.merge(shots_of_teams_snapshot[[\"shot_id\", \"id_team_username\"]], shots_likes[[\"shot_id\", TARGET]], \n",
    "                                on = \"shot_id\", how = \"left\")\n",
    "shots_likes_snapshot.head()"
   ]
  },
  {
   "cell_type": "code",
   "execution_count": 35,
   "metadata": {},
   "outputs": [],
   "source": [
    "def discretization_quantiles(df, y):\n",
    "    # Data.\n",
    "    data = df[y]\n",
    "    # Compute quantiles.\n",
    "    twentyfifth, seventyfifth = np.percentile(data, [33, 66])\n",
    "    # Define the discretization thresholds.\n",
    "    discretization_thresholds = [0, twentyfifth, seventyfifth, np.max(data)]\n",
    "    # Get current discretization.\n",
    "    discr = pd.cut(data, discretization_thresholds, labels = [f\"Low: [0-{twentyfifth} likes]\", \n",
    "                                                              f\"Middle: ({twentyfifth}-{seventyfifth} likes]\", \n",
    "                                                              f\"High: ({seventyfifth}-{np.max(data)} likes]\"], include_lowest = True)\n",
    "    \n",
    "    fig, ax = plt.subplots(figsize = (6, 4))\n",
    "    sns.histplot(x = data.values, hue = discr.values, ax = ax, palette = \"mako\", discrete = True)\n",
    "    ax.set_xlabel(y)\n",
    "\n",
    "    return pd.Series(discretization_thresholds)"
   ]
  },
  {
   "cell_type": "code",
   "execution_count": 36,
   "metadata": {},
   "outputs": [
    {
     "data": {
      "text/plain": [
       "0       0.0\n",
       "1      25.0\n",
       "2      90.0\n",
       "3    1984.0\n",
       "dtype: float64"
      ]
     },
     "execution_count": 36,
     "metadata": {},
     "output_type": "execute_result"
    },
    {
     "data": {
      "image/png": "[encoded data removed]",
      "text/plain": [
       "<Figure size 600x400 with 1 Axes>"
      ]
     },
     "metadata": {},
     "output_type": "display_data"
    }
   ],
   "source": [
    "discretization_thresholds = discretization_quantiles(shots_likes_snapshot, y = TARGET)\n",
    "discretization_thresholds"
   ]
  },
  {
   "cell_type": "code",
   "execution_count": 37,
   "metadata": {},
   "outputs": [
    {
     "data": {
      "text/html": [
       "<div>\n",
       "<style scoped>\n",
       "    .dataframe tbody tr th:only-of-type {\n",
       "        vertical-align: middle;\n",
       "    }\n",
       "\n",
       "    .dataframe tbody tr th {\n",
       "        vertical-align: top;\n",
       "    }\n",
       "\n",
       "    .dataframe thead th {\n",
       "        text-align: right;\n",
       "    }\n",
       "</style>\n",
       "<table border=\"1\" class=\"dataframe\">\n",
       "  <thead>\n",
       "    <tr style=\"text-align: right;\">\n",
       "      <th></th>\n",
       "      <th>id_team_username</th>\n",
       "      <th>n_likes_at_7_days</th>\n",
       "    </tr>\n",
       "  </thead>\n",
       "  <tbody>\n",
       "    <tr>\n",
       "      <th>0</th>\n",
       "      <td>39.0</td>\n",
       "      <td>335.083333</td>\n",
       "    </tr>\n",
       "    <tr>\n",
       "      <th>1</th>\n",
       "      <td>1145.0</td>\n",
       "      <td>195.461538</td>\n",
       "    </tr>\n",
       "    <tr>\n",
       "      <th>2</th>\n",
       "      <td>2933.0</td>\n",
       "      <td>20.400000</td>\n",
       "    </tr>\n",
       "    <tr>\n",
       "      <th>3</th>\n",
       "      <td>3898.0</td>\n",
       "      <td>21.000000</td>\n",
       "    </tr>\n",
       "    <tr>\n",
       "      <th>4</th>\n",
       "      <td>4577.0</td>\n",
       "      <td>75.714286</td>\n",
       "    </tr>\n",
       "  </tbody>\n",
       "</table>\n",
       "</div>"
      ],
      "text/plain": [
       "   id_team_username  n_likes_at_7_days\n",
       "0              39.0         335.083333\n",
       "1            1145.0         195.461538\n",
       "2            2933.0          20.400000\n",
       "3            3898.0          21.000000\n",
       "4            4577.0          75.714286"
      ]
     },
     "execution_count": 37,
     "metadata": {},
     "output_type": "execute_result"
    }
   ],
   "source": [
    "# Groupby the information of the teams that published more than one shot and we keep the mean as statistic.\n",
    "shots_likes_snapshot_mean = shots_likes_snapshot[[\"id_team_username\", TARGET]].groupby(\"id_team_username\", as_index = False).mean()\n",
    "shots_likes_snapshot_mean.head()"
   ]
  },
  {
   "cell_type": "code",
   "execution_count": 38,
   "metadata": {},
   "outputs": [],
   "source": [
    "n_likes_teams = shots_likes_snapshot_mean[[\"id_team_username\", TARGET]].sort_values(by = TARGET).set_index(\"id_team_username\")[TARGET].to_dict()"
   ]
  },
  {
   "cell_type": "code",
   "execution_count": 39,
   "metadata": {},
   "outputs": [],
   "source": [
    "def discr(x, discretization_thresholds):\n",
    "    return pd.cut(x, discretization_thresholds, labels = [\"low\", \"middle\", \"high\"], include_lowest = True)"
   ]
  },
  {
   "cell_type": "code",
   "execution_count": 40,
   "metadata": {},
   "outputs": [],
   "source": [
    "# Compute performance on the basis of the discretization done using all the shots.\n",
    "shots_likes_snapshot_mean[\"performance\"] = discr(shots_likes_snapshot_mean[TARGET], discretization_thresholds)"
   ]
  },
  {
   "cell_type": "code",
   "execution_count": 41,
   "metadata": {},
   "outputs": [],
   "source": [
    "# Encode.\n",
    "shots_likes_snapshot_mean[\"performance_encode\"] = shots_likes_snapshot_mean[\"performance\"].cat.codes.astype(int)"
   ]
  },
  {
   "cell_type": "code",
   "execution_count": 42,
   "metadata": {},
   "outputs": [
    {
     "data": {
      "text/plain": [
       "1    0.449935\n",
       "0    0.331599\n",
       "2    0.218466\n",
       "Name: performance_encode, dtype: float64"
      ]
     },
     "execution_count": 42,
     "metadata": {},
     "output_type": "execute_result"
    }
   ],
   "source": [
    "shots_likes_snapshot_mean[\"performance_encode\"].value_counts() / (len(shots_likes_snapshot_mean[\"performance_encode\"]))"
   ]
  },
  {
   "cell_type": "code",
   "execution_count": 43,
   "metadata": {},
   "outputs": [],
   "source": [
    "# Change type.\n",
    "shots_likes_snapshot_mean[\"id_team_username\"] = shots_likes_snapshot_mean[\"id_team_username\"].astype(int)"
   ]
  },
  {
   "cell_type": "code",
   "execution_count": 44,
   "metadata": {},
   "outputs": [],
   "source": [
    "# Get dictionary of team labels.\n",
    "teams_label = shots_likes_snapshot_mean.set_index(\"id_team_username\")[\"performance_encode\"].to_dict()"
   ]
  },
  {
   "cell_type": "markdown",
   "metadata": {},
   "source": [
    "## Summary table"
   ]
  },
  {
   "cell_type": "code",
   "execution_count": 45,
   "metadata": {},
   "outputs": [
    {
     "data": {
      "text/html": [
       "<div>\n",
       "<style scoped>\n",
       "    .dataframe tbody tr th:only-of-type {\n",
       "        vertical-align: middle;\n",
       "    }\n",
       "\n",
       "    .dataframe tbody tr th {\n",
       "        vertical-align: top;\n",
       "    }\n",
       "\n",
       "    .dataframe thead th {\n",
       "        text-align: right;\n",
       "    }\n",
       "</style>\n",
       "<table border=\"1\" class=\"dataframe\">\n",
       "  <thead>\n",
       "    <tr style=\"text-align: right;\">\n",
       "      <th></th>\n",
       "      <th>id_team_username</th>\n",
       "      <th>id_members_at_shot_publication</th>\n",
       "      <th>performance_encode</th>\n",
       "    </tr>\n",
       "  </thead>\n",
       "  <tbody>\n",
       "    <tr>\n",
       "      <th>0</th>\n",
       "      <td>39</td>\n",
       "      <td>[39.0, 6299.0, 7.0, 634228.0, 2.0, 35355.0, 34...</td>\n",
       "      <td>2</td>\n",
       "    </tr>\n",
       "    <tr>\n",
       "      <th>1</th>\n",
       "      <td>1145</td>\n",
       "      <td>[1145.0, 79100.0, 26335.0, 1019.0, 279128.0, 8...</td>\n",
       "      <td>2</td>\n",
       "    </tr>\n",
       "    <tr>\n",
       "      <th>2</th>\n",
       "      <td>2933</td>\n",
       "      <td>[2933.0, 758198.0, 812240.0, 818431.0, 454842....</td>\n",
       "      <td>0</td>\n",
       "    </tr>\n",
       "    <tr>\n",
       "      <th>3</th>\n",
       "      <td>3898</td>\n",
       "      <td>[3898.0, 81880.0, 18105.0, 69122.0, 98612.0, 1...</td>\n",
       "      <td>0</td>\n",
       "    </tr>\n",
       "    <tr>\n",
       "      <th>4</th>\n",
       "      <td>4577</td>\n",
       "      <td>[4577.0, 916913.0, 393146.0, 693064.0, 87059.0...</td>\n",
       "      <td>1</td>\n",
       "    </tr>\n",
       "  </tbody>\n",
       "</table>\n",
       "</div>"
      ],
      "text/plain": [
       "   id_team_username                     id_members_at_shot_publication  \\\n",
       "0                39  [39.0, 6299.0, 7.0, 634228.0, 2.0, 35355.0, 34...   \n",
       "1              1145  [1145.0, 79100.0, 26335.0, 1019.0, 279128.0, 8...   \n",
       "2              2933  [2933.0, 758198.0, 812240.0, 818431.0, 454842....   \n",
       "3              3898  [3898.0, 81880.0, 18105.0, 69122.0, 98612.0, 1...   \n",
       "4              4577  [4577.0, 916913.0, 393146.0, 693064.0, 87059.0...   \n",
       "\n",
       "   performance_encode  \n",
       "0                   2  \n",
       "1                   2  \n",
       "2                   0  \n",
       "3                   0  \n",
       "4                   1  "
      ]
     },
     "execution_count": 45,
     "metadata": {},
     "output_type": "execute_result"
    }
   ],
   "source": [
    "summary_teams = pd.merge(composition[[\"id_team_username\", \"id_members_at_shot_publication\"]], \n",
    "                         shots_likes_snapshot_mean[[\"id_team_username\", \"performance_encode\"]], \n",
    "                         on = \"id_team_username\", how = \"left\")\n",
    "summary_teams.head()"
   ]
  },
  {
   "cell_type": "code",
   "execution_count": 46,
   "metadata": {},
   "outputs": [],
   "source": [
    "# Keep the users that are involved into teams.\n",
    "user_teams = summary_teams[\"id_members_at_shot_publication\"].explode().astype(int).unique()"
   ]
  },
  {
   "cell_type": "code",
   "execution_count": 47,
   "metadata": {},
   "outputs": [
    {
     "data": {
      "text/plain": [
       "5196"
      ]
     },
     "execution_count": 47,
     "metadata": {},
     "output_type": "execute_result"
    }
   ],
   "source": [
    "len(user_teams)"
   ]
  },
  {
   "cell_type": "markdown",
   "metadata": {},
   "source": [
    "## Node attributes\n",
    "\n",
    "The attributes of the nodes are computed looking at the period before the reference `START_DATE`. It is not possible to keep the attributes of the nodes before the publication of the corresponding shot because many teams may have published more than one shot and therefore it would not be possible to obtain an univocal information (i.e. a team does not correspond to a single shot publication that determines the target variable)."
   ]
  },
  {
   "cell_type": "code",
   "execution_count": 48,
   "metadata": {},
   "outputs": [],
   "source": [
    "# Add author shot information.\n",
    "shots_features_likes = pd.merge(shots_likes, shots[[\"shot_id\", \"id_author_shot\", \"created_at_shot\"]], \n",
    "                                on = \"shot_id\", how = \"left\")\n",
    "# Keep only the shots published by the users that belong to the selected teams.\n",
    "shots_features_likes = shots_features_likes[shots_features_likes[\"id_author_shot\"].isin(user_teams)]"
   ]
  },
  {
   "cell_type": "code",
   "execution_count": 49,
   "metadata": {},
   "outputs": [
    {
     "data": {
      "text/plain": [
       "218318"
      ]
     },
     "execution_count": 49,
     "metadata": {},
     "output_type": "execute_result"
    }
   ],
   "source": [
    "len(shots_features_likes)"
   ]
  },
  {
   "cell_type": "code",
   "execution_count": 50,
   "metadata": {},
   "outputs": [],
   "source": [
    "# Select only some columns.\n",
    "shots_features_likes = shots_features_likes[[\"shot_id\", TARGET, \"created_at_shot\", \"id_author_shot\"]]"
   ]
  },
  {
   "cell_type": "code",
   "execution_count": 51,
   "metadata": {},
   "outputs": [
    {
     "data": {
      "text/html": [
       "<div>\n",
       "<style scoped>\n",
       "    .dataframe tbody tr th:only-of-type {\n",
       "        vertical-align: middle;\n",
       "    }\n",
       "\n",
       "    .dataframe tbody tr th {\n",
       "        vertical-align: top;\n",
       "    }\n",
       "\n",
       "    .dataframe thead th {\n",
       "        text-align: right;\n",
       "    }\n",
       "</style>\n",
       "<table border=\"1\" class=\"dataframe\">\n",
       "  <thead>\n",
       "    <tr style=\"text-align: right;\">\n",
       "      <th></th>\n",
       "      <th>shot_id</th>\n",
       "      <th>n_likes_at_7_days</th>\n",
       "      <th>created_at_shot</th>\n",
       "      <th>id_author_shot</th>\n",
       "    </tr>\n",
       "  </thead>\n",
       "  <tbody>\n",
       "    <tr>\n",
       "      <th>4</th>\n",
       "      <td>2686725</td>\n",
       "      <td>27</td>\n",
       "      <td>2016-05-02 04:24:29</td>\n",
       "      <td>673130</td>\n",
       "    </tr>\n",
       "    <tr>\n",
       "      <th>5</th>\n",
       "      <td>2322796</td>\n",
       "      <td>0</td>\n",
       "      <td>2015-10-29 20:20:28</td>\n",
       "      <td>673130</td>\n",
       "    </tr>\n",
       "    <tr>\n",
       "      <th>276</th>\n",
       "      <td>4006112</td>\n",
       "      <td>318</td>\n",
       "      <td>2017-12-08 11:22:54</td>\n",
       "      <td>1558435</td>\n",
       "    </tr>\n",
       "    <tr>\n",
       "      <th>277</th>\n",
       "      <td>3947322</td>\n",
       "      <td>369</td>\n",
       "      <td>2017-11-14 13:24:46</td>\n",
       "      <td>1558435</td>\n",
       "    </tr>\n",
       "    <tr>\n",
       "      <th>278</th>\n",
       "      <td>3929263</td>\n",
       "      <td>294</td>\n",
       "      <td>2017-11-07 11:16:39</td>\n",
       "      <td>1558435</td>\n",
       "    </tr>\n",
       "  </tbody>\n",
       "</table>\n",
       "</div>"
      ],
      "text/plain": [
       "     shot_id  n_likes_at_7_days     created_at_shot  id_author_shot\n",
       "4    2686725                 27 2016-05-02 04:24:29          673130\n",
       "5    2322796                  0 2015-10-29 20:20:28          673130\n",
       "276  4006112                318 2017-12-08 11:22:54         1558435\n",
       "277  3947322                369 2017-11-14 13:24:46         1558435\n",
       "278  3929263                294 2017-11-07 11:16:39         1558435"
      ]
     },
     "execution_count": 51,
     "metadata": {},
     "output_type": "execute_result"
    }
   ],
   "source": [
    "# Convert datetime column to appropriate type.\n",
    "shots_features_likes[\"created_at_shot\"] = pd.to_datetime(shots_features_likes[\"created_at_shot\"])\n",
    "shots_features_likes.head()"
   ]
  },
  {
   "cell_type": "markdown",
   "metadata": {},
   "source": [
    "We decide to build the attributes of the nodes before the reference start date."
   ]
  },
  {
   "cell_type": "code",
   "execution_count": 52,
   "metadata": {},
   "outputs": [],
   "source": [
    "full_index = pd.DataFrame(user_teams, columns = [\"UserId\"]).set_index(\"UserId\")"
   ]
  },
  {
   "cell_type": "markdown",
   "metadata": {},
   "source": [
    "#### Features like"
   ]
  },
  {
   "cell_type": "code",
   "execution_count": 53,
   "metadata": {},
   "outputs": [],
   "source": [
    "# Keep the shots that are published before 7 days from the starting reference date.\n",
    "features_likes = shots_features_likes[shots_features_likes[\"created_at_shot\"] <= pd.to_datetime(START_DATE) - pd.DateOffset(days = 7)]"
   ]
  },
  {
   "cell_type": "code",
   "execution_count": 54,
   "metadata": {},
   "outputs": [
    {
     "data": {
      "text/html": [
       "<div>\n",
       "<style scoped>\n",
       "    .dataframe tbody tr th:only-of-type {\n",
       "        vertical-align: middle;\n",
       "    }\n",
       "\n",
       "    .dataframe tbody tr th {\n",
       "        vertical-align: top;\n",
       "    }\n",
       "\n",
       "    .dataframe thead th {\n",
       "        text-align: right;\n",
       "    }\n",
       "</style>\n",
       "<table border=\"1\" class=\"dataframe\">\n",
       "  <thead>\n",
       "    <tr style=\"text-align: right;\">\n",
       "      <th></th>\n",
       "      <th>n_likes_shot_received_before</th>\n",
       "    </tr>\n",
       "    <tr>\n",
       "      <th>id_author_shot</th>\n",
       "      <th></th>\n",
       "    </tr>\n",
       "  </thead>\n",
       "  <tbody>\n",
       "    <tr>\n",
       "      <th>1</th>\n",
       "      <td>34547</td>\n",
       "    </tr>\n",
       "    <tr>\n",
       "      <th>2</th>\n",
       "      <td>1433</td>\n",
       "    </tr>\n",
       "    <tr>\n",
       "      <th>7</th>\n",
       "      <td>6661</td>\n",
       "    </tr>\n",
       "    <tr>\n",
       "      <th>16</th>\n",
       "      <td>4154</td>\n",
       "    </tr>\n",
       "    <tr>\n",
       "      <th>22</th>\n",
       "      <td>19008</td>\n",
       "    </tr>\n",
       "  </tbody>\n",
       "</table>\n",
       "</div>"
      ],
      "text/plain": [
       "                n_likes_shot_received_before\n",
       "id_author_shot                              \n",
       "1                                      34547\n",
       "2                                       1433\n",
       "7                                       6661\n",
       "16                                      4154\n",
       "22                                     19008"
      ]
     },
     "execution_count": 54,
     "metadata": {},
     "output_type": "execute_result"
    }
   ],
   "source": [
    "# Compute the sum of likes received by these shots at 7 days from the corresponding shot publication.\n",
    "features_likes = features_likes.groupby(\"id_author_shot\").agg(n_likes_shot_received_before = (TARGET, \"sum\"))\n",
    "features_likes.head()"
   ]
  },
  {
   "cell_type": "markdown",
   "metadata": {},
   "source": [
    "#### Features shot"
   ]
  },
  {
   "cell_type": "code",
   "execution_count": 55,
   "metadata": {},
   "outputs": [],
   "source": [
    "# Keep the shots published by the members of the team before the strating reference period.\n",
    "features_shots = shots[(shots[\"id_author_shot\"].isin(user_teams)) & (shots[\"created_at_shot\"] < pd.to_datetime(START_DATE))]"
   ]
  },
  {
   "cell_type": "code",
   "execution_count": 56,
   "metadata": {},
   "outputs": [
    {
     "data": {
      "text/html": [
       "<div>\n",
       "<style scoped>\n",
       "    .dataframe tbody tr th:only-of-type {\n",
       "        vertical-align: middle;\n",
       "    }\n",
       "\n",
       "    .dataframe tbody tr th {\n",
       "        vertical-align: top;\n",
       "    }\n",
       "\n",
       "    .dataframe thead th {\n",
       "        text-align: right;\n",
       "    }\n",
       "</style>\n",
       "<table border=\"1\" class=\"dataframe\">\n",
       "  <thead>\n",
       "    <tr style=\"text-align: right;\">\n",
       "      <th></th>\n",
       "      <th>n_shots_created_before</th>\n",
       "    </tr>\n",
       "    <tr>\n",
       "      <th>id_author_shot</th>\n",
       "      <th></th>\n",
       "    </tr>\n",
       "  </thead>\n",
       "  <tbody>\n",
       "    <tr>\n",
       "      <th>1</th>\n",
       "      <td>248</td>\n",
       "    </tr>\n",
       "    <tr>\n",
       "      <th>2</th>\n",
       "      <td>22</td>\n",
       "    </tr>\n",
       "    <tr>\n",
       "      <th>7</th>\n",
       "      <td>244</td>\n",
       "    </tr>\n",
       "    <tr>\n",
       "      <th>16</th>\n",
       "      <td>42</td>\n",
       "    </tr>\n",
       "    <tr>\n",
       "      <th>22</th>\n",
       "      <td>114</td>\n",
       "    </tr>\n",
       "  </tbody>\n",
       "</table>\n",
       "</div>"
      ],
      "text/plain": [
       "                n_shots_created_before\n",
       "id_author_shot                        \n",
       "1                                  248\n",
       "2                                   22\n",
       "7                                  244\n",
       "16                                  42\n",
       "22                                 114"
      ]
     },
     "execution_count": 56,
     "metadata": {},
     "output_type": "execute_result"
    }
   ],
   "source": [
    "# Count the shots published before start date.\n",
    "features_shots = features_shots.groupby(\"id_author_shot\").agg(n_shots_created_before = (\"shot_id\", \"count\"))\n",
    "features_shots.head()"
   ]
  },
  {
   "cell_type": "markdown",
   "metadata": {},
   "source": [
    "#### Features comment"
   ]
  },
  {
   "cell_type": "code",
   "execution_count": 57,
   "metadata": {},
   "outputs": [],
   "source": [
    "# Convert datetime column to appropriate type.\n",
    "comments[\"created_at_comment\"] = pd.to_datetime(comments[\"created_at_comment\"])"
   ]
  },
  {
   "cell_type": "code",
   "execution_count": 58,
   "metadata": {},
   "outputs": [],
   "source": [
    "# Keep only the comments published by the users that belong to the selected teams.\n",
    "comments_ref = comments[(comments[\"id_author_comment\"].isin(user_teams)) & (comments[\"created_at_comment\"] < pd.to_datetime(START_DATE))]"
   ]
  },
  {
   "cell_type": "code",
   "execution_count": 59,
   "metadata": {},
   "outputs": [
    {
     "data": {
      "text/html": [
       "<div>\n",
       "<style scoped>\n",
       "    .dataframe tbody tr th:only-of-type {\n",
       "        vertical-align: middle;\n",
       "    }\n",
       "\n",
       "    .dataframe tbody tr th {\n",
       "        vertical-align: top;\n",
       "    }\n",
       "\n",
       "    .dataframe thead th {\n",
       "        text-align: right;\n",
       "    }\n",
       "</style>\n",
       "<table border=\"1\" class=\"dataframe\">\n",
       "  <thead>\n",
       "    <tr style=\"text-align: right;\">\n",
       "      <th></th>\n",
       "      <th>n_comments_created_before</th>\n",
       "    </tr>\n",
       "    <tr>\n",
       "      <th>id_author_comment</th>\n",
       "      <th></th>\n",
       "    </tr>\n",
       "  </thead>\n",
       "  <tbody>\n",
       "    <tr>\n",
       "      <th>1</th>\n",
       "      <td>3943</td>\n",
       "    </tr>\n",
       "    <tr>\n",
       "      <th>2</th>\n",
       "      <td>218</td>\n",
       "    </tr>\n",
       "    <tr>\n",
       "      <th>7</th>\n",
       "      <td>741</td>\n",
       "    </tr>\n",
       "    <tr>\n",
       "      <th>16</th>\n",
       "      <td>579</td>\n",
       "    </tr>\n",
       "    <tr>\n",
       "      <th>22</th>\n",
       "      <td>2613</td>\n",
       "    </tr>\n",
       "  </tbody>\n",
       "</table>\n",
       "</div>"
      ],
      "text/plain": [
       "                   n_comments_created_before\n",
       "id_author_comment                           \n",
       "1                                       3943\n",
       "2                                        218\n",
       "7                                        741\n",
       "16                                       579\n",
       "22                                      2613"
      ]
     },
     "execution_count": 59,
     "metadata": {},
     "output_type": "execute_result"
    }
   ],
   "source": [
    "# Get some features.\n",
    "comments_created = comments_ref.groupby(\"id_author_comment\").agg(n_comments_created_before = (\"comment_id\", \"count\"))\n",
    "comments_created.head()"
   ]
  },
  {
   "cell_type": "code",
   "execution_count": 60,
   "metadata": {},
   "outputs": [
    {
     "data": {
      "text/html": [
       "<div>\n",
       "<style scoped>\n",
       "    .dataframe tbody tr th:only-of-type {\n",
       "        vertical-align: middle;\n",
       "    }\n",
       "\n",
       "    .dataframe tbody tr th {\n",
       "        vertical-align: top;\n",
       "    }\n",
       "\n",
       "    .dataframe thead th {\n",
       "        text-align: right;\n",
       "    }\n",
       "</style>\n",
       "<table border=\"1\" class=\"dataframe\">\n",
       "  <thead>\n",
       "    <tr style=\"text-align: right;\">\n",
       "      <th></th>\n",
       "      <th>n_comments_received_before</th>\n",
       "    </tr>\n",
       "    <tr>\n",
       "      <th>id_author_shot</th>\n",
       "      <th></th>\n",
       "    </tr>\n",
       "  </thead>\n",
       "  <tbody>\n",
       "    <tr>\n",
       "      <th>1</th>\n",
       "      <td>3943</td>\n",
       "    </tr>\n",
       "    <tr>\n",
       "      <th>2</th>\n",
       "      <td>218</td>\n",
       "    </tr>\n",
       "    <tr>\n",
       "      <th>7</th>\n",
       "      <td>741</td>\n",
       "    </tr>\n",
       "    <tr>\n",
       "      <th>16</th>\n",
       "      <td>579</td>\n",
       "    </tr>\n",
       "    <tr>\n",
       "      <th>22</th>\n",
       "      <td>2613</td>\n",
       "    </tr>\n",
       "  </tbody>\n",
       "</table>\n",
       "</div>"
      ],
      "text/plain": [
       "                n_comments_received_before\n",
       "id_author_shot                            \n",
       "1                                     3943\n",
       "2                                      218\n",
       "7                                      741\n",
       "16                                     579\n",
       "22                                    2613"
      ]
     },
     "execution_count": 60,
     "metadata": {},
     "output_type": "execute_result"
    }
   ],
   "source": [
    "# Get some features.\n",
    "comments_received = comments_ref.groupby(\"id_author_shot\").agg(n_comments_received_before = (\"comment_id\", \"count\"))\n",
    "comments_received.head()"
   ]
  },
  {
   "cell_type": "markdown",
   "metadata": {},
   "source": [
    "#### Features skill"
   ]
  },
  {
   "cell_type": "code",
   "execution_count": 61,
   "metadata": {},
   "outputs": [],
   "source": [
    "# Keep only the users of the selected teams.\n",
    "skills_user = skills[skills[\"id_username\"].isin(user_teams)]"
   ]
  },
  {
   "cell_type": "code",
   "execution_count": 62,
   "metadata": {},
   "outputs": [
    {
     "data": {
      "text/html": [
       "<div>\n",
       "<style scoped>\n",
       "    .dataframe tbody tr th:only-of-type {\n",
       "        vertical-align: middle;\n",
       "    }\n",
       "\n",
       "    .dataframe tbody tr th {\n",
       "        vertical-align: top;\n",
       "    }\n",
       "\n",
       "    .dataframe thead th {\n",
       "        text-align: right;\n",
       "    }\n",
       "</style>\n",
       "<table border=\"1\" class=\"dataframe\">\n",
       "  <thead>\n",
       "    <tr style=\"text-align: right;\">\n",
       "      <th></th>\n",
       "      <th>n_skills</th>\n",
       "    </tr>\n",
       "    <tr>\n",
       "      <th>id_username</th>\n",
       "      <th></th>\n",
       "    </tr>\n",
       "  </thead>\n",
       "  <tbody>\n",
       "    <tr>\n",
       "      <th>1</th>\n",
       "      <td>8</td>\n",
       "    </tr>\n",
       "    <tr>\n",
       "      <th>2</th>\n",
       "      <td>8</td>\n",
       "    </tr>\n",
       "    <tr>\n",
       "      <th>7</th>\n",
       "      <td>11</td>\n",
       "    </tr>\n",
       "    <tr>\n",
       "      <th>16</th>\n",
       "      <td>3</td>\n",
       "    </tr>\n",
       "    <tr>\n",
       "      <th>22</th>\n",
       "      <td>6</td>\n",
       "    </tr>\n",
       "  </tbody>\n",
       "</table>\n",
       "</div>"
      ],
      "text/plain": [
       "             n_skills\n",
       "id_username          \n",
       "1                   8\n",
       "2                   8\n",
       "7                  11\n",
       "16                  3\n",
       "22                  6"
      ]
     },
     "execution_count": 62,
     "metadata": {},
     "output_type": "execute_result"
    }
   ],
   "source": [
    "# Get some features.\n",
    "skills_user = skills_user.groupby(\"id_username\").agg(n_skills = (\"skill\", lambda x: x.nunique()))\n",
    "skills_user.head()"
   ]
  },
  {
   "cell_type": "markdown",
   "metadata": {},
   "source": [
    "#### Features team"
   ]
  },
  {
   "cell_type": "code",
   "execution_count": 63,
   "metadata": {},
   "outputs": [],
   "source": [
    "# Keep the users that belong to the selected teams and that the hiring information is before the starting reference date.\n",
    "teams_ref = teams[(teams[\"id_member_username\"].isin(user_teams)) & (teams[\"hiring\"] < pd.to_datetime(START_DATE))]"
   ]
  },
  {
   "cell_type": "code",
   "execution_count": 64,
   "metadata": {},
   "outputs": [
    {
     "data": {
      "text/html": [
       "<div>\n",
       "<style scoped>\n",
       "    .dataframe tbody tr th:only-of-type {\n",
       "        vertical-align: middle;\n",
       "    }\n",
       "\n",
       "    .dataframe tbody tr th {\n",
       "        vertical-align: top;\n",
       "    }\n",
       "\n",
       "    .dataframe thead th {\n",
       "        text-align: right;\n",
       "    }\n",
       "</style>\n",
       "<table border=\"1\" class=\"dataframe\">\n",
       "  <thead>\n",
       "    <tr style=\"text-align: right;\">\n",
       "      <th></th>\n",
       "      <th>n_teams_before</th>\n",
       "    </tr>\n",
       "    <tr>\n",
       "      <th>id_member_username</th>\n",
       "      <th></th>\n",
       "    </tr>\n",
       "  </thead>\n",
       "  <tbody>\n",
       "    <tr>\n",
       "      <th>1</th>\n",
       "      <td>1</td>\n",
       "    </tr>\n",
       "    <tr>\n",
       "      <th>2</th>\n",
       "      <td>1</td>\n",
       "    </tr>\n",
       "    <tr>\n",
       "      <th>7</th>\n",
       "      <td>2</td>\n",
       "    </tr>\n",
       "    <tr>\n",
       "      <th>16</th>\n",
       "      <td>1</td>\n",
       "    </tr>\n",
       "    <tr>\n",
       "      <th>22</th>\n",
       "      <td>2</td>\n",
       "    </tr>\n",
       "  </tbody>\n",
       "</table>\n",
       "</div>"
      ],
      "text/plain": [
       "                    n_teams_before\n",
       "id_member_username                \n",
       "1                                1\n",
       "2                                1\n",
       "7                                2\n",
       "16                               1\n",
       "22                               2"
      ]
     },
     "execution_count": 64,
     "metadata": {},
     "output_type": "execute_result"
    }
   ],
   "source": [
    "# Get some features.\n",
    "teams_ref = teams_ref.groupby(\"id_member_username\").agg(n_teams_before = (\"id_team_username\", lambda x: x.nunique()))\n",
    "teams_ref.head()"
   ]
  },
  {
   "cell_type": "markdown",
   "metadata": {},
   "source": [
    "### All attributes"
   ]
  },
  {
   "cell_type": "code",
   "execution_count": 65,
   "metadata": {},
   "outputs": [
    {
     "data": {
      "text/html": [
       "<div>\n",
       "<style scoped>\n",
       "    .dataframe tbody tr th:only-of-type {\n",
       "        vertical-align: middle;\n",
       "    }\n",
       "\n",
       "    .dataframe tbody tr th {\n",
       "        vertical-align: top;\n",
       "    }\n",
       "\n",
       "    .dataframe thead th {\n",
       "        text-align: right;\n",
       "    }\n",
       "</style>\n",
       "<table border=\"1\" class=\"dataframe\">\n",
       "  <thead>\n",
       "    <tr style=\"text-align: right;\">\n",
       "      <th></th>\n",
       "      <th>n_likes_shot_received_before</th>\n",
       "      <th>n_shots_created_before</th>\n",
       "      <th>n_comments_created_before</th>\n",
       "      <th>n_comments_received_before</th>\n",
       "      <th>n_skills</th>\n",
       "      <th>n_teams_before</th>\n",
       "    </tr>\n",
       "    <tr>\n",
       "      <th>UserId</th>\n",
       "      <th></th>\n",
       "      <th></th>\n",
       "      <th></th>\n",
       "      <th></th>\n",
       "      <th></th>\n",
       "      <th></th>\n",
       "    </tr>\n",
       "  </thead>\n",
       "  <tbody>\n",
       "    <tr>\n",
       "      <th>39</th>\n",
       "      <td>16722.0</td>\n",
       "      <td>74.0</td>\n",
       "      <td>2152.0</td>\n",
       "      <td>2152.0</td>\n",
       "      <td>5.0</td>\n",
       "      <td>0.0</td>\n",
       "    </tr>\n",
       "    <tr>\n",
       "      <th>6299</th>\n",
       "      <td>171.0</td>\n",
       "      <td>1.0</td>\n",
       "      <td>15.0</td>\n",
       "      <td>15.0</td>\n",
       "      <td>0.0</td>\n",
       "      <td>1.0</td>\n",
       "    </tr>\n",
       "    <tr>\n",
       "      <th>7</th>\n",
       "      <td>6661.0</td>\n",
       "      <td>244.0</td>\n",
       "      <td>741.0</td>\n",
       "      <td>741.0</td>\n",
       "      <td>11.0</td>\n",
       "      <td>2.0</td>\n",
       "    </tr>\n",
       "    <tr>\n",
       "      <th>634228</th>\n",
       "      <td>1068.0</td>\n",
       "      <td>2.0</td>\n",
       "      <td>238.0</td>\n",
       "      <td>238.0</td>\n",
       "      <td>4.0</td>\n",
       "      <td>1.0</td>\n",
       "    </tr>\n",
       "    <tr>\n",
       "      <th>2</th>\n",
       "      <td>1433.0</td>\n",
       "      <td>22.0</td>\n",
       "      <td>218.0</td>\n",
       "      <td>218.0</td>\n",
       "      <td>8.0</td>\n",
       "      <td>1.0</td>\n",
       "    </tr>\n",
       "    <tr>\n",
       "      <th>...</th>\n",
       "      <td>...</td>\n",
       "      <td>...</td>\n",
       "      <td>...</td>\n",
       "      <td>...</td>\n",
       "      <td>...</td>\n",
       "      <td>...</td>\n",
       "    </tr>\n",
       "    <tr>\n",
       "      <th>899544</th>\n",
       "      <td>208.0</td>\n",
       "      <td>6.0</td>\n",
       "      <td>56.0</td>\n",
       "      <td>56.0</td>\n",
       "      <td>7.0</td>\n",
       "      <td>0.0</td>\n",
       "    </tr>\n",
       "    <tr>\n",
       "      <th>1021599</th>\n",
       "      <td>78.0</td>\n",
       "      <td>2.0</td>\n",
       "      <td>4.0</td>\n",
       "      <td>4.0</td>\n",
       "      <td>2.0</td>\n",
       "      <td>0.0</td>\n",
       "    </tr>\n",
       "    <tr>\n",
       "      <th>117798</th>\n",
       "      <td>752.0</td>\n",
       "      <td>22.0</td>\n",
       "      <td>38.0</td>\n",
       "      <td>38.0</td>\n",
       "      <td>0.0</td>\n",
       "      <td>2.0</td>\n",
       "    </tr>\n",
       "    <tr>\n",
       "      <th>1437246</th>\n",
       "      <td>0.0</td>\n",
       "      <td>0.0</td>\n",
       "      <td>0.0</td>\n",
       "      <td>0.0</td>\n",
       "      <td>9.0</td>\n",
       "      <td>0.0</td>\n",
       "    </tr>\n",
       "    <tr>\n",
       "      <th>1596736</th>\n",
       "      <td>0.0</td>\n",
       "      <td>0.0</td>\n",
       "      <td>0.0</td>\n",
       "      <td>0.0</td>\n",
       "      <td>0.0</td>\n",
       "      <td>0.0</td>\n",
       "    </tr>\n",
       "  </tbody>\n",
       "</table>\n",
       "<p>5196 rows × 6 columns</p>\n",
       "</div>"
      ],
      "text/plain": [
       "         n_likes_shot_received_before  n_shots_created_before  \\\n",
       "UserId                                                          \n",
       "39                            16722.0                    74.0   \n",
       "6299                            171.0                     1.0   \n",
       "7                              6661.0                   244.0   \n",
       "634228                         1068.0                     2.0   \n",
       "2                              1433.0                    22.0   \n",
       "...                               ...                     ...   \n",
       "899544                          208.0                     6.0   \n",
       "1021599                          78.0                     2.0   \n",
       "117798                          752.0                    22.0   \n",
       "1437246                           0.0                     0.0   \n",
       "1596736                           0.0                     0.0   \n",
       "\n",
       "         n_comments_created_before  n_comments_received_before  n_skills  \\\n",
       "UserId                                                                     \n",
       "39                          2152.0                      2152.0       5.0   \n",
       "6299                          15.0                        15.0       0.0   \n",
       "7                            741.0                       741.0      11.0   \n",
       "634228                       238.0                       238.0       4.0   \n",
       "2                            218.0                       218.0       8.0   \n",
       "...                            ...                         ...       ...   \n",
       "899544                        56.0                        56.0       7.0   \n",
       "1021599                        4.0                         4.0       2.0   \n",
       "117798                        38.0                        38.0       0.0   \n",
       "1437246                        0.0                         0.0       9.0   \n",
       "1596736                        0.0                         0.0       0.0   \n",
       "\n",
       "         n_teams_before  \n",
       "UserId                   \n",
       "39                  0.0  \n",
       "6299                1.0  \n",
       "7                   2.0  \n",
       "634228              1.0  \n",
       "2                   1.0  \n",
       "...                 ...  \n",
       "899544              0.0  \n",
       "1021599             0.0  \n",
       "117798              2.0  \n",
       "1437246             0.0  \n",
       "1596736             0.0  \n",
       "\n",
       "[5196 rows x 6 columns]"
      ]
     },
     "execution_count": 65,
     "metadata": {},
     "output_type": "execute_result"
    }
   ],
   "source": [
    "# Concatenate all the features.\n",
    "nodes_attribute = pd.concat([features_likes, features_shots, comments_created, \n",
    "                             comments_received, skills_user, teams_ref], axis = 1)\n",
    "nodes_attribute.index.name = \"UserId\"\n",
    "nodes_attribute = full_index.merge(nodes_attribute, left_index = True, right_index = True, how = \"left\")\n",
    "nodes_attribute.fillna(0, inplace = True)\n",
    "nodes_attribute"
   ]
  },
  {
   "cell_type": "code",
   "execution_count": 66,
   "metadata": {},
   "outputs": [
    {
     "data": {
      "text/html": [
       "<div>\n",
       "<style scoped>\n",
       "    .dataframe tbody tr th:only-of-type {\n",
       "        vertical-align: middle;\n",
       "    }\n",
       "\n",
       "    .dataframe tbody tr th {\n",
       "        vertical-align: top;\n",
       "    }\n",
       "\n",
       "    .dataframe thead th {\n",
       "        text-align: right;\n",
       "    }\n",
       "</style>\n",
       "<table border=\"1\" class=\"dataframe\">\n",
       "  <thead>\n",
       "    <tr style=\"text-align: right;\">\n",
       "      <th></th>\n",
       "      <th>id_team_username</th>\n",
       "      <th>id_members_at_shot_publication</th>\n",
       "      <th>performance_encode</th>\n",
       "    </tr>\n",
       "  </thead>\n",
       "  <tbody>\n",
       "    <tr>\n",
       "      <th>0</th>\n",
       "      <td>39</td>\n",
       "      <td>[39.0, 6299.0, 7.0, 634228.0, 2.0, 35355.0, 34...</td>\n",
       "      <td>2</td>\n",
       "    </tr>\n",
       "    <tr>\n",
       "      <th>1</th>\n",
       "      <td>1145</td>\n",
       "      <td>[1145.0, 79100.0, 26335.0, 1019.0, 279128.0, 8...</td>\n",
       "      <td>2</td>\n",
       "    </tr>\n",
       "    <tr>\n",
       "      <th>2</th>\n",
       "      <td>2933</td>\n",
       "      <td>[2933.0, 758198.0, 812240.0, 818431.0, 454842....</td>\n",
       "      <td>0</td>\n",
       "    </tr>\n",
       "    <tr>\n",
       "      <th>3</th>\n",
       "      <td>3898</td>\n",
       "      <td>[3898.0, 81880.0, 18105.0, 69122.0, 98612.0, 1...</td>\n",
       "      <td>0</td>\n",
       "    </tr>\n",
       "    <tr>\n",
       "      <th>4</th>\n",
       "      <td>4577</td>\n",
       "      <td>[4577.0, 916913.0, 393146.0, 693064.0, 87059.0...</td>\n",
       "      <td>1</td>\n",
       "    </tr>\n",
       "    <tr>\n",
       "      <th>...</th>\n",
       "      <td>...</td>\n",
       "      <td>...</td>\n",
       "      <td>...</td>\n",
       "    </tr>\n",
       "    <tr>\n",
       "      <th>764</th>\n",
       "      <td>1610641</td>\n",
       "      <td>[1610641.0, 1610109.0, 1485520.0, 1111907.0]</td>\n",
       "      <td>1</td>\n",
       "    </tr>\n",
       "    <tr>\n",
       "      <th>765</th>\n",
       "      <td>1612409</td>\n",
       "      <td>[1612409.0, 1094839.0, 1534189.0, 1352156.0, 1...</td>\n",
       "      <td>1</td>\n",
       "    </tr>\n",
       "    <tr>\n",
       "      <th>766</th>\n",
       "      <td>1612904</td>\n",
       "      <td>[1612904.0, 361222.0, 351.0, 79356.0]</td>\n",
       "      <td>0</td>\n",
       "    </tr>\n",
       "    <tr>\n",
       "      <th>767</th>\n",
       "      <td>1631649</td>\n",
       "      <td>[1631649.0, 456167.0, 337485.0, 1631689.0, 811...</td>\n",
       "      <td>1</td>\n",
       "    </tr>\n",
       "    <tr>\n",
       "      <th>768</th>\n",
       "      <td>1655329</td>\n",
       "      <td>[1655329.0, 285271.0, 899544.0, 1021599.0, 117...</td>\n",
       "      <td>1</td>\n",
       "    </tr>\n",
       "  </tbody>\n",
       "</table>\n",
       "<p>769 rows × 3 columns</p>\n",
       "</div>"
      ],
      "text/plain": [
       "     id_team_username                     id_members_at_shot_publication  \\\n",
       "0                  39  [39.0, 6299.0, 7.0, 634228.0, 2.0, 35355.0, 34...   \n",
       "1                1145  [1145.0, 79100.0, 26335.0, 1019.0, 279128.0, 8...   \n",
       "2                2933  [2933.0, 758198.0, 812240.0, 818431.0, 454842....   \n",
       "3                3898  [3898.0, 81880.0, 18105.0, 69122.0, 98612.0, 1...   \n",
       "4                4577  [4577.0, 916913.0, 393146.0, 693064.0, 87059.0...   \n",
       "..                ...                                                ...   \n",
       "764           1610641       [1610641.0, 1610109.0, 1485520.0, 1111907.0]   \n",
       "765           1612409  [1612409.0, 1094839.0, 1534189.0, 1352156.0, 1...   \n",
       "766           1612904              [1612904.0, 361222.0, 351.0, 79356.0]   \n",
       "767           1631649  [1631649.0, 456167.0, 337485.0, 1631689.0, 811...   \n",
       "768           1655329  [1655329.0, 285271.0, 899544.0, 1021599.0, 117...   \n",
       "\n",
       "     performance_encode  \n",
       "0                     2  \n",
       "1                     2  \n",
       "2                     0  \n",
       "3                     0  \n",
       "4                     1  \n",
       "..                  ...  \n",
       "764                   1  \n",
       "765                   1  \n",
       "766                   0  \n",
       "767                   1  \n",
       "768                   1  \n",
       "\n",
       "[769 rows x 3 columns]"
      ]
     },
     "execution_count": 66,
     "metadata": {},
     "output_type": "execute_result"
    }
   ],
   "source": [
    "summary_teams"
   ]
  },
  {
   "cell_type": "code",
   "execution_count": 67,
   "metadata": {},
   "outputs": [],
   "source": [
    "# Compute team composition in order to insert team information into node attributes table.\n",
    "composition = summary_teams.explode(\"id_members_at_shot_publication\")\n",
    "composition[\"id_members_at_shot_publication\"] = composition[\"id_members_at_shot_publication\"].astype(int)\n",
    "composition = composition.groupby(\"id_members_at_shot_publication\").apply(lambda x: list(x[\"id_team_username\"])).to_dict()"
   ]
  },
  {
   "cell_type": "code",
   "execution_count": 68,
   "metadata": {},
   "outputs": [
    {
     "data": {
      "text/html": [
       "<div>\n",
       "<style scoped>\n",
       "    .dataframe tbody tr th:only-of-type {\n",
       "        vertical-align: middle;\n",
       "    }\n",
       "\n",
       "    .dataframe tbody tr th {\n",
       "        vertical-align: top;\n",
       "    }\n",
       "\n",
       "    .dataframe thead th {\n",
       "        text-align: right;\n",
       "    }\n",
       "</style>\n",
       "<table border=\"1\" class=\"dataframe\">\n",
       "  <thead>\n",
       "    <tr style=\"text-align: right;\">\n",
       "      <th></th>\n",
       "      <th></th>\n",
       "      <th>n_likes_shot_received_before</th>\n",
       "      <th>n_shots_created_before</th>\n",
       "      <th>n_comments_created_before</th>\n",
       "      <th>n_comments_received_before</th>\n",
       "      <th>n_skills</th>\n",
       "      <th>n_teams_before</th>\n",
       "    </tr>\n",
       "    <tr>\n",
       "      <th>UserId</th>\n",
       "      <th>TeamId</th>\n",
       "      <th></th>\n",
       "      <th></th>\n",
       "      <th></th>\n",
       "      <th></th>\n",
       "      <th></th>\n",
       "      <th></th>\n",
       "    </tr>\n",
       "  </thead>\n",
       "  <tbody>\n",
       "    <tr>\n",
       "      <th>39</th>\n",
       "      <th>39</th>\n",
       "      <td>16722.0</td>\n",
       "      <td>74.0</td>\n",
       "      <td>2152.0</td>\n",
       "      <td>2152.0</td>\n",
       "      <td>5.0</td>\n",
       "      <td>0.0</td>\n",
       "    </tr>\n",
       "    <tr>\n",
       "      <th>6299</th>\n",
       "      <th>39</th>\n",
       "      <td>171.0</td>\n",
       "      <td>1.0</td>\n",
       "      <td>15.0</td>\n",
       "      <td>15.0</td>\n",
       "      <td>0.0</td>\n",
       "      <td>1.0</td>\n",
       "    </tr>\n",
       "    <tr>\n",
       "      <th>7</th>\n",
       "      <th>39</th>\n",
       "      <td>6661.0</td>\n",
       "      <td>244.0</td>\n",
       "      <td>741.0</td>\n",
       "      <td>741.0</td>\n",
       "      <td>11.0</td>\n",
       "      <td>2.0</td>\n",
       "    </tr>\n",
       "    <tr>\n",
       "      <th>634228</th>\n",
       "      <th>39</th>\n",
       "      <td>1068.0</td>\n",
       "      <td>2.0</td>\n",
       "      <td>238.0</td>\n",
       "      <td>238.0</td>\n",
       "      <td>4.0</td>\n",
       "      <td>1.0</td>\n",
       "    </tr>\n",
       "    <tr>\n",
       "      <th>2</th>\n",
       "      <th>39</th>\n",
       "      <td>1433.0</td>\n",
       "      <td>22.0</td>\n",
       "      <td>218.0</td>\n",
       "      <td>218.0</td>\n",
       "      <td>8.0</td>\n",
       "      <td>1.0</td>\n",
       "    </tr>\n",
       "    <tr>\n",
       "      <th>...</th>\n",
       "      <th>...</th>\n",
       "      <td>...</td>\n",
       "      <td>...</td>\n",
       "      <td>...</td>\n",
       "      <td>...</td>\n",
       "      <td>...</td>\n",
       "      <td>...</td>\n",
       "    </tr>\n",
       "    <tr>\n",
       "      <th>899544</th>\n",
       "      <th>1655329</th>\n",
       "      <td>208.0</td>\n",
       "      <td>6.0</td>\n",
       "      <td>56.0</td>\n",
       "      <td>56.0</td>\n",
       "      <td>7.0</td>\n",
       "      <td>0.0</td>\n",
       "    </tr>\n",
       "    <tr>\n",
       "      <th>1021599</th>\n",
       "      <th>1655329</th>\n",
       "      <td>78.0</td>\n",
       "      <td>2.0</td>\n",
       "      <td>4.0</td>\n",
       "      <td>4.0</td>\n",
       "      <td>2.0</td>\n",
       "      <td>0.0</td>\n",
       "    </tr>\n",
       "    <tr>\n",
       "      <th>117798</th>\n",
       "      <th>1655329</th>\n",
       "      <td>752.0</td>\n",
       "      <td>22.0</td>\n",
       "      <td>38.0</td>\n",
       "      <td>38.0</td>\n",
       "      <td>0.0</td>\n",
       "      <td>2.0</td>\n",
       "    </tr>\n",
       "    <tr>\n",
       "      <th>1437246</th>\n",
       "      <th>1655329</th>\n",
       "      <td>0.0</td>\n",
       "      <td>0.0</td>\n",
       "      <td>0.0</td>\n",
       "      <td>0.0</td>\n",
       "      <td>9.0</td>\n",
       "      <td>0.0</td>\n",
       "    </tr>\n",
       "    <tr>\n",
       "      <th>1596736</th>\n",
       "      <th>1655329</th>\n",
       "      <td>0.0</td>\n",
       "      <td>0.0</td>\n",
       "      <td>0.0</td>\n",
       "      <td>0.0</td>\n",
       "      <td>0.0</td>\n",
       "      <td>0.0</td>\n",
       "    </tr>\n",
       "  </tbody>\n",
       "</table>\n",
       "<p>5454 rows × 6 columns</p>\n",
       "</div>"
      ],
      "text/plain": [
       "                 n_likes_shot_received_before  n_shots_created_before  \\\n",
       "UserId  TeamId                                                          \n",
       "39      39                            16722.0                    74.0   \n",
       "6299    39                              171.0                     1.0   \n",
       "7       39                             6661.0                   244.0   \n",
       "634228  39                             1068.0                     2.0   \n",
       "2       39                             1433.0                    22.0   \n",
       "...                                       ...                     ...   \n",
       "899544  1655329                         208.0                     6.0   \n",
       "1021599 1655329                          78.0                     2.0   \n",
       "117798  1655329                         752.0                    22.0   \n",
       "1437246 1655329                           0.0                     0.0   \n",
       "1596736 1655329                           0.0                     0.0   \n",
       "\n",
       "                 n_comments_created_before  n_comments_received_before  \\\n",
       "UserId  TeamId                                                           \n",
       "39      39                          2152.0                      2152.0   \n",
       "6299    39                            15.0                        15.0   \n",
       "7       39                           741.0                       741.0   \n",
       "634228  39                           238.0                       238.0   \n",
       "2       39                           218.0                       218.0   \n",
       "...                                    ...                         ...   \n",
       "899544  1655329                       56.0                        56.0   \n",
       "1021599 1655329                        4.0                         4.0   \n",
       "117798  1655329                       38.0                        38.0   \n",
       "1437246 1655329                        0.0                         0.0   \n",
       "1596736 1655329                        0.0                         0.0   \n",
       "\n",
       "                 n_skills  n_teams_before  \n",
       "UserId  TeamId                             \n",
       "39      39            5.0             0.0  \n",
       "6299    39            0.0             1.0  \n",
       "7       39           11.0             2.0  \n",
       "634228  39            4.0             1.0  \n",
       "2       39            8.0             1.0  \n",
       "...                   ...             ...  \n",
       "899544  1655329       7.0             0.0  \n",
       "1021599 1655329       2.0             0.0  \n",
       "117798  1655329       0.0             2.0  \n",
       "1437246 1655329       9.0             0.0  \n",
       "1596736 1655329       0.0             0.0  \n",
       "\n",
       "[5454 rows x 6 columns]"
      ]
     },
     "execution_count": 68,
     "metadata": {},
     "output_type": "execute_result"
    }
   ],
   "source": [
    "# Add team information.\n",
    "nodes_attribute = nodes_attribute.join(pd.Series(composition, name = \"TeamId\"), how = \"left\").explode(\"TeamId\")\n",
    "nodes_attribute.set_index(\"TeamId\", append = True, inplace = True)\n",
    "nodes_attribute"
   ]
  },
  {
   "cell_type": "markdown",
   "metadata": {},
   "source": [
    "## Graph"
   ]
  },
  {
   "cell_type": "code",
   "execution_count": 69,
   "metadata": {},
   "outputs": [
    {
     "data": {
      "text/html": [
       "<div>\n",
       "<style scoped>\n",
       "    .dataframe tbody tr th:only-of-type {\n",
       "        vertical-align: middle;\n",
       "    }\n",
       "\n",
       "    .dataframe tbody tr th {\n",
       "        vertical-align: top;\n",
       "    }\n",
       "\n",
       "    .dataframe thead th {\n",
       "        text-align: right;\n",
       "    }\n",
       "</style>\n",
       "<table border=\"1\" class=\"dataframe\">\n",
       "  <thead>\n",
       "    <tr style=\"text-align: right;\">\n",
       "      <th></th>\n",
       "      <th>id_source</th>\n",
       "      <th>id_destination</th>\n",
       "    </tr>\n",
       "  </thead>\n",
       "  <tbody>\n",
       "    <tr>\n",
       "      <th>51</th>\n",
       "      <td>1009428</td>\n",
       "      <td>14275</td>\n",
       "    </tr>\n",
       "    <tr>\n",
       "      <th>52</th>\n",
       "      <td>1293188</td>\n",
       "      <td>14275</td>\n",
       "    </tr>\n",
       "    <tr>\n",
       "      <th>53</th>\n",
       "      <td>4478</td>\n",
       "      <td>14275</td>\n",
       "    </tr>\n",
       "    <tr>\n",
       "      <th>54</th>\n",
       "      <td>1652758</td>\n",
       "      <td>14275</td>\n",
       "    </tr>\n",
       "    <tr>\n",
       "      <th>55</th>\n",
       "      <td>1647122</td>\n",
       "      <td>14275</td>\n",
       "    </tr>\n",
       "  </tbody>\n",
       "</table>\n",
       "</div>"
      ],
      "text/plain": [
       "    id_source  id_destination\n",
       "51    1009428           14275\n",
       "52    1293188           14275\n",
       "53       4478           14275\n",
       "54    1652758           14275\n",
       "55    1647122           14275"
      ]
     },
     "execution_count": 69,
     "metadata": {},
     "output_type": "execute_result"
    }
   ],
   "source": [
    "# Keep connections util the end of the reference date.\n",
    "edges = followers[(followers[\"created_at_connection\"] <= pd.to_datetime(END_DATE))][[\"id_source\", \"id_destination\"]]\n",
    "edges.head()"
   ]
  },
  {
   "cell_type": "code",
   "execution_count": 70,
   "metadata": {},
   "outputs": [
    {
     "data": {
      "text/plain": [
       "18328589"
      ]
     },
     "execution_count": 70,
     "metadata": {},
     "output_type": "execute_result"
    }
   ],
   "source": [
    "len(edges)"
   ]
  },
  {
   "cell_type": "code",
   "execution_count": 71,
   "metadata": {},
   "outputs": [],
   "source": [
    "# Search for the edges that linked two users that are involved into teams.\n",
    "edges_teams_bool = edges[\"id_source\"].isin(user_teams) & edges[\"id_destination\"].isin(user_teams)"
   ]
  },
  {
   "cell_type": "code",
   "execution_count": 72,
   "metadata": {},
   "outputs": [
    {
     "data": {
      "text/html": [
       "<div>\n",
       "<style scoped>\n",
       "    .dataframe tbody tr th:only-of-type {\n",
       "        vertical-align: middle;\n",
       "    }\n",
       "\n",
       "    .dataframe tbody tr th {\n",
       "        vertical-align: top;\n",
       "    }\n",
       "\n",
       "    .dataframe thead th {\n",
       "        text-align: right;\n",
       "    }\n",
       "</style>\n",
       "<table border=\"1\" class=\"dataframe\">\n",
       "  <thead>\n",
       "    <tr style=\"text-align: right;\">\n",
       "      <th></th>\n",
       "      <th>id_source</th>\n",
       "      <th>id_destination</th>\n",
       "    </tr>\n",
       "  </thead>\n",
       "  <tbody>\n",
       "    <tr>\n",
       "      <th>53</th>\n",
       "      <td>4478</td>\n",
       "      <td>14275</td>\n",
       "    </tr>\n",
       "    <tr>\n",
       "      <th>62</th>\n",
       "      <td>339297</td>\n",
       "      <td>14275</td>\n",
       "    </tr>\n",
       "    <tr>\n",
       "      <th>80</th>\n",
       "      <td>25830</td>\n",
       "      <td>14275</td>\n",
       "    </tr>\n",
       "    <tr>\n",
       "      <th>94</th>\n",
       "      <td>244573</td>\n",
       "      <td>14275</td>\n",
       "    </tr>\n",
       "    <tr>\n",
       "      <th>101</th>\n",
       "      <td>312581</td>\n",
       "      <td>14275</td>\n",
       "    </tr>\n",
       "  </tbody>\n",
       "</table>\n",
       "</div>"
      ],
      "text/plain": [
       "     id_source  id_destination\n",
       "53        4478           14275\n",
       "62      339297           14275\n",
       "80       25830           14275\n",
       "94      244573           14275\n",
       "101     312581           14275"
      ]
     },
     "execution_count": 72,
     "metadata": {},
     "output_type": "execute_result"
    }
   ],
   "source": [
    "edges_teams = edges[edges_teams_bool]\n",
    "edges_teams.head()"
   ]
  },
  {
   "cell_type": "code",
   "execution_count": 73,
   "metadata": {},
   "outputs": [
    {
     "data": {
      "text/plain": [
       "304315"
      ]
     },
     "execution_count": 73,
     "metadata": {},
     "output_type": "execute_result"
    }
   ],
   "source": [
    "len(edges_teams)"
   ]
  },
  {
   "cell_type": "code",
   "execution_count": 74,
   "metadata": {},
   "outputs": [
    {
     "data": {
      "text/plain": [
       "32223"
      ]
     },
     "execution_count": 74,
     "metadata": {},
     "output_type": "execute_result"
    }
   ],
   "source": [
    "check_double_edge = edges_teams.apply(lambda x: str(sorted([x[\"id_source\"], x[\"id_destination\"]])), axis = 1)\n",
    "check_double_edge.duplicated().sum()"
   ]
  },
  {
   "cell_type": "code",
   "execution_count": 75,
   "metadata": {},
   "outputs": [
    {
     "data": {
      "text/html": [
       "<div>\n",
       "<style scoped>\n",
       "    .dataframe tbody tr th:only-of-type {\n",
       "        vertical-align: middle;\n",
       "    }\n",
       "\n",
       "    .dataframe tbody tr th {\n",
       "        vertical-align: top;\n",
       "    }\n",
       "\n",
       "    .dataframe thead th {\n",
       "        text-align: right;\n",
       "    }\n",
       "</style>\n",
       "<table border=\"1\" class=\"dataframe\">\n",
       "  <thead>\n",
       "    <tr style=\"text-align: right;\">\n",
       "      <th></th>\n",
       "      <th>id_source</th>\n",
       "      <th>id_destination</th>\n",
       "    </tr>\n",
       "  </thead>\n",
       "  <tbody>\n",
       "    <tr>\n",
       "      <th>5592</th>\n",
       "      <td>227911</td>\n",
       "      <td>194964</td>\n",
       "    </tr>\n",
       "    <tr>\n",
       "      <th>10146</th>\n",
       "      <td>194964</td>\n",
       "      <td>227911</td>\n",
       "    </tr>\n",
       "  </tbody>\n",
       "</table>\n",
       "</div>"
      ],
      "text/plain": [
       "       id_source  id_destination\n",
       "5592      227911          194964\n",
       "10146     194964          227911"
      ]
     },
     "execution_count": 75,
     "metadata": {},
     "output_type": "execute_result"
    }
   ],
   "source": [
    "# Example.\n",
    "src, dst = edges_teams.loc[check_double_edge.duplicated()[check_double_edge.duplicated()].index[0]]\n",
    "\n",
    "edges_teams[(edges_teams[\"id_source\"].isin([src, dst])) & (edges_teams[\"id_destination\"].isin([src, dst]))]"
   ]
  },
  {
   "cell_type": "code",
   "execution_count": 76,
   "metadata": {},
   "outputs": [],
   "source": [
    "e = edges_teams.apply(tuple, axis = 1)"
   ]
  },
  {
   "cell_type": "code",
   "execution_count": 77,
   "metadata": {},
   "outputs": [],
   "source": [
    "# Create networkx graph.\n",
    "G = nx.DiGraph()\n",
    "G.add_nodes_from(user_teams)\n",
    "G.add_edges_from(e.values) "
   ]
  },
  {
   "cell_type": "code",
   "execution_count": 78,
   "metadata": {},
   "outputs": [
    {
     "data": {
      "text/plain": [
       "5196"
      ]
     },
     "execution_count": 78,
     "metadata": {},
     "output_type": "execute_result"
    }
   ],
   "source": [
    "G.number_of_nodes()"
   ]
  },
  {
   "cell_type": "markdown",
   "metadata": {},
   "source": [
    "## Relabeling team ids"
   ]
  },
  {
   "cell_type": "code",
   "execution_count": 79,
   "metadata": {},
   "outputs": [],
   "source": [
    "# Create a new id for the team.\n",
    "summary_teams[\"team_recoded\"] = range(len(summary_teams))\n",
    "# Save mapping from old ids to new ids.\n",
    "mapping_teams = summary_teams[[\"id_team_username\", \"team_recoded\"]].set_index(\"id_team_username\")[\"team_recoded\"].to_dict()"
   ]
  },
  {
   "cell_type": "code",
   "execution_count": 80,
   "metadata": {},
   "outputs": [],
   "source": [
    "# Create dictionary information from new team_id to original name.\n",
    "teams_name = {v: id_to_name_teams[k] for k,v in mapping_teams.items()}\n",
    "# Relabel team ids into label dictionary.\n",
    "teams_label = {v: teams_label[k] for k,v in mapping_teams.items()}\n",
    "n_likes_teams = {v: n_likes_teams[k] for k,v in mapping_teams.items()}"
   ]
  },
  {
   "cell_type": "code",
   "execution_count": 81,
   "metadata": {},
   "outputs": [],
   "source": [
    "nodes_attribute.reset_index(inplace = True)\n",
    "nodes_attribute[\"TeamId\"] = nodes_attribute[\"TeamId\"].map(mapping_teams)\n",
    "\n",
    "# Construct the team composition: {node_id: [team_id]}.\n",
    "team_composition = nodes_attribute.groupby(\"UserId\", as_index = True).agg(teams = (\"TeamId\", lambda x: x.unique().tolist()))\n",
    "team_composition = team_composition[\"teams\"].to_dict()\n",
    "\n",
    "nodes_attribute.set_index([\"UserId\", \"TeamId\"], inplace = True)"
   ]
  },
  {
   "cell_type": "code",
   "execution_count": 82,
   "metadata": {},
   "outputs": [],
   "source": [
    "nx.set_node_attributes(G, team_composition, \"Team\")  "
   ]
  },
  {
   "cell_type": "markdown",
   "metadata": {},
   "source": [
    "## Relabeling node ids"
   ]
  },
  {
   "cell_type": "code",
   "execution_count": 83,
   "metadata": {},
   "outputs": [],
   "source": [
    "# Relabel nodes.\n",
    "G = nx.convert_node_labels_to_integers(G, first_label = 0, label_attribute = \"old_ids\")"
   ]
  },
  {
   "cell_type": "code",
   "execution_count": 84,
   "metadata": {},
   "outputs": [],
   "source": [
    "mapping_nodes = nx.get_node_attributes(G, \"old_ids\")"
   ]
  },
  {
   "cell_type": "code",
   "execution_count": 85,
   "metadata": {},
   "outputs": [],
   "source": [
    "def inverse_mapping(f):\n",
    "    return f.__class__(map(reversed, f.items()))"
   ]
  },
  {
   "cell_type": "code",
   "execution_count": 86,
   "metadata": {},
   "outputs": [],
   "source": [
    "# Mapping the node id into new ones.\n",
    "nodes_attribute.reset_index(inplace = True)\n",
    "nodes_attribute[\"UserId\"] = nodes_attribute[\"UserId\"].map(inverse_mapping(mapping_nodes))\n",
    "nodes_attribute.set_index([\"UserId\", \"TeamId\"], inplace = True)\n",
    "nodes_attribute.sort_index(inplace = True)\n",
    "nodes_attribute.index.names = [\"node\", \"team\"]"
   ]
  },
  {
   "cell_type": "code",
   "execution_count": 88,
   "metadata": {},
   "outputs": [],
   "source": [
    "# Get dictionary from new node id to original node name.\n",
    "nodes_name = {v: id_to_name_nodes[k] for k, v in inverse_mapping(mapping_nodes).items()}"
   ]
  },
  {
   "cell_type": "markdown",
   "metadata": {},
   "source": [
    "## Output data"
   ]
  },
  {
   "cell_type": "code",
   "execution_count": 89,
   "metadata": {},
   "outputs": [],
   "source": [
    "# Save Networkx graph.\n",
    "with open(\"./data/graph.pkl\", \"wb\") as f:\n",
    "    pickle.dump(nx.readwrite.json_graph.node_link_data(G), f)\n",
    "\n",
    "# Save teams label.\n",
    "with open(\"./data/teams_label.pkl\", \"wb\") as out:\n",
    "    pickle.dump(teams_label, out)\n",
    "    \n",
    "# Save node attributes.\n",
    "with open(\"./data/nodes_attribute.pkl\", \"wb\") as f:\n",
    "    pickle.dump(nodes_attribute, f)\n",
    "    \n",
    "# Save node names.\n",
    "with open(\"./data/nodes_name.pkl\", \"wb\") as out:\n",
    "    pickle.dump(nodes_name, out)\n",
    "    \n",
    "# Save node names.\n",
    "with open(\"./data/teams_name.pkl\", \"wb\") as out:\n",
    "    pickle.dump(teams_name, out)\n",
    "    \n",
    "# Save teams continuous label.\n",
    "with open(\"./data/teams_continuous_label.pkl\", \"wb\") as out:\n",
    "    pickle.dump(n_likes_teams, out)"
   ]
  }
 ],
 "metadata": {
  "kernelspec": {
   "display_name": "Python 3 (ipykernel)",
   "language": "python",
   "name": "python3"
  },
  "language_info": {
   "codemirror_mode": {
    "name": "ipython",
    "version": 3
   },
   "file_extension": ".py",
   "mimetype": "text/x-python",
   "name": "python",
   "nbconvert_exporter": "python",
   "pygments_lexer": "ipython3",
   "version": "3.9.13"
  }
 },
 "nbformat": 4,
 "nbformat_minor": 4
}
