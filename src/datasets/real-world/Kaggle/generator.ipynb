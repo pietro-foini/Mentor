{
 "cells": [
  {
   "cell_type": "code",
   "execution_count": 1,
   "metadata": {},
   "outputs": [],
   "source": [
    "import pickle\n",
    "from itertools import permutations\n",
    "\n",
    "import pandas as pd\n",
    "import numpy as np\n",
    "import networkx as nx\n",
    "from tqdm.notebook import tqdm\n",
    "import matplotlib.pyplot as plt\n",
    "from sklearn.preprocessing import MinMaxScaler"
   ]
  },
  {
   "cell_type": "code",
   "execution_count": 2,
   "metadata": {},
   "outputs": [],
   "source": [
    "# Define path to folder with Kaggle files.\n",
    "PATH_TO_DATASET = \"./download\""
   ]
  },
  {
   "cell_type": "markdown",
   "metadata": {},
   "source": [
    "# Kaggle\n",
    "\n",
    "Before you participate in the Kaggle competitions, it is great to be informed about its [ranking system](https://www.kaggle.com/progression). This system is pretty straightforward as it is intended to track the growth of the users on this platform. On your journey to the top, you will learn a lot, earn medals, make new friends and form teams. As you progress you will compete in live challenges and engage in discussion boards for real-world problems. There are certain competitions and company projects restricted for “Kaggle Masters” only; you need to unlock that level to witness another world of data science and machine learning work and glory.\n",
    "\n",
    "Let’s start by looking at the categories that are based on your expertise and interests.\n",
    "\n",
    "The progression system on Kaggle is specifically designed to cater for different levels of expertise. There are four main **categories** – *Competitions*, *Notebooks*, *Datasets*, and *Discussion* with their own rules of progression and rewards. Advancing from one performance tier to another is all up to you. You need to ascertain the level of expertise and the kind of data that you can handle with confidence as you move along."
   ]
  },
  {
   "cell_type": "markdown",
   "metadata": {},
   "source": [
    "## Users"
   ]
  },
  {
   "cell_type": "code",
   "execution_count": 3,
   "metadata": {},
   "outputs": [
    {
     "data": {
      "text/html": [
       "<div>\n",
       "<style scoped>\n",
       "    .dataframe tbody tr th:only-of-type {\n",
       "        vertical-align: middle;\n",
       "    }\n",
       "\n",
       "    .dataframe tbody tr th {\n",
       "        vertical-align: top;\n",
       "    }\n",
       "\n",
       "    .dataframe thead th {\n",
       "        text-align: right;\n",
       "    }\n",
       "</style>\n",
       "<table border=\"1\" class=\"dataframe\">\n",
       "  <thead>\n",
       "    <tr style=\"text-align: right;\">\n",
       "      <th></th>\n",
       "      <th>Id</th>\n",
       "      <th>UserName</th>\n",
       "      <th>DisplayName</th>\n",
       "      <th>RegisterDate</th>\n",
       "      <th>PerformanceTier</th>\n",
       "    </tr>\n",
       "  </thead>\n",
       "  <tbody>\n",
       "    <tr>\n",
       "      <th>0</th>\n",
       "      <td>1</td>\n",
       "      <td>kaggleteam</td>\n",
       "      <td>Kaggle Team</td>\n",
       "      <td>03/24/2011</td>\n",
       "      <td>5</td>\n",
       "    </tr>\n",
       "    <tr>\n",
       "      <th>1</th>\n",
       "      <td>368</td>\n",
       "      <td>antgoldbloom</td>\n",
       "      <td>Anthony Goldbloom</td>\n",
       "      <td>01/20/2010</td>\n",
       "      <td>5</td>\n",
       "    </tr>\n",
       "    <tr>\n",
       "      <th>2</th>\n",
       "      <td>381</td>\n",
       "      <td>iguyon</td>\n",
       "      <td>Isabelle</td>\n",
       "      <td>01/29/2010</td>\n",
       "      <td>2</td>\n",
       "    </tr>\n",
       "    <tr>\n",
       "      <th>3</th>\n",
       "      <td>383</td>\n",
       "      <td>davidstephan</td>\n",
       "      <td>David Stephan</td>\n",
       "      <td>02/01/2010</td>\n",
       "      <td>0</td>\n",
       "    </tr>\n",
       "    <tr>\n",
       "      <th>4</th>\n",
       "      <td>384</td>\n",
       "      <td>gabewarren</td>\n",
       "      <td>Gabe Warren</td>\n",
       "      <td>02/02/2010</td>\n",
       "      <td>0</td>\n",
       "    </tr>\n",
       "  </tbody>\n",
       "</table>\n",
       "</div>"
      ],
      "text/plain": [
       "    Id      UserName        DisplayName RegisterDate  PerformanceTier\n",
       "0    1    kaggleteam        Kaggle Team   03/24/2011                5\n",
       "1  368  antgoldbloom  Anthony Goldbloom   01/20/2010                5\n",
       "2  381        iguyon           Isabelle   01/29/2010                2\n",
       "3  383  davidstephan      David Stephan   02/01/2010                0\n",
       "4  384    gabewarren        Gabe Warren   02/02/2010                0"
      ]
     },
     "execution_count": 3,
     "metadata": {},
     "output_type": "execute_result"
    }
   ],
   "source": [
    "# Load users information.\n",
    "users = pd.read_csv(f\"{PATH_TO_DATASET}/Users.csv\")\n",
    "users.head()"
   ]
  },
  {
   "cell_type": "code",
   "execution_count": 4,
   "metadata": {},
   "outputs": [
    {
     "data": {
      "text/plain": [
       "7173429"
      ]
     },
     "execution_count": 4,
     "metadata": {},
     "output_type": "execute_result"
    }
   ],
   "source": [
    "len(users)"
   ]
  },
  {
   "cell_type": "code",
   "execution_count": 5,
   "metadata": {},
   "outputs": [
    {
     "data": {
      "text/plain": [
       "True"
      ]
     },
     "execution_count": 5,
     "metadata": {},
     "output_type": "execute_result"
    }
   ],
   "source": [
    "users[\"Id\"].is_unique"
   ]
  },
  {
   "cell_type": "code",
   "execution_count": 6,
   "metadata": {},
   "outputs": [
    {
     "data": {
      "text/plain": [
       "True"
      ]
     },
     "execution_count": 6,
     "metadata": {},
     "output_type": "execute_result"
    }
   ],
   "source": [
    "users[\"UserName\"].is_unique"
   ]
  },
  {
   "cell_type": "code",
   "execution_count": 7,
   "metadata": {},
   "outputs": [
    {
     "data": {
      "text/plain": [
       "False"
      ]
     },
     "execution_count": 7,
     "metadata": {},
     "output_type": "execute_result"
    }
   ],
   "source": [
    "users[\"DisplayName\"].is_unique"
   ]
  },
  {
   "cell_type": "code",
   "execution_count": 8,
   "metadata": {},
   "outputs": [
    {
     "data": {
      "text/plain": [
       "Id                   0\n",
       "UserName             1\n",
       "DisplayName        281\n",
       "RegisterDate         0\n",
       "PerformanceTier      0\n",
       "dtype: int64"
      ]
     },
     "execution_count": 8,
     "metadata": {},
     "output_type": "execute_result"
    }
   ],
   "source": [
    "users.isna().sum()"
   ]
  },
  {
   "cell_type": "markdown",
   "metadata": {},
   "source": [
    "### Keys description\n",
    "\n",
    "- **Id**: the id of the user (UserId);\n",
    "- **UserName**: the username of the user (for the login);\n",
    "- **DisplayName**: the display name is the name visible to other members on the forum. It can be different from the username which is used at login. More users can have the same *DisplayName*;\n",
    "- **RegisterDate**: the date of the user's registration;\n",
    "- **PerformanceTier**: there are five performance tiers that can be achieved in accordance with the quality and quantity of work you produce: Novice (0), Contributor (1), Expert (2), Master (3), and Grandmaster (4) ((5) if the user belongs to Kaggle staff). It is possible to rank differently in each category such as a Discussions Master, a Notebooks Novice, and a Competitions Contributor. The highest tier that you achieve in any category is what will be reflected on your Kaggle profile just under your avatar/picture. So how are tiers awarded to a contributor? Pretty simple it depends on the number of medals that a contributor earns in that category. The *PerformanceTier* of this dataset reflect the maximum tier among the categories that the users have (or if Kaggle staff).\n",
    "\n",
    "<div align=\"center\">\n",
    "<img src=\"profile.png\" width=\"500\">\n",
    "</div>"
   ]
  },
  {
   "cell_type": "code",
   "execution_count": 9,
   "metadata": {},
   "outputs": [
    {
     "data": {
      "text/plain": [
       "array([5, 2, 0, 1, 3, 4], dtype=int64)"
      ]
     },
     "execution_count": 9,
     "metadata": {},
     "output_type": "execute_result"
    }
   ],
   "source": [
    "users[\"PerformanceTier\"].unique()"
   ]
  },
  {
   "cell_type": "code",
   "execution_count": 10,
   "metadata": {},
   "outputs": [],
   "source": [
    "# Convert datetime column to appropriate type.\n",
    "users[\"RegisterDate\"] = pd.to_datetime(users[\"RegisterDate\"])\n",
    "# Not consider 'UserName' column.\n",
    "users.drop(\"UserName\", axis = 1, inplace = True)"
   ]
  },
  {
   "cell_type": "code",
   "execution_count": 11,
   "metadata": {},
   "outputs": [],
   "source": [
    "# Rename Id column.\n",
    "users.rename({\"Id\": \"UserId\"}, axis = 1, inplace = True)"
   ]
  },
  {
   "cell_type": "markdown",
   "metadata": {},
   "source": [
    "#### Preprocessing"
   ]
  },
  {
   "cell_type": "code",
   "execution_count": 12,
   "metadata": {},
   "outputs": [],
   "source": [
    "# The 'UserName' or 'DisplayName' equal to NaN could be users that kept 'NaN' name.\n",
    "# In order to avoid confusion, we don't consider these users.\n",
    "users.dropna(inplace = True)"
   ]
  },
  {
   "cell_type": "code",
   "execution_count": 13,
   "metadata": {},
   "outputs": [],
   "source": [
    "# Create dictionary {node_id: \"name\"}.\n",
    "id_to_name_nodes = users[[\"UserId\", \"DisplayName\"]].set_index(\"UserId\")[\"DisplayName\"].to_dict()"
   ]
  },
  {
   "cell_type": "markdown",
   "metadata": {},
   "source": [
    "## Teams"
   ]
  },
  {
   "cell_type": "code",
   "execution_count": 14,
   "metadata": {},
   "outputs": [
    {
     "data": {
      "text/html": [
       "<div>\n",
       "<style scoped>\n",
       "    .dataframe tbody tr th:only-of-type {\n",
       "        vertical-align: middle;\n",
       "    }\n",
       "\n",
       "    .dataframe tbody tr th {\n",
       "        vertical-align: top;\n",
       "    }\n",
       "\n",
       "    .dataframe thead th {\n",
       "        text-align: right;\n",
       "    }\n",
       "</style>\n",
       "<table border=\"1\" class=\"dataframe\">\n",
       "  <thead>\n",
       "    <tr style=\"text-align: right;\">\n",
       "      <th></th>\n",
       "      <th>Id</th>\n",
       "      <th>CompetitionId</th>\n",
       "      <th>TeamLeaderId</th>\n",
       "      <th>TeamName</th>\n",
       "      <th>ScoreFirstSubmittedDate</th>\n",
       "      <th>LastSubmissionDate</th>\n",
       "      <th>PublicLeaderboardSubmissionId</th>\n",
       "      <th>PrivateLeaderboardSubmissionId</th>\n",
       "      <th>IsBenchmark</th>\n",
       "      <th>Medal</th>\n",
       "      <th>MedalAwardDate</th>\n",
       "      <th>PublicLeaderboardRank</th>\n",
       "      <th>PrivateLeaderboardRank</th>\n",
       "    </tr>\n",
       "  </thead>\n",
       "  <tbody>\n",
       "    <tr>\n",
       "      <th>0</th>\n",
       "      <td>496</td>\n",
       "      <td>2435</td>\n",
       "      <td>647.0</td>\n",
       "      <td>team1</td>\n",
       "      <td>05/04/2010</td>\n",
       "      <td>05/04/2010</td>\n",
       "      <td>2192.0</td>\n",
       "      <td>2192.0</td>\n",
       "      <td>False</td>\n",
       "      <td>NaN</td>\n",
       "      <td>09/06/2018</td>\n",
       "      <td>59.0</td>\n",
       "      <td>83.0</td>\n",
       "    </tr>\n",
       "    <tr>\n",
       "      <th>1</th>\n",
       "      <td>497</td>\n",
       "      <td>2435</td>\n",
       "      <td>619.0</td>\n",
       "      <td>jonp</td>\n",
       "      <td>04/30/2010</td>\n",
       "      <td>04/30/2010</td>\n",
       "      <td>2182.0</td>\n",
       "      <td>2182.0</td>\n",
       "      <td>False</td>\n",
       "      <td>3.0</td>\n",
       "      <td>07/15/2016</td>\n",
       "      <td>41.0</td>\n",
       "      <td>25.0</td>\n",
       "    </tr>\n",
       "    <tr>\n",
       "      <th>2</th>\n",
       "      <td>499</td>\n",
       "      <td>2435</td>\n",
       "      <td>663.0</td>\n",
       "      <td>Bwaas</td>\n",
       "      <td>05/01/2010</td>\n",
       "      <td>05/01/2010</td>\n",
       "      <td>2184.0</td>\n",
       "      <td>2184.0</td>\n",
       "      <td>False</td>\n",
       "      <td>NaN</td>\n",
       "      <td>09/06/2018</td>\n",
       "      <td>102.0</td>\n",
       "      <td>100.0</td>\n",
       "    </tr>\n",
       "    <tr>\n",
       "      <th>3</th>\n",
       "      <td>500</td>\n",
       "      <td>2435</td>\n",
       "      <td>673.0</td>\n",
       "      <td>Thylacoleo</td>\n",
       "      <td>05/02/2010</td>\n",
       "      <td>07/10/2010</td>\n",
       "      <td>2187.0</td>\n",
       "      <td>2187.0</td>\n",
       "      <td>False</td>\n",
       "      <td>3.0</td>\n",
       "      <td>07/15/2016</td>\n",
       "      <td>31.0</td>\n",
       "      <td>23.0</td>\n",
       "    </tr>\n",
       "    <tr>\n",
       "      <th>4</th>\n",
       "      <td>501</td>\n",
       "      <td>2435</td>\n",
       "      <td>435.0</td>\n",
       "      <td>pjonesdotcda</td>\n",
       "      <td>05/04/2010</td>\n",
       "      <td>05/05/2010</td>\n",
       "      <td>2194.0</td>\n",
       "      <td>2191.0</td>\n",
       "      <td>False</td>\n",
       "      <td>NaN</td>\n",
       "      <td>09/06/2018</td>\n",
       "      <td>67.0</td>\n",
       "      <td>80.0</td>\n",
       "    </tr>\n",
       "  </tbody>\n",
       "</table>\n",
       "</div>"
      ],
      "text/plain": [
       "    Id  CompetitionId  TeamLeaderId      TeamName ScoreFirstSubmittedDate  \\\n",
       "0  496           2435         647.0         team1              05/04/2010   \n",
       "1  497           2435         619.0          jonp              04/30/2010   \n",
       "2  499           2435         663.0         Bwaas              05/01/2010   \n",
       "3  500           2435         673.0    Thylacoleo              05/02/2010   \n",
       "4  501           2435         435.0  pjonesdotcda              05/04/2010   \n",
       "\n",
       "  LastSubmissionDate  PublicLeaderboardSubmissionId  \\\n",
       "0         05/04/2010                         2192.0   \n",
       "1         04/30/2010                         2182.0   \n",
       "2         05/01/2010                         2184.0   \n",
       "3         07/10/2010                         2187.0   \n",
       "4         05/05/2010                         2194.0   \n",
       "\n",
       "   PrivateLeaderboardSubmissionId  IsBenchmark  Medal MedalAwardDate  \\\n",
       "0                          2192.0        False    NaN     09/06/2018   \n",
       "1                          2182.0        False    3.0     07/15/2016   \n",
       "2                          2184.0        False    NaN     09/06/2018   \n",
       "3                          2187.0        False    3.0     07/15/2016   \n",
       "4                          2191.0        False    NaN     09/06/2018   \n",
       "\n",
       "   PublicLeaderboardRank  PrivateLeaderboardRank  \n",
       "0                   59.0                    83.0  \n",
       "1                   41.0                    25.0  \n",
       "2                  102.0                   100.0  \n",
       "3                   31.0                    23.0  \n",
       "4                   67.0                    80.0  "
      ]
     },
     "execution_count": 14,
     "metadata": {},
     "output_type": "execute_result"
    }
   ],
   "source": [
    "# Load teams information.\n",
    "teams = pd.read_csv(f\"{PATH_TO_DATASET}/Teams.csv\", low_memory = False)\n",
    "teams.head()"
   ]
  },
  {
   "cell_type": "code",
   "execution_count": 15,
   "metadata": {},
   "outputs": [
    {
     "data": {
      "text/plain": [
       "4215293"
      ]
     },
     "execution_count": 15,
     "metadata": {},
     "output_type": "execute_result"
    }
   ],
   "source": [
    "len(teams)"
   ]
  },
  {
   "cell_type": "code",
   "execution_count": 16,
   "metadata": {},
   "outputs": [
    {
     "data": {
      "text/plain": [
       "True"
      ]
     },
     "execution_count": 16,
     "metadata": {},
     "output_type": "execute_result"
    }
   ],
   "source": [
    "teams[\"Id\"].is_unique"
   ]
  },
  {
   "cell_type": "code",
   "execution_count": 17,
   "metadata": {},
   "outputs": [
    {
     "data": {
      "text/plain": [
       "Id                                      0\n",
       "CompetitionId                           0\n",
       "TeamLeaderId                        22789\n",
       "TeamName                              513\n",
       "ScoreFirstSubmittedDate           3980503\n",
       "LastSubmissionDate                3694524\n",
       "PublicLeaderboardSubmissionId     3705374\n",
       "PrivateLeaderboardSubmissionId    3705374\n",
       "IsBenchmark                             0\n",
       "Medal                             4173428\n",
       "MedalAwardDate                    4153163\n",
       "PublicLeaderboardRank             3708162\n",
       "PrivateLeaderboardRank            3708162\n",
       "dtype: int64"
      ]
     },
     "execution_count": 17,
     "metadata": {},
     "output_type": "execute_result"
    }
   ],
   "source": [
    "teams.isna().sum()"
   ]
  },
  {
   "cell_type": "code",
   "execution_count": 18,
   "metadata": {},
   "outputs": [
    {
     "data": {
      "text/plain": [
       "4227"
      ]
     },
     "execution_count": 18,
     "metadata": {},
     "output_type": "execute_result"
    }
   ],
   "source": [
    "# Number of unique competitions.\n",
    "teams[\"CompetitionId\"].nunique()"
   ]
  },
  {
   "cell_type": "markdown",
   "metadata": {},
   "source": [
    "### Keys description\n",
    "\n",
    "- **Id**: the id of the team (TeamId);\n",
    "- **CompetitionId**: the id of the Kaggle Competitions; the competitions are designed to provide challenges for competitors at all different stages of their machine learning careers. As a result, they are very diverse, with a range of broad types;\n",
    "- **TeamLeaderId**: the user leader Id of the team;\n",
    "- **TeamName**: the name of the team (display name);\n",
    "- **ScoreFirstSubmittedDate**: the date when the team submitted its first score for the the current competition;\n",
    "- **LastSubmissionDate**: the date when the team submitted its last score for the the current competition;\n",
    "- **PublicLeaderboardSubmissionId**: the id of the submission that it is used to get corresponding results into public leaderbord;\n",
    "- **PrivateLeaderboardSubmissionId**: the id of the submission that it is used to get corresponding results into private leaderbord;\n",
    "- **IsBenchmark**: \n",
    "- **Medal**: to earn a medal in the competition category, you need to get top competition results. How many medals a user is awarded depends on the size of a particular competition. Keep in mind that Getting Started competitions, Playground Competitions, and In-class Competitions do not earn any medals. You only earn medals in the competitions category through featured competitions. If a competition has up to 250 contestants, you need to rank in the top 40% to get a bronze ('3' label), top 20% to get a silver ('2' label) and top 10% for a gold ('1' label) medal. For competition with 250 to 500 contestants, you need to rank in the top hundred to get a bronze, top fifty for a silver model and top ten in addition to be in 0.2% for a gold medal. In a competition with more than 1,000 teams, you need to rank in the top 10% to get a bronze medal, top 5% for a silver model and top 10 in the leader-board (in addition to 0.2%) for a gold medal. The teams that not get any medal the label is 'nan'.\n",
    "- **MedalAwardDate**: the date when team earned the medal in the current competition;\n",
    "- **PublicLeaderboardRank**: for all participants, the same 50% of predictions from the test set are assigned to the public leaderboard. The score you see on the public leaderboard reflects your model’s accuracy on this portion of the test set. So, it is the rank computed using your performance on this set of data. In this case, the rank is meant as the position in the leaderbord, e.g. if the *PublicLeaderboardRank* of a team is 5, it's means that the team is the fifth in the leaderbord of the current competition.\n",
    "- **PrivateLeaderboardRank**: the other 50% (it depends by the competition) of predictions from the test set are assigned to the private leaderboard. The private leaderboard is not visible to participants until the competition has concluded. At the end of a competition, we will reveal the private leaderboard so you can see your score on the other 50% of the test data. The scores on the private leaderboard are used to determine the competition winners. So, it is the rank computed using your performance on this set of data."
   ]
  },
  {
   "cell_type": "code",
   "execution_count": 19,
   "metadata": {},
   "outputs": [],
   "source": [
    "# Rename Id columns\n",
    "teams.rename({\"Id\": \"TeamId\"}, axis = 1, inplace = True)"
   ]
  },
  {
   "cell_type": "code",
   "execution_count": 20,
   "metadata": {},
   "outputs": [],
   "source": [
    "# Keep only some columns.\n",
    "teams = teams[[\"TeamId\", \"CompetitionId\", \"TeamLeaderId\", \"TeamName\", \"Medal\", \"MedalAwardDate\", \"PrivateLeaderboardRank\"]]"
   ]
  },
  {
   "cell_type": "code",
   "execution_count": 21,
   "metadata": {},
   "outputs": [],
   "source": [
    "# Convert datetime column to appropriate type.\n",
    "teams[\"MedalAwardDate\"] = pd.to_datetime(teams[\"MedalAwardDate\"])"
   ]
  },
  {
   "cell_type": "code",
   "execution_count": 22,
   "metadata": {},
   "outputs": [
    {
     "data": {
      "text/plain": [
       "array([nan,  3.,  1.,  2.,  0.])"
      ]
     },
     "execution_count": 22,
     "metadata": {},
     "output_type": "execute_result"
    }
   ],
   "source": [
    "teams[\"Medal\"].unique()"
   ]
  },
  {
   "cell_type": "markdown",
   "metadata": {},
   "source": [
    "#### Preprocessing"
   ]
  },
  {
   "cell_type": "code",
   "execution_count": 23,
   "metadata": {},
   "outputs": [
    {
     "data": {
      "text/plain": [
       "24"
      ]
     },
     "execution_count": 23,
     "metadata": {},
     "output_type": "execute_result"
    }
   ],
   "source": [
    "# Check number of rows that have Medal 0 (what does it means 0 medal?).\n",
    "len(teams[teams[\"Medal\"] == 0])"
   ]
  },
  {
   "cell_type": "code",
   "execution_count": 24,
   "metadata": {},
   "outputs": [],
   "source": [
    "# Not consider rows where Medal is 0 for semplicity.\n",
    "teams = teams[~(teams[\"Medal\"] == 0)]"
   ]
  },
  {
   "cell_type": "code",
   "execution_count": 25,
   "metadata": {},
   "outputs": [],
   "source": [
    "# Create dictionary {team_id: \"name\"}.\n",
    "id_to_name_teams = teams[[\"TeamId\", \"TeamName\"]].set_index(\"TeamId\")[\"TeamName\"].to_dict()"
   ]
  },
  {
   "cell_type": "code",
   "execution_count": 26,
   "metadata": {},
   "outputs": [],
   "source": [
    "# Save a copy with which compute medals for competitions.\n",
    "teams_copy = teams.copy()"
   ]
  },
  {
   "cell_type": "markdown",
   "metadata": {},
   "source": [
    "N.B. The *TeamId* is different among the competitions: a team could have the same members into different competitions but it will have always a different *TeamId*."
   ]
  },
  {
   "cell_type": "markdown",
   "metadata": {},
   "source": [
    "## Competitions"
   ]
  },
  {
   "cell_type": "code",
   "execution_count": 27,
   "metadata": {},
   "outputs": [
    {
     "data": {
      "text/html": [
       "<div>\n",
       "<style scoped>\n",
       "    .dataframe tbody tr th:only-of-type {\n",
       "        vertical-align: middle;\n",
       "    }\n",
       "\n",
       "    .dataframe tbody tr th {\n",
       "        vertical-align: top;\n",
       "    }\n",
       "\n",
       "    .dataframe thead th {\n",
       "        text-align: right;\n",
       "    }\n",
       "</style>\n",
       "<table border=\"1\" class=\"dataframe\">\n",
       "  <thead>\n",
       "    <tr style=\"text-align: right;\">\n",
       "      <th></th>\n",
       "      <th>Id</th>\n",
       "      <th>Slug</th>\n",
       "      <th>Title</th>\n",
       "      <th>Subtitle</th>\n",
       "      <th>HostSegmentTitle</th>\n",
       "      <th>ForumId</th>\n",
       "      <th>OrganizationId</th>\n",
       "      <th>CompetitionTypeId</th>\n",
       "      <th>HostName</th>\n",
       "      <th>EnabledDate</th>\n",
       "      <th>...</th>\n",
       "      <th>EnableSubmissionModelHashes</th>\n",
       "      <th>EnableSubmissionModelAttachments</th>\n",
       "      <th>RewardType</th>\n",
       "      <th>RewardQuantity</th>\n",
       "      <th>NumPrizes</th>\n",
       "      <th>UserRankMultiplier</th>\n",
       "      <th>CanQualifyTiers</th>\n",
       "      <th>TotalTeams</th>\n",
       "      <th>TotalCompetitors</th>\n",
       "      <th>TotalSubmissions</th>\n",
       "    </tr>\n",
       "  </thead>\n",
       "  <tbody>\n",
       "    <tr>\n",
       "      <th>0</th>\n",
       "      <td>13979</td>\n",
       "      <td>testing-a-competition-with-no-data</td>\n",
       "      <td>Testing a competition with no data</td>\n",
       "      <td>Who needs data, not I</td>\n",
       "      <td>InClass</td>\n",
       "      <td>168327.0</td>\n",
       "      <td>NaN</td>\n",
       "      <td>1</td>\n",
       "      <td>NaN</td>\n",
       "      <td>04/05/2019 20:14:39</td>\n",
       "      <td>...</td>\n",
       "      <td>False</td>\n",
       "      <td>False</td>\n",
       "      <td>NaN</td>\n",
       "      <td>NaN</td>\n",
       "      <td>1</td>\n",
       "      <td>0.0</td>\n",
       "      <td>False</td>\n",
       "      <td>0</td>\n",
       "      <td>0</td>\n",
       "      <td>0</td>\n",
       "    </tr>\n",
       "    <tr>\n",
       "      <th>1</th>\n",
       "      <td>14595</td>\n",
       "      <td>ntut-dl-app-hw3</td>\n",
       "      <td>VizDoom Competition</td>\n",
       "      <td>Training an AI warrior!</td>\n",
       "      <td>InClass</td>\n",
       "      <td>205047.0</td>\n",
       "      <td>NaN</td>\n",
       "      <td>1</td>\n",
       "      <td>NaN</td>\n",
       "      <td>05/15/2019 14:10:27</td>\n",
       "      <td>...</td>\n",
       "      <td>False</td>\n",
       "      <td>False</td>\n",
       "      <td>NaN</td>\n",
       "      <td>NaN</td>\n",
       "      <td>1</td>\n",
       "      <td>0.0</td>\n",
       "      <td>False</td>\n",
       "      <td>57</td>\n",
       "      <td>57</td>\n",
       "      <td>117</td>\n",
       "    </tr>\n",
       "    <tr>\n",
       "      <th>2</th>\n",
       "      <td>16647</td>\n",
       "      <td>test-for-an-inclass-comp</td>\n",
       "      <td>Test for an inclass comp.</td>\n",
       "      <td>It is a test for inclass competition.</td>\n",
       "      <td>InClass</td>\n",
       "      <td>426342.0</td>\n",
       "      <td>NaN</td>\n",
       "      <td>1</td>\n",
       "      <td>NaN</td>\n",
       "      <td>11/13/2019 08:21:17</td>\n",
       "      <td>...</td>\n",
       "      <td>False</td>\n",
       "      <td>False</td>\n",
       "      <td>NaN</td>\n",
       "      <td>NaN</td>\n",
       "      <td>1</td>\n",
       "      <td>0.0</td>\n",
       "      <td>False</td>\n",
       "      <td>0</td>\n",
       "      <td>0</td>\n",
       "      <td>0</td>\n",
       "    </tr>\n",
       "    <tr>\n",
       "      <th>3</th>\n",
       "      <td>17859</td>\n",
       "      <td>108-1-dl-app-hw3</td>\n",
       "      <td>VizDoom Competition</td>\n",
       "      <td>NTUT Building Deep Learning Applications Homew...</td>\n",
       "      <td>InClass</td>\n",
       "      <td>451149.0</td>\n",
       "      <td>NaN</td>\n",
       "      <td>1</td>\n",
       "      <td>NaN</td>\n",
       "      <td>12/08/2019 05:57:10</td>\n",
       "      <td>...</td>\n",
       "      <td>False</td>\n",
       "      <td>False</td>\n",
       "      <td>NaN</td>\n",
       "      <td>NaN</td>\n",
       "      <td>1</td>\n",
       "      <td>0.0</td>\n",
       "      <td>False</td>\n",
       "      <td>84</td>\n",
       "      <td>84</td>\n",
       "      <td>170</td>\n",
       "    </tr>\n",
       "    <tr>\n",
       "      <th>4</th>\n",
       "      <td>2408</td>\n",
       "      <td>Eurovision2010</td>\n",
       "      <td>Forecast Eurovision Voting</td>\n",
       "      <td>This competition requires contestants to forec...</td>\n",
       "      <td>Featured</td>\n",
       "      <td>2.0</td>\n",
       "      <td>NaN</td>\n",
       "      <td>1</td>\n",
       "      <td>NaN</td>\n",
       "      <td>04/07/2010 07:57:43</td>\n",
       "      <td>...</td>\n",
       "      <td>False</td>\n",
       "      <td>False</td>\n",
       "      <td>USD</td>\n",
       "      <td>1000.0</td>\n",
       "      <td>1</td>\n",
       "      <td>1.0</td>\n",
       "      <td>False</td>\n",
       "      <td>22</td>\n",
       "      <td>25</td>\n",
       "      <td>22</td>\n",
       "    </tr>\n",
       "  </tbody>\n",
       "</table>\n",
       "<p>5 rows × 42 columns</p>\n",
       "</div>"
      ],
      "text/plain": [
       "      Id                                Slug  \\\n",
       "0  13979  testing-a-competition-with-no-data   \n",
       "1  14595                     ntut-dl-app-hw3   \n",
       "2  16647            test-for-an-inclass-comp   \n",
       "3  17859                    108-1-dl-app-hw3   \n",
       "4   2408                      Eurovision2010   \n",
       "\n",
       "                                Title  \\\n",
       "0  Testing a competition with no data   \n",
       "1                 VizDoom Competition   \n",
       "2           Test for an inclass comp.   \n",
       "3                 VizDoom Competition   \n",
       "4          Forecast Eurovision Voting   \n",
       "\n",
       "                                            Subtitle HostSegmentTitle  \\\n",
       "0                              Who needs data, not I          InClass   \n",
       "1                            Training an AI warrior!          InClass   \n",
       "2              It is a test for inclass competition.          InClass   \n",
       "3  NTUT Building Deep Learning Applications Homew...          InClass   \n",
       "4  This competition requires contestants to forec...         Featured   \n",
       "\n",
       "    ForumId  OrganizationId  CompetitionTypeId HostName          EnabledDate  \\\n",
       "0  168327.0             NaN                  1      NaN  04/05/2019 20:14:39   \n",
       "1  205047.0             NaN                  1      NaN  05/15/2019 14:10:27   \n",
       "2  426342.0             NaN                  1      NaN  11/13/2019 08:21:17   \n",
       "3  451149.0             NaN                  1      NaN  12/08/2019 05:57:10   \n",
       "4       2.0             NaN                  1      NaN  04/07/2010 07:57:43   \n",
       "\n",
       "   ... EnableSubmissionModelHashes EnableSubmissionModelAttachments  \\\n",
       "0  ...                       False                            False   \n",
       "1  ...                       False                            False   \n",
       "2  ...                       False                            False   \n",
       "3  ...                       False                            False   \n",
       "4  ...                       False                            False   \n",
       "\n",
       "  RewardType RewardQuantity NumPrizes  UserRankMultiplier  CanQualifyTiers  \\\n",
       "0        NaN            NaN         1                 0.0            False   \n",
       "1        NaN            NaN         1                 0.0            False   \n",
       "2        NaN            NaN         1                 0.0            False   \n",
       "3        NaN            NaN         1                 0.0            False   \n",
       "4        USD         1000.0         1                 1.0            False   \n",
       "\n",
       "   TotalTeams  TotalCompetitors  TotalSubmissions  \n",
       "0           0                 0                 0  \n",
       "1          57                57               117  \n",
       "2           0                 0                 0  \n",
       "3          84                84               170  \n",
       "4          22                25                22  \n",
       "\n",
       "[5 rows x 42 columns]"
      ]
     },
     "execution_count": 27,
     "metadata": {},
     "output_type": "execute_result"
    }
   ],
   "source": [
    "# Load competitions information.\n",
    "competitions = pd.read_csv(f\"{PATH_TO_DATASET}/Competitions.csv\")\n",
    "competitions.head()"
   ]
  },
  {
   "cell_type": "code",
   "execution_count": 28,
   "metadata": {},
   "outputs": [
    {
     "data": {
      "text/plain": [
       "4220"
      ]
     },
     "execution_count": 28,
     "metadata": {},
     "output_type": "execute_result"
    }
   ],
   "source": [
    "len(competitions)"
   ]
  },
  {
   "cell_type": "code",
   "execution_count": 29,
   "metadata": {},
   "outputs": [
    {
     "data": {
      "text/plain": [
       "Index(['Id', 'Slug', 'Title', 'Subtitle', 'HostSegmentTitle', 'ForumId',\n",
       "       'OrganizationId', 'CompetitionTypeId', 'HostName', 'EnabledDate',\n",
       "       'DeadlineDate', 'ProhibitNewEntrantsDeadlineDate',\n",
       "       'TeamMergerDeadlineDate', 'TeamModelDeadlineDate',\n",
       "       'ModelSubmissionDeadlineDate', 'FinalLeaderboardHasBeenVerified',\n",
       "       'HasKernels', 'OnlyAllowKernelSubmissions', 'HasLeaderboard',\n",
       "       'LeaderboardPercentage', 'LeaderboardDisplayFormat',\n",
       "       'EvaluationAlgorithmAbbreviation', 'EvaluationAlgorithmName',\n",
       "       'EvaluationAlgorithmDescription', 'EvaluationAlgorithmIsMax',\n",
       "       'ValidationSetName', 'ValidationSetValue', 'MaxDailySubmissions',\n",
       "       'NumScoredSubmissions', 'MaxTeamSize', 'BanTeamMergers',\n",
       "       'EnableTeamModels', 'EnableSubmissionModelHashes',\n",
       "       'EnableSubmissionModelAttachments', 'RewardType', 'RewardQuantity',\n",
       "       'NumPrizes', 'UserRankMultiplier', 'CanQualifyTiers', 'TotalTeams',\n",
       "       'TotalCompetitors', 'TotalSubmissions'],\n",
       "      dtype='object')"
      ]
     },
     "execution_count": 29,
     "metadata": {},
     "output_type": "execute_result"
    }
   ],
   "source": [
    "competitions.columns"
   ]
  },
  {
   "cell_type": "code",
   "execution_count": 30,
   "metadata": {},
   "outputs": [
    {
     "data": {
      "text/plain": [
       "True"
      ]
     },
     "execution_count": 30,
     "metadata": {},
     "output_type": "execute_result"
    }
   ],
   "source": [
    "competitions[\"Id\"].is_unique"
   ]
  },
  {
   "cell_type": "markdown",
   "metadata": {},
   "source": [
    "### Keys description\n",
    "\n",
    "- **Id**: the id of the competition;\n",
    "- **Slug**: an abbreviation for the competition name;\n",
    "- **Title**: the title of the competition;\n",
    "- **TotalCompetitors**: the total number of teams that join on the current competition;\n",
    "- **TotalCompetitors**: the total members of the teams that join on the current competition;\n",
    "- **TotalSubmissions**: the total number of submissions (each team can upload a script/kernel (solution) multiple times (there exist some constraints)) among all the partecipants (teams)."
   ]
  },
  {
   "cell_type": "code",
   "execution_count": 31,
   "metadata": {},
   "outputs": [],
   "source": [
    "# Rename Id column.\n",
    "competitions.rename({\"Id\": \"CompetitionId\"}, axis = 1, inplace = True)"
   ]
  },
  {
   "cell_type": "code",
   "execution_count": 32,
   "metadata": {},
   "outputs": [],
   "source": [
    "# Keep only some columns.\n",
    "competitions = competitions[[\"CompetitionId\", \"Title\", \"HostSegmentTitle\", \"EnabledDate\", \"DeadlineDate\", \n",
    "                             \"TotalCompetitors\", \"TotalTeams\"]]"
   ]
  },
  {
   "cell_type": "code",
   "execution_count": 33,
   "metadata": {},
   "outputs": [],
   "source": [
    "# Convert datetime column to appropriate type.\n",
    "competitions[\"EnabledDate\"] = pd.to_datetime(competitions[\"EnabledDate\"])\n",
    "competitions[\"DeadlineDate\"] = pd.to_datetime(competitions[\"DeadlineDate\"])"
   ]
  },
  {
   "cell_type": "code",
   "execution_count": 34,
   "metadata": {},
   "outputs": [
    {
     "data": {
      "text/plain": [
       "CompetitionId       0\n",
       "Title               0\n",
       "HostSegmentTitle    0\n",
       "EnabledDate         0\n",
       "DeadlineDate        0\n",
       "TotalCompetitors    0\n",
       "TotalTeams          0\n",
       "dtype: int64"
      ]
     },
     "execution_count": 34,
     "metadata": {},
     "output_type": "execute_result"
    }
   ],
   "source": [
    "competitions.isna().sum()"
   ]
  },
  {
   "cell_type": "code",
   "execution_count": 35,
   "metadata": {},
   "outputs": [
    {
     "data": {
      "text/plain": [
       "HostSegmentTitle\n",
       "Featured            196\n",
       "GE Quests             5\n",
       "Getting Started       6\n",
       "InClass            3789\n",
       "Playground           77\n",
       "Prospect              7\n",
       "Recruitment          17\n",
       "Research            123\n",
       "Name: CompetitionId, dtype: int64"
      ]
     },
     "execution_count": 35,
     "metadata": {},
     "output_type": "execute_result"
    }
   ],
   "source": [
    "# Get type of competitions.\n",
    "competitions.groupby(\"HostSegmentTitle\")[\"CompetitionId\"].nunique()"
   ]
  },
  {
   "cell_type": "code",
   "execution_count": 36,
   "metadata": {},
   "outputs": [],
   "source": [
    "competitions_copy = competitions.copy()"
   ]
  },
  {
   "cell_type": "markdown",
   "metadata": {},
   "source": [
    "## TeamMemberships"
   ]
  },
  {
   "cell_type": "code",
   "execution_count": 37,
   "metadata": {},
   "outputs": [
    {
     "data": {
      "text/html": [
       "<div>\n",
       "<style scoped>\n",
       "    .dataframe tbody tr th:only-of-type {\n",
       "        vertical-align: middle;\n",
       "    }\n",
       "\n",
       "    .dataframe tbody tr th {\n",
       "        vertical-align: top;\n",
       "    }\n",
       "\n",
       "    .dataframe thead th {\n",
       "        text-align: right;\n",
       "    }\n",
       "</style>\n",
       "<table border=\"1\" class=\"dataframe\">\n",
       "  <thead>\n",
       "    <tr style=\"text-align: right;\">\n",
       "      <th></th>\n",
       "      <th>Id</th>\n",
       "      <th>TeamId</th>\n",
       "      <th>UserId</th>\n",
       "      <th>RequestDate</th>\n",
       "    </tr>\n",
       "  </thead>\n",
       "  <tbody>\n",
       "    <tr>\n",
       "      <th>0</th>\n",
       "      <td>16458</td>\n",
       "      <td>518</td>\n",
       "      <td>635</td>\n",
       "      <td>NaN</td>\n",
       "    </tr>\n",
       "    <tr>\n",
       "      <th>1</th>\n",
       "      <td>16464</td>\n",
       "      <td>526</td>\n",
       "      <td>839</td>\n",
       "      <td>NaN</td>\n",
       "    </tr>\n",
       "    <tr>\n",
       "      <th>2</th>\n",
       "      <td>16465</td>\n",
       "      <td>527</td>\n",
       "      <td>816</td>\n",
       "      <td>NaN</td>\n",
       "    </tr>\n",
       "    <tr>\n",
       "      <th>3</th>\n",
       "      <td>16466</td>\n",
       "      <td>528</td>\n",
       "      <td>778</td>\n",
       "      <td>NaN</td>\n",
       "    </tr>\n",
       "    <tr>\n",
       "      <th>4</th>\n",
       "      <td>16467</td>\n",
       "      <td>529</td>\n",
       "      <td>747</td>\n",
       "      <td>NaN</td>\n",
       "    </tr>\n",
       "  </tbody>\n",
       "</table>\n",
       "</div>"
      ],
      "text/plain": [
       "      Id  TeamId  UserId RequestDate\n",
       "0  16458     518     635         NaN\n",
       "1  16464     526     839         NaN\n",
       "2  16465     527     816         NaN\n",
       "3  16466     528     778         NaN\n",
       "4  16467     529     747         NaN"
      ]
     },
     "execution_count": 37,
     "metadata": {},
     "output_type": "execute_result"
    }
   ],
   "source": [
    "# Load team memberships information.\n",
    "teamMembers = pd.read_csv(f\"{PATH_TO_DATASET}/TeamMemberships.csv\")\n",
    "teamMembers.head()"
   ]
  },
  {
   "cell_type": "code",
   "execution_count": 38,
   "metadata": {},
   "outputs": [
    {
     "data": {
      "text/plain": [
       "4310234"
      ]
     },
     "execution_count": 38,
     "metadata": {},
     "output_type": "execute_result"
    }
   ],
   "source": [
    "len(teamMembers)"
   ]
  },
  {
   "cell_type": "code",
   "execution_count": 39,
   "metadata": {},
   "outputs": [
    {
     "data": {
      "text/plain": [
       "True"
      ]
     },
     "execution_count": 39,
     "metadata": {},
     "output_type": "execute_result"
    }
   ],
   "source": [
    "teamMembers[\"Id\"].is_unique"
   ]
  },
  {
   "cell_type": "code",
   "execution_count": 40,
   "metadata": {},
   "outputs": [
    {
     "data": {
      "text/plain": [
       "False"
      ]
     },
     "execution_count": 40,
     "metadata": {},
     "output_type": "execute_result"
    }
   ],
   "source": [
    "teamMembers[\"TeamId\"].is_unique"
   ]
  },
  {
   "cell_type": "code",
   "execution_count": 41,
   "metadata": {},
   "outputs": [
    {
     "data": {
      "text/plain": [
       "Id                0\n",
       "TeamId            0\n",
       "UserId            0\n",
       "RequestDate    7615\n",
       "dtype: int64"
      ]
     },
     "execution_count": 41,
     "metadata": {},
     "output_type": "execute_result"
    }
   ],
   "source": [
    "teamMembers.isna().sum()"
   ]
  },
  {
   "cell_type": "markdown",
   "metadata": {},
   "source": [
    "### Keys description\n",
    "\n",
    "- **Id**: an unique row identifier;\n",
    "- **TeamId**: the id of the team;\n",
    "- **UserId**: the id of the user;\n",
    "- **RequestDate**:"
   ]
  },
  {
   "cell_type": "code",
   "execution_count": 42,
   "metadata": {},
   "outputs": [],
   "source": [
    "# Delete 'Id' column.\n",
    "teamMembers.drop(\"Id\", axis = 1, inplace = True)\n",
    "# Not consider rows where we don't know the 'RequestDate'.\n",
    "teamMembers.dropna(inplace = True)"
   ]
  },
  {
   "cell_type": "code",
   "execution_count": 43,
   "metadata": {},
   "outputs": [],
   "source": [
    "# Convert datetime column to appropriate type.\n",
    "teamMembers[\"RequestDate\"] = pd.to_datetime(teamMembers[\"RequestDate\"])"
   ]
  },
  {
   "cell_type": "code",
   "execution_count": 44,
   "metadata": {},
   "outputs": [
    {
     "data": {
      "text/html": [
       "<div>\n",
       "<style scoped>\n",
       "    .dataframe tbody tr th:only-of-type {\n",
       "        vertical-align: middle;\n",
       "    }\n",
       "\n",
       "    .dataframe tbody tr th {\n",
       "        vertical-align: top;\n",
       "    }\n",
       "\n",
       "    .dataframe thead th {\n",
       "        text-align: right;\n",
       "    }\n",
       "</style>\n",
       "<table border=\"1\" class=\"dataframe\">\n",
       "  <thead>\n",
       "    <tr style=\"text-align: right;\">\n",
       "      <th></th>\n",
       "      <th>TeamId</th>\n",
       "      <th>UserId</th>\n",
       "      <th>RequestDate</th>\n",
       "    </tr>\n",
       "  </thead>\n",
       "  <tbody>\n",
       "    <tr>\n",
       "      <th>25</th>\n",
       "      <td>469024</td>\n",
       "      <td>200660</td>\n",
       "      <td>2017-02-06</td>\n",
       "    </tr>\n",
       "    <tr>\n",
       "      <th>26</th>\n",
       "      <td>494689</td>\n",
       "      <td>777876</td>\n",
       "      <td>2017-02-20</td>\n",
       "    </tr>\n",
       "    <tr>\n",
       "      <th>27</th>\n",
       "      <td>512626</td>\n",
       "      <td>937118</td>\n",
       "      <td>2017-03-01</td>\n",
       "    </tr>\n",
       "    <tr>\n",
       "      <th>28</th>\n",
       "      <td>515650</td>\n",
       "      <td>933895</td>\n",
       "      <td>2017-03-03</td>\n",
       "    </tr>\n",
       "    <tr>\n",
       "      <th>29</th>\n",
       "      <td>520368</td>\n",
       "      <td>915112</td>\n",
       "      <td>2017-03-06</td>\n",
       "    </tr>\n",
       "  </tbody>\n",
       "</table>\n",
       "</div>"
      ],
      "text/plain": [
       "    TeamId  UserId RequestDate\n",
       "25  469024  200660  2017-02-06\n",
       "26  494689  777876  2017-02-20\n",
       "27  512626  937118  2017-03-01\n",
       "28  515650  933895  2017-03-03\n",
       "29  520368  915112  2017-03-06"
      ]
     },
     "execution_count": 44,
     "metadata": {},
     "output_type": "execute_result"
    }
   ],
   "source": [
    "teamMembers.head()"
   ]
  },
  {
   "cell_type": "code",
   "execution_count": 45,
   "metadata": {},
   "outputs": [],
   "source": [
    "teamMembers_copy = teamMembers.copy()"
   ]
  },
  {
   "cell_type": "markdown",
   "metadata": {},
   "source": [
    "## Followers"
   ]
  },
  {
   "cell_type": "code",
   "execution_count": 46,
   "metadata": {},
   "outputs": [
    {
     "data": {
      "text/html": [
       "<div>\n",
       "<style scoped>\n",
       "    .dataframe tbody tr th:only-of-type {\n",
       "        vertical-align: middle;\n",
       "    }\n",
       "\n",
       "    .dataframe tbody tr th {\n",
       "        vertical-align: top;\n",
       "    }\n",
       "\n",
       "    .dataframe thead th {\n",
       "        text-align: right;\n",
       "    }\n",
       "</style>\n",
       "<table border=\"1\" class=\"dataframe\">\n",
       "  <thead>\n",
       "    <tr style=\"text-align: right;\">\n",
       "      <th></th>\n",
       "      <th>Id</th>\n",
       "      <th>UserId</th>\n",
       "      <th>FollowingUserId</th>\n",
       "      <th>CreationDate</th>\n",
       "    </tr>\n",
       "  </thead>\n",
       "  <tbody>\n",
       "    <tr>\n",
       "      <th>0</th>\n",
       "      <td>64</td>\n",
       "      <td>368</td>\n",
       "      <td>993</td>\n",
       "      <td>05/23/2017</td>\n",
       "    </tr>\n",
       "    <tr>\n",
       "      <th>1</th>\n",
       "      <td>122289</td>\n",
       "      <td>368</td>\n",
       "      <td>67483</td>\n",
       "      <td>08/07/2018</td>\n",
       "    </tr>\n",
       "    <tr>\n",
       "      <th>2</th>\n",
       "      <td>323230</td>\n",
       "      <td>368</td>\n",
       "      <td>1663522</td>\n",
       "      <td>09/18/2019</td>\n",
       "    </tr>\n",
       "    <tr>\n",
       "      <th>3</th>\n",
       "      <td>412502</td>\n",
       "      <td>368</td>\n",
       "      <td>1302389</td>\n",
       "      <td>03/08/2020</td>\n",
       "    </tr>\n",
       "    <tr>\n",
       "      <th>4</th>\n",
       "      <td>447841</td>\n",
       "      <td>368</td>\n",
       "      <td>391404</td>\n",
       "      <td>04/27/2020</td>\n",
       "    </tr>\n",
       "  </tbody>\n",
       "</table>\n",
       "</div>"
      ],
      "text/plain": [
       "       Id  UserId  FollowingUserId CreationDate\n",
       "0      64     368              993   05/23/2017\n",
       "1  122289     368            67483   08/07/2018\n",
       "2  323230     368          1663522   09/18/2019\n",
       "3  412502     368          1302389   03/08/2020\n",
       "4  447841     368           391404   04/27/2020"
      ]
     },
     "execution_count": 46,
     "metadata": {},
     "output_type": "execute_result"
    }
   ],
   "source": [
    "# Load followers information.\n",
    "followers = pd.read_csv(f\"{PATH_TO_DATASET}/UserFollowers.csv\")\n",
    "followers.head()"
   ]
  },
  {
   "cell_type": "code",
   "execution_count": 47,
   "metadata": {},
   "outputs": [
    {
     "data": {
      "text/plain": [
       "697766"
      ]
     },
     "execution_count": 47,
     "metadata": {},
     "output_type": "execute_result"
    }
   ],
   "source": [
    "len(followers)"
   ]
  },
  {
   "cell_type": "code",
   "execution_count": 48,
   "metadata": {},
   "outputs": [
    {
     "data": {
      "text/plain": [
       "Id                 0\n",
       "UserId             0\n",
       "FollowingUserId    0\n",
       "CreationDate       0\n",
       "dtype: int64"
      ]
     },
     "execution_count": 48,
     "metadata": {},
     "output_type": "execute_result"
    }
   ],
   "source": [
    "followers.isna().sum()"
   ]
  },
  {
   "cell_type": "markdown",
   "metadata": {},
   "source": [
    "### Keys description\n",
    "\n",
    "- **Id**: an unique row identifier;\n",
    "- **UserId**: the id of the user;\n",
    "- **FollowingUserId**: the user id that the current user follows;\n",
    "- **CreationDate**: date creation of the connection;"
   ]
  },
  {
   "cell_type": "code",
   "execution_count": 49,
   "metadata": {},
   "outputs": [],
   "source": [
    "# Delete 'Id' column.\n",
    "followers.drop(\"Id\", axis = 1, inplace = True)"
   ]
  },
  {
   "cell_type": "code",
   "execution_count": 50,
   "metadata": {},
   "outputs": [],
   "source": [
    "# Convert datetime column to appropriate type.\n",
    "followers[\"CreationDate\"] = pd.to_datetime(followers[\"CreationDate\"])\n",
    "# Rename columns connections: ID1 -> ID2.\n",
    "followers.rename({\"UserId\": \"ID1\", \"FollowingUserId\": \"ID2\"}, axis = 1, inplace = True)"
   ]
  },
  {
   "cell_type": "code",
   "execution_count": 51,
   "metadata": {},
   "outputs": [
    {
     "data": {
      "text/html": [
       "<div>\n",
       "<style scoped>\n",
       "    .dataframe tbody tr th:only-of-type {\n",
       "        vertical-align: middle;\n",
       "    }\n",
       "\n",
       "    .dataframe tbody tr th {\n",
       "        vertical-align: top;\n",
       "    }\n",
       "\n",
       "    .dataframe thead th {\n",
       "        text-align: right;\n",
       "    }\n",
       "</style>\n",
       "<table border=\"1\" class=\"dataframe\">\n",
       "  <thead>\n",
       "    <tr style=\"text-align: right;\">\n",
       "      <th></th>\n",
       "      <th>ID1</th>\n",
       "      <th>ID2</th>\n",
       "      <th>CreationDate</th>\n",
       "    </tr>\n",
       "  </thead>\n",
       "  <tbody>\n",
       "    <tr>\n",
       "      <th>0</th>\n",
       "      <td>368</td>\n",
       "      <td>993</td>\n",
       "      <td>2017-05-23</td>\n",
       "    </tr>\n",
       "    <tr>\n",
       "      <th>1</th>\n",
       "      <td>368</td>\n",
       "      <td>67483</td>\n",
       "      <td>2018-08-07</td>\n",
       "    </tr>\n",
       "    <tr>\n",
       "      <th>2</th>\n",
       "      <td>368</td>\n",
       "      <td>1663522</td>\n",
       "      <td>2019-09-18</td>\n",
       "    </tr>\n",
       "    <tr>\n",
       "      <th>3</th>\n",
       "      <td>368</td>\n",
       "      <td>1302389</td>\n",
       "      <td>2020-03-08</td>\n",
       "    </tr>\n",
       "    <tr>\n",
       "      <th>4</th>\n",
       "      <td>368</td>\n",
       "      <td>391404</td>\n",
       "      <td>2020-04-27</td>\n",
       "    </tr>\n",
       "  </tbody>\n",
       "</table>\n",
       "</div>"
      ],
      "text/plain": [
       "   ID1      ID2 CreationDate\n",
       "0  368      993   2017-05-23\n",
       "1  368    67483   2018-08-07\n",
       "2  368  1663522   2019-09-18\n",
       "3  368  1302389   2020-03-08\n",
       "4  368   391404   2020-04-27"
      ]
     },
     "execution_count": 51,
     "metadata": {},
     "output_type": "execute_result"
    }
   ],
   "source": [
    "followers.head()"
   ]
  },
  {
   "cell_type": "markdown",
   "metadata": {},
   "source": [
    "# Kaggle preprocessing\n",
    "\n",
    "At first, we search the teams that partecipate at some competitions during a selected period. These teams will be considered *active* and we will create a label for each team. Each team partecipates to only a single competition: as said before, a team could have the same members into different competitions but it will have always a different TeamId. We fix this situation considering the teams with same partecipants to be the same team."
   ]
  },
  {
   "cell_type": "code",
   "execution_count": 52,
   "metadata": {},
   "outputs": [],
   "source": [
    "# Define the period into which we want to keep the competitions.\n",
    "START_DATE = \"2020-11-01\"\n",
    "END_DATE = \"2021-06-01\""
   ]
  },
  {
   "cell_type": "code",
   "execution_count": 53,
   "metadata": {},
   "outputs": [],
   "source": [
    "# Keep only teams that have a value into the 'PrivateLeaderboardRank'.\n",
    "teams = teams[teams[\"PrivateLeaderboardRank\"].notnull()]"
   ]
  },
  {
   "cell_type": "code",
   "execution_count": 54,
   "metadata": {},
   "outputs": [],
   "source": [
    "# Normalization private ranking position based on competition.\n",
    "def norm(x):\n",
    "    return 1 - MinMaxScaler().fit_transform(x.values.reshape(-1, 1)).ravel()\n",
    "\n",
    "teams[\"PrivateLeaderboardRankNormalized\"] = teams.groupby(\"CompetitionId\")[\"PrivateLeaderboardRank\"].transform(norm)"
   ]
  },
  {
   "cell_type": "code",
   "execution_count": 55,
   "metadata": {},
   "outputs": [],
   "source": [
    "# Keep only teams with all members into 'users' table (probably deleted users if not appear).\n",
    "teams_with_some_deleted_members = teamMembers[~(teamMembers[\"UserId\"].isin(users[\"UserId\"]))][\"TeamId\"].unique()\n",
    "teams = teams[~(teams[\"TeamId\"].isin(teams_with_some_deleted_members))]"
   ]
  },
  {
   "cell_type": "code",
   "execution_count": 56,
   "metadata": {},
   "outputs": [],
   "source": [
    "# Keep only some types of competitions (the competitions where the medals can be earned by teams).\n",
    "#competitions = competitions[competitions[\"HostSegmentTitle\"].isin([\"Featured\", \"Research\"])]\n",
    "# Keep competitions between the selected period.\n",
    "competitions = competitions[(competitions[\"EnabledDate\"] >= pd.to_datetime(START_DATE)) &\n",
    "                            (competitions[\"DeadlineDate\"] < pd.to_datetime(END_DATE))]\n",
    "# Keep competitions with a number of competitors greater than 1000.\n",
    "#competitions = competitions[(competitions[\"TotalCompetitors\"] >= 1000)]"
   ]
  },
  {
   "cell_type": "code",
   "execution_count": 57,
   "metadata": {},
   "outputs": [],
   "source": [
    "# Get teams that partecipate into the selected competitions.\n",
    "teams = teams[teams[\"CompetitionId\"].isin(competitions[\"CompetitionId\"])]\n",
    "teamMembers = teamMembers[teamMembers[\"TeamId\"].isin(teams[\"TeamId\"])]"
   ]
  },
  {
   "cell_type": "code",
   "execution_count": 58,
   "metadata": {},
   "outputs": [
    {
     "data": {
      "text/plain": [
       "UserId\n",
       "1    51618\n",
       "2     2466\n",
       "3     1139\n",
       "4      681\n",
       "5      377\n",
       "7       15\n",
       "6        6\n",
       "8        2\n",
       "Name: count, dtype: int64"
      ]
     },
     "execution_count": 58,
     "metadata": {},
     "output_type": "execute_result"
    }
   ],
   "source": [
    "# Compute team size (all the teams).\n",
    "team_size = teamMembers.groupby(\"TeamId\")[\"UserId\"].nunique()\n",
    "team_size.value_counts()"
   ]
  },
  {
   "cell_type": "code",
   "execution_count": 59,
   "metadata": {},
   "outputs": [],
   "source": [
    "# Consider only teams with size > 3.\n",
    "s = team_size > 3\n",
    "teams_greater = s[s].index\n",
    "\n",
    "teamMembers = teamMembers[teamMembers[\"TeamId\"].isin(teams_greater)]\n",
    "teams = teams[teams[\"TeamId\"].isin(teams_greater)]"
   ]
  },
  {
   "cell_type": "code",
   "execution_count": 60,
   "metadata": {},
   "outputs": [
    {
     "data": {
      "text/html": [
       "<div>\n",
       "<style scoped>\n",
       "    .dataframe tbody tr th:only-of-type {\n",
       "        vertical-align: middle;\n",
       "    }\n",
       "\n",
       "    .dataframe tbody tr th {\n",
       "        vertical-align: top;\n",
       "    }\n",
       "\n",
       "    .dataframe thead th {\n",
       "        text-align: right;\n",
       "    }\n",
       "</style>\n",
       "<table border=\"1\" class=\"dataframe\">\n",
       "  <thead>\n",
       "    <tr style=\"text-align: right;\">\n",
       "      <th></th>\n",
       "      <th>TeamId</th>\n",
       "      <th>Members</th>\n",
       "      <th>Size</th>\n",
       "    </tr>\n",
       "  </thead>\n",
       "  <tbody>\n",
       "    <tr>\n",
       "      <th>0</th>\n",
       "      <td>5770480</td>\n",
       "      <td>[373959, 2560033, 3198184, 4206802, 3885917]</td>\n",
       "      <td>5</td>\n",
       "    </tr>\n",
       "    <tr>\n",
       "      <th>1</th>\n",
       "      <td>5783778</td>\n",
       "      <td>[5906670, 5906569, 2547846, 5906677, 6125650]</td>\n",
       "      <td>5</td>\n",
       "    </tr>\n",
       "    <tr>\n",
       "      <th>2</th>\n",
       "      <td>5784465</td>\n",
       "      <td>[6108296, 5906554, 6108138, 6108278, 5959360]</td>\n",
       "      <td>5</td>\n",
       "    </tr>\n",
       "    <tr>\n",
       "      <th>3</th>\n",
       "      <td>5788349</td>\n",
       "      <td>[6113078, 937522, 6108981, 6113198]</td>\n",
       "      <td>4</td>\n",
       "    </tr>\n",
       "    <tr>\n",
       "      <th>4</th>\n",
       "      <td>5788464</td>\n",
       "      <td>[6113269, 6113145, 6113263, 301832, 6113308]</td>\n",
       "      <td>5</td>\n",
       "    </tr>\n",
       "  </tbody>\n",
       "</table>\n",
       "</div>"
      ],
      "text/plain": [
       "    TeamId                                        Members  Size\n",
       "0  5770480   [373959, 2560033, 3198184, 4206802, 3885917]     5\n",
       "1  5783778  [5906670, 5906569, 2547846, 5906677, 6125650]     5\n",
       "2  5784465  [6108296, 5906554, 6108138, 6108278, 5959360]     5\n",
       "3  5788349            [6113078, 937522, 6108981, 6113198]     4\n",
       "4  5788464   [6113269, 6113145, 6113263, 301832, 6113308]     5"
      ]
     },
     "execution_count": 60,
     "metadata": {},
     "output_type": "execute_result"
    }
   ],
   "source": [
    "# Get team composition and size.\n",
    "teamMembers = teamMembers.groupby(\"TeamId\", as_index = False).agg(Members = (\"UserId\", lambda x: x.unique().tolist()))\n",
    "teamMembers[\"Size\"] = teamMembers[\"Members\"].apply(len)\n",
    "teamMembers.head()"
   ]
  },
  {
   "cell_type": "code",
   "execution_count": 61,
   "metadata": {},
   "outputs": [],
   "source": [
    "# Group teams that have same components but resulting into different TeamId.\n",
    "teamMembers[\"Members_encoded\"] = teamMembers[\"Members\"].apply(lambda x: str(sorted(x)))\n",
    "teamMembers[\"Group\"] = teamMembers.groupby(\"Members_encoded\").ngroup()"
   ]
  },
  {
   "cell_type": "code",
   "execution_count": 62,
   "metadata": {},
   "outputs": [
    {
     "data": {
      "text/plain": [
       "TeamId\n",
       "1    966\n",
       "2     37\n",
       "3      5\n",
       "4      2\n",
       "5      1\n",
       "6      1\n",
       "7      1\n",
       "Name: count, dtype: int64"
      ]
     },
     "execution_count": 62,
     "metadata": {},
     "output_type": "execute_result"
    }
   ],
   "source": [
    "# Print the number of teams that partecipate to multiple competitions resulting into different TeamId.\n",
    "teamMembers.groupby(\"Group\")[\"TeamId\"].count().value_counts()"
   ]
  },
  {
   "cell_type": "code",
   "execution_count": 63,
   "metadata": {},
   "outputs": [],
   "source": [
    "# Keep one single team for those ones that have different TeamId (the first one groupping them).\n",
    "teamMembers[\"unique_TeamId\"] = teamMembers.groupby(\"Group\")[\"TeamId\"].transform(\"first\")"
   ]
  },
  {
   "cell_type": "code",
   "execution_count": 64,
   "metadata": {},
   "outputs": [],
   "source": [
    "# Create mapping to have unique teams.\n",
    "mapping_multiple_teams = teamMembers[[\"TeamId\", \"unique_TeamId\"]].set_index(\"TeamId\")[\"unique_TeamId\"].to_dict()"
   ]
  },
  {
   "cell_type": "code",
   "execution_count": 65,
   "metadata": {},
   "outputs": [],
   "source": [
    "# Keep unique teams.\n",
    "teams[\"unique_TeamId\"] = teams[\"TeamId\"].map(mapping_multiple_teams)\n",
    "teams = teams.groupby(\"unique_TeamId\", as_index = False).agg(PrivateLeaderboardRankNormalized = (\"PrivateLeaderboardRankNormalized\", \"mean\"))\n",
    "teamMembers = teamMembers[teamMembers[\"TeamId\"].isin(teamMembers[\"unique_TeamId\"].unique())]"
   ]
  },
  {
   "cell_type": "code",
   "execution_count": 66,
   "metadata": {},
   "outputs": [],
   "source": [
    "teamMembers = teamMembers[[\"TeamId\", \"Members\", \"Size\"]]\n",
    "teams.rename({\"unique_TeamId\": \"TeamId\"}, axis = 1, inplace = True)"
   ]
  },
  {
   "cell_type": "code",
   "execution_count": 67,
   "metadata": {},
   "outputs": [
    {
     "data": {
      "text/plain": [
       "1013"
      ]
     },
     "execution_count": 67,
     "metadata": {},
     "output_type": "execute_result"
    }
   ],
   "source": [
    "# Number of teams.\n",
    "selected_teams = teamMembers[\"TeamId\"].unique()\n",
    "len(selected_teams)"
   ]
  },
  {
   "cell_type": "code",
   "execution_count": 68,
   "metadata": {},
   "outputs": [
    {
     "data": {
      "text/plain": [
       "4183"
      ]
     },
     "execution_count": 68,
     "metadata": {},
     "output_type": "execute_result"
    }
   ],
   "source": [
    "# Number of members.\n",
    "selected_users = teamMembers[\"Members\"].explode().unique()\n",
    "len(selected_users)"
   ]
  },
  {
   "cell_type": "markdown",
   "metadata": {},
   "source": [
    "### Connections\n",
    "\n",
    "We decide to keep the connections until the end of the reference date."
   ]
  },
  {
   "cell_type": "code",
   "execution_count": 69,
   "metadata": {},
   "outputs": [],
   "source": [
    "# Keep connections created before reference date.\n",
    "followers = followers[followers[\"CreationDate\"] < pd.to_datetime(END_DATE)]"
   ]
  },
  {
   "cell_type": "code",
   "execution_count": 70,
   "metadata": {},
   "outputs": [],
   "source": [
    "# Check the connections that exist using the followers table.\n",
    "followers_selected = followers[followers[\"ID1\"].isin(selected_users) & followers[\"ID2\"].isin(selected_users)]\n",
    "followers_selected.reset_index(drop = True, inplace = True)"
   ]
  },
  {
   "cell_type": "code",
   "execution_count": 71,
   "metadata": {},
   "outputs": [
    {
     "data": {
      "text/plain": [
       "4063"
      ]
     },
     "execution_count": 71,
     "metadata": {},
     "output_type": "execute_result"
    }
   ],
   "source": [
    "len(followers_selected)"
   ]
  },
  {
   "cell_type": "code",
   "execution_count": 72,
   "metadata": {},
   "outputs": [],
   "source": [
    "# Check the number of edges inside the same team.\n",
    "edges_into_team = teamMembers.explode(\"Members\").groupby(\"TeamId\").apply(lambda x: len(followers_selected[followers_selected[\"ID1\"].isin(x[\"Members\"]) & followers_selected[\"ID2\"].isin(x[\"Members\"])]))"
   ]
  },
  {
   "cell_type": "code",
   "execution_count": 73,
   "metadata": {},
   "outputs": [
    {
     "data": {
      "image/png": "[encoded data removed]",
      "text/plain": [
       "<Figure size 400x300 with 1 Axes>"
      ]
     },
     "metadata": {},
     "output_type": "display_data"
    }
   ],
   "source": [
    "# Plot the histogram representing the connection inside the same team.\n",
    "fig, ax = plt.subplots(figsize = (4, 3))\n",
    "ax.hist(edges_into_team)\n",
    "ax.set_xlabel(\"N° edges\");"
   ]
  },
  {
   "cell_type": "markdown",
   "metadata": {},
   "source": [
    "## Label"
   ]
  },
  {
   "cell_type": "code",
   "execution_count": 74,
   "metadata": {},
   "outputs": [],
   "source": [
    "# Target making.\n",
    "teams[\"target_encode\"] = pd.qcut(teams[\"PrivateLeaderboardRankNormalized\"], 3, labels = False)"
   ]
  },
  {
   "cell_type": "code",
   "execution_count": 75,
   "metadata": {},
   "outputs": [],
   "source": [
    "privateLeaderboard_ranked = teams[[\"TeamId\", \"PrivateLeaderboardRankNormalized\"]].sort_values(by = \"PrivateLeaderboardRankNormalized\").set_index(\"TeamId\")[\"PrivateLeaderboardRankNormalized\"].to_dict()"
   ]
  },
  {
   "cell_type": "code",
   "execution_count": 76,
   "metadata": {},
   "outputs": [
    {
     "data": {
      "text/plain": [
       "target_encode\n",
       "2    0.333662\n",
       "0    0.333662\n",
       "1    0.332675\n",
       "Name: count, dtype: float64"
      ]
     },
     "execution_count": 76,
     "metadata": {},
     "output_type": "execute_result"
    }
   ],
   "source": [
    "teams[\"target_encode\"].value_counts() / len(teams)"
   ]
  },
  {
   "cell_type": "code",
   "execution_count": 77,
   "metadata": {},
   "outputs": [],
   "source": [
    "# Get label of the teams.\n",
    "teams_label = teams.set_index(\"TeamId\")[\"target_encode\"].to_dict()"
   ]
  },
  {
   "cell_type": "markdown",
   "metadata": {},
   "source": [
    "## Node attributes \n",
    "\n",
    "The attributes of the nodes are computed looking at the period before the reference `START_DATE`. It is not possible to keep the attributes of the nodes before the creation of the corresponding competition because many teams may have joined to more than one competition and therefore it would not be possible to obtain an univocal information."
   ]
  },
  {
   "cell_type": "code",
   "execution_count": 78,
   "metadata": {},
   "outputs": [
    {
     "data": {
      "text/html": [
       "<div>\n",
       "<style scoped>\n",
       "    .dataframe tbody tr th:only-of-type {\n",
       "        vertical-align: middle;\n",
       "    }\n",
       "\n",
       "    .dataframe tbody tr th {\n",
       "        vertical-align: top;\n",
       "    }\n",
       "\n",
       "    .dataframe thead th {\n",
       "        text-align: right;\n",
       "    }\n",
       "</style>\n",
       "<table border=\"1\" class=\"dataframe\">\n",
       "  <thead>\n",
       "    <tr style=\"text-align: right;\">\n",
       "      <th></th>\n",
       "      <th>TeamId</th>\n",
       "      <th>UserId</th>\n",
       "      <th>RequestDate</th>\n",
       "      <th>CompetitionId</th>\n",
       "      <th>TeamLeaderId</th>\n",
       "      <th>TeamName</th>\n",
       "      <th>Medal</th>\n",
       "      <th>MedalAwardDate</th>\n",
       "      <th>PrivateLeaderboardRank</th>\n",
       "    </tr>\n",
       "  </thead>\n",
       "  <tbody>\n",
       "    <tr>\n",
       "      <th>0</th>\n",
       "      <td>19825</td>\n",
       "      <td>48625</td>\n",
       "      <td>2012-07-05</td>\n",
       "      <td>2496.0</td>\n",
       "      <td>48625.0</td>\n",
       "      <td>mlandry</td>\n",
       "      <td>NaN</td>\n",
       "      <td>2018-09-05</td>\n",
       "      <td>191.0</td>\n",
       "    </tr>\n",
       "    <tr>\n",
       "      <th>1</th>\n",
       "      <td>6955</td>\n",
       "      <td>9938</td>\n",
       "      <td>2011-09-22</td>\n",
       "      <td>2551.0</td>\n",
       "      <td>9938.0</td>\n",
       "      <td>Winchester</td>\n",
       "      <td>NaN</td>\n",
       "      <td>2018-09-05</td>\n",
       "      <td>145.0</td>\n",
       "    </tr>\n",
       "    <tr>\n",
       "      <th>2</th>\n",
       "      <td>7632</td>\n",
       "      <td>18463</td>\n",
       "      <td>2011-10-11</td>\n",
       "      <td>2551.0</td>\n",
       "      <td>18463.0</td>\n",
       "      <td>msdw</td>\n",
       "      <td>NaN</td>\n",
       "      <td>2018-09-06</td>\n",
       "      <td>264.0</td>\n",
       "    </tr>\n",
       "    <tr>\n",
       "      <th>3</th>\n",
       "      <td>242018</td>\n",
       "      <td>471945</td>\n",
       "      <td>2015-11-22</td>\n",
       "      <td>2551.0</td>\n",
       "      <td>471945.0</td>\n",
       "      <td>AhmetErdem</td>\n",
       "      <td>NaN</td>\n",
       "      <td>NaT</td>\n",
       "      <td>NaN</td>\n",
       "    </tr>\n",
       "    <tr>\n",
       "      <th>4</th>\n",
       "      <td>624478</td>\n",
       "      <td>1035112</td>\n",
       "      <td>2017-04-21</td>\n",
       "      <td>2551.0</td>\n",
       "      <td>1035112.0</td>\n",
       "      <td>shichao</td>\n",
       "      <td>NaN</td>\n",
       "      <td>NaT</td>\n",
       "      <td>NaN</td>\n",
       "    </tr>\n",
       "  </tbody>\n",
       "</table>\n",
       "</div>"
      ],
      "text/plain": [
       "   TeamId   UserId RequestDate  CompetitionId  TeamLeaderId    TeamName  \\\n",
       "0   19825    48625  2012-07-05         2496.0       48625.0     mlandry   \n",
       "1    6955     9938  2011-09-22         2551.0        9938.0  Winchester   \n",
       "2    7632    18463  2011-10-11         2551.0       18463.0        msdw   \n",
       "3  242018   471945  2015-11-22         2551.0      471945.0  AhmetErdem   \n",
       "4  624478  1035112  2017-04-21         2551.0     1035112.0     shichao   \n",
       "\n",
       "   Medal MedalAwardDate  PrivateLeaderboardRank  \n",
       "0    NaN     2018-09-05                   191.0  \n",
       "1    NaN     2018-09-05                   145.0  \n",
       "2    NaN     2018-09-06                   264.0  \n",
       "3    NaN            NaT                     NaN  \n",
       "4    NaN            NaT                     NaN  "
      ]
     },
     "execution_count": 78,
     "metadata": {},
     "output_type": "execute_result"
    }
   ],
   "source": [
    "# Select all the teams where the selected users worked, works or will work.\n",
    "teams_of_selected_users = teamMembers_copy[teamMembers_copy[\"UserId\"].isin(selected_users)]\n",
    "teams_of_selected_users = pd.merge(teams_of_selected_users, teams_copy, on = \"TeamId\", how = \"left\")\n",
    "teams_of_selected_users.head()"
   ]
  },
  {
   "cell_type": "markdown",
   "metadata": {},
   "source": [
    "### Past number of competitions"
   ]
  },
  {
   "cell_type": "code",
   "execution_count": 79,
   "metadata": {},
   "outputs": [],
   "source": [
    "n_competitions = teams_of_selected_users.copy()\n",
    "n_competitions[\"mask\"] = n_competitions[\"RequestDate\"] < pd.to_datetime(START_DATE)"
   ]
  },
  {
   "cell_type": "code",
   "execution_count": 80,
   "metadata": {},
   "outputs": [
    {
     "data": {
      "text/html": [
       "<div>\n",
       "<style scoped>\n",
       "    .dataframe tbody tr th:only-of-type {\n",
       "        vertical-align: middle;\n",
       "    }\n",
       "\n",
       "    .dataframe tbody tr th {\n",
       "        vertical-align: top;\n",
       "    }\n",
       "\n",
       "    .dataframe thead th {\n",
       "        text-align: right;\n",
       "    }\n",
       "</style>\n",
       "<table border=\"1\" class=\"dataframe\">\n",
       "  <thead>\n",
       "    <tr style=\"text-align: right;\">\n",
       "      <th></th>\n",
       "      <th>n_competitions</th>\n",
       "    </tr>\n",
       "    <tr>\n",
       "      <th>UserId</th>\n",
       "      <th></th>\n",
       "    </tr>\n",
       "  </thead>\n",
       "  <tbody>\n",
       "    <tr>\n",
       "      <th>5309</th>\n",
       "      <td>292</td>\n",
       "    </tr>\n",
       "    <tr>\n",
       "      <th>8507</th>\n",
       "      <td>50</td>\n",
       "    </tr>\n",
       "    <tr>\n",
       "      <th>9938</th>\n",
       "      <td>11</td>\n",
       "    </tr>\n",
       "    <tr>\n",
       "      <th>14756</th>\n",
       "      <td>83</td>\n",
       "    </tr>\n",
       "    <tr>\n",
       "      <th>18187</th>\n",
       "      <td>9</td>\n",
       "    </tr>\n",
       "  </tbody>\n",
       "</table>\n",
       "</div>"
      ],
      "text/plain": [
       "        n_competitions\n",
       "UserId                \n",
       "5309               292\n",
       "8507                50\n",
       "9938                11\n",
       "14756               83\n",
       "18187                9"
      ]
     },
     "execution_count": 80,
     "metadata": {},
     "output_type": "execute_result"
    }
   ],
   "source": [
    "# Keep the number of competitions with which the users partecipate before the starting reference date.\n",
    "n_competitions = n_competitions.groupby([\"UserId\"]).agg(n_competitions = (\"mask\", \"sum\"))\n",
    "n_competitions.head()"
   ]
  },
  {
   "cell_type": "markdown",
   "metadata": {},
   "source": [
    "### Past number of teamleader roles"
   ]
  },
  {
   "cell_type": "code",
   "execution_count": 81,
   "metadata": {},
   "outputs": [],
   "source": [
    "n_teamleaders = teams_of_selected_users.copy()\n",
    "n_teamleaders[\"mask\"] = (n_teamleaders[\"UserId\"] == n_teamleaders[\"TeamLeaderId\"]) & (n_teamleaders[\"RequestDate\"] < pd.to_datetime(START_DATE))"
   ]
  },
  {
   "cell_type": "code",
   "execution_count": 82,
   "metadata": {},
   "outputs": [
    {
     "data": {
      "text/html": [
       "<div>\n",
       "<style scoped>\n",
       "    .dataframe tbody tr th:only-of-type {\n",
       "        vertical-align: middle;\n",
       "    }\n",
       "\n",
       "    .dataframe tbody tr th {\n",
       "        vertical-align: top;\n",
       "    }\n",
       "\n",
       "    .dataframe thead th {\n",
       "        text-align: right;\n",
       "    }\n",
       "</style>\n",
       "<table border=\"1\" class=\"dataframe\">\n",
       "  <thead>\n",
       "    <tr style=\"text-align: right;\">\n",
       "      <th></th>\n",
       "      <th>n_teamleaders</th>\n",
       "    </tr>\n",
       "    <tr>\n",
       "      <th>UserId</th>\n",
       "      <th></th>\n",
       "    </tr>\n",
       "  </thead>\n",
       "  <tbody>\n",
       "    <tr>\n",
       "      <th>5309</th>\n",
       "      <td>257</td>\n",
       "    </tr>\n",
       "    <tr>\n",
       "      <th>8507</th>\n",
       "      <td>48</td>\n",
       "    </tr>\n",
       "    <tr>\n",
       "      <th>9938</th>\n",
       "      <td>9</td>\n",
       "    </tr>\n",
       "    <tr>\n",
       "      <th>14756</th>\n",
       "      <td>82</td>\n",
       "    </tr>\n",
       "    <tr>\n",
       "      <th>18187</th>\n",
       "      <td>8</td>\n",
       "    </tr>\n",
       "  </tbody>\n",
       "</table>\n",
       "</div>"
      ],
      "text/plain": [
       "        n_teamleaders\n",
       "UserId               \n",
       "5309              257\n",
       "8507               48\n",
       "9938                9\n",
       "14756              82\n",
       "18187               8"
      ]
     },
     "execution_count": 82,
     "metadata": {},
     "output_type": "execute_result"
    }
   ],
   "source": [
    "# Keep the number of teamleader roles with which the users had before the starting reference date.\n",
    "n_teamleaders = n_teamleaders.groupby([\"UserId\"]).agg(n_teamleaders = (\"mask\", \"sum\"))\n",
    "n_teamleaders.head()"
   ]
  },
  {
   "cell_type": "markdown",
   "metadata": {},
   "source": [
    "### Competition medals"
   ]
  },
  {
   "cell_type": "code",
   "execution_count": 83,
   "metadata": {},
   "outputs": [
    {
     "data": {
      "application/vnd.jupyter.widget-view+json": {
       "model_id": "c5e5b760542e41af96170e6e86083d97",
       "version_major": 2,
       "version_minor": 0
      },
      "text/plain": [
       "  0%|          | 0/4183 [00:00<?, ?it/s]"
      ]
     },
     "metadata": {},
     "output_type": "display_data"
    }
   ],
   "source": [
    "tqdm.pandas()\n",
    "medals_competition = teams_of_selected_users.groupby([\"UserId\"]).progress_apply(lambda x: x[\"Medal\"][x[\"MedalAwardDate\"] < pd.to_datetime(START_DATE)])\n",
    "# Get label corresponding to the medal.\n",
    "medals_competition = medals_competition.reset_index(level = [\"UserId\"])\n",
    "medals_competition[\"Medal_label\"] = medals_competition[\"Medal\"].map({1: \"competition_gold\", \n",
    "                                                                     2: \"competition_silver\", \n",
    "                                                                     3: \"competition_bronze\"})"
   ]
  },
  {
   "cell_type": "code",
   "execution_count": 84,
   "metadata": {},
   "outputs": [
    {
     "data": {
      "text/html": [
       "<div>\n",
       "<style scoped>\n",
       "    .dataframe tbody tr th:only-of-type {\n",
       "        vertical-align: middle;\n",
       "    }\n",
       "\n",
       "    .dataframe tbody tr th {\n",
       "        vertical-align: top;\n",
       "    }\n",
       "\n",
       "    .dataframe thead th {\n",
       "        text-align: right;\n",
       "    }\n",
       "</style>\n",
       "<table border=\"1\" class=\"dataframe\">\n",
       "  <thead>\n",
       "    <tr style=\"text-align: right;\">\n",
       "      <th>Medal_label</th>\n",
       "      <th>competition_bronze</th>\n",
       "      <th>competition_gold</th>\n",
       "      <th>competition_silver</th>\n",
       "    </tr>\n",
       "    <tr>\n",
       "      <th>UserId</th>\n",
       "      <th></th>\n",
       "      <th></th>\n",
       "      <th></th>\n",
       "    </tr>\n",
       "  </thead>\n",
       "  <tbody>\n",
       "    <tr>\n",
       "      <th>5309</th>\n",
       "      <td>21.0</td>\n",
       "      <td>18.0</td>\n",
       "      <td>32.0</td>\n",
       "    </tr>\n",
       "    <tr>\n",
       "      <th>8507</th>\n",
       "      <td>2.0</td>\n",
       "      <td>2.0</td>\n",
       "      <td>6.0</td>\n",
       "    </tr>\n",
       "    <tr>\n",
       "      <th>14756</th>\n",
       "      <td>14.0</td>\n",
       "      <td>2.0</td>\n",
       "      <td>3.0</td>\n",
       "    </tr>\n",
       "    <tr>\n",
       "      <th>18187</th>\n",
       "      <td>NaN</td>\n",
       "      <td>NaN</td>\n",
       "      <td>1.0</td>\n",
       "    </tr>\n",
       "    <tr>\n",
       "      <th>18463</th>\n",
       "      <td>37.0</td>\n",
       "      <td>5.0</td>\n",
       "      <td>30.0</td>\n",
       "    </tr>\n",
       "  </tbody>\n",
       "</table>\n",
       "</div>"
      ],
      "text/plain": [
       "Medal_label  competition_bronze  competition_gold  competition_silver\n",
       "UserId                                                               \n",
       "5309                       21.0              18.0                32.0\n",
       "8507                        2.0               2.0                 6.0\n",
       "14756                      14.0               2.0                 3.0\n",
       "18187                       NaN               NaN                 1.0\n",
       "18463                      37.0               5.0                30.0"
      ]
     },
     "execution_count": 84,
     "metadata": {},
     "output_type": "execute_result"
    }
   ],
   "source": [
    "# Get the number of medals earned before the starting reference date.\n",
    "medals_competition = pd.pivot_table(medals_competition, values = \"Medal\", index = [\"UserId\"], \n",
    "                                    columns = [\"Medal_label\"], aggfunc = \"count\")\n",
    "medals_competition.head()"
   ]
  },
  {
   "cell_type": "markdown",
   "metadata": {},
   "source": [
    "### Discussion medals"
   ]
  },
  {
   "cell_type": "code",
   "execution_count": 85,
   "metadata": {},
   "outputs": [
    {
     "data": {
      "text/html": [
       "<div>\n",
       "<style scoped>\n",
       "    .dataframe tbody tr th:only-of-type {\n",
       "        vertical-align: middle;\n",
       "    }\n",
       "\n",
       "    .dataframe tbody tr th {\n",
       "        vertical-align: top;\n",
       "    }\n",
       "\n",
       "    .dataframe thead th {\n",
       "        text-align: right;\n",
       "    }\n",
       "</style>\n",
       "<table border=\"1\" class=\"dataframe\">\n",
       "  <thead>\n",
       "    <tr style=\"text-align: right;\">\n",
       "      <th></th>\n",
       "      <th>Id</th>\n",
       "      <th>ForumTopicId</th>\n",
       "      <th>PostUserId</th>\n",
       "      <th>PostDate</th>\n",
       "      <th>ReplyToForumMessageId</th>\n",
       "      <th>Message</th>\n",
       "      <th>Medal</th>\n",
       "      <th>MedalAwardDate</th>\n",
       "    </tr>\n",
       "  </thead>\n",
       "  <tbody>\n",
       "    <tr>\n",
       "      <th>0</th>\n",
       "      <td>28</td>\n",
       "      <td>16</td>\n",
       "      <td>368</td>\n",
       "      <td>05/12/2010 04:39:30</td>\n",
       "      <td>NaN</td>\n",
       "      <td>Here are some papers that analyze Eurovision v...</td>\n",
       "      <td>NaN</td>\n",
       "      <td>NaN</td>\n",
       "    </tr>\n",
       "    <tr>\n",
       "      <th>1</th>\n",
       "      <td>29</td>\n",
       "      <td>16</td>\n",
       "      <td>368</td>\n",
       "      <td>05/12/2010 04:39:30</td>\n",
       "      <td>NaN</td>\n",
       "      <td>More research... enjoy&lt;br&gt;&lt;br&gt;Love thy Neighbo...</td>\n",
       "      <td>NaN</td>\n",
       "      <td>NaN</td>\n",
       "    </tr>\n",
       "    <tr>\n",
       "      <th>2</th>\n",
       "      <td>993</td>\n",
       "      <td>133</td>\n",
       "      <td>2691</td>\n",
       "      <td>10/10/2010 02:39:04</td>\n",
       "      <td>NaN</td>\n",
       "      <td>&lt;div&gt;@Nan&lt;/div&gt;&lt;div&gt;&lt;br&gt;&lt;/div&gt;&lt;div&gt;Isn't X_i s...</td>\n",
       "      <td>NaN</td>\n",
       "      <td>NaN</td>\n",
       "    </tr>\n",
       "    <tr>\n",
       "      <th>3</th>\n",
       "      <td>996</td>\n",
       "      <td>133</td>\n",
       "      <td>2958</td>\n",
       "      <td>10/10/2010 02:39:04</td>\n",
       "      <td>NaN</td>\n",
       "      <td>Brad,&lt;br&gt;It is not. Y_i is defined as I (S_{i+...</td>\n",
       "      <td>NaN</td>\n",
       "      <td>NaN</td>\n",
       "    </tr>\n",
       "    <tr>\n",
       "      <th>4</th>\n",
       "      <td>1009</td>\n",
       "      <td>133</td>\n",
       "      <td>2958</td>\n",
       "      <td>10/10/2010 02:39:04</td>\n",
       "      <td>NaN</td>\n",
       "      <td>I am back.&lt;br&gt;Sorry to say that, the same mode...</td>\n",
       "      <td>NaN</td>\n",
       "      <td>NaN</td>\n",
       "    </tr>\n",
       "  </tbody>\n",
       "</table>\n",
       "</div>"
      ],
      "text/plain": [
       "     Id  ForumTopicId  PostUserId             PostDate  ReplyToForumMessageId  \\\n",
       "0    28            16         368  05/12/2010 04:39:30                    NaN   \n",
       "1    29            16         368  05/12/2010 04:39:30                    NaN   \n",
       "2   993           133        2691  10/10/2010 02:39:04                    NaN   \n",
       "3   996           133        2958  10/10/2010 02:39:04                    NaN   \n",
       "4  1009           133        2958  10/10/2010 02:39:04                    NaN   \n",
       "\n",
       "                                             Message  Medal MedalAwardDate  \n",
       "0  Here are some papers that analyze Eurovision v...    NaN            NaN  \n",
       "1  More research... enjoy<br><br>Love thy Neighbo...    NaN            NaN  \n",
       "2  <div>@Nan</div><div><br></div><div>Isn't X_i s...    NaN            NaN  \n",
       "3  Brad,<br>It is not. Y_i is defined as I (S_{i+...    NaN            NaN  \n",
       "4  I am back.<br>Sorry to say that, the same mode...    NaN            NaN  "
      ]
     },
     "execution_count": 85,
     "metadata": {},
     "output_type": "execute_result"
    }
   ],
   "source": [
    "# Load forum messages information.\n",
    "forumMessages = pd.read_csv(f\"{PATH_TO_DATASET}/ForumMessages.csv\")\n",
    "forumMessages.head()"
   ]
  },
  {
   "cell_type": "code",
   "execution_count": 86,
   "metadata": {},
   "outputs": [
    {
     "data": {
      "text/plain": [
       "1163664"
      ]
     },
     "execution_count": 86,
     "metadata": {},
     "output_type": "execute_result"
    }
   ],
   "source": [
    "len(forumMessages)"
   ]
  },
  {
   "cell_type": "code",
   "execution_count": 87,
   "metadata": {},
   "outputs": [],
   "source": [
    "# Convert datetime column to appropriate type.\n",
    "forumMessages[\"MedalAwardDate\"] = pd.to_datetime(forumMessages[\"MedalAwardDate\"])\n",
    "# Keep only some columns.\n",
    "forumMessages.drop([\"Id\", \"Message\", \"ReplyToForumMessageId\", \"PostDate\", \"ForumTopicId\"], axis = 1, inplace = True)\n",
    "# Rename Id column.\n",
    "forumMessages.rename({\"PostUserId\": \"UserId\"}, axis = 1, inplace = True)"
   ]
  },
  {
   "cell_type": "code",
   "execution_count": 88,
   "metadata": {},
   "outputs": [],
   "source": [
    "# Let's consider only users that belong to the selected active teams.\n",
    "forumMessages = forumMessages[forumMessages[\"UserId\"].isin(selected_users)]"
   ]
  },
  {
   "cell_type": "code",
   "execution_count": 89,
   "metadata": {},
   "outputs": [
    {
     "data": {
      "application/vnd.jupyter.widget-view+json": {
       "model_id": "7eca5891221a4381968c1efef3cb0762",
       "version_major": 2,
       "version_minor": 0
      },
      "text/plain": [
       "  0%|          | 0/1110 [00:00<?, ?it/s]"
      ]
     },
     "metadata": {},
     "output_type": "display_data"
    }
   ],
   "source": [
    "tqdm.pandas()\n",
    "medals_discussion = forumMessages.groupby([\"UserId\"]).progress_apply(lambda x: x[\"Medal\"][x[\"MedalAwardDate\"] < pd.to_datetime(START_DATE)])\n",
    "# Get label corresponding to the medal.\n",
    "medals_discussion = medals_discussion.reset_index(level = [\"UserId\"])\n",
    "medals_discussion[\"Medal_label\"] = medals_discussion[\"Medal\"].map({1: \"discussion_gold\", \n",
    "                                                                   2: \"discussion_silver\", \n",
    "                                                                   3: \"discussion_bronze\"})"
   ]
  },
  {
   "cell_type": "code",
   "execution_count": 90,
   "metadata": {},
   "outputs": [
    {
     "data": {
      "text/html": [
       "<div>\n",
       "<style scoped>\n",
       "    .dataframe tbody tr th:only-of-type {\n",
       "        vertical-align: middle;\n",
       "    }\n",
       "\n",
       "    .dataframe tbody tr th {\n",
       "        vertical-align: top;\n",
       "    }\n",
       "\n",
       "    .dataframe thead th {\n",
       "        text-align: right;\n",
       "    }\n",
       "</style>\n",
       "<table border=\"1\" class=\"dataframe\">\n",
       "  <thead>\n",
       "    <tr style=\"text-align: right;\">\n",
       "      <th>Medal_label</th>\n",
       "      <th>discussion_bronze</th>\n",
       "      <th>discussion_gold</th>\n",
       "      <th>discussion_silver</th>\n",
       "    </tr>\n",
       "    <tr>\n",
       "      <th>UserId</th>\n",
       "      <th></th>\n",
       "      <th></th>\n",
       "      <th></th>\n",
       "    </tr>\n",
       "  </thead>\n",
       "  <tbody>\n",
       "    <tr>\n",
       "      <th>5309</th>\n",
       "      <td>734.0</td>\n",
       "      <td>117.0</td>\n",
       "      <td>117.0</td>\n",
       "    </tr>\n",
       "    <tr>\n",
       "      <th>8507</th>\n",
       "      <td>179.0</td>\n",
       "      <td>34.0</td>\n",
       "      <td>25.0</td>\n",
       "    </tr>\n",
       "    <tr>\n",
       "      <th>14756</th>\n",
       "      <td>161.0</td>\n",
       "      <td>9.0</td>\n",
       "      <td>24.0</td>\n",
       "    </tr>\n",
       "    <tr>\n",
       "      <th>18463</th>\n",
       "      <td>12.0</td>\n",
       "      <td>1.0</td>\n",
       "      <td>1.0</td>\n",
       "    </tr>\n",
       "    <tr>\n",
       "      <th>37166</th>\n",
       "      <td>797.0</td>\n",
       "      <td>84.0</td>\n",
       "      <td>121.0</td>\n",
       "    </tr>\n",
       "  </tbody>\n",
       "</table>\n",
       "</div>"
      ],
      "text/plain": [
       "Medal_label  discussion_bronze  discussion_gold  discussion_silver\n",
       "UserId                                                            \n",
       "5309                     734.0            117.0              117.0\n",
       "8507                     179.0             34.0               25.0\n",
       "14756                    161.0              9.0               24.0\n",
       "18463                     12.0              1.0                1.0\n",
       "37166                    797.0             84.0              121.0"
      ]
     },
     "execution_count": 90,
     "metadata": {},
     "output_type": "execute_result"
    }
   ],
   "source": [
    "# Get the number of medals earned before the starting reference date.\n",
    "medals_discussion = pd.pivot_table(medals_discussion, values = \"Medal\", index = [\"UserId\"], \n",
    "                                   columns = [\"Medal_label\"], aggfunc = \"count\")\n",
    "medals_discussion.head()"
   ]
  },
  {
   "cell_type": "markdown",
   "metadata": {},
   "source": [
    "### Kernel medals"
   ]
  },
  {
   "cell_type": "code",
   "execution_count": 91,
   "metadata": {},
   "outputs": [
    {
     "data": {
      "text/html": [
       "<div>\n",
       "<style scoped>\n",
       "    .dataframe tbody tr th:only-of-type {\n",
       "        vertical-align: middle;\n",
       "    }\n",
       "\n",
       "    .dataframe tbody tr th {\n",
       "        vertical-align: top;\n",
       "    }\n",
       "\n",
       "    .dataframe thead th {\n",
       "        text-align: right;\n",
       "    }\n",
       "</style>\n",
       "<table border=\"1\" class=\"dataframe\">\n",
       "  <thead>\n",
       "    <tr style=\"text-align: right;\">\n",
       "      <th></th>\n",
       "      <th>Id</th>\n",
       "      <th>AuthorUserId</th>\n",
       "      <th>CurrentKernelVersionId</th>\n",
       "      <th>ForkParentKernelVersionId</th>\n",
       "      <th>ForumTopicId</th>\n",
       "      <th>FirstKernelVersionId</th>\n",
       "      <th>CreationDate</th>\n",
       "      <th>EvaluationDate</th>\n",
       "      <th>MadePublicDate</th>\n",
       "      <th>IsProjectLanguageTemplate</th>\n",
       "      <th>CurrentUrlSlug</th>\n",
       "      <th>Medal</th>\n",
       "      <th>MedalAwardDate</th>\n",
       "      <th>TotalViews</th>\n",
       "      <th>TotalComments</th>\n",
       "      <th>TotalVotes</th>\n",
       "    </tr>\n",
       "  </thead>\n",
       "  <tbody>\n",
       "    <tr>\n",
       "      <th>0</th>\n",
       "      <td>1</td>\n",
       "      <td>2505</td>\n",
       "      <td>205.0</td>\n",
       "      <td>NaN</td>\n",
       "      <td>NaN</td>\n",
       "      <td>1.0</td>\n",
       "      <td>03/25/2015 18:25:32</td>\n",
       "      <td>03/23/2018</td>\n",
       "      <td>03/25/2015</td>\n",
       "      <td>False</td>\n",
       "      <td>hello</td>\n",
       "      <td>NaN</td>\n",
       "      <td>NaN</td>\n",
       "      <td>155</td>\n",
       "      <td>0</td>\n",
       "      <td>0</td>\n",
       "    </tr>\n",
       "    <tr>\n",
       "      <th>1</th>\n",
       "      <td>2</td>\n",
       "      <td>3716</td>\n",
       "      <td>1748.0</td>\n",
       "      <td>NaN</td>\n",
       "      <td>26670.0</td>\n",
       "      <td>2.0</td>\n",
       "      <td>03/25/2015 18:31:07</td>\n",
       "      <td>04/16/2015</td>\n",
       "      <td>03/25/2015</td>\n",
       "      <td>False</td>\n",
       "      <td>rf-proximity</td>\n",
       "      <td>3.0</td>\n",
       "      <td>07/15/2016</td>\n",
       "      <td>8534</td>\n",
       "      <td>1</td>\n",
       "      <td>13</td>\n",
       "    </tr>\n",
       "    <tr>\n",
       "      <th>2</th>\n",
       "      <td>4</td>\n",
       "      <td>3716</td>\n",
       "      <td>41.0</td>\n",
       "      <td>NaN</td>\n",
       "      <td>NaN</td>\n",
       "      <td>9.0</td>\n",
       "      <td>03/25/2015 21:57:36</td>\n",
       "      <td>03/23/2018</td>\n",
       "      <td>03/25/2015</td>\n",
       "      <td>False</td>\n",
       "      <td>r-version</td>\n",
       "      <td>NaN</td>\n",
       "      <td>NaN</td>\n",
       "      <td>91</td>\n",
       "      <td>0</td>\n",
       "      <td>0</td>\n",
       "    </tr>\n",
       "    <tr>\n",
       "      <th>3</th>\n",
       "      <td>5</td>\n",
       "      <td>28963</td>\n",
       "      <td>19.0</td>\n",
       "      <td>NaN</td>\n",
       "      <td>NaN</td>\n",
       "      <td>13.0</td>\n",
       "      <td>03/25/2015 22:01:04</td>\n",
       "      <td>03/23/2018</td>\n",
       "      <td>03/25/2015</td>\n",
       "      <td>False</td>\n",
       "      <td>test1</td>\n",
       "      <td>NaN</td>\n",
       "      <td>NaN</td>\n",
       "      <td>101</td>\n",
       "      <td>0</td>\n",
       "      <td>0</td>\n",
       "    </tr>\n",
       "    <tr>\n",
       "      <th>4</th>\n",
       "      <td>6</td>\n",
       "      <td>3716</td>\n",
       "      <td>21.0</td>\n",
       "      <td>NaN</td>\n",
       "      <td>NaN</td>\n",
       "      <td>15.0</td>\n",
       "      <td>03/25/2015 22:19:00</td>\n",
       "      <td>03/23/2018</td>\n",
       "      <td>03/25/2015</td>\n",
       "      <td>False</td>\n",
       "      <td>are-icons-missing</td>\n",
       "      <td>NaN</td>\n",
       "      <td>NaN</td>\n",
       "      <td>106</td>\n",
       "      <td>0</td>\n",
       "      <td>0</td>\n",
       "    </tr>\n",
       "  </tbody>\n",
       "</table>\n",
       "</div>"
      ],
      "text/plain": [
       "   Id  AuthorUserId  CurrentKernelVersionId  ForkParentKernelVersionId  \\\n",
       "0   1          2505                   205.0                        NaN   \n",
       "1   2          3716                  1748.0                        NaN   \n",
       "2   4          3716                    41.0                        NaN   \n",
       "3   5         28963                    19.0                        NaN   \n",
       "4   6          3716                    21.0                        NaN   \n",
       "\n",
       "   ForumTopicId  FirstKernelVersionId         CreationDate EvaluationDate  \\\n",
       "0           NaN                   1.0  03/25/2015 18:25:32     03/23/2018   \n",
       "1       26670.0                   2.0  03/25/2015 18:31:07     04/16/2015   \n",
       "2           NaN                   9.0  03/25/2015 21:57:36     03/23/2018   \n",
       "3           NaN                  13.0  03/25/2015 22:01:04     03/23/2018   \n",
       "4           NaN                  15.0  03/25/2015 22:19:00     03/23/2018   \n",
       "\n",
       "  MadePublicDate  IsProjectLanguageTemplate     CurrentUrlSlug  Medal  \\\n",
       "0     03/25/2015                      False              hello    NaN   \n",
       "1     03/25/2015                      False       rf-proximity    3.0   \n",
       "2     03/25/2015                      False          r-version    NaN   \n",
       "3     03/25/2015                      False              test1    NaN   \n",
       "4     03/25/2015                      False  are-icons-missing    NaN   \n",
       "\n",
       "  MedalAwardDate  TotalViews  TotalComments  TotalVotes  \n",
       "0            NaN         155              0           0  \n",
       "1     07/15/2016        8534              1          13  \n",
       "2            NaN          91              0           0  \n",
       "3            NaN         101              0           0  \n",
       "4            NaN         106              0           0  "
      ]
     },
     "execution_count": 91,
     "metadata": {},
     "output_type": "execute_result"
    }
   ],
   "source": [
    "# Load kernel information.\n",
    "kernels = pd.read_csv(f\"{PATH_TO_DATASET}/Kernels.csv\")\n",
    "kernels.head()"
   ]
  },
  {
   "cell_type": "code",
   "execution_count": 92,
   "metadata": {},
   "outputs": [
    {
     "data": {
      "text/plain": [
       "529611"
      ]
     },
     "execution_count": 92,
     "metadata": {},
     "output_type": "execute_result"
    }
   ],
   "source": [
    "len(kernels)"
   ]
  },
  {
   "cell_type": "code",
   "execution_count": 93,
   "metadata": {},
   "outputs": [],
   "source": [
    "# Convert datetime column to appropriate type.\n",
    "kernels[\"MedalAwardDate\"] = pd.to_datetime(kernels[\"MedalAwardDate\"])\n",
    "# Keep only some columns.\n",
    "kernels = kernels[[\"AuthorUserId\", \"Medal\", \"MedalAwardDate\"]]\n",
    "# Rename Id column.\n",
    "kernels.rename({\"AuthorUserId\": \"UserId\"}, axis = 1, inplace = True)"
   ]
  },
  {
   "cell_type": "code",
   "execution_count": 94,
   "metadata": {},
   "outputs": [],
   "source": [
    "# Let's consider only users that belong to the selected active teams.\n",
    "kernels = kernels[kernels[\"UserId\"].isin(selected_users)]"
   ]
  },
  {
   "cell_type": "code",
   "execution_count": 95,
   "metadata": {},
   "outputs": [
    {
     "data": {
      "application/vnd.jupyter.widget-view+json": {
       "model_id": "031e5f033aea4f4cad4a74b32cfad355",
       "version_major": 2,
       "version_minor": 0
      },
      "text/plain": [
       "  0%|          | 0/787 [00:00<?, ?it/s]"
      ]
     },
     "metadata": {},
     "output_type": "display_data"
    }
   ],
   "source": [
    "tqdm.pandas()\n",
    "medals_kernel = kernels.groupby([\"UserId\"]).progress_apply(lambda x: x[\"Medal\"][x[\"MedalAwardDate\"] < pd.to_datetime(START_DATE)])\n",
    "# Get label corresponding to the medal.\n",
    "medals_kernel = medals_kernel.reset_index(level = [\"UserId\"])\n",
    "medals_kernel[\"Medal_label\"] = medals_kernel[\"Medal\"].map({1: \"kernel_gold\", \n",
    "                                                           2: \"kernel_silver\", \n",
    "                                                           3: \"kernel_bronze\"})"
   ]
  },
  {
   "cell_type": "code",
   "execution_count": 96,
   "metadata": {},
   "outputs": [
    {
     "data": {
      "text/html": [
       "<div>\n",
       "<style scoped>\n",
       "    .dataframe tbody tr th:only-of-type {\n",
       "        vertical-align: middle;\n",
       "    }\n",
       "\n",
       "    .dataframe tbody tr th {\n",
       "        vertical-align: top;\n",
       "    }\n",
       "\n",
       "    .dataframe thead th {\n",
       "        text-align: right;\n",
       "    }\n",
       "</style>\n",
       "<table border=\"1\" class=\"dataframe\">\n",
       "  <thead>\n",
       "    <tr style=\"text-align: right;\">\n",
       "      <th>Medal_label</th>\n",
       "      <th>kernel_bronze</th>\n",
       "      <th>kernel_gold</th>\n",
       "      <th>kernel_silver</th>\n",
       "    </tr>\n",
       "    <tr>\n",
       "      <th>UserId</th>\n",
       "      <th></th>\n",
       "      <th></th>\n",
       "      <th></th>\n",
       "    </tr>\n",
       "  </thead>\n",
       "  <tbody>\n",
       "    <tr>\n",
       "      <th>5309</th>\n",
       "      <td>14.0</td>\n",
       "      <td>31.0</td>\n",
       "      <td>16.0</td>\n",
       "    </tr>\n",
       "    <tr>\n",
       "      <th>8507</th>\n",
       "      <td>1.0</td>\n",
       "      <td>NaN</td>\n",
       "      <td>NaN</td>\n",
       "    </tr>\n",
       "    <tr>\n",
       "      <th>14756</th>\n",
       "      <td>7.0</td>\n",
       "      <td>3.0</td>\n",
       "      <td>8.0</td>\n",
       "    </tr>\n",
       "    <tr>\n",
       "      <th>18463</th>\n",
       "      <td>4.0</td>\n",
       "      <td>NaN</td>\n",
       "      <td>1.0</td>\n",
       "    </tr>\n",
       "    <tr>\n",
       "      <th>37166</th>\n",
       "      <td>7.0</td>\n",
       "      <td>NaN</td>\n",
       "      <td>4.0</td>\n",
       "    </tr>\n",
       "  </tbody>\n",
       "</table>\n",
       "</div>"
      ],
      "text/plain": [
       "Medal_label  kernel_bronze  kernel_gold  kernel_silver\n",
       "UserId                                                \n",
       "5309                  14.0         31.0           16.0\n",
       "8507                   1.0          NaN            NaN\n",
       "14756                  7.0          3.0            8.0\n",
       "18463                  4.0          NaN            1.0\n",
       "37166                  7.0          NaN            4.0"
      ]
     },
     "execution_count": 96,
     "metadata": {},
     "output_type": "execute_result"
    }
   ],
   "source": [
    "# Get the number of medals earned before the starting reference date.\n",
    "medals_kernel = pd.pivot_table(medals_kernel, values = \"Medal\", index = [\"UserId\"], \n",
    "                               columns = [\"Medal_label\"], aggfunc = \"count\")\n",
    "medals_kernel.head()"
   ]
  },
  {
   "cell_type": "markdown",
   "metadata": {},
   "source": [
    "### All attributes"
   ]
  },
  {
   "cell_type": "code",
   "execution_count": 97,
   "metadata": {},
   "outputs": [
    {
     "data": {
      "text/html": [
       "<div>\n",
       "<style scoped>\n",
       "    .dataframe tbody tr th:only-of-type {\n",
       "        vertical-align: middle;\n",
       "    }\n",
       "\n",
       "    .dataframe tbody tr th {\n",
       "        vertical-align: top;\n",
       "    }\n",
       "\n",
       "    .dataframe thead tr th {\n",
       "        text-align: left;\n",
       "    }\n",
       "\n",
       "    .dataframe thead tr:last-of-type th {\n",
       "        text-align: right;\n",
       "    }\n",
       "</style>\n",
       "<table border=\"1\" class=\"dataframe\">\n",
       "  <thead>\n",
       "    <tr>\n",
       "      <th>Type</th>\n",
       "      <th colspan=\"3\" halign=\"left\">competition</th>\n",
       "      <th colspan=\"3\" halign=\"left\">discussion</th>\n",
       "      <th colspan=\"3\" halign=\"left\">kernel</th>\n",
       "    </tr>\n",
       "    <tr>\n",
       "      <th>Medal</th>\n",
       "      <th>bronze</th>\n",
       "      <th>gold</th>\n",
       "      <th>silver</th>\n",
       "      <th>bronze</th>\n",
       "      <th>gold</th>\n",
       "      <th>silver</th>\n",
       "      <th>bronze</th>\n",
       "      <th>gold</th>\n",
       "      <th>silver</th>\n",
       "    </tr>\n",
       "    <tr>\n",
       "      <th>UserId</th>\n",
       "      <th></th>\n",
       "      <th></th>\n",
       "      <th></th>\n",
       "      <th></th>\n",
       "      <th></th>\n",
       "      <th></th>\n",
       "      <th></th>\n",
       "      <th></th>\n",
       "      <th></th>\n",
       "    </tr>\n",
       "  </thead>\n",
       "  <tbody>\n",
       "    <tr>\n",
       "      <th>5309</th>\n",
       "      <td>21.0</td>\n",
       "      <td>18.0</td>\n",
       "      <td>32.0</td>\n",
       "      <td>734.0</td>\n",
       "      <td>117.0</td>\n",
       "      <td>117.0</td>\n",
       "      <td>14.0</td>\n",
       "      <td>31.0</td>\n",
       "      <td>16.0</td>\n",
       "    </tr>\n",
       "    <tr>\n",
       "      <th>8507</th>\n",
       "      <td>2.0</td>\n",
       "      <td>2.0</td>\n",
       "      <td>6.0</td>\n",
       "      <td>179.0</td>\n",
       "      <td>34.0</td>\n",
       "      <td>25.0</td>\n",
       "      <td>1.0</td>\n",
       "      <td>NaN</td>\n",
       "      <td>NaN</td>\n",
       "    </tr>\n",
       "    <tr>\n",
       "      <th>14756</th>\n",
       "      <td>14.0</td>\n",
       "      <td>2.0</td>\n",
       "      <td>3.0</td>\n",
       "      <td>161.0</td>\n",
       "      <td>9.0</td>\n",
       "      <td>24.0</td>\n",
       "      <td>7.0</td>\n",
       "      <td>3.0</td>\n",
       "      <td>8.0</td>\n",
       "    </tr>\n",
       "    <tr>\n",
       "      <th>18187</th>\n",
       "      <td>NaN</td>\n",
       "      <td>NaN</td>\n",
       "      <td>1.0</td>\n",
       "      <td>NaN</td>\n",
       "      <td>NaN</td>\n",
       "      <td>NaN</td>\n",
       "      <td>NaN</td>\n",
       "      <td>NaN</td>\n",
       "      <td>NaN</td>\n",
       "    </tr>\n",
       "    <tr>\n",
       "      <th>18463</th>\n",
       "      <td>37.0</td>\n",
       "      <td>5.0</td>\n",
       "      <td>30.0</td>\n",
       "      <td>12.0</td>\n",
       "      <td>1.0</td>\n",
       "      <td>1.0</td>\n",
       "      <td>4.0</td>\n",
       "      <td>NaN</td>\n",
       "      <td>1.0</td>\n",
       "    </tr>\n",
       "  </tbody>\n",
       "</table>\n",
       "</div>"
      ],
      "text/plain": [
       "Type   competition              discussion               kernel             \n",
       "Medal       bronze  gold silver     bronze   gold silver bronze  gold silver\n",
       "UserId                                                                      \n",
       "5309          21.0  18.0   32.0      734.0  117.0  117.0   14.0  31.0   16.0\n",
       "8507           2.0   2.0    6.0      179.0   34.0   25.0    1.0   NaN    NaN\n",
       "14756         14.0   2.0    3.0      161.0    9.0   24.0    7.0   3.0    8.0\n",
       "18187          NaN   NaN    1.0        NaN    NaN    NaN    NaN   NaN    NaN\n",
       "18463         37.0   5.0   30.0       12.0    1.0    1.0    4.0   NaN    1.0"
      ]
     },
     "execution_count": 97,
     "metadata": {},
     "output_type": "execute_result"
    }
   ],
   "source": [
    "# Concatenate medals information.\n",
    "medals = pd.concat([medals_competition, medals_discussion, medals_kernel], axis = 1)\n",
    "medals.columns = pd.MultiIndex.from_tuples(list(medals.columns.str.split(\"_\")), names = [\"Type\", \"Medal\"])\n",
    "medals.head()"
   ]
  },
  {
   "cell_type": "code",
   "execution_count": 98,
   "metadata": {},
   "outputs": [],
   "source": [
    "# Keep only the sum of gold, silver and bronze medals.\n",
    "medals = medals.groupby(axis = 1, level = \"Medal\").sum()"
   ]
  },
  {
   "cell_type": "code",
   "execution_count": 99,
   "metadata": {},
   "outputs": [
    {
     "data": {
      "text/html": [
       "<div>\n",
       "<style scoped>\n",
       "    .dataframe tbody tr th:only-of-type {\n",
       "        vertical-align: middle;\n",
       "    }\n",
       "\n",
       "    .dataframe tbody tr th {\n",
       "        vertical-align: top;\n",
       "    }\n",
       "\n",
       "    .dataframe thead th {\n",
       "        text-align: right;\n",
       "    }\n",
       "</style>\n",
       "<table border=\"1\" class=\"dataframe\">\n",
       "  <thead>\n",
       "    <tr style=\"text-align: right;\">\n",
       "      <th></th>\n",
       "      <th>n_competitions</th>\n",
       "      <th>n_teamleaders</th>\n",
       "      <th>bronze</th>\n",
       "      <th>gold</th>\n",
       "      <th>silver</th>\n",
       "    </tr>\n",
       "    <tr>\n",
       "      <th>UserId</th>\n",
       "      <th></th>\n",
       "      <th></th>\n",
       "      <th></th>\n",
       "      <th></th>\n",
       "      <th></th>\n",
       "    </tr>\n",
       "  </thead>\n",
       "  <tbody>\n",
       "    <tr>\n",
       "      <th>5309</th>\n",
       "      <td>292</td>\n",
       "      <td>257</td>\n",
       "      <td>769.0</td>\n",
       "      <td>166.0</td>\n",
       "      <td>165.0</td>\n",
       "    </tr>\n",
       "    <tr>\n",
       "      <th>8507</th>\n",
       "      <td>50</td>\n",
       "      <td>48</td>\n",
       "      <td>182.0</td>\n",
       "      <td>36.0</td>\n",
       "      <td>31.0</td>\n",
       "    </tr>\n",
       "    <tr>\n",
       "      <th>9938</th>\n",
       "      <td>11</td>\n",
       "      <td>9</td>\n",
       "      <td>0.0</td>\n",
       "      <td>0.0</td>\n",
       "      <td>0.0</td>\n",
       "    </tr>\n",
       "    <tr>\n",
       "      <th>14756</th>\n",
       "      <td>83</td>\n",
       "      <td>82</td>\n",
       "      <td>182.0</td>\n",
       "      <td>14.0</td>\n",
       "      <td>35.0</td>\n",
       "    </tr>\n",
       "    <tr>\n",
       "      <th>18187</th>\n",
       "      <td>9</td>\n",
       "      <td>8</td>\n",
       "      <td>0.0</td>\n",
       "      <td>0.0</td>\n",
       "      <td>1.0</td>\n",
       "    </tr>\n",
       "  </tbody>\n",
       "</table>\n",
       "</div>"
      ],
      "text/plain": [
       "        n_competitions  n_teamleaders  bronze   gold  silver\n",
       "UserId                                                      \n",
       "5309               292            257   769.0  166.0   165.0\n",
       "8507                50             48   182.0   36.0    31.0\n",
       "9938                11              9     0.0    0.0     0.0\n",
       "14756               83             82   182.0   14.0    35.0\n",
       "18187                9              8     0.0    0.0     1.0"
      ]
     },
     "execution_count": 99,
     "metadata": {},
     "output_type": "execute_result"
    }
   ],
   "source": [
    "# Concatenate all attributes.\n",
    "nodes_attribute = n_competitions.join([n_teamleaders, medals])\n",
    "nodes_attribute.fillna(0, inplace = True)\n",
    "nodes_attribute.head()"
   ]
  },
  {
   "cell_type": "code",
   "execution_count": 100,
   "metadata": {},
   "outputs": [],
   "source": [
    "# Compute team composition in order to insert team information into node attributes table.\n",
    "composition = teamMembers.explode(\"Members\")\n",
    "composition[\"Members\"] = composition[\"Members\"].astype(int)\n",
    "composition = composition.groupby(\"Members\").apply(lambda x: list(x[\"TeamId\"])).to_dict()"
   ]
  },
  {
   "cell_type": "code",
   "execution_count": 101,
   "metadata": {},
   "outputs": [
    {
     "data": {
      "text/html": [
       "<div>\n",
       "<style scoped>\n",
       "    .dataframe tbody tr th:only-of-type {\n",
       "        vertical-align: middle;\n",
       "    }\n",
       "\n",
       "    .dataframe tbody tr th {\n",
       "        vertical-align: top;\n",
       "    }\n",
       "\n",
       "    .dataframe thead th {\n",
       "        text-align: right;\n",
       "    }\n",
       "</style>\n",
       "<table border=\"1\" class=\"dataframe\">\n",
       "  <thead>\n",
       "    <tr style=\"text-align: right;\">\n",
       "      <th></th>\n",
       "      <th></th>\n",
       "      <th>n_competitions</th>\n",
       "      <th>n_teamleaders</th>\n",
       "      <th>bronze</th>\n",
       "      <th>gold</th>\n",
       "      <th>silver</th>\n",
       "    </tr>\n",
       "    <tr>\n",
       "      <th>UserId</th>\n",
       "      <th>TeamId</th>\n",
       "      <th></th>\n",
       "      <th></th>\n",
       "      <th></th>\n",
       "      <th></th>\n",
       "      <th></th>\n",
       "    </tr>\n",
       "  </thead>\n",
       "  <tbody>\n",
       "    <tr>\n",
       "      <th>5309</th>\n",
       "      <th>5859778</th>\n",
       "      <td>292</td>\n",
       "      <td>257</td>\n",
       "      <td>769.0</td>\n",
       "      <td>166.0</td>\n",
       "      <td>165.0</td>\n",
       "    </tr>\n",
       "    <tr>\n",
       "      <th>8507</th>\n",
       "      <th>5848107</th>\n",
       "      <td>50</td>\n",
       "      <td>48</td>\n",
       "      <td>182.0</td>\n",
       "      <td>36.0</td>\n",
       "      <td>31.0</td>\n",
       "    </tr>\n",
       "    <tr>\n",
       "      <th>9938</th>\n",
       "      <th>6341681</th>\n",
       "      <td>11</td>\n",
       "      <td>9</td>\n",
       "      <td>0.0</td>\n",
       "      <td>0.0</td>\n",
       "      <td>0.0</td>\n",
       "    </tr>\n",
       "    <tr>\n",
       "      <th>14756</th>\n",
       "      <th>6108783</th>\n",
       "      <td>83</td>\n",
       "      <td>82</td>\n",
       "      <td>182.0</td>\n",
       "      <td>14.0</td>\n",
       "      <td>35.0</td>\n",
       "    </tr>\n",
       "    <tr>\n",
       "      <th>18187</th>\n",
       "      <th>6274960</th>\n",
       "      <td>9</td>\n",
       "      <td>8</td>\n",
       "      <td>0.0</td>\n",
       "      <td>0.0</td>\n",
       "      <td>1.0</td>\n",
       "    </tr>\n",
       "  </tbody>\n",
       "</table>\n",
       "</div>"
      ],
      "text/plain": [
       "                n_competitions  n_teamleaders  bronze   gold  silver\n",
       "UserId TeamId                                                       \n",
       "5309   5859778             292            257   769.0  166.0   165.0\n",
       "8507   5848107              50             48   182.0   36.0    31.0\n",
       "9938   6341681              11              9     0.0    0.0     0.0\n",
       "14756  6108783              83             82   182.0   14.0    35.0\n",
       "18187  6274960               9              8     0.0    0.0     1.0"
      ]
     },
     "execution_count": 101,
     "metadata": {},
     "output_type": "execute_result"
    }
   ],
   "source": [
    "# Add team information.\n",
    "nodes_attribute = nodes_attribute.join(pd.Series(composition, name = \"TeamId\"), how = \"left\").explode(\"TeamId\")\n",
    "nodes_attribute.set_index(\"TeamId\", append = True, inplace = True)\n",
    "nodes_attribute.head()"
   ]
  },
  {
   "cell_type": "markdown",
   "metadata": {},
   "source": [
    "## Graph"
   ]
  },
  {
   "cell_type": "code",
   "execution_count": 102,
   "metadata": {},
   "outputs": [],
   "source": [
    "# The users into same team form a clique (fully connected: both directions).\n",
    "e1 = []\n",
    "for team, composition in teamMembers.set_index(\"TeamId\")[\"Members\"].to_dict().items(): \n",
    "    for src, dst in permutations(composition, 2):\n",
    "        e1.append((src, dst))"
   ]
  },
  {
   "cell_type": "code",
   "execution_count": 103,
   "metadata": {},
   "outputs": [],
   "source": [
    "# Extra connections extra team.\n",
    "followers_extra = followers[followers[\"ID1\"].isin(selected_users) & followers[\"ID2\"].isin(selected_users)]\n",
    "e2 = list(followers_extra[[\"ID1\", \"ID2\"]].apply(tuple, axis = 1).values)"
   ]
  },
  {
   "cell_type": "code",
   "execution_count": 104,
   "metadata": {},
   "outputs": [],
   "source": [
    "e = e1 + e2 # Some edges could be duplicated"
   ]
  },
  {
   "cell_type": "code",
   "execution_count": 105,
   "metadata": {},
   "outputs": [],
   "source": [
    "# Create networkx graph.\n",
    "G = nx.DiGraph()\n",
    "G.add_nodes_from(selected_users)\n",
    "G.add_edges_from(e) "
   ]
  },
  {
   "cell_type": "code",
   "execution_count": 106,
   "metadata": {},
   "outputs": [
    {
     "data": {
      "text/plain": [
       "4183"
      ]
     },
     "execution_count": 106,
     "metadata": {},
     "output_type": "execute_result"
    }
   ],
   "source": [
    "G.number_of_nodes()"
   ]
  },
  {
   "cell_type": "code",
   "execution_count": 107,
   "metadata": {},
   "outputs": [
    {
     "data": {
      "text/plain": [
       "17789"
      ]
     },
     "execution_count": 107,
     "metadata": {},
     "output_type": "execute_result"
    }
   ],
   "source": [
    "G.number_of_edges()"
   ]
  },
  {
   "cell_type": "markdown",
   "metadata": {},
   "source": [
    "## Relabeling team ids"
   ]
  },
  {
   "cell_type": "code",
   "execution_count": 108,
   "metadata": {},
   "outputs": [],
   "source": [
    "# Create a new id for the team.\n",
    "teamMembers[\"team_recoded\"] = range(len(teamMembers))\n",
    "# Save mapping from old ids to new ids.\n",
    "mapping_teams = teamMembers.set_index(\"TeamId\")[\"team_recoded\"].to_dict()"
   ]
  },
  {
   "cell_type": "code",
   "execution_count": 109,
   "metadata": {},
   "outputs": [],
   "source": [
    "# Create dictionary information from new team_id to original name.\n",
    "teams_name = {v: id_to_name_teams[k] for k,v in mapping_teams.items()}\n",
    "# Relabel team ids into label dictionary.\n",
    "teams_label = {v: teams_label[k] for k,v in mapping_teams.items()}\n",
    "privateLeaderboard_ranked = {v: privateLeaderboard_ranked[k] for k,v in mapping_teams.items()}"
   ]
  },
  {
   "cell_type": "code",
   "execution_count": 110,
   "metadata": {},
   "outputs": [
    {
     "data": {
      "text/html": [
       "<div>\n",
       "<style scoped>\n",
       "    .dataframe tbody tr th:only-of-type {\n",
       "        vertical-align: middle;\n",
       "    }\n",
       "\n",
       "    .dataframe tbody tr th {\n",
       "        vertical-align: top;\n",
       "    }\n",
       "\n",
       "    .dataframe thead th {\n",
       "        text-align: right;\n",
       "    }\n",
       "</style>\n",
       "<table border=\"1\" class=\"dataframe\">\n",
       "  <thead>\n",
       "    <tr style=\"text-align: right;\">\n",
       "      <th></th>\n",
       "      <th></th>\n",
       "      <th>n_competitions</th>\n",
       "      <th>n_teamleaders</th>\n",
       "      <th>bronze</th>\n",
       "      <th>gold</th>\n",
       "      <th>silver</th>\n",
       "    </tr>\n",
       "    <tr>\n",
       "      <th>UserId</th>\n",
       "      <th>TeamId</th>\n",
       "      <th></th>\n",
       "      <th></th>\n",
       "      <th></th>\n",
       "      <th></th>\n",
       "      <th></th>\n",
       "    </tr>\n",
       "  </thead>\n",
       "  <tbody>\n",
       "    <tr>\n",
       "      <th>5309</th>\n",
       "      <th>51</th>\n",
       "      <td>292</td>\n",
       "      <td>257</td>\n",
       "      <td>769.0</td>\n",
       "      <td>166.0</td>\n",
       "      <td>165.0</td>\n",
       "    </tr>\n",
       "    <tr>\n",
       "      <th>8507</th>\n",
       "      <th>38</th>\n",
       "      <td>50</td>\n",
       "      <td>48</td>\n",
       "      <td>182.0</td>\n",
       "      <td>36.0</td>\n",
       "      <td>31.0</td>\n",
       "    </tr>\n",
       "    <tr>\n",
       "      <th>9938</th>\n",
       "      <th>654</th>\n",
       "      <td>11</td>\n",
       "      <td>9</td>\n",
       "      <td>0.0</td>\n",
       "      <td>0.0</td>\n",
       "      <td>0.0</td>\n",
       "    </tr>\n",
       "    <tr>\n",
       "      <th>14756</th>\n",
       "      <th>251</th>\n",
       "      <td>83</td>\n",
       "      <td>82</td>\n",
       "      <td>182.0</td>\n",
       "      <td>14.0</td>\n",
       "      <td>35.0</td>\n",
       "    </tr>\n",
       "    <tr>\n",
       "      <th>18187</th>\n",
       "      <th>585</th>\n",
       "      <td>9</td>\n",
       "      <td>8</td>\n",
       "      <td>0.0</td>\n",
       "      <td>0.0</td>\n",
       "      <td>1.0</td>\n",
       "    </tr>\n",
       "  </tbody>\n",
       "</table>\n",
       "</div>"
      ],
      "text/plain": [
       "               n_competitions  n_teamleaders  bronze   gold  silver\n",
       "UserId TeamId                                                      \n",
       "5309   51                 292            257   769.0  166.0   165.0\n",
       "8507   38                  50             48   182.0   36.0    31.0\n",
       "9938   654                 11              9     0.0    0.0     0.0\n",
       "14756  251                 83             82   182.0   14.0    35.0\n",
       "18187  585                  9              8     0.0    0.0     1.0"
      ]
     },
     "execution_count": 110,
     "metadata": {},
     "output_type": "execute_result"
    }
   ],
   "source": [
    "nodes_attribute.reset_index(inplace = True)\n",
    "nodes_attribute[\"TeamId\"] = nodes_attribute[\"TeamId\"].map(mapping_teams)\n",
    "\n",
    "# Construct the team composition: {node_id: [team_id]}.\n",
    "team_composition = nodes_attribute.groupby(\"UserId\", as_index = True).agg(teams = (\"TeamId\", lambda x: x.unique().tolist()))\n",
    "team_composition = team_composition[\"teams\"].to_dict()\n",
    "nodes_attribute.set_index([\"UserId\", \"TeamId\"], inplace = True)\n",
    "nodes_attribute.head()"
   ]
  },
  {
   "cell_type": "code",
   "execution_count": 111,
   "metadata": {},
   "outputs": [],
   "source": [
    "nx.set_node_attributes(G, team_composition, \"Team\") "
   ]
  },
  {
   "cell_type": "markdown",
   "metadata": {},
   "source": [
    "## Relabeling node ids"
   ]
  },
  {
   "cell_type": "code",
   "execution_count": 112,
   "metadata": {},
   "outputs": [],
   "source": [
    "# Relabel nodes.\n",
    "G = nx.convert_node_labels_to_integers(G, first_label = 0, label_attribute = \"old_ids\")"
   ]
  },
  {
   "cell_type": "code",
   "execution_count": 113,
   "metadata": {},
   "outputs": [],
   "source": [
    "mapping_nodes = nx.get_node_attributes(G, \"old_ids\")"
   ]
  },
  {
   "cell_type": "code",
   "execution_count": 114,
   "metadata": {},
   "outputs": [],
   "source": [
    "def inverse_mapping(f):\n",
    "    return f.__class__(map(reversed, f.items()))"
   ]
  },
  {
   "cell_type": "code",
   "execution_count": 115,
   "metadata": {},
   "outputs": [],
   "source": [
    "# Mapping the node id into new ones.\n",
    "nodes_attribute.reset_index(inplace = True)\n",
    "nodes_attribute[\"UserId\"] = nodes_attribute[\"UserId\"].map(inverse_mapping(mapping_nodes))\n",
    "nodes_attribute.set_index([\"UserId\", \"TeamId\"], inplace = True)\n",
    "nodes_attribute.sort_index(inplace = True)\n",
    "nodes_attribute.index.names = [\"node\", \"team\"]"
   ]
  },
  {
   "cell_type": "code",
   "execution_count": 116,
   "metadata": {},
   "outputs": [],
   "source": [
    "# Get dictionary from new node id to original node name.\n",
    "nodes_name = {v: id_to_name_nodes[k] for k, v in inverse_mapping(mapping_nodes).items()}"
   ]
  },
  {
   "cell_type": "markdown",
   "metadata": {},
   "source": [
    "## Output data"
   ]
  },
  {
   "cell_type": "code",
   "execution_count": 117,
   "metadata": {},
   "outputs": [],
   "source": [
    "# Save Networkx graph.\n",
    "with open(\"./data/graph.pkl\", \"wb\") as f:\n",
    "    pickle.dump(nx.readwrite.json_graph.node_link_data(G), f)\n",
    "\n",
    "# Save teams label.\n",
    "with open(\"./data/teams_label.pkl\", \"wb\") as out:\n",
    "    pickle.dump(teams_label, out)\n",
    "    \n",
    "# Save node attributes.\n",
    "with open(\"./data/nodes_attribute.pkl\", \"wb\") as f:\n",
    "    pickle.dump(nodes_attribute, f)\n",
    "    \n",
    "# Save node names.\n",
    "with open(\"./data/nodes_name.pkl\", \"wb\") as out:\n",
    "    pickle.dump(nodes_name, out)\n",
    "    \n",
    "# Save node names.\n",
    "with open(\"./data/teams_name.pkl\", \"wb\") as out:\n",
    "    pickle.dump(teams_name, out)\n",
    "    \n",
    "# Save teams continuous label.\n",
    "with open(\"./data/teams_continuous_label.pkl\", \"wb\") as out:\n",
    "    pickle.dump(privateLeaderboard_ranked, out)"
   ]
  }
 ],
 "metadata": {
  "kernelspec": {
   "display_name": "Python 3 (ipykernel)",
   "language": "python",
   "name": "python3"
  },
  "language_info": {
   "codemirror_mode": {
    "name": "ipython",
    "version": 3
   },
   "file_extension": ".py",
   "mimetype": "text/x-python",
   "name": "python",
   "nbconvert_exporter": "python",
   "pygments_lexer": "ipython3",
   "version": "3.9.13"
  }
 },
 "nbformat": 4,
 "nbformat_minor": 4
}
